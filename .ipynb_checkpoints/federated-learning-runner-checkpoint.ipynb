{
 "cells": [
  {
   "cell_type": "code",
   "execution_count": 1,
   "metadata": {
    "tags": []
   },
   "outputs": [],
   "source": [
    "import json\n",
    "import os\n",
    "import logging\n",
    "os.environ['TF_ENABLE_ONEDNN_OPTS'] = \"1\"\n",
    "os.environ['TF_CPP_MIN_LOG_LEVEL'] = \"3\"  # FATAL\n",
    "logging.getLogger('tensorflow').setLevel(logging.FATAL)\n",
    "\n",
    "import tensorflow as tf\n",
    "import matplotlib.pyplot as plt\n",
    "import numpy as np\n",
    "import pandas as pd\n",
    "\n",
    "from sklearn import utils\n",
    "from sklearn.metrics import accuracy_score\n",
    "from sklearn.model_selection import train_test_split\n",
    "from tensorflow.keras import Sequential\n",
    "from tensorflow.keras.layers import Dense, Flatten, Conv2D, MaxPooling2D\n",
    "from time import time\n",
    "from tqdm import tqdm"
   ]
  },
  {
   "cell_type": "code",
   "execution_count": 2,
   "metadata": {
    "tags": []
   },
   "outputs": [],
   "source": [
    "# Model: CNN\n",
    "class CNN:\n",
    "    def initiate(self, n_classes):\n",
    "        model = Sequential([\n",
    "              ## Convolutional Layers\n",
    "              Conv2D(filters=32, kernel_size=(5,5), padding='same', input_shape=(28,28,1)),\n",
    "              MaxPooling2D(pool_size=(2,2)),\n",
    "              Conv2D(filters=64, kernel_size=(5,5), padding='same'), \n",
    "              MaxPooling2D(pool_size=(2,2)),\n",
    "\n",
    "              ## Fully Connected Layer\n",
    "              Flatten(),\n",
    "              Dense(512, activation='relu'), \n",
    "              Dense(n_classes, activation='softmax')\n",
    "            ])\n",
    "\n",
    "        return model\n",
    "    \n",
    "# Model: 2NN\n",
    "class NN2Layers:\n",
    "    def initiate(self, n_classes):\n",
    "        model = Sequential([\n",
    "                            Flatten(input_shape=(28,28)), \n",
    "                            Dense(200, activation='relu'), \n",
    "                            Dense(200, activation='relu'), \n",
    "                            Dense(n_classes, activation='softmax')\n",
    "        ])\n",
    "\n",
    "        return model"
   ]
  },
  {
   "cell_type": "code",
   "execution_count": 3,
   "metadata": {
    "tags": []
   },
   "outputs": [],
   "source": [
    "# Generate data based on chosen setting\n",
    "def generate_data(data, use_val, setting, n_clients):\n",
    "\n",
    "    # Load data from Tensorflow Library\n",
    "    if data == \"MNIST\":\n",
    "        (x_train, y_train), (x_test, y_test) = tf.keras.datasets.mnist.load_data()\n",
    "        \n",
    "        x_train = x_train.astype(\"float32\") / 255\n",
    "        x_test = x_test.astype(\"float32\") / 255\n",
    "        \n",
    "        y_train = y_train.astype(\"float32\")\n",
    "        y_test = y_test.astype(\"float32\")\n",
    "    \n",
    "    # Expand dims to add batch axis\n",
    "    x_train = np.expand_dims(x_train, axis=-1)\n",
    "    x_test = np.expand_dims(x_test, axis=-1)\n",
    "    \n",
    "    # Divide train into val\n",
    "    if use_val == True:\n",
    "        x_train, x_val, y_train, y_val = train_test_split(x_train, y_train, test_size=len(x_test), random_state=42)\n",
    "    else:\n",
    "        x_val, y_val = None, None\n",
    "    \n",
    "    # Distribute data based on setting\n",
    "    if setting == \"IID\":\n",
    "        # Shuffle train data\n",
    "        x_train_shuffled, y_train_shuffled = utils.shuffle(x_train, y_train, random_state=21)\n",
    "        \n",
    "        # Partitioned proxy data to clients, each receiving 600 examples\n",
    "        clients_data, clients_label = {}, {}\n",
    "        list_data = np.array_split(x_train_shuffled, n_clients)\n",
    "        list_label = np.array_split(y_train_shuffled, n_clients)\n",
    "\n",
    "        # Distribute the data to all clients\n",
    "        for i in range(1, len(list_data)+1):\n",
    "            clients_data[\"client_%s\" % i] = list_data[i-1]\n",
    "            clients_label[\"client_%s\" % i] = list_label[i-1]\n",
    "            \n",
    "    elif setting == \"NONIID\":\n",
    "        # Sort the train data based on digits label\n",
    "        sorted_index = np.argsort(y_train)\n",
    "        y_train = y_train[sorted_index]\n",
    "        x_train = x_train[sorted_index]\n",
    "        \n",
    "        # Split training data into to distribute to 100 clients\n",
    "        data_shards = np.array_split(x_train, 100)\n",
    "        label_shards = np.array_split(y_train, 100)\n",
    "        \n",
    "        # Distribute shards to all clients\n",
    "        N_CLIENTS = 100\n",
    "        clients_data = {}\n",
    "        clients_label = {}\n",
    "        for i in range(1, N_CLIENTS+1):\n",
    "            clients_data[\"client_%s\" % i] = data_shards[i-1]\n",
    "            clients_label[\"client_%s\" % i] = label_shards[i-1]\n",
    "            \n",
    "    return clients_data, clients_label, x_train, y_train, x_val, y_val, x_test, y_test\n",
    "\n",
    "# Initiate global model\n",
    "def initiate_model(model_fam, num_class):\n",
    "    if model_fam == \"2NN\":\n",
    "        nn = NN2Layers()\n",
    "        active_nn = nn.initiate(num_class)\n",
    "    elif model_fam == \"CNN\":\n",
    "        nn = CNN()\n",
    "        active_nn = nn.initiate(num_class)\n",
    "        \n",
    "    return active_nn\n",
    "\n",
    "# Scaling weights to the dataset proportion\n",
    "def scale_weights(num_local_samples, weights, chosen_clients):\n",
    "    num_total_samples = len(chosen_clients) * num_local_samples\n",
    "    scaling_factor = num_local_samples / num_total_samples\n",
    "\n",
    "    # Loop through each layer weight & biases\n",
    "    scaled_weights = []\n",
    "    for component in weights:\n",
    "        scaled_weights.append(scaling_factor * component)\n",
    "\n",
    "    return scaled_weights\n",
    "\n",
    "# Sum all the scaled weights from all clients\n",
    "def sum_scaled_weights(scaled_weights):\n",
    "    final_weights = []\n",
    "    for component in zip(*scaled_weights):\n",
    "        final_weights.append(tf.math.reduce_sum(component, axis=0))\n",
    "  \n",
    "    return final_weights\n",
    "\n",
    "# Custom global model evaluation\n",
    "def evaluate_model(model, test_data, test_label):\n",
    "    \n",
    "    # Predict label\n",
    "    y_pred = model.predict(test_data)\n",
    "    y_true = test_label\n",
    "\n",
    "    # Calculate loss with SCCE\n",
    "    scce = tf.keras.losses.SparseCategoricalCrossentropy()\n",
    "    loss = scce(y_true, y_pred).numpy()\n",
    "\n",
    "    # Calculate accuracy\n",
    "    accuracy = accuracy_score(y_true, np.argmax(y_pred, axis=1))\n",
    "\n",
    "    return np.round(loss, 4), np.round(accuracy, 4)"
   ]
  },
  {
   "cell_type": "code",
   "execution_count": 4,
   "metadata": {
    "tags": []
   },
   "outputs": [],
   "source": [
    "def run_experiment(data=\"MNIST\", use_val=False, model_family=\"2NN\", setting=\"IID\", b_size=600, epoch=1,\\\n",
    "                   est_comm_round=1000, c_fraction=0.1, desired_acc=False,\\\n",
    "                   model_checkpoint=False, n_clients=100, n_classes=10,\\\n",
    "                   learning_rate=0.01, output_path='./logs/', verbose=0):\n",
    "    \n",
    "    # Training setting\n",
    "    EXP_NAME = \"%s-B%s-E%s-C%s-MNIST-%s-LR%s\" % (setting, b_size, epoch, c_fraction,\\\n",
    "                                                 model_family, learning_rate)\n",
    "    start_time = time()\n",
    "    history = []\n",
    "    comm_round = 1\n",
    "    \n",
    "    # Generate data\n",
    "    clients_data, clients_label, x_train, y_train, x_val, y_val, x_test, y_test = generate_data(data, use_val, setting,\\\n",
    "                                                                                  n_clients)\n",
    "    \n",
    "    # Initiate new global model\n",
    "    if model_checkpoint == False: \n",
    "        global_nn = initiate_model(model_family, n_classes)\n",
    "        \n",
    "    # Continue training from existing checkpoint\n",
    "    else:\n",
    "        global_nn = tf.keras.models.load_model(model_checkpoint)\n",
    "        \n",
    "    # Training setting\n",
    "    comm_round = 1\n",
    "    start_time = time()\n",
    "    \n",
    "    # Loop until estimated communication round reached\n",
    "    for i in tqdm(range(est_comm_round)):\n",
    "\n",
    "        # Save the global weight\n",
    "        global_weights = global_nn.get_weights()\n",
    "\n",
    "        # Client set\n",
    "        if c_fraction == 0.0: # Exactly one client\n",
    "            chosen_clients = np.random.choice(list(clients_data.keys()), 1)\n",
    "        elif c_fraction == 1.0: # All clients\n",
    "            chosen_clients = clients_data.keys()\n",
    "        else: # Percentage subset\n",
    "            chosen_clients = np.random.choice(list(clients_data.keys()), \\\n",
    "                                          int(c_fraction*len(clients_data)), replace=False)\n",
    "\n",
    "        clients_weight = []\n",
    "        for client in chosen_clients:\n",
    "            # Iniatiate local model\n",
    "            local_nn = initiate_model(model_family, n_classes)\n",
    "            optimizer = tf.keras.optimizers.SGD(\n",
    "                learning_rate=learning_rate, clipnorm=1.0)\n",
    "            local_nn.compile(\n",
    "                optimizer=optimizer,\n",
    "                loss='sparse_categorical_crossentropy',\n",
    "                metrics=['accuracy']\n",
    "                )\n",
    "\n",
    "            # Set global weight to the local model\n",
    "            local_nn.set_weights(global_weights)\n",
    "\n",
    "            # Do training on local\n",
    "            local_nn.fit(clients_data[client], clients_label[client], batch_size=b_size,\\\n",
    "                         epochs=epoch, verbose=verbose)\n",
    "\n",
    "            # Save weight\n",
    "            scaled_weights = scale_weights(len(clients_data[client]), local_nn.get_weights(),\\\n",
    "                                           chosen_clients)\n",
    "            clients_weight.append(scaled_weights)\n",
    "\n",
    "        # Sum all scaled weights & update the global model\n",
    "        global_nn.set_weights(sum_scaled_weights(clients_weight))\n",
    "\n",
    "        # Evaluate the loss & accuracy\n",
    "        train_loss, train_accuracy = evaluate_model(global_nn, x_train, y_train)\n",
    "        test_loss, test_accuracy = evaluate_model(global_nn, x_test, y_test)\n",
    "        \n",
    "        # If gradient explode, rollback weight, continue to next round\n",
    "        if comm_round > 1: \n",
    "            if str(test_loss) == \"nan\":\n",
    "                print(\"Explode,\", test_accuracy, \"<-\", history[-1]['test_acc'])\n",
    "                break\n",
    "\n",
    "        # Save metrics for current round\n",
    "        data = {\"C\": c_fraction, \"B\": b_size, \"learning_rate\": learning_rate, \n",
    "                \"comm_round\": comm_round, \"train_acc\": train_accuracy, \n",
    "                \"test_acc\": test_accuracy, \"train_loss\": train_loss, \"test_loss\": test_loss}\n",
    "        \n",
    "        # If validation set exists\n",
    "        if x_val is not None:\n",
    "            val_loss, val_accuracy = evaluate_model(global_nn, x_val, y_val)\n",
    "            data['val_acc'] = val_accuracy\n",
    "            data['val_loss'] = val_loss\n",
    "        \n",
    "        # Save model state and history\n",
    "        history.append(data)\n",
    "        global_nn.save(output_path + EXP_NAME)\n",
    "        file = open(output_path + EXP_NAME + \".txt\", 'a')\n",
    "        file.write(json.dumps(str(data)) + \"\\n\")\n",
    "        file.close()\n",
    "        print(data)\n",
    "\n",
    "        # Stop when the desired test-accuracy reached, comm_round ignored\n",
    "        if desired_acc != False and test_accuracy >= desired_acc:\n",
    "            break\n",
    "\n",
    "        # Update variables\n",
    "        comm_round += 1\n",
    "    end_time = time()\n",
    "    print(\"Took %.2f seconds.\" % (end_time - start_time))\n",
    "    return history"
   ]
  },
  {
   "cell_type": "code",
   "execution_count": 8,
   "metadata": {
    "scrolled": true,
    "tags": []
   },
   "outputs": [
    {
     "name": "stdout",
     "output_type": "stream",
     "text": [
      "WARNING:tensorflow:No training configuration found in save file, so the model was *not* compiled. Compile it manually.\n"
     ]
    },
    {
     "name": "stderr",
     "output_type": "stream",
     "text": [
      "  0%|          | 0/300 [00:00<?, ?it/s]"
     ]
    },
    {
     "name": "stdout",
     "output_type": "stream",
     "text": [
      "WARNING:tensorflow:Compiled the loaded model, but the compiled metrics have yet to be built. `model.compile_metrics` will be empty until you train or evaluate the model.\n",
      "INFO:tensorflow:Assets written to: ./logs/NONIID-B600-E5-C0.1-MNIST-CNN-LR0.1/assets\n"
     ]
    },
    {
     "name": "stderr",
     "output_type": "stream",
     "text": [
      "  0%|          | 1/300 [00:41<3:28:58, 41.94s/it]"
     ]
    },
    {
     "name": "stdout",
     "output_type": "stream",
     "text": [
      "{'C': 0.1, 'B': 600, 'learning_rate': 0.1, 'comm_round': 1, 'train_acc': 0.8023, 'test_acc': 0.8054, 'train_loss': 0.6088, 'test_loss': 0.5971}\n",
      "WARNING:tensorflow:Compiled the loaded model, but the compiled metrics have yet to be built. `model.compile_metrics` will be empty until you train or evaluate the model.\n",
      "INFO:tensorflow:Assets written to: ./logs/NONIID-B600-E5-C0.1-MNIST-CNN-LR0.1/assets\n"
     ]
    },
    {
     "name": "stderr",
     "output_type": "stream",
     "text": [
      "  1%|          | 2/300 [01:15<3:02:36, 36.77s/it]"
     ]
    },
    {
     "name": "stdout",
     "output_type": "stream",
     "text": [
      "{'C': 0.1, 'B': 600, 'learning_rate': 0.1, 'comm_round': 2, 'train_acc': 0.8812, 'test_acc': 0.8882, 'train_loss': 0.389, 'test_loss': 0.3725}\n",
      "WARNING:tensorflow:Compiled the loaded model, but the compiled metrics have yet to be built. `model.compile_metrics` will be empty until you train or evaluate the model.\n",
      "INFO:tensorflow:Assets written to: ./logs/NONIID-B600-E5-C0.1-MNIST-CNN-LR0.1/assets\n"
     ]
    },
    {
     "name": "stderr",
     "output_type": "stream",
     "text": [
      "  1%|          | 3/300 [01:46<2:50:38, 34.47s/it]"
     ]
    },
    {
     "name": "stdout",
     "output_type": "stream",
     "text": [
      "{'C': 0.1, 'B': 600, 'learning_rate': 0.1, 'comm_round': 3, 'train_acc': 0.8199, 'test_acc': 0.8237, 'train_loss': 0.4964, 'test_loss': 0.4842}\n",
      "WARNING:tensorflow:Compiled the loaded model, but the compiled metrics have yet to be built. `model.compile_metrics` will be empty until you train or evaluate the model.\n",
      "INFO:tensorflow:Assets written to: ./logs/NONIID-B600-E5-C0.1-MNIST-CNN-LR0.1/assets\n"
     ]
    },
    {
     "name": "stderr",
     "output_type": "stream",
     "text": [
      "  1%|▏         | 4/300 [02:18<2:44:06, 33.27s/it]"
     ]
    },
    {
     "name": "stdout",
     "output_type": "stream",
     "text": [
      "{'C': 0.1, 'B': 600, 'learning_rate': 0.1, 'comm_round': 4, 'train_acc': 0.8456, 'test_acc': 0.8501, 'train_loss': 0.4299, 'test_loss': 0.4187}\n",
      "WARNING:tensorflow:Compiled the loaded model, but the compiled metrics have yet to be built. `model.compile_metrics` will be empty until you train or evaluate the model.\n",
      "INFO:tensorflow:Assets written to: ./logs/NONIID-B600-E5-C0.1-MNIST-CNN-LR0.1/assets\n"
     ]
    },
    {
     "name": "stderr",
     "output_type": "stream",
     "text": [
      "  2%|▏         | 5/300 [02:50<2:41:18, 32.81s/it]"
     ]
    },
    {
     "name": "stdout",
     "output_type": "stream",
     "text": [
      "{'C': 0.1, 'B': 600, 'learning_rate': 0.1, 'comm_round': 5, 'train_acc': 0.8839, 'test_acc': 0.8881, 'train_loss': 0.3474, 'test_loss': 0.3317}\n",
      "WARNING:tensorflow:Compiled the loaded model, but the compiled metrics have yet to be built. `model.compile_metrics` will be empty until you train or evaluate the model.\n",
      "INFO:tensorflow:Assets written to: ./logs/NONIID-B600-E5-C0.1-MNIST-CNN-LR0.1/assets\n"
     ]
    },
    {
     "name": "stderr",
     "output_type": "stream",
     "text": [
      "  2%|▏         | 6/300 [03:21<2:38:44, 32.40s/it]"
     ]
    },
    {
     "name": "stdout",
     "output_type": "stream",
     "text": [
      "{'C': 0.1, 'B': 600, 'learning_rate': 0.1, 'comm_round': 6, 'train_acc': 0.833, 'test_acc': 0.8368, 'train_loss': 0.4551, 'test_loss': 0.4461}\n",
      "WARNING:tensorflow:Compiled the loaded model, but the compiled metrics have yet to be built. `model.compile_metrics` will be empty until you train or evaluate the model.\n",
      "INFO:tensorflow:Assets written to: ./logs/NONIID-B600-E5-C0.1-MNIST-CNN-LR0.1/assets\n"
     ]
    },
    {
     "name": "stderr",
     "output_type": "stream",
     "text": [
      "  2%|▏         | 7/300 [03:53<2:37:17, 32.21s/it]"
     ]
    },
    {
     "name": "stdout",
     "output_type": "stream",
     "text": [
      "{'C': 0.1, 'B': 600, 'learning_rate': 0.1, 'comm_round': 7, 'train_acc': 0.8467, 'test_acc': 0.8498, 'train_loss': 0.4218, 'test_loss': 0.417}\n",
      "WARNING:tensorflow:Compiled the loaded model, but the compiled metrics have yet to be built. `model.compile_metrics` will be empty until you train or evaluate the model.\n",
      "INFO:tensorflow:Assets written to: ./logs/NONIID-B600-E5-C0.1-MNIST-CNN-LR0.1/assets\n"
     ]
    },
    {
     "name": "stderr",
     "output_type": "stream",
     "text": [
      "  3%|▎         | 8/300 [04:27<2:39:03, 32.68s/it]"
     ]
    },
    {
     "name": "stdout",
     "output_type": "stream",
     "text": [
      "{'C': 0.1, 'B': 600, 'learning_rate': 0.1, 'comm_round': 8, 'train_acc': 0.8321, 'test_acc': 0.8408, 'train_loss': 0.4672, 'test_loss': 0.4512}\n",
      "WARNING:tensorflow:Compiled the loaded model, but the compiled metrics have yet to be built. `model.compile_metrics` will be empty until you train or evaluate the model.\n",
      "INFO:tensorflow:Assets written to: ./logs/NONIID-B600-E5-C0.1-MNIST-CNN-LR0.1/assets\n"
     ]
    },
    {
     "name": "stderr",
     "output_type": "stream",
     "text": [
      "  3%|▎         | 9/300 [05:02<2:42:01, 33.41s/it]"
     ]
    },
    {
     "name": "stdout",
     "output_type": "stream",
     "text": [
      "{'C': 0.1, 'B': 600, 'learning_rate': 0.1, 'comm_round': 9, 'train_acc': 0.9078, 'test_acc': 0.9111, 'train_loss': 0.3167, 'test_loss': 0.3045}\n",
      "WARNING:tensorflow:Compiled the loaded model, but the compiled metrics have yet to be built. `model.compile_metrics` will be empty until you train or evaluate the model.\n",
      "INFO:tensorflow:Assets written to: ./logs/NONIID-B600-E5-C0.1-MNIST-CNN-LR0.1/assets\n"
     ]
    },
    {
     "name": "stderr",
     "output_type": "stream",
     "text": [
      "  3%|▎         | 10/300 [05:37<2:44:46, 34.09s/it]"
     ]
    },
    {
     "name": "stdout",
     "output_type": "stream",
     "text": [
      "{'C': 0.1, 'B': 600, 'learning_rate': 0.1, 'comm_round': 10, 'train_acc': 0.9052, 'test_acc': 0.9108, 'train_loss': 0.3216, 'test_loss': 0.3082}\n",
      "WARNING:tensorflow:Compiled the loaded model, but the compiled metrics have yet to be built. `model.compile_metrics` will be empty until you train or evaluate the model.\n",
      "INFO:tensorflow:Assets written to: ./logs/NONIID-B600-E5-C0.1-MNIST-CNN-LR0.1/assets\n"
     ]
    },
    {
     "name": "stderr",
     "output_type": "stream",
     "text": [
      "  4%|▎         | 11/300 [06:13<2:45:49, 34.43s/it]"
     ]
    },
    {
     "name": "stdout",
     "output_type": "stream",
     "text": [
      "{'C': 0.1, 'B': 600, 'learning_rate': 0.1, 'comm_round': 11, 'train_acc': 0.9184, 'test_acc': 0.9207, 'train_loss': 0.2952, 'test_loss': 0.2844}\n",
      "WARNING:tensorflow:Compiled the loaded model, but the compiled metrics have yet to be built. `model.compile_metrics` will be empty until you train or evaluate the model.\n",
      "INFO:tensorflow:Assets written to: ./logs/NONIID-B600-E5-C0.1-MNIST-CNN-LR0.1/assets\n"
     ]
    },
    {
     "name": "stderr",
     "output_type": "stream",
     "text": [
      "  4%|▍         | 12/300 [06:49<2:47:58, 35.00s/it]"
     ]
    },
    {
     "name": "stdout",
     "output_type": "stream",
     "text": [
      "{'C': 0.1, 'B': 600, 'learning_rate': 0.1, 'comm_round': 12, 'train_acc': 0.9232, 'test_acc': 0.9278, 'train_loss': 0.2694, 'test_loss': 0.2539}\n",
      "WARNING:tensorflow:Compiled the loaded model, but the compiled metrics have yet to be built. `model.compile_metrics` will be empty until you train or evaluate the model.\n",
      "INFO:tensorflow:Assets written to: ./logs/NONIID-B600-E5-C0.1-MNIST-CNN-LR0.1/assets\n"
     ]
    },
    {
     "name": "stderr",
     "output_type": "stream",
     "text": [
      "  4%|▍         | 13/300 [07:26<2:49:55, 35.52s/it]"
     ]
    },
    {
     "name": "stdout",
     "output_type": "stream",
     "text": [
      "{'C': 0.1, 'B': 600, 'learning_rate': 0.1, 'comm_round': 13, 'train_acc': 0.8612, 'test_acc': 0.8685, 'train_loss': 0.3972, 'test_loss': 0.3801}\n",
      "WARNING:tensorflow:Compiled the loaded model, but the compiled metrics have yet to be built. `model.compile_metrics` will be empty until you train or evaluate the model.\n",
      "INFO:tensorflow:Assets written to: ./logs/NONIID-B600-E5-C0.1-MNIST-CNN-LR0.1/assets\n"
     ]
    },
    {
     "name": "stderr",
     "output_type": "stream",
     "text": [
      "  5%|▍         | 14/300 [08:01<2:48:46, 35.41s/it]"
     ]
    },
    {
     "name": "stdout",
     "output_type": "stream",
     "text": [
      "{'C': 0.1, 'B': 600, 'learning_rate': 0.1, 'comm_round': 14, 'train_acc': 0.9122, 'test_acc': 0.9183, 'train_loss': 0.2872, 'test_loss': 0.2719}\n",
      "WARNING:tensorflow:Compiled the loaded model, but the compiled metrics have yet to be built. `model.compile_metrics` will be empty until you train or evaluate the model.\n",
      "INFO:tensorflow:Assets written to: ./logs/NONIID-B600-E5-C0.1-MNIST-CNN-LR0.1/assets\n"
     ]
    },
    {
     "name": "stderr",
     "output_type": "stream",
     "text": [
      "  5%|▌         | 15/300 [08:38<2:49:58, 35.79s/it]"
     ]
    },
    {
     "name": "stdout",
     "output_type": "stream",
     "text": [
      "{'C': 0.1, 'B': 600, 'learning_rate': 0.1, 'comm_round': 15, 'train_acc': 0.8825, 'test_acc': 0.8893, 'train_loss': 0.3693, 'test_loss': 0.3543}\n",
      "WARNING:tensorflow:Compiled the loaded model, but the compiled metrics have yet to be built. `model.compile_metrics` will be empty until you train or evaluate the model.\n",
      "INFO:tensorflow:Assets written to: ./logs/NONIID-B600-E5-C0.1-MNIST-CNN-LR0.1/assets\n"
     ]
    },
    {
     "name": "stderr",
     "output_type": "stream",
     "text": [
      "  5%|▌         | 16/300 [09:13<2:48:37, 35.63s/it]"
     ]
    },
    {
     "name": "stdout",
     "output_type": "stream",
     "text": [
      "{'C': 0.1, 'B': 600, 'learning_rate': 0.1, 'comm_round': 16, 'train_acc': 0.9092, 'test_acc': 0.9141, 'train_loss': 0.3001, 'test_loss': 0.2876}\n",
      "WARNING:tensorflow:Compiled the loaded model, but the compiled metrics have yet to be built. `model.compile_metrics` will be empty until you train or evaluate the model.\n",
      "INFO:tensorflow:Assets written to: ./logs/NONIID-B600-E5-C0.1-MNIST-CNN-LR0.1/assets\n"
     ]
    },
    {
     "name": "stderr",
     "output_type": "stream",
     "text": [
      "  6%|▌         | 17/300 [09:49<2:48:52, 35.80s/it]"
     ]
    },
    {
     "name": "stdout",
     "output_type": "stream",
     "text": [
      "{'C': 0.1, 'B': 600, 'learning_rate': 0.1, 'comm_round': 17, 'train_acc': 0.9156, 'test_acc': 0.9199, 'train_loss': 0.2901, 'test_loss': 0.2763}\n",
      "WARNING:tensorflow:Compiled the loaded model, but the compiled metrics have yet to be built. `model.compile_metrics` will be empty until you train or evaluate the model.\n",
      "INFO:tensorflow:Assets written to: ./logs/NONIID-B600-E5-C0.1-MNIST-CNN-LR0.1/assets\n"
     ]
    },
    {
     "name": "stderr",
     "output_type": "stream",
     "text": [
      "  6%|▌         | 18/300 [10:24<2:47:49, 35.71s/it]"
     ]
    },
    {
     "name": "stdout",
     "output_type": "stream",
     "text": [
      "{'C': 0.1, 'B': 600, 'learning_rate': 0.1, 'comm_round': 18, 'train_acc': 0.8892, 'test_acc': 0.8956, 'train_loss': 0.3435, 'test_loss': 0.3273}\n",
      "WARNING:tensorflow:Compiled the loaded model, but the compiled metrics have yet to be built. `model.compile_metrics` will be empty until you train or evaluate the model.\n",
      "INFO:tensorflow:Assets written to: ./logs/NONIID-B600-E5-C0.1-MNIST-CNN-LR0.1/assets\n"
     ]
    },
    {
     "name": "stderr",
     "output_type": "stream",
     "text": [
      "  6%|▋         | 19/300 [11:01<2:47:56, 35.86s/it]"
     ]
    },
    {
     "name": "stdout",
     "output_type": "stream",
     "text": [
      "{'C': 0.1, 'B': 600, 'learning_rate': 0.1, 'comm_round': 19, 'train_acc': 0.8913, 'test_acc': 0.9008, 'train_loss': 0.3476, 'test_loss': 0.3256}\n",
      "WARNING:tensorflow:Compiled the loaded model, but the compiled metrics have yet to be built. `model.compile_metrics` will be empty until you train or evaluate the model.\n",
      "INFO:tensorflow:Assets written to: ./logs/NONIID-B600-E5-C0.1-MNIST-CNN-LR0.1/assets\n"
     ]
    },
    {
     "name": "stderr",
     "output_type": "stream",
     "text": [
      "  7%|▋         | 20/300 [11:36<2:45:54, 35.55s/it]"
     ]
    },
    {
     "name": "stdout",
     "output_type": "stream",
     "text": [
      "{'C': 0.1, 'B': 600, 'learning_rate': 0.1, 'comm_round': 20, 'train_acc': 0.8911, 'test_acc': 0.8988, 'train_loss': 0.3504, 'test_loss': 0.333}\n",
      "WARNING:tensorflow:Compiled the loaded model, but the compiled metrics have yet to be built. `model.compile_metrics` will be empty until you train or evaluate the model.\n",
      "INFO:tensorflow:Assets written to: ./logs/NONIID-B600-E5-C0.1-MNIST-CNN-LR0.1/assets\n"
     ]
    },
    {
     "name": "stderr",
     "output_type": "stream",
     "text": [
      "  7%|▋         | 21/300 [12:12<2:46:19, 35.77s/it]"
     ]
    },
    {
     "name": "stdout",
     "output_type": "stream",
     "text": [
      "{'C': 0.1, 'B': 600, 'learning_rate': 0.1, 'comm_round': 21, 'train_acc': 0.8787, 'test_acc': 0.887, 'train_loss': 0.3466, 'test_loss': 0.3256}\n",
      "WARNING:tensorflow:Compiled the loaded model, but the compiled metrics have yet to be built. `model.compile_metrics` will be empty until you train or evaluate the model.\n",
      "INFO:tensorflow:Assets written to: ./logs/NONIID-B600-E5-C0.1-MNIST-CNN-LR0.1/assets\n"
     ]
    },
    {
     "name": "stderr",
     "output_type": "stream",
     "text": [
      "  7%|▋         | 22/300 [12:50<2:49:39, 36.62s/it]"
     ]
    },
    {
     "name": "stdout",
     "output_type": "stream",
     "text": [
      "{'C': 0.1, 'B': 600, 'learning_rate': 0.1, 'comm_round': 22, 'train_acc': 0.8927, 'test_acc': 0.8978, 'train_loss': 0.3359, 'test_loss': 0.3253}\n",
      "WARNING:tensorflow:Compiled the loaded model, but the compiled metrics have yet to be built. `model.compile_metrics` will be empty until you train or evaluate the model.\n",
      "INFO:tensorflow:Assets written to: ./logs/NONIID-B600-E5-C0.1-MNIST-CNN-LR0.1/assets\n"
     ]
    },
    {
     "name": "stderr",
     "output_type": "stream",
     "text": [
      "  8%|▊         | 23/300 [13:28<2:51:04, 37.06s/it]"
     ]
    },
    {
     "name": "stdout",
     "output_type": "stream",
     "text": [
      "{'C': 0.1, 'B': 600, 'learning_rate': 0.1, 'comm_round': 23, 'train_acc': 0.9082, 'test_acc': 0.9164, 'train_loss': 0.3026, 'test_loss': 0.2887}\n",
      "WARNING:tensorflow:Compiled the loaded model, but the compiled metrics have yet to be built. `model.compile_metrics` will be empty until you train or evaluate the model.\n",
      "INFO:tensorflow:Assets written to: ./logs/NONIID-B600-E5-C0.1-MNIST-CNN-LR0.1/assets\n"
     ]
    },
    {
     "name": "stderr",
     "output_type": "stream",
     "text": [
      "  8%|▊         | 24/300 [14:04<2:49:02, 36.75s/it]"
     ]
    },
    {
     "name": "stdout",
     "output_type": "stream",
     "text": [
      "{'C': 0.1, 'B': 600, 'learning_rate': 0.1, 'comm_round': 24, 'train_acc': 0.8861, 'test_acc': 0.8967, 'train_loss': 0.3655, 'test_loss': 0.3479}\n",
      "WARNING:tensorflow:Compiled the loaded model, but the compiled metrics have yet to be built. `model.compile_metrics` will be empty until you train or evaluate the model.\n",
      "INFO:tensorflow:Assets written to: ./logs/NONIID-B600-E5-C0.1-MNIST-CNN-LR0.1/assets\n"
     ]
    },
    {
     "name": "stderr",
     "output_type": "stream",
     "text": [
      "  8%|▊         | 25/300 [14:40<2:47:20, 36.51s/it]"
     ]
    },
    {
     "name": "stdout",
     "output_type": "stream",
     "text": [
      "{'C': 0.1, 'B': 600, 'learning_rate': 0.1, 'comm_round': 25, 'train_acc': 0.8961, 'test_acc': 0.9017, 'train_loss': 0.3238, 'test_loss': 0.3055}\n",
      "WARNING:tensorflow:Compiled the loaded model, but the compiled metrics have yet to be built. `model.compile_metrics` will be empty until you train or evaluate the model.\n",
      "INFO:tensorflow:Assets written to: ./logs/NONIID-B600-E5-C0.1-MNIST-CNN-LR0.1/assets\n"
     ]
    },
    {
     "name": "stderr",
     "output_type": "stream",
     "text": [
      "  9%|▊         | 26/300 [15:18<2:48:06, 36.81s/it]"
     ]
    },
    {
     "name": "stdout",
     "output_type": "stream",
     "text": [
      "{'C': 0.1, 'B': 600, 'learning_rate': 0.1, 'comm_round': 26, 'train_acc': 0.923, 'test_acc': 0.9288, 'train_loss': 0.2633, 'test_loss': 0.2512}\n",
      "WARNING:tensorflow:Compiled the loaded model, but the compiled metrics have yet to be built. `model.compile_metrics` will be empty until you train or evaluate the model.\n",
      "INFO:tensorflow:Assets written to: ./logs/NONIID-B600-E5-C0.1-MNIST-CNN-LR0.1/assets\n"
     ]
    },
    {
     "name": "stderr",
     "output_type": "stream",
     "text": [
      "  9%|▉         | 27/300 [15:55<2:47:08, 36.73s/it]"
     ]
    },
    {
     "name": "stdout",
     "output_type": "stream",
     "text": [
      "{'C': 0.1, 'B': 600, 'learning_rate': 0.1, 'comm_round': 27, 'train_acc': 0.9076, 'test_acc': 0.9158, 'train_loss': 0.3008, 'test_loss': 0.2833}\n",
      "WARNING:tensorflow:Compiled the loaded model, but the compiled metrics have yet to be built. `model.compile_metrics` will be empty until you train or evaluate the model.\n",
      "INFO:tensorflow:Assets written to: ./logs/NONIID-B600-E5-C0.1-MNIST-CNN-LR0.1/assets\n"
     ]
    },
    {
     "name": "stderr",
     "output_type": "stream",
     "text": [
      "  9%|▉         | 28/300 [16:31<2:46:39, 36.76s/it]"
     ]
    },
    {
     "name": "stdout",
     "output_type": "stream",
     "text": [
      "{'C': 0.1, 'B': 600, 'learning_rate': 0.1, 'comm_round': 28, 'train_acc': 0.8806, 'test_acc': 0.8833, 'train_loss': 0.3518, 'test_loss': 0.3403}\n",
      "WARNING:tensorflow:Compiled the loaded model, but the compiled metrics have yet to be built. `model.compile_metrics` will be empty until you train or evaluate the model.\n",
      "INFO:tensorflow:Assets written to: ./logs/NONIID-B600-E5-C0.1-MNIST-CNN-LR0.1/assets\n"
     ]
    },
    {
     "name": "stderr",
     "output_type": "stream",
     "text": [
      " 10%|▉         | 29/300 [17:09<2:47:12, 37.02s/it]"
     ]
    },
    {
     "name": "stdout",
     "output_type": "stream",
     "text": [
      "{'C': 0.1, 'B': 600, 'learning_rate': 0.1, 'comm_round': 29, 'train_acc': 0.9, 'test_acc': 0.9043, 'train_loss': 0.3242, 'test_loss': 0.3061}\n",
      "WARNING:tensorflow:Compiled the loaded model, but the compiled metrics have yet to be built. `model.compile_metrics` will be empty until you train or evaluate the model.\n",
      "INFO:tensorflow:Assets written to: ./logs/NONIID-B600-E5-C0.1-MNIST-CNN-LR0.1/assets\n"
     ]
    },
    {
     "name": "stderr",
     "output_type": "stream",
     "text": [
      " 10%|█         | 30/300 [17:46<2:46:39, 37.04s/it]"
     ]
    },
    {
     "name": "stdout",
     "output_type": "stream",
     "text": [
      "{'C': 0.1, 'B': 600, 'learning_rate': 0.1, 'comm_round': 30, 'train_acc': 0.9131, 'test_acc': 0.9177, 'train_loss': 0.2902, 'test_loss': 0.2801}\n",
      "WARNING:tensorflow:Compiled the loaded model, but the compiled metrics have yet to be built. `model.compile_metrics` will be empty until you train or evaluate the model.\n",
      "INFO:tensorflow:Assets written to: ./logs/NONIID-B600-E5-C0.1-MNIST-CNN-LR0.1/assets\n"
     ]
    },
    {
     "name": "stderr",
     "output_type": "stream",
     "text": [
      " 10%|█         | 31/300 [18:23<2:46:34, 37.16s/it]"
     ]
    },
    {
     "name": "stdout",
     "output_type": "stream",
     "text": [
      "{'C': 0.1, 'B': 600, 'learning_rate': 0.1, 'comm_round': 31, 'train_acc': 0.9074, 'test_acc': 0.9094, 'train_loss': 0.3043, 'test_loss': 0.2942}\n",
      "WARNING:tensorflow:Compiled the loaded model, but the compiled metrics have yet to be built. `model.compile_metrics` will be empty until you train or evaluate the model.\n",
      "INFO:tensorflow:Assets written to: ./logs/NONIID-B600-E5-C0.1-MNIST-CNN-LR0.1/assets\n"
     ]
    },
    {
     "name": "stderr",
     "output_type": "stream",
     "text": [
      " 11%|█         | 32/300 [19:01<2:46:15, 37.22s/it]"
     ]
    },
    {
     "name": "stdout",
     "output_type": "stream",
     "text": [
      "{'C': 0.1, 'B': 600, 'learning_rate': 0.1, 'comm_round': 32, 'train_acc': 0.9247, 'test_acc': 0.9294, 'train_loss': 0.2568, 'test_loss': 0.2426}\n",
      "WARNING:tensorflow:Compiled the loaded model, but the compiled metrics have yet to be built. `model.compile_metrics` will be empty until you train or evaluate the model.\n",
      "INFO:tensorflow:Assets written to: ./logs/NONIID-B600-E5-C0.1-MNIST-CNN-LR0.1/assets\n"
     ]
    },
    {
     "name": "stderr",
     "output_type": "stream",
     "text": [
      " 11%|█         | 33/300 [19:37<2:44:19, 36.93s/it]"
     ]
    },
    {
     "name": "stdout",
     "output_type": "stream",
     "text": [
      "{'C': 0.1, 'B': 600, 'learning_rate': 0.1, 'comm_round': 33, 'train_acc': 0.8793, 'test_acc': 0.884, 'train_loss': 0.3561, 'test_loss': 0.347}\n",
      "WARNING:tensorflow:Compiled the loaded model, but the compiled metrics have yet to be built. `model.compile_metrics` will be empty until you train or evaluate the model.\n",
      "INFO:tensorflow:Assets written to: ./logs/NONIID-B600-E5-C0.1-MNIST-CNN-LR0.1/assets\n"
     ]
    },
    {
     "name": "stderr",
     "output_type": "stream",
     "text": [
      " 11%|█▏        | 34/300 [20:13<2:41:47, 36.50s/it]"
     ]
    },
    {
     "name": "stdout",
     "output_type": "stream",
     "text": [
      "{'C': 0.1, 'B': 600, 'learning_rate': 0.1, 'comm_round': 34, 'train_acc': 0.897, 'test_acc': 0.9042, 'train_loss': 0.3226, 'test_loss': 0.3066}\n",
      "WARNING:tensorflow:Compiled the loaded model, but the compiled metrics have yet to be built. `model.compile_metrics` will be empty until you train or evaluate the model.\n",
      "INFO:tensorflow:Assets written to: ./logs/NONIID-B600-E5-C0.1-MNIST-CNN-LR0.1/assets\n"
     ]
    },
    {
     "name": "stderr",
     "output_type": "stream",
     "text": [
      " 12%|█▏        | 35/300 [20:50<2:42:33, 36.81s/it]"
     ]
    },
    {
     "name": "stdout",
     "output_type": "stream",
     "text": [
      "{'C': 0.1, 'B': 600, 'learning_rate': 0.1, 'comm_round': 35, 'train_acc': 0.9309, 'test_acc': 0.9344, 'train_loss': 0.2513, 'test_loss': 0.2392}\n",
      "WARNING:tensorflow:Compiled the loaded model, but the compiled metrics have yet to be built. `model.compile_metrics` will be empty until you train or evaluate the model.\n",
      "INFO:tensorflow:Assets written to: ./logs/NONIID-B600-E5-C0.1-MNIST-CNN-LR0.1/assets\n"
     ]
    },
    {
     "name": "stderr",
     "output_type": "stream",
     "text": [
      " 12%|█▏        | 36/300 [21:28<2:42:47, 37.00s/it]"
     ]
    },
    {
     "name": "stdout",
     "output_type": "stream",
     "text": [
      "{'C': 0.1, 'B': 600, 'learning_rate': 0.1, 'comm_round': 36, 'train_acc': 0.8904, 'test_acc': 0.8998, 'train_loss': 0.3366, 'test_loss': 0.3177}\n",
      "WARNING:tensorflow:Compiled the loaded model, but the compiled metrics have yet to be built. `model.compile_metrics` will be empty until you train or evaluate the model.\n",
      "INFO:tensorflow:Assets written to: ./logs/NONIID-B600-E5-C0.1-MNIST-CNN-LR0.1/assets\n"
     ]
    },
    {
     "name": "stderr",
     "output_type": "stream",
     "text": [
      " 12%|█▏        | 37/300 [22:06<2:43:38, 37.33s/it]"
     ]
    },
    {
     "name": "stdout",
     "output_type": "stream",
     "text": [
      "{'C': 0.1, 'B': 600, 'learning_rate': 0.1, 'comm_round': 37, 'train_acc': 0.9306, 'test_acc': 0.9346, 'train_loss': 0.2509, 'test_loss': 0.2376}\n",
      "WARNING:tensorflow:Compiled the loaded model, but the compiled metrics have yet to be built. `model.compile_metrics` will be empty until you train or evaluate the model.\n",
      "INFO:tensorflow:Assets written to: ./logs/NONIID-B600-E5-C0.1-MNIST-CNN-LR0.1/assets\n"
     ]
    },
    {
     "name": "stderr",
     "output_type": "stream",
     "text": [
      " 13%|█▎        | 38/300 [22:43<2:42:31, 37.22s/it]"
     ]
    },
    {
     "name": "stdout",
     "output_type": "stream",
     "text": [
      "{'C': 0.1, 'B': 600, 'learning_rate': 0.1, 'comm_round': 38, 'train_acc': 0.9248, 'test_acc': 0.9292, 'train_loss': 0.2581, 'test_loss': 0.2422}\n",
      "WARNING:tensorflow:Compiled the loaded model, but the compiled metrics have yet to be built. `model.compile_metrics` will be empty until you train or evaluate the model.\n",
      "INFO:tensorflow:Assets written to: ./logs/NONIID-B600-E5-C0.1-MNIST-CNN-LR0.1/assets\n"
     ]
    },
    {
     "name": "stderr",
     "output_type": "stream",
     "text": [
      " 13%|█▎        | 39/300 [23:23<2:46:20, 38.24s/it]"
     ]
    },
    {
     "name": "stdout",
     "output_type": "stream",
     "text": [
      "{'C': 0.1, 'B': 600, 'learning_rate': 0.1, 'comm_round': 39, 'train_acc': 0.9148, 'test_acc': 0.9204, 'train_loss': 0.2705, 'test_loss': 0.2538}\n",
      "WARNING:tensorflow:Compiled the loaded model, but the compiled metrics have yet to be built. `model.compile_metrics` will be empty until you train or evaluate the model.\n",
      "INFO:tensorflow:Assets written to: ./logs/NONIID-B600-E5-C0.1-MNIST-CNN-LR0.1/assets\n"
     ]
    },
    {
     "name": "stderr",
     "output_type": "stream",
     "text": [
      " 13%|█▎        | 40/300 [24:07<2:52:44, 39.86s/it]"
     ]
    },
    {
     "name": "stdout",
     "output_type": "stream",
     "text": [
      "{'C': 0.1, 'B': 600, 'learning_rate': 0.1, 'comm_round': 40, 'train_acc': 0.906, 'test_acc': 0.9118, 'train_loss': 0.2898, 'test_loss': 0.2732}\n",
      "WARNING:tensorflow:Compiled the loaded model, but the compiled metrics have yet to be built. `model.compile_metrics` will be empty until you train or evaluate the model.\n",
      "INFO:tensorflow:Assets written to: ./logs/NONIID-B600-E5-C0.1-MNIST-CNN-LR0.1/assets\n"
     ]
    },
    {
     "name": "stderr",
     "output_type": "stream",
     "text": [
      " 14%|█▎        | 41/300 [24:50<2:56:47, 40.95s/it]"
     ]
    },
    {
     "name": "stdout",
     "output_type": "stream",
     "text": [
      "{'C': 0.1, 'B': 600, 'learning_rate': 0.1, 'comm_round': 41, 'train_acc': 0.9313, 'test_acc': 0.9357, 'train_loss': 0.2386, 'test_loss': 0.2245}\n",
      "WARNING:tensorflow:Compiled the loaded model, but the compiled metrics have yet to be built. `model.compile_metrics` will be empty until you train or evaluate the model.\n",
      "INFO:tensorflow:Assets written to: ./logs/NONIID-B600-E5-C0.1-MNIST-CNN-LR0.1/assets\n"
     ]
    },
    {
     "name": "stderr",
     "output_type": "stream",
     "text": [
      " 14%|█▍        | 42/300 [25:32<2:57:09, 41.20s/it]"
     ]
    },
    {
     "name": "stdout",
     "output_type": "stream",
     "text": [
      "{'C': 0.1, 'B': 600, 'learning_rate': 0.1, 'comm_round': 42, 'train_acc': 0.9048, 'test_acc': 0.9128, 'train_loss': 0.3022, 'test_loss': 0.2816}\n",
      "WARNING:tensorflow:Compiled the loaded model, but the compiled metrics have yet to be built. `model.compile_metrics` will be empty until you train or evaluate the model.\n",
      "INFO:tensorflow:Assets written to: ./logs/NONIID-B600-E5-C0.1-MNIST-CNN-LR0.1/assets\n"
     ]
    },
    {
     "name": "stderr",
     "output_type": "stream",
     "text": [
      " 14%|█▍        | 43/300 [26:05<2:45:26, 38.63s/it]"
     ]
    },
    {
     "name": "stdout",
     "output_type": "stream",
     "text": [
      "{'C': 0.1, 'B': 600, 'learning_rate': 0.1, 'comm_round': 43, 'train_acc': 0.8994, 'test_acc': 0.9028, 'train_loss': 0.3119, 'test_loss': 0.297}\n",
      "WARNING:tensorflow:Compiled the loaded model, but the compiled metrics have yet to be built. `model.compile_metrics` will be empty until you train or evaluate the model.\n",
      "INFO:tensorflow:Assets written to: ./logs/NONIID-B600-E5-C0.1-MNIST-CNN-LR0.1/assets\n"
     ]
    },
    {
     "name": "stderr",
     "output_type": "stream",
     "text": [
      " 15%|█▍        | 44/300 [26:39<2:39:04, 37.28s/it]"
     ]
    },
    {
     "name": "stdout",
     "output_type": "stream",
     "text": [
      "{'C': 0.1, 'B': 600, 'learning_rate': 0.1, 'comm_round': 44, 'train_acc': 0.913, 'test_acc': 0.9185, 'train_loss': 0.2847, 'test_loss': 0.2711}\n",
      "WARNING:tensorflow:Compiled the loaded model, but the compiled metrics have yet to be built. `model.compile_metrics` will be empty until you train or evaluate the model.\n",
      "INFO:tensorflow:Assets written to: ./logs/NONIID-B600-E5-C0.1-MNIST-CNN-LR0.1/assets\n"
     ]
    },
    {
     "name": "stderr",
     "output_type": "stream",
     "text": [
      " 15%|█▌        | 45/300 [27:15<2:37:18, 37.01s/it]"
     ]
    },
    {
     "name": "stdout",
     "output_type": "stream",
     "text": [
      "{'C': 0.1, 'B': 600, 'learning_rate': 0.1, 'comm_round': 45, 'train_acc': 0.9006, 'test_acc': 0.9042, 'train_loss': 0.3182, 'test_loss': 0.3037}\n",
      "WARNING:tensorflow:Compiled the loaded model, but the compiled metrics have yet to be built. `model.compile_metrics` will be empty until you train or evaluate the model.\n",
      "INFO:tensorflow:Assets written to: ./logs/NONIID-B600-E5-C0.1-MNIST-CNN-LR0.1/assets\n"
     ]
    },
    {
     "name": "stderr",
     "output_type": "stream",
     "text": [
      " 15%|█▌        | 46/300 [27:48<2:30:47, 35.62s/it]"
     ]
    },
    {
     "name": "stdout",
     "output_type": "stream",
     "text": [
      "{'C': 0.1, 'B': 600, 'learning_rate': 0.1, 'comm_round': 46, 'train_acc': 0.9018, 'test_acc': 0.9077, 'train_loss': 0.3029, 'test_loss': 0.2868}\n",
      "WARNING:tensorflow:Compiled the loaded model, but the compiled metrics have yet to be built. `model.compile_metrics` will be empty until you train or evaluate the model.\n",
      "INFO:tensorflow:Assets written to: ./logs/NONIID-B600-E5-C0.1-MNIST-CNN-LR0.1/assets\n"
     ]
    },
    {
     "name": "stderr",
     "output_type": "stream",
     "text": [
      " 16%|█▌        | 47/300 [28:21<2:27:04, 34.88s/it]"
     ]
    },
    {
     "name": "stdout",
     "output_type": "stream",
     "text": [
      "{'C': 0.1, 'B': 600, 'learning_rate': 0.1, 'comm_round': 47, 'train_acc': 0.9123, 'test_acc': 0.917, 'train_loss': 0.2793, 'test_loss': 0.2674}\n",
      "WARNING:tensorflow:Compiled the loaded model, but the compiled metrics have yet to be built. `model.compile_metrics` will be empty until you train or evaluate the model.\n",
      "INFO:tensorflow:Assets written to: ./logs/NONIID-B600-E5-C0.1-MNIST-CNN-LR0.1/assets\n"
     ]
    },
    {
     "name": "stderr",
     "output_type": "stream",
     "text": [
      " 16%|█▌        | 48/300 [28:54<2:23:45, 34.23s/it]"
     ]
    },
    {
     "name": "stdout",
     "output_type": "stream",
     "text": [
      "{'C': 0.1, 'B': 600, 'learning_rate': 0.1, 'comm_round': 48, 'train_acc': 0.8923, 'test_acc': 0.8996, 'train_loss': 0.3246, 'test_loss': 0.3095}\n",
      "WARNING:tensorflow:Compiled the loaded model, but the compiled metrics have yet to be built. `model.compile_metrics` will be empty until you train or evaluate the model.\n",
      "INFO:tensorflow:Assets written to: ./logs/NONIID-B600-E5-C0.1-MNIST-CNN-LR0.1/assets\n"
     ]
    },
    {
     "name": "stderr",
     "output_type": "stream",
     "text": [
      " 16%|█▋        | 49/300 [29:26<2:20:40, 33.63s/it]"
     ]
    },
    {
     "name": "stdout",
     "output_type": "stream",
     "text": [
      "{'C': 0.1, 'B': 600, 'learning_rate': 0.1, 'comm_round': 49, 'train_acc': 0.8957, 'test_acc': 0.9069, 'train_loss': 0.3109, 'test_loss': 0.2911}\n",
      "WARNING:tensorflow:Compiled the loaded model, but the compiled metrics have yet to be built. `model.compile_metrics` will be empty until you train or evaluate the model.\n",
      "INFO:tensorflow:Assets written to: ./logs/NONIID-B600-E5-C0.1-MNIST-CNN-LR0.1/assets\n"
     ]
    },
    {
     "name": "stderr",
     "output_type": "stream",
     "text": [
      " 17%|█▋        | 50/300 [29:59<2:19:08, 33.39s/it]"
     ]
    },
    {
     "name": "stdout",
     "output_type": "stream",
     "text": [
      "{'C': 0.1, 'B': 600, 'learning_rate': 0.1, 'comm_round': 50, 'train_acc': 0.882, 'test_acc': 0.8907, 'train_loss': 0.3608, 'test_loss': 0.3447}\n",
      "WARNING:tensorflow:Compiled the loaded model, but the compiled metrics have yet to be built. `model.compile_metrics` will be empty until you train or evaluate the model.\n",
      "INFO:tensorflow:Assets written to: ./logs/NONIID-B600-E5-C0.1-MNIST-CNN-LR0.1/assets\n"
     ]
    },
    {
     "name": "stderr",
     "output_type": "stream",
     "text": [
      " 17%|█▋        | 51/300 [30:43<2:32:50, 36.83s/it]"
     ]
    },
    {
     "name": "stdout",
     "output_type": "stream",
     "text": [
      "{'C': 0.1, 'B': 600, 'learning_rate': 0.1, 'comm_round': 51, 'train_acc': 0.8942, 'test_acc': 0.8977, 'train_loss': 0.3348, 'test_loss': 0.3262}\n",
      "WARNING:tensorflow:Compiled the loaded model, but the compiled metrics have yet to be built. `model.compile_metrics` will be empty until you train or evaluate the model.\n",
      "INFO:tensorflow:Assets written to: ./logs/NONIID-B600-E5-C0.1-MNIST-CNN-LR0.1/assets\n"
     ]
    },
    {
     "name": "stderr",
     "output_type": "stream",
     "text": [
      " 17%|█▋        | 52/300 [31:18<2:29:06, 36.07s/it]"
     ]
    },
    {
     "name": "stdout",
     "output_type": "stream",
     "text": [
      "{'C': 0.1, 'B': 600, 'learning_rate': 0.1, 'comm_round': 52, 'train_acc': 0.8892, 'test_acc': 0.8943, 'train_loss': 0.3478, 'test_loss': 0.3359}\n",
      "WARNING:tensorflow:Compiled the loaded model, but the compiled metrics have yet to be built. `model.compile_metrics` will be empty until you train or evaluate the model.\n",
      "INFO:tensorflow:Assets written to: ./logs/NONIID-B600-E5-C0.1-MNIST-CNN-LR0.1/assets\n"
     ]
    },
    {
     "name": "stderr",
     "output_type": "stream",
     "text": [
      " 18%|█▊        | 53/300 [31:50<2:23:59, 34.98s/it]"
     ]
    },
    {
     "name": "stdout",
     "output_type": "stream",
     "text": [
      "{'C': 0.1, 'B': 600, 'learning_rate': 0.1, 'comm_round': 53, 'train_acc': 0.933, 'test_acc': 0.9339, 'train_loss': 0.2382, 'test_loss': 0.2317}\n",
      "WARNING:tensorflow:Compiled the loaded model, but the compiled metrics have yet to be built. `model.compile_metrics` will be empty until you train or evaluate the model.\n",
      "INFO:tensorflow:Assets written to: ./logs/NONIID-B600-E5-C0.1-MNIST-CNN-LR0.1/assets\n"
     ]
    },
    {
     "name": "stderr",
     "output_type": "stream",
     "text": [
      " 18%|█▊        | 54/300 [32:24<2:21:43, 34.57s/it]"
     ]
    },
    {
     "name": "stdout",
     "output_type": "stream",
     "text": [
      "{'C': 0.1, 'B': 600, 'learning_rate': 0.1, 'comm_round': 54, 'train_acc': 0.906, 'test_acc': 0.9117, 'train_loss': 0.2871, 'test_loss': 0.2758}\n",
      "WARNING:tensorflow:Compiled the loaded model, but the compiled metrics have yet to be built. `model.compile_metrics` will be empty until you train or evaluate the model.\n",
      "INFO:tensorflow:Assets written to: ./logs/NONIID-B600-E5-C0.1-MNIST-CNN-LR0.1/assets\n"
     ]
    },
    {
     "name": "stderr",
     "output_type": "stream",
     "text": [
      " 18%|█▊        | 55/300 [32:57<2:19:59, 34.28s/it]"
     ]
    },
    {
     "name": "stdout",
     "output_type": "stream",
     "text": [
      "{'C': 0.1, 'B': 600, 'learning_rate': 0.1, 'comm_round': 55, 'train_acc': 0.9083, 'test_acc': 0.9132, 'train_loss': 0.2914, 'test_loss': 0.2779}\n",
      "WARNING:tensorflow:Compiled the loaded model, but the compiled metrics have yet to be built. `model.compile_metrics` will be empty until you train or evaluate the model.\n",
      "INFO:tensorflow:Assets written to: ./logs/NONIID-B600-E5-C0.1-MNIST-CNN-LR0.1/assets\n"
     ]
    },
    {
     "name": "stderr",
     "output_type": "stream",
     "text": [
      " 19%|█▊        | 56/300 [33:31<2:18:50, 34.14s/it]"
     ]
    },
    {
     "name": "stdout",
     "output_type": "stream",
     "text": [
      "{'C': 0.1, 'B': 600, 'learning_rate': 0.1, 'comm_round': 56, 'train_acc': 0.9091, 'test_acc': 0.9132, 'train_loss': 0.2908, 'test_loss': 0.2801}\n",
      "WARNING:tensorflow:Compiled the loaded model, but the compiled metrics have yet to be built. `model.compile_metrics` will be empty until you train or evaluate the model.\n",
      "INFO:tensorflow:Assets written to: ./logs/NONIID-B600-E5-C0.1-MNIST-CNN-LR0.1/assets\n"
     ]
    },
    {
     "name": "stderr",
     "output_type": "stream",
     "text": [
      " 19%|█▉        | 57/300 [34:06<2:19:35, 34.47s/it]"
     ]
    },
    {
     "name": "stdout",
     "output_type": "stream",
     "text": [
      "{'C': 0.1, 'B': 600, 'learning_rate': 0.1, 'comm_round': 57, 'train_acc': 0.8441, 'test_acc': 0.8472, 'train_loss': 0.4207, 'test_loss': 0.4166}\n",
      "WARNING:tensorflow:Compiled the loaded model, but the compiled metrics have yet to be built. `model.compile_metrics` will be empty until you train or evaluate the model.\n",
      "INFO:tensorflow:Assets written to: ./logs/NONIID-B600-E5-C0.1-MNIST-CNN-LR0.1/assets\n"
     ]
    },
    {
     "name": "stderr",
     "output_type": "stream",
     "text": [
      " 19%|█▉        | 58/300 [34:41<2:18:47, 34.41s/it]"
     ]
    },
    {
     "name": "stdout",
     "output_type": "stream",
     "text": [
      "{'C': 0.1, 'B': 600, 'learning_rate': 0.1, 'comm_round': 58, 'train_acc': 0.9158, 'test_acc': 0.9209, 'train_loss': 0.2931, 'test_loss': 0.2799}\n",
      "WARNING:tensorflow:Compiled the loaded model, but the compiled metrics have yet to be built. `model.compile_metrics` will be empty until you train or evaluate the model.\n",
      "INFO:tensorflow:Assets written to: ./logs/NONIID-B600-E5-C0.1-MNIST-CNN-LR0.1/assets\n"
     ]
    },
    {
     "name": "stderr",
     "output_type": "stream",
     "text": [
      " 20%|█▉        | 59/300 [35:15<2:18:02, 34.37s/it]"
     ]
    },
    {
     "name": "stdout",
     "output_type": "stream",
     "text": [
      "{'C': 0.1, 'B': 600, 'learning_rate': 0.1, 'comm_round': 59, 'train_acc': 0.9108, 'test_acc': 0.914, 'train_loss': 0.2825, 'test_loss': 0.2704}\n",
      "WARNING:tensorflow:Compiled the loaded model, but the compiled metrics have yet to be built. `model.compile_metrics` will be empty until you train or evaluate the model.\n",
      "INFO:tensorflow:Assets written to: ./logs/NONIID-B600-E5-C0.1-MNIST-CNN-LR0.1/assets\n"
     ]
    },
    {
     "name": "stderr",
     "output_type": "stream",
     "text": [
      " 20%|██        | 60/300 [35:49<2:16:28, 34.12s/it]"
     ]
    },
    {
     "name": "stdout",
     "output_type": "stream",
     "text": [
      "{'C': 0.1, 'B': 600, 'learning_rate': 0.1, 'comm_round': 60, 'train_acc': 0.9048, 'test_acc': 0.9112, 'train_loss': 0.3093, 'test_loss': 0.2953}\n",
      "WARNING:tensorflow:Compiled the loaded model, but the compiled metrics have yet to be built. `model.compile_metrics` will be empty until you train or evaluate the model.\n",
      "INFO:tensorflow:Assets written to: ./logs/NONIID-B600-E5-C0.1-MNIST-CNN-LR0.1/assets\n"
     ]
    },
    {
     "name": "stderr",
     "output_type": "stream",
     "text": [
      " 20%|██        | 61/300 [36:22<2:15:39, 34.06s/it]"
     ]
    },
    {
     "name": "stdout",
     "output_type": "stream",
     "text": [
      "{'C': 0.1, 'B': 600, 'learning_rate': 0.1, 'comm_round': 61, 'train_acc': 0.9243, 'test_acc': 0.9291, 'train_loss': 0.2555, 'test_loss': 0.2398}\n",
      "WARNING:tensorflow:Compiled the loaded model, but the compiled metrics have yet to be built. `model.compile_metrics` will be empty until you train or evaluate the model.\n",
      "INFO:tensorflow:Assets written to: ./logs/NONIID-B600-E5-C0.1-MNIST-CNN-LR0.1/assets\n"
     ]
    },
    {
     "name": "stderr",
     "output_type": "stream",
     "text": [
      " 21%|██        | 62/300 [36:57<2:15:37, 34.19s/it]"
     ]
    },
    {
     "name": "stdout",
     "output_type": "stream",
     "text": [
      "{'C': 0.1, 'B': 600, 'learning_rate': 0.1, 'comm_round': 62, 'train_acc': 0.8552, 'test_acc': 0.8567, 'train_loss': 0.4251, 'test_loss': 0.4082}\n",
      "WARNING:tensorflow:Compiled the loaded model, but the compiled metrics have yet to be built. `model.compile_metrics` will be empty until you train or evaluate the model.\n",
      "INFO:tensorflow:Assets written to: ./logs/NONIID-B600-E5-C0.1-MNIST-CNN-LR0.1/assets\n"
     ]
    },
    {
     "name": "stderr",
     "output_type": "stream",
     "text": [
      " 21%|██        | 63/300 [37:30<2:13:11, 33.72s/it]"
     ]
    },
    {
     "name": "stdout",
     "output_type": "stream",
     "text": [
      "{'C': 0.1, 'B': 600, 'learning_rate': 0.1, 'comm_round': 63, 'train_acc': 0.9026, 'test_acc': 0.9081, 'train_loss': 0.3126, 'test_loss': 0.2937}\n",
      "WARNING:tensorflow:Compiled the loaded model, but the compiled metrics have yet to be built. `model.compile_metrics` will be empty until you train or evaluate the model.\n",
      "INFO:tensorflow:Assets written to: ./logs/NONIID-B600-E5-C0.1-MNIST-CNN-LR0.1/assets\n"
     ]
    },
    {
     "name": "stderr",
     "output_type": "stream",
     "text": [
      " 21%|██▏       | 64/300 [38:03<2:12:06, 33.59s/it]"
     ]
    },
    {
     "name": "stdout",
     "output_type": "stream",
     "text": [
      "{'C': 0.1, 'B': 600, 'learning_rate': 0.1, 'comm_round': 64, 'train_acc': 0.8714, 'test_acc': 0.8801, 'train_loss': 0.3859, 'test_loss': 0.3652}\n",
      "WARNING:tensorflow:Compiled the loaded model, but the compiled metrics have yet to be built. `model.compile_metrics` will be empty until you train or evaluate the model.\n",
      "INFO:tensorflow:Assets written to: ./logs/NONIID-B600-E5-C0.1-MNIST-CNN-LR0.1/assets\n"
     ]
    },
    {
     "name": "stderr",
     "output_type": "stream",
     "text": [
      " 22%|██▏       | 65/300 [38:36<2:11:25, 33.55s/it]"
     ]
    },
    {
     "name": "stdout",
     "output_type": "stream",
     "text": [
      "{'C': 0.1, 'B': 600, 'learning_rate': 0.1, 'comm_round': 65, 'train_acc': 0.9034, 'test_acc': 0.9091, 'train_loss': 0.2914, 'test_loss': 0.2793}\n",
      "WARNING:tensorflow:Compiled the loaded model, but the compiled metrics have yet to be built. `model.compile_metrics` will be empty until you train or evaluate the model.\n",
      "INFO:tensorflow:Assets written to: ./logs/NONIID-B600-E5-C0.1-MNIST-CNN-LR0.1/assets\n"
     ]
    },
    {
     "name": "stderr",
     "output_type": "stream",
     "text": [
      " 22%|██▏       | 66/300 [39:10<2:10:30, 33.46s/it]"
     ]
    },
    {
     "name": "stdout",
     "output_type": "stream",
     "text": [
      "{'C': 0.1, 'B': 600, 'learning_rate': 0.1, 'comm_round': 66, 'train_acc': 0.907, 'test_acc': 0.9122, 'train_loss': 0.2847, 'test_loss': 0.2713}\n",
      "WARNING:tensorflow:Compiled the loaded model, but the compiled metrics have yet to be built. `model.compile_metrics` will be empty until you train or evaluate the model.\n",
      "INFO:tensorflow:Assets written to: ./logs/NONIID-B600-E5-C0.1-MNIST-CNN-LR0.1/assets\n"
     ]
    },
    {
     "name": "stderr",
     "output_type": "stream",
     "text": [
      " 22%|██▏       | 67/300 [39:42<2:09:08, 33.25s/it]"
     ]
    },
    {
     "name": "stdout",
     "output_type": "stream",
     "text": [
      "{'C': 0.1, 'B': 600, 'learning_rate': 0.1, 'comm_round': 67, 'train_acc': 0.9213, 'test_acc': 0.9265, 'train_loss': 0.254, 'test_loss': 0.2353}\n",
      "WARNING:tensorflow:Compiled the loaded model, but the compiled metrics have yet to be built. `model.compile_metrics` will be empty until you train or evaluate the model.\n",
      "INFO:tensorflow:Assets written to: ./logs/NONIID-B600-E5-C0.1-MNIST-CNN-LR0.1/assets\n"
     ]
    },
    {
     "name": "stderr",
     "output_type": "stream",
     "text": [
      " 23%|██▎       | 68/300 [40:16<2:08:36, 33.26s/it]"
     ]
    },
    {
     "name": "stdout",
     "output_type": "stream",
     "text": [
      "{'C': 0.1, 'B': 600, 'learning_rate': 0.1, 'comm_round': 68, 'train_acc': 0.9134, 'test_acc': 0.9175, 'train_loss': 0.2762, 'test_loss': 0.2604}\n",
      "WARNING:tensorflow:Compiled the loaded model, but the compiled metrics have yet to be built. `model.compile_metrics` will be empty until you train or evaluate the model.\n",
      "INFO:tensorflow:Assets written to: ./logs/NONIID-B600-E5-C0.1-MNIST-CNN-LR0.1/assets\n"
     ]
    },
    {
     "name": "stderr",
     "output_type": "stream",
     "text": [
      " 23%|██▎       | 69/300 [40:49<2:08:09, 33.29s/it]"
     ]
    },
    {
     "name": "stdout",
     "output_type": "stream",
     "text": [
      "{'C': 0.1, 'B': 600, 'learning_rate': 0.1, 'comm_round': 69, 'train_acc': 0.9194, 'test_acc': 0.9252, 'train_loss': 0.2633, 'test_loss': 0.2532}\n",
      "WARNING:tensorflow:Compiled the loaded model, but the compiled metrics have yet to be built. `model.compile_metrics` will be empty until you train or evaluate the model.\n",
      "INFO:tensorflow:Assets written to: ./logs/NONIID-B600-E5-C0.1-MNIST-CNN-LR0.1/assets\n"
     ]
    },
    {
     "name": "stderr",
     "output_type": "stream",
     "text": [
      " 23%|██▎       | 70/300 [41:22<2:07:26, 33.24s/it]"
     ]
    },
    {
     "name": "stdout",
     "output_type": "stream",
     "text": [
      "{'C': 0.1, 'B': 600, 'learning_rate': 0.1, 'comm_round': 70, 'train_acc': 0.9252, 'test_acc': 0.9293, 'train_loss': 0.2491, 'test_loss': 0.2377}\n",
      "WARNING:tensorflow:Compiled the loaded model, but the compiled metrics have yet to be built. `model.compile_metrics` will be empty until you train or evaluate the model.\n",
      "INFO:tensorflow:Assets written to: ./logs/NONIID-B600-E5-C0.1-MNIST-CNN-LR0.1/assets\n"
     ]
    },
    {
     "name": "stderr",
     "output_type": "stream",
     "text": [
      " 24%|██▎       | 71/300 [41:55<2:06:52, 33.24s/it]"
     ]
    },
    {
     "name": "stdout",
     "output_type": "stream",
     "text": [
      "{'C': 0.1, 'B': 600, 'learning_rate': 0.1, 'comm_round': 71, 'train_acc': 0.9262, 'test_acc': 0.9308, 'train_loss': 0.2484, 'test_loss': 0.2362}\n",
      "WARNING:tensorflow:Compiled the loaded model, but the compiled metrics have yet to be built. `model.compile_metrics` will be empty until you train or evaluate the model.\n",
      "INFO:tensorflow:Assets written to: ./logs/NONIID-B600-E5-C0.1-MNIST-CNN-LR0.1/assets\n"
     ]
    },
    {
     "name": "stderr",
     "output_type": "stream",
     "text": [
      " 24%|██▍       | 72/300 [42:31<2:08:51, 33.91s/it]"
     ]
    },
    {
     "name": "stdout",
     "output_type": "stream",
     "text": [
      "{'C': 0.1, 'B': 600, 'learning_rate': 0.1, 'comm_round': 72, 'train_acc': 0.9318, 'test_acc': 0.9354, 'train_loss': 0.2367, 'test_loss': 0.2241}\n",
      "WARNING:tensorflow:Compiled the loaded model, but the compiled metrics have yet to be built. `model.compile_metrics` will be empty until you train or evaluate the model.\n",
      "INFO:tensorflow:Assets written to: ./logs/NONIID-B600-E5-C0.1-MNIST-CNN-LR0.1/assets\n"
     ]
    },
    {
     "name": "stderr",
     "output_type": "stream",
     "text": [
      " 24%|██▍       | 73/300 [43:04<2:07:46, 33.77s/it]"
     ]
    },
    {
     "name": "stdout",
     "output_type": "stream",
     "text": [
      "{'C': 0.1, 'B': 600, 'learning_rate': 0.1, 'comm_round': 73, 'train_acc': 0.924, 'test_acc': 0.9271, 'train_loss': 0.2522, 'test_loss': 0.2443}\n",
      "WARNING:tensorflow:Compiled the loaded model, but the compiled metrics have yet to be built. `model.compile_metrics` will be empty until you train or evaluate the model.\n",
      "INFO:tensorflow:Assets written to: ./logs/NONIID-B600-E5-C0.1-MNIST-CNN-LR0.1/assets\n"
     ]
    },
    {
     "name": "stderr",
     "output_type": "stream",
     "text": [
      " 25%|██▍       | 74/300 [43:39<2:07:52, 33.95s/it]"
     ]
    },
    {
     "name": "stdout",
     "output_type": "stream",
     "text": [
      "{'C': 0.1, 'B': 600, 'learning_rate': 0.1, 'comm_round': 74, 'train_acc': 0.9205, 'test_acc': 0.9261, 'train_loss': 0.2587, 'test_loss': 0.2452}\n",
      "WARNING:tensorflow:Compiled the loaded model, but the compiled metrics have yet to be built. `model.compile_metrics` will be empty until you train or evaluate the model.\n",
      "INFO:tensorflow:Assets written to: ./logs/NONIID-B600-E5-C0.1-MNIST-CNN-LR0.1/assets\n"
     ]
    },
    {
     "name": "stderr",
     "output_type": "stream",
     "text": [
      " 25%|██▌       | 75/300 [44:13<2:08:05, 34.16s/it]"
     ]
    },
    {
     "name": "stdout",
     "output_type": "stream",
     "text": [
      "{'C': 0.1, 'B': 600, 'learning_rate': 0.1, 'comm_round': 75, 'train_acc': 0.9374, 'test_acc': 0.9409, 'train_loss': 0.2226, 'test_loss': 0.2108}\n",
      "WARNING:tensorflow:Compiled the loaded model, but the compiled metrics have yet to be built. `model.compile_metrics` will be empty until you train or evaluate the model.\n",
      "INFO:tensorflow:Assets written to: ./logs/NONIID-B600-E5-C0.1-MNIST-CNN-LR0.1/assets\n"
     ]
    },
    {
     "name": "stderr",
     "output_type": "stream",
     "text": [
      " 25%|██▌       | 76/300 [44:48<2:08:00, 34.29s/it]"
     ]
    },
    {
     "name": "stdout",
     "output_type": "stream",
     "text": [
      "{'C': 0.1, 'B': 600, 'learning_rate': 0.1, 'comm_round': 76, 'train_acc': 0.8964, 'test_acc': 0.9018, 'train_loss': 0.3097, 'test_loss': 0.2987}\n",
      "WARNING:tensorflow:Compiled the loaded model, but the compiled metrics have yet to be built. `model.compile_metrics` will be empty until you train or evaluate the model.\n",
      "INFO:tensorflow:Assets written to: ./logs/NONIID-B600-E5-C0.1-MNIST-CNN-LR0.1/assets\n"
     ]
    },
    {
     "name": "stderr",
     "output_type": "stream",
     "text": [
      " 26%|██▌       | 77/300 [45:20<2:04:55, 33.61s/it]"
     ]
    },
    {
     "name": "stdout",
     "output_type": "stream",
     "text": [
      "{'C': 0.1, 'B': 600, 'learning_rate': 0.1, 'comm_round': 77, 'train_acc': 0.9306, 'test_acc': 0.9354, 'train_loss': 0.2342, 'test_loss': 0.225}\n",
      "WARNING:tensorflow:Compiled the loaded model, but the compiled metrics have yet to be built. `model.compile_metrics` will be empty until you train or evaluate the model.\n",
      "INFO:tensorflow:Assets written to: ./logs/NONIID-B600-E5-C0.1-MNIST-CNN-LR0.1/assets\n"
     ]
    },
    {
     "name": "stderr",
     "output_type": "stream",
     "text": [
      " 26%|██▌       | 78/300 [45:52<2:02:33, 33.12s/it]"
     ]
    },
    {
     "name": "stdout",
     "output_type": "stream",
     "text": [
      "{'C': 0.1, 'B': 600, 'learning_rate': 0.1, 'comm_round': 78, 'train_acc': 0.9158, 'test_acc': 0.9209, 'train_loss': 0.2703, 'test_loss': 0.2597}\n",
      "WARNING:tensorflow:Compiled the loaded model, but the compiled metrics have yet to be built. `model.compile_metrics` will be empty until you train or evaluate the model.\n",
      "INFO:tensorflow:Assets written to: ./logs/NONIID-B600-E5-C0.1-MNIST-CNN-LR0.1/assets\n"
     ]
    },
    {
     "name": "stderr",
     "output_type": "stream",
     "text": [
      " 26%|██▋       | 79/300 [46:25<2:01:56, 33.10s/it]"
     ]
    },
    {
     "name": "stdout",
     "output_type": "stream",
     "text": [
      "{'C': 0.1, 'B': 600, 'learning_rate': 0.1, 'comm_round': 79, 'train_acc': 0.9364, 'test_acc': 0.941, 'train_loss': 0.2211, 'test_loss': 0.213}\n",
      "WARNING:tensorflow:Compiled the loaded model, but the compiled metrics have yet to be built. `model.compile_metrics` will be empty until you train or evaluate the model.\n",
      "INFO:tensorflow:Assets written to: ./logs/NONIID-B600-E5-C0.1-MNIST-CNN-LR0.1/assets\n"
     ]
    },
    {
     "name": "stderr",
     "output_type": "stream",
     "text": [
      " 27%|██▋       | 80/300 [46:58<2:01:07, 33.03s/it]"
     ]
    },
    {
     "name": "stdout",
     "output_type": "stream",
     "text": [
      "{'C': 0.1, 'B': 600, 'learning_rate': 0.1, 'comm_round': 80, 'train_acc': 0.934, 'test_acc': 0.9385, 'train_loss': 0.2227, 'test_loss': 0.2139}\n",
      "WARNING:tensorflow:Compiled the loaded model, but the compiled metrics have yet to be built. `model.compile_metrics` will be empty until you train or evaluate the model.\n",
      "INFO:tensorflow:Assets written to: ./logs/NONIID-B600-E5-C0.1-MNIST-CNN-LR0.1/assets\n"
     ]
    },
    {
     "name": "stderr",
     "output_type": "stream",
     "text": [
      " 27%|██▋       | 81/300 [47:30<1:59:54, 32.85s/it]"
     ]
    },
    {
     "name": "stdout",
     "output_type": "stream",
     "text": [
      "{'C': 0.1, 'B': 600, 'learning_rate': 0.1, 'comm_round': 81, 'train_acc': 0.8912, 'test_acc': 0.8935, 'train_loss': 0.3238, 'test_loss': 0.319}\n",
      "WARNING:tensorflow:Compiled the loaded model, but the compiled metrics have yet to be built. `model.compile_metrics` will be empty until you train or evaluate the model.\n",
      "INFO:tensorflow:Assets written to: ./logs/NONIID-B600-E5-C0.1-MNIST-CNN-LR0.1/assets\n"
     ]
    },
    {
     "name": "stderr",
     "output_type": "stream",
     "text": [
      " 27%|██▋       | 82/300 [48:04<2:00:16, 33.10s/it]"
     ]
    },
    {
     "name": "stdout",
     "output_type": "stream",
     "text": [
      "{'C': 0.1, 'B': 600, 'learning_rate': 0.1, 'comm_round': 82, 'train_acc': 0.9192, 'test_acc': 0.9218, 'train_loss': 0.2617, 'test_loss': 0.2521}\n",
      "WARNING:tensorflow:Compiled the loaded model, but the compiled metrics have yet to be built. `model.compile_metrics` will be empty until you train or evaluate the model.\n",
      "INFO:tensorflow:Assets written to: ./logs/NONIID-B600-E5-C0.1-MNIST-CNN-LR0.1/assets\n"
     ]
    },
    {
     "name": "stderr",
     "output_type": "stream",
     "text": [
      " 28%|██▊       | 83/300 [48:39<2:02:21, 33.83s/it]"
     ]
    },
    {
     "name": "stdout",
     "output_type": "stream",
     "text": [
      "{'C': 0.1, 'B': 600, 'learning_rate': 0.1, 'comm_round': 83, 'train_acc': 0.928, 'test_acc': 0.9305, 'train_loss': 0.2467, 'test_loss': 0.2402}\n",
      "WARNING:tensorflow:Compiled the loaded model, but the compiled metrics have yet to be built. `model.compile_metrics` will be empty until you train or evaluate the model.\n",
      "INFO:tensorflow:Assets written to: ./logs/NONIID-B600-E5-C0.1-MNIST-CNN-LR0.1/assets\n"
     ]
    },
    {
     "name": "stderr",
     "output_type": "stream",
     "text": [
      " 28%|██▊       | 84/300 [49:17<2:05:47, 34.94s/it]"
     ]
    },
    {
     "name": "stdout",
     "output_type": "stream",
     "text": [
      "{'C': 0.1, 'B': 600, 'learning_rate': 0.1, 'comm_round': 84, 'train_acc': 0.935, 'test_acc': 0.9385, 'train_loss': 0.222, 'test_loss': 0.2128}\n",
      "WARNING:tensorflow:Compiled the loaded model, but the compiled metrics have yet to be built. `model.compile_metrics` will be empty until you train or evaluate the model.\n",
      "INFO:tensorflow:Assets written to: ./logs/NONIID-B600-E5-C0.1-MNIST-CNN-LR0.1/assets\n"
     ]
    },
    {
     "name": "stderr",
     "output_type": "stream",
     "text": [
      " 28%|██▊       | 85/300 [49:51<2:03:59, 34.60s/it]"
     ]
    },
    {
     "name": "stdout",
     "output_type": "stream",
     "text": [
      "{'C': 0.1, 'B': 600, 'learning_rate': 0.1, 'comm_round': 85, 'train_acc': 0.9314, 'test_acc': 0.9349, 'train_loss': 0.2414, 'test_loss': 0.2309}\n",
      "WARNING:tensorflow:Compiled the loaded model, but the compiled metrics have yet to be built. `model.compile_metrics` will be empty until you train or evaluate the model.\n",
      "INFO:tensorflow:Assets written to: ./logs/NONIID-B600-E5-C0.1-MNIST-CNN-LR0.1/assets\n"
     ]
    },
    {
     "name": "stderr",
     "output_type": "stream",
     "text": [
      " 29%|██▊       | 86/300 [50:23<2:01:12, 33.98s/it]"
     ]
    },
    {
     "name": "stdout",
     "output_type": "stream",
     "text": [
      "{'C': 0.1, 'B': 600, 'learning_rate': 0.1, 'comm_round': 86, 'train_acc': 0.9416, 'test_acc': 0.9435, 'train_loss': 0.2101, 'test_loss': 0.2013}\n",
      "WARNING:tensorflow:Compiled the loaded model, but the compiled metrics have yet to be built. `model.compile_metrics` will be empty until you train or evaluate the model.\n",
      "INFO:tensorflow:Assets written to: ./logs/NONIID-B600-E5-C0.1-MNIST-CNN-LR0.1/assets\n"
     ]
    },
    {
     "name": "stderr",
     "output_type": "stream",
     "text": [
      " 29%|██▉       | 87/300 [50:56<1:59:39, 33.71s/it]"
     ]
    },
    {
     "name": "stdout",
     "output_type": "stream",
     "text": [
      "{'C': 0.1, 'B': 600, 'learning_rate': 0.1, 'comm_round': 87, 'train_acc': 0.8707, 'test_acc': 0.8771, 'train_loss': 0.361, 'test_loss': 0.3532}\n",
      "WARNING:tensorflow:Compiled the loaded model, but the compiled metrics have yet to be built. `model.compile_metrics` will be empty until you train or evaluate the model.\n",
      "INFO:tensorflow:Assets written to: ./logs/NONIID-B600-E5-C0.1-MNIST-CNN-LR0.1/assets\n"
     ]
    },
    {
     "name": "stderr",
     "output_type": "stream",
     "text": [
      " 29%|██▉       | 88/300 [51:29<1:58:00, 33.40s/it]"
     ]
    },
    {
     "name": "stdout",
     "output_type": "stream",
     "text": [
      "{'C': 0.1, 'B': 600, 'learning_rate': 0.1, 'comm_round': 88, 'train_acc': 0.8798, 'test_acc': 0.8904, 'train_loss': 0.3388, 'test_loss': 0.3232}\n",
      "WARNING:tensorflow:Compiled the loaded model, but the compiled metrics have yet to be built. `model.compile_metrics` will be empty until you train or evaluate the model.\n",
      "INFO:tensorflow:Assets written to: ./logs/NONIID-B600-E5-C0.1-MNIST-CNN-LR0.1/assets\n"
     ]
    },
    {
     "name": "stderr",
     "output_type": "stream",
     "text": [
      " 30%|██▉       | 89/300 [52:02<1:57:21, 33.37s/it]"
     ]
    },
    {
     "name": "stdout",
     "output_type": "stream",
     "text": [
      "{'C': 0.1, 'B': 600, 'learning_rate': 0.1, 'comm_round': 89, 'train_acc': 0.9365, 'test_acc': 0.9396, 'train_loss': 0.218, 'test_loss': 0.2054}\n",
      "WARNING:tensorflow:Compiled the loaded model, but the compiled metrics have yet to be built. `model.compile_metrics` will be empty until you train or evaluate the model.\n",
      "INFO:tensorflow:Assets written to: ./logs/NONIID-B600-E5-C0.1-MNIST-CNN-LR0.1/assets\n"
     ]
    },
    {
     "name": "stderr",
     "output_type": "stream",
     "text": [
      " 30%|███       | 90/300 [52:35<1:55:59, 33.14s/it]"
     ]
    },
    {
     "name": "stdout",
     "output_type": "stream",
     "text": [
      "{'C': 0.1, 'B': 600, 'learning_rate': 0.1, 'comm_round': 90, 'train_acc': 0.9246, 'test_acc': 0.9332, 'train_loss': 0.2395, 'test_loss': 0.219}\n",
      "WARNING:tensorflow:Compiled the loaded model, but the compiled metrics have yet to be built. `model.compile_metrics` will be empty until you train or evaluate the model.\n",
      "INFO:tensorflow:Assets written to: ./logs/NONIID-B600-E5-C0.1-MNIST-CNN-LR0.1/assets\n"
     ]
    },
    {
     "name": "stderr",
     "output_type": "stream",
     "text": [
      " 30%|███       | 91/300 [53:07<1:54:22, 32.84s/it]"
     ]
    },
    {
     "name": "stdout",
     "output_type": "stream",
     "text": [
      "{'C': 0.1, 'B': 600, 'learning_rate': 0.1, 'comm_round': 91, 'train_acc': 0.9092, 'test_acc': 0.9133, 'train_loss': 0.2821, 'test_loss': 0.2702}\n",
      "WARNING:tensorflow:Compiled the loaded model, but the compiled metrics have yet to be built. `model.compile_metrics` will be empty until you train or evaluate the model.\n",
      "INFO:tensorflow:Assets written to: ./logs/NONIID-B600-E5-C0.1-MNIST-CNN-LR0.1/assets\n"
     ]
    },
    {
     "name": "stderr",
     "output_type": "stream",
     "text": [
      " 31%|███       | 92/300 [53:40<1:53:55, 32.86s/it]"
     ]
    },
    {
     "name": "stdout",
     "output_type": "stream",
     "text": [
      "{'C': 0.1, 'B': 600, 'learning_rate': 0.1, 'comm_round': 92, 'train_acc': 0.9316, 'test_acc': 0.9396, 'train_loss': 0.2212, 'test_loss': 0.2027}\n",
      "WARNING:tensorflow:Compiled the loaded model, but the compiled metrics have yet to be built. `model.compile_metrics` will be empty until you train or evaluate the model.\n",
      "INFO:tensorflow:Assets written to: ./logs/NONIID-B600-E5-C0.1-MNIST-CNN-LR0.1/assets\n"
     ]
    },
    {
     "name": "stderr",
     "output_type": "stream",
     "text": [
      " 31%|███       | 93/300 [54:12<1:52:55, 32.73s/it]"
     ]
    },
    {
     "name": "stdout",
     "output_type": "stream",
     "text": [
      "{'C': 0.1, 'B': 600, 'learning_rate': 0.1, 'comm_round': 93, 'train_acc': 0.936, 'test_acc': 0.9388, 'train_loss': 0.2232, 'test_loss': 0.2153}\n",
      "WARNING:tensorflow:Compiled the loaded model, but the compiled metrics have yet to be built. `model.compile_metrics` will be empty until you train or evaluate the model.\n",
      "INFO:tensorflow:Assets written to: ./logs/NONIID-B600-E5-C0.1-MNIST-CNN-LR0.1/assets\n"
     ]
    },
    {
     "name": "stderr",
     "output_type": "stream",
     "text": [
      " 31%|███▏      | 94/300 [54:45<1:52:07, 32.66s/it]"
     ]
    },
    {
     "name": "stdout",
     "output_type": "stream",
     "text": [
      "{'C': 0.1, 'B': 600, 'learning_rate': 0.1, 'comm_round': 94, 'train_acc': 0.9129, 'test_acc': 0.9199, 'train_loss': 0.2675, 'test_loss': 0.2515}\n",
      "WARNING:tensorflow:Compiled the loaded model, but the compiled metrics have yet to be built. `model.compile_metrics` will be empty until you train or evaluate the model.\n",
      "INFO:tensorflow:Assets written to: ./logs/NONIID-B600-E5-C0.1-MNIST-CNN-LR0.1/assets\n"
     ]
    },
    {
     "name": "stderr",
     "output_type": "stream",
     "text": [
      " 32%|███▏      | 95/300 [55:17<1:50:48, 32.43s/it]"
     ]
    },
    {
     "name": "stdout",
     "output_type": "stream",
     "text": [
      "{'C': 0.1, 'B': 600, 'learning_rate': 0.1, 'comm_round': 95, 'train_acc': 0.9318, 'test_acc': 0.9364, 'train_loss': 0.2259, 'test_loss': 0.2145}\n",
      "WARNING:tensorflow:Compiled the loaded model, but the compiled metrics have yet to be built. `model.compile_metrics` will be empty until you train or evaluate the model.\n",
      "INFO:tensorflow:Assets written to: ./logs/NONIID-B600-E5-C0.1-MNIST-CNN-LR0.1/assets\n"
     ]
    },
    {
     "name": "stderr",
     "output_type": "stream",
     "text": [
      " 32%|███▏      | 96/300 [55:50<1:50:59, 32.65s/it]"
     ]
    },
    {
     "name": "stdout",
     "output_type": "stream",
     "text": [
      "{'C': 0.1, 'B': 600, 'learning_rate': 0.1, 'comm_round': 96, 'train_acc': 0.8993, 'test_acc': 0.9018, 'train_loss': 0.3051, 'test_loss': 0.2951}\n",
      "WARNING:tensorflow:Compiled the loaded model, but the compiled metrics have yet to be built. `model.compile_metrics` will be empty until you train or evaluate the model.\n",
      "INFO:tensorflow:Assets written to: ./logs/NONIID-B600-E5-C0.1-MNIST-CNN-LR0.1/assets\n"
     ]
    },
    {
     "name": "stderr",
     "output_type": "stream",
     "text": [
      " 32%|███▏      | 97/300 [56:25<1:52:47, 33.34s/it]"
     ]
    },
    {
     "name": "stdout",
     "output_type": "stream",
     "text": [
      "{'C': 0.1, 'B': 600, 'learning_rate': 0.1, 'comm_round': 97, 'train_acc': 0.9274, 'test_acc': 0.9291, 'train_loss': 0.2402, 'test_loss': 0.2323}\n",
      "WARNING:tensorflow:Compiled the loaded model, but the compiled metrics have yet to be built. `model.compile_metrics` will be empty until you train or evaluate the model.\n",
      "INFO:tensorflow:Assets written to: ./logs/NONIID-B600-E5-C0.1-MNIST-CNN-LR0.1/assets\n"
     ]
    },
    {
     "name": "stderr",
     "output_type": "stream",
     "text": [
      " 33%|███▎      | 98/300 [56:58<1:51:32, 33.13s/it]"
     ]
    },
    {
     "name": "stdout",
     "output_type": "stream",
     "text": [
      "{'C': 0.1, 'B': 600, 'learning_rate': 0.1, 'comm_round': 98, 'train_acc': 0.911, 'test_acc': 0.915, 'train_loss': 0.28, 'test_loss': 0.2717}\n",
      "WARNING:tensorflow:Compiled the loaded model, but the compiled metrics have yet to be built. `model.compile_metrics` will be empty until you train or evaluate the model.\n",
      "INFO:tensorflow:Assets written to: ./logs/NONIID-B600-E5-C0.1-MNIST-CNN-LR0.1/assets\n"
     ]
    },
    {
     "name": "stderr",
     "output_type": "stream",
     "text": [
      " 33%|███▎      | 99/300 [57:30<1:50:11, 32.89s/it]"
     ]
    },
    {
     "name": "stdout",
     "output_type": "stream",
     "text": [
      "{'C': 0.1, 'B': 600, 'learning_rate': 0.1, 'comm_round': 99, 'train_acc': 0.9208, 'test_acc': 0.924, 'train_loss': 0.2648, 'test_loss': 0.2546}\n",
      "WARNING:tensorflow:Compiled the loaded model, but the compiled metrics have yet to be built. `model.compile_metrics` will be empty until you train or evaluate the model.\n",
      "INFO:tensorflow:Assets written to: ./logs/NONIID-B600-E5-C0.1-MNIST-CNN-LR0.1/assets\n"
     ]
    },
    {
     "name": "stderr",
     "output_type": "stream",
     "text": [
      " 33%|███▎      | 100/300 [58:02<1:49:11, 32.76s/it]"
     ]
    },
    {
     "name": "stdout",
     "output_type": "stream",
     "text": [
      "{'C': 0.1, 'B': 600, 'learning_rate': 0.1, 'comm_round': 100, 'train_acc': 0.9254, 'test_acc': 0.9294, 'train_loss': 0.2486, 'test_loss': 0.2406}\n",
      "WARNING:tensorflow:Compiled the loaded model, but the compiled metrics have yet to be built. `model.compile_metrics` will be empty until you train or evaluate the model.\n",
      "INFO:tensorflow:Assets written to: ./logs/NONIID-B600-E5-C0.1-MNIST-CNN-LR0.1/assets\n"
     ]
    },
    {
     "name": "stderr",
     "output_type": "stream",
     "text": [
      " 34%|███▎      | 101/300 [58:36<1:49:32, 33.03s/it]"
     ]
    },
    {
     "name": "stdout",
     "output_type": "stream",
     "text": [
      "{'C': 0.1, 'B': 600, 'learning_rate': 0.1, 'comm_round': 101, 'train_acc': 0.9219, 'test_acc': 0.9255, 'train_loss': 0.2514, 'test_loss': 0.2405}\n",
      "WARNING:tensorflow:Compiled the loaded model, but the compiled metrics have yet to be built. `model.compile_metrics` will be empty until you train or evaluate the model.\n",
      "INFO:tensorflow:Assets written to: ./logs/NONIID-B600-E5-C0.1-MNIST-CNN-LR0.1/assets\n"
     ]
    },
    {
     "name": "stderr",
     "output_type": "stream",
     "text": [
      " 34%|███▍      | 102/300 [59:08<1:48:24, 32.85s/it]"
     ]
    },
    {
     "name": "stdout",
     "output_type": "stream",
     "text": [
      "{'C': 0.1, 'B': 600, 'learning_rate': 0.1, 'comm_round': 102, 'train_acc': 0.9177, 'test_acc': 0.9202, 'train_loss': 0.2642, 'test_loss': 0.2515}\n",
      "WARNING:tensorflow:Compiled the loaded model, but the compiled metrics have yet to be built. `model.compile_metrics` will be empty until you train or evaluate the model.\n",
      "INFO:tensorflow:Assets written to: ./logs/NONIID-B600-E5-C0.1-MNIST-CNN-LR0.1/assets\n"
     ]
    },
    {
     "name": "stderr",
     "output_type": "stream",
     "text": [
      " 34%|███▍      | 103/300 [59:40<1:46:49, 32.54s/it]"
     ]
    },
    {
     "name": "stdout",
     "output_type": "stream",
     "text": [
      "{'C': 0.1, 'B': 600, 'learning_rate': 0.1, 'comm_round': 103, 'train_acc': 0.9396, 'test_acc': 0.9436, 'train_loss': 0.2049, 'test_loss': 0.192}\n",
      "WARNING:tensorflow:Compiled the loaded model, but the compiled metrics have yet to be built. `model.compile_metrics` will be empty until you train or evaluate the model.\n",
      "INFO:tensorflow:Assets written to: ./logs/NONIID-B600-E5-C0.1-MNIST-CNN-LR0.1/assets\n"
     ]
    },
    {
     "name": "stderr",
     "output_type": "stream",
     "text": [
      " 35%|███▍      | 104/300 [1:00:13<1:46:32, 32.61s/it]"
     ]
    },
    {
     "name": "stdout",
     "output_type": "stream",
     "text": [
      "{'C': 0.1, 'B': 600, 'learning_rate': 0.1, 'comm_round': 104, 'train_acc': 0.9244, 'test_acc': 0.9303, 'train_loss': 0.246, 'test_loss': 0.2382}\n",
      "WARNING:tensorflow:Compiled the loaded model, but the compiled metrics have yet to be built. `model.compile_metrics` will be empty until you train or evaluate the model.\n",
      "INFO:tensorflow:Assets written to: ./logs/NONIID-B600-E5-C0.1-MNIST-CNN-LR0.1/assets\n"
     ]
    },
    {
     "name": "stderr",
     "output_type": "stream",
     "text": [
      " 35%|███▌      | 105/300 [1:00:46<1:46:19, 32.72s/it]"
     ]
    },
    {
     "name": "stdout",
     "output_type": "stream",
     "text": [
      "{'C': 0.1, 'B': 600, 'learning_rate': 0.1, 'comm_round': 105, 'train_acc': 0.917, 'test_acc': 0.9216, 'train_loss': 0.2718, 'test_loss': 0.2604}\n",
      "WARNING:tensorflow:Compiled the loaded model, but the compiled metrics have yet to be built. `model.compile_metrics` will be empty until you train or evaluate the model.\n",
      "INFO:tensorflow:Assets written to: ./logs/NONIID-B600-E5-C0.1-MNIST-CNN-LR0.1/assets\n"
     ]
    },
    {
     "name": "stderr",
     "output_type": "stream",
     "text": [
      " 35%|███▌      | 106/300 [1:01:18<1:44:55, 32.45s/it]"
     ]
    },
    {
     "name": "stdout",
     "output_type": "stream",
     "text": [
      "{'C': 0.1, 'B': 600, 'learning_rate': 0.1, 'comm_round': 106, 'train_acc': 0.9121, 'test_acc': 0.9169, 'train_loss': 0.2822, 'test_loss': 0.2738}\n",
      "WARNING:tensorflow:Compiled the loaded model, but the compiled metrics have yet to be built. `model.compile_metrics` will be empty until you train or evaluate the model.\n",
      "INFO:tensorflow:Assets written to: ./logs/NONIID-B600-E5-C0.1-MNIST-CNN-LR0.1/assets\n"
     ]
    },
    {
     "name": "stderr",
     "output_type": "stream",
     "text": [
      " 36%|███▌      | 107/300 [1:01:50<1:44:24, 32.46s/it]"
     ]
    },
    {
     "name": "stdout",
     "output_type": "stream",
     "text": [
      "{'C': 0.1, 'B': 600, 'learning_rate': 0.1, 'comm_round': 107, 'train_acc': 0.9313, 'test_acc': 0.9378, 'train_loss': 0.2253, 'test_loss': 0.212}\n",
      "WARNING:tensorflow:Compiled the loaded model, but the compiled metrics have yet to be built. `model.compile_metrics` will be empty until you train or evaluate the model.\n",
      "INFO:tensorflow:Assets written to: ./logs/NONIID-B600-E5-C0.1-MNIST-CNN-LR0.1/assets\n"
     ]
    },
    {
     "name": "stderr",
     "output_type": "stream",
     "text": [
      " 36%|███▌      | 108/300 [1:02:23<1:43:40, 32.40s/it]"
     ]
    },
    {
     "name": "stdout",
     "output_type": "stream",
     "text": [
      "{'C': 0.1, 'B': 600, 'learning_rate': 0.1, 'comm_round': 108, 'train_acc': 0.9358, 'test_acc': 0.9398, 'train_loss': 0.2182, 'test_loss': 0.2094}\n",
      "WARNING:tensorflow:Compiled the loaded model, but the compiled metrics have yet to be built. `model.compile_metrics` will be empty until you train or evaluate the model.\n",
      "INFO:tensorflow:Assets written to: ./logs/NONIID-B600-E5-C0.1-MNIST-CNN-LR0.1/assets\n"
     ]
    },
    {
     "name": "stderr",
     "output_type": "stream",
     "text": [
      " 36%|███▋      | 109/300 [1:02:55<1:43:04, 32.38s/it]"
     ]
    },
    {
     "name": "stdout",
     "output_type": "stream",
     "text": [
      "{'C': 0.1, 'B': 600, 'learning_rate': 0.1, 'comm_round': 109, 'train_acc': 0.8447, 'test_acc': 0.8479, 'train_loss': 0.4382, 'test_loss': 0.4316}\n",
      "WARNING:tensorflow:Compiled the loaded model, but the compiled metrics have yet to be built. `model.compile_metrics` will be empty until you train or evaluate the model.\n",
      "INFO:tensorflow:Assets written to: ./logs/NONIID-B600-E5-C0.1-MNIST-CNN-LR0.1/assets\n"
     ]
    },
    {
     "name": "stderr",
     "output_type": "stream",
     "text": [
      " 37%|███▋      | 110/300 [1:03:27<1:42:28, 32.36s/it]"
     ]
    },
    {
     "name": "stdout",
     "output_type": "stream",
     "text": [
      "{'C': 0.1, 'B': 600, 'learning_rate': 0.1, 'comm_round': 110, 'train_acc': 0.9498, 'test_acc': 0.9521, 'train_loss': 0.1884, 'test_loss': 0.1803}\n",
      "WARNING:tensorflow:Compiled the loaded model, but the compiled metrics have yet to be built. `model.compile_metrics` will be empty until you train or evaluate the model.\n",
      "INFO:tensorflow:Assets written to: ./logs/NONIID-B600-E5-C0.1-MNIST-CNN-LR0.1/assets\n"
     ]
    },
    {
     "name": "stderr",
     "output_type": "stream",
     "text": [
      " 37%|███▋      | 111/300 [1:03:59<1:41:39, 32.27s/it]"
     ]
    },
    {
     "name": "stdout",
     "output_type": "stream",
     "text": [
      "{'C': 0.1, 'B': 600, 'learning_rate': 0.1, 'comm_round': 111, 'train_acc': 0.8487, 'test_acc': 0.8507, 'train_loss': 0.4434, 'test_loss': 0.43}\n",
      "WARNING:tensorflow:Compiled the loaded model, but the compiled metrics have yet to be built. `model.compile_metrics` will be empty until you train or evaluate the model.\n",
      "INFO:tensorflow:Assets written to: ./logs/NONIID-B600-E5-C0.1-MNIST-CNN-LR0.1/assets\n"
     ]
    },
    {
     "name": "stderr",
     "output_type": "stream",
     "text": [
      " 37%|███▋      | 112/300 [1:04:32<1:41:18, 32.33s/it]"
     ]
    },
    {
     "name": "stdout",
     "output_type": "stream",
     "text": [
      "{'C': 0.1, 'B': 600, 'learning_rate': 0.1, 'comm_round': 112, 'train_acc': 0.9473, 'test_acc': 0.9511, 'train_loss': 0.1989, 'test_loss': 0.19}\n",
      "WARNING:tensorflow:Compiled the loaded model, but the compiled metrics have yet to be built. `model.compile_metrics` will be empty until you train or evaluate the model.\n",
      "INFO:tensorflow:Assets written to: ./logs/NONIID-B600-E5-C0.1-MNIST-CNN-LR0.1/assets\n"
     ]
    },
    {
     "name": "stderr",
     "output_type": "stream",
     "text": [
      " 38%|███▊      | 113/300 [1:05:06<1:42:20, 32.84s/it]"
     ]
    },
    {
     "name": "stdout",
     "output_type": "stream",
     "text": [
      "{'C': 0.1, 'B': 600, 'learning_rate': 0.1, 'comm_round': 113, 'train_acc': 0.937, 'test_acc': 0.9415, 'train_loss': 0.2118, 'test_loss': 0.2013}\n",
      "WARNING:tensorflow:Compiled the loaded model, but the compiled metrics have yet to be built. `model.compile_metrics` will be empty until you train or evaluate the model.\n",
      "INFO:tensorflow:Assets written to: ./logs/NONIID-B600-E5-C0.1-MNIST-CNN-LR0.1/assets\n"
     ]
    },
    {
     "name": "stderr",
     "output_type": "stream",
     "text": [
      " 38%|███▊      | 114/300 [1:05:38<1:40:57, 32.57s/it]"
     ]
    },
    {
     "name": "stdout",
     "output_type": "stream",
     "text": [
      "{'C': 0.1, 'B': 600, 'learning_rate': 0.1, 'comm_round': 114, 'train_acc': 0.9406, 'test_acc': 0.9442, 'train_loss': 0.2036, 'test_loss': 0.1956}\n",
      "WARNING:tensorflow:Compiled the loaded model, but the compiled metrics have yet to be built. `model.compile_metrics` will be empty until you train or evaluate the model.\n",
      "INFO:tensorflow:Assets written to: ./logs/NONIID-B600-E5-C0.1-MNIST-CNN-LR0.1/assets\n"
     ]
    },
    {
     "name": "stderr",
     "output_type": "stream",
     "text": [
      " 38%|███▊      | 115/300 [1:06:10<1:39:56, 32.41s/it]"
     ]
    },
    {
     "name": "stdout",
     "output_type": "stream",
     "text": [
      "{'C': 0.1, 'B': 600, 'learning_rate': 0.1, 'comm_round': 115, 'train_acc': 0.9007, 'test_acc': 0.9038, 'train_loss': 0.2967, 'test_loss': 0.2841}\n",
      "WARNING:tensorflow:Compiled the loaded model, but the compiled metrics have yet to be built. `model.compile_metrics` will be empty until you train or evaluate the model.\n",
      "INFO:tensorflow:Assets written to: ./logs/NONIID-B600-E5-C0.1-MNIST-CNN-LR0.1/assets\n"
     ]
    },
    {
     "name": "stderr",
     "output_type": "stream",
     "text": [
      " 39%|███▊      | 116/300 [1:06:43<1:40:28, 32.76s/it]"
     ]
    },
    {
     "name": "stdout",
     "output_type": "stream",
     "text": [
      "{'C': 0.1, 'B': 600, 'learning_rate': 0.1, 'comm_round': 116, 'train_acc': 0.8976, 'test_acc': 0.9049, 'train_loss': 0.2951, 'test_loss': 0.2845}\n",
      "WARNING:tensorflow:Compiled the loaded model, but the compiled metrics have yet to be built. `model.compile_metrics` will be empty until you train or evaluate the model.\n",
      "INFO:tensorflow:Assets written to: ./logs/NONIID-B600-E5-C0.1-MNIST-CNN-LR0.1/assets\n"
     ]
    },
    {
     "name": "stderr",
     "output_type": "stream",
     "text": [
      " 39%|███▉      | 117/300 [1:07:16<1:39:48, 32.72s/it]"
     ]
    },
    {
     "name": "stdout",
     "output_type": "stream",
     "text": [
      "{'C': 0.1, 'B': 600, 'learning_rate': 0.1, 'comm_round': 117, 'train_acc': 0.9154, 'test_acc': 0.9203, 'train_loss': 0.2702, 'test_loss': 0.259}\n",
      "WARNING:tensorflow:Compiled the loaded model, but the compiled metrics have yet to be built. `model.compile_metrics` will be empty until you train or evaluate the model.\n",
      "INFO:tensorflow:Assets written to: ./logs/NONIID-B600-E5-C0.1-MNIST-CNN-LR0.1/assets\n"
     ]
    },
    {
     "name": "stderr",
     "output_type": "stream",
     "text": [
      " 39%|███▉      | 118/300 [1:07:50<1:40:12, 33.03s/it]"
     ]
    },
    {
     "name": "stdout",
     "output_type": "stream",
     "text": [
      "{'C': 0.1, 'B': 600, 'learning_rate': 0.1, 'comm_round': 118, 'train_acc': 0.8917, 'test_acc': 0.8981, 'train_loss': 0.3142, 'test_loss': 0.3081}\n",
      "WARNING:tensorflow:Compiled the loaded model, but the compiled metrics have yet to be built. `model.compile_metrics` will be empty until you train or evaluate the model.\n",
      "INFO:tensorflow:Assets written to: ./logs/NONIID-B600-E5-C0.1-MNIST-CNN-LR0.1/assets\n"
     ]
    },
    {
     "name": "stderr",
     "output_type": "stream",
     "text": [
      " 40%|███▉      | 119/300 [1:08:25<1:41:37, 33.69s/it]"
     ]
    },
    {
     "name": "stdout",
     "output_type": "stream",
     "text": [
      "{'C': 0.1, 'B': 600, 'learning_rate': 0.1, 'comm_round': 119, 'train_acc': 0.9309, 'test_acc': 0.9346, 'train_loss': 0.2261, 'test_loss': 0.2155}\n",
      "WARNING:tensorflow:Compiled the loaded model, but the compiled metrics have yet to be built. `model.compile_metrics` will be empty until you train or evaluate the model.\n",
      "INFO:tensorflow:Assets written to: ./logs/NONIID-B600-E5-C0.1-MNIST-CNN-LR0.1/assets\n"
     ]
    },
    {
     "name": "stderr",
     "output_type": "stream",
     "text": [
      " 40%|████      | 120/300 [1:08:58<1:40:48, 33.60s/it]"
     ]
    },
    {
     "name": "stdout",
     "output_type": "stream",
     "text": [
      "{'C': 0.1, 'B': 600, 'learning_rate': 0.1, 'comm_round': 120, 'train_acc': 0.9448, 'test_acc': 0.9477, 'train_loss': 0.1969, 'test_loss': 0.1879}\n",
      "WARNING:tensorflow:Compiled the loaded model, but the compiled metrics have yet to be built. `model.compile_metrics` will be empty until you train or evaluate the model.\n",
      "INFO:tensorflow:Assets written to: ./logs/NONIID-B600-E5-C0.1-MNIST-CNN-LR0.1/assets\n"
     ]
    },
    {
     "name": "stderr",
     "output_type": "stream",
     "text": [
      " 40%|████      | 121/300 [1:09:32<1:39:57, 33.50s/it]"
     ]
    },
    {
     "name": "stdout",
     "output_type": "stream",
     "text": [
      "{'C': 0.1, 'B': 600, 'learning_rate': 0.1, 'comm_round': 121, 'train_acc': 0.9303, 'test_acc': 0.9348, 'train_loss': 0.2331, 'test_loss': 0.2198}\n",
      "WARNING:tensorflow:Compiled the loaded model, but the compiled metrics have yet to be built. `model.compile_metrics` will be empty until you train or evaluate the model.\n",
      "INFO:tensorflow:Assets written to: ./logs/NONIID-B600-E5-C0.1-MNIST-CNN-LR0.1/assets\n"
     ]
    },
    {
     "name": "stderr",
     "output_type": "stream",
     "text": [
      " 41%|████      | 122/300 [1:10:06<1:39:50, 33.66s/it]"
     ]
    },
    {
     "name": "stdout",
     "output_type": "stream",
     "text": [
      "{'C': 0.1, 'B': 600, 'learning_rate': 0.1, 'comm_round': 122, 'train_acc': 0.8592, 'test_acc': 0.8617, 'train_loss': 0.407, 'test_loss': 0.401}\n",
      "WARNING:tensorflow:Compiled the loaded model, but the compiled metrics have yet to be built. `model.compile_metrics` will be empty until you train or evaluate the model.\n",
      "INFO:tensorflow:Assets written to: ./logs/NONIID-B600-E5-C0.1-MNIST-CNN-LR0.1/assets\n"
     ]
    },
    {
     "name": "stderr",
     "output_type": "stream",
     "text": [
      " 41%|████      | 123/300 [1:10:40<1:39:59, 33.89s/it]"
     ]
    },
    {
     "name": "stdout",
     "output_type": "stream",
     "text": [
      "{'C': 0.1, 'B': 600, 'learning_rate': 0.1, 'comm_round': 123, 'train_acc': 0.8993, 'test_acc': 0.906, 'train_loss': 0.2965, 'test_loss': 0.277}\n",
      "WARNING:tensorflow:Compiled the loaded model, but the compiled metrics have yet to be built. `model.compile_metrics` will be empty until you train or evaluate the model.\n",
      "INFO:tensorflow:Assets written to: ./logs/NONIID-B600-E5-C0.1-MNIST-CNN-LR0.1/assets\n"
     ]
    },
    {
     "name": "stderr",
     "output_type": "stream",
     "text": [
      " 41%|████▏     | 124/300 [1:11:16<1:40:56, 34.41s/it]"
     ]
    },
    {
     "name": "stdout",
     "output_type": "stream",
     "text": [
      "{'C': 0.1, 'B': 600, 'learning_rate': 0.1, 'comm_round': 124, 'train_acc': 0.9304, 'test_acc': 0.9371, 'train_loss': 0.2219, 'test_loss': 0.2053}\n",
      "WARNING:tensorflow:Compiled the loaded model, but the compiled metrics have yet to be built. `model.compile_metrics` will be empty until you train or evaluate the model.\n",
      "INFO:tensorflow:Assets written to: ./logs/NONIID-B600-E5-C0.1-MNIST-CNN-LR0.1/assets\n"
     ]
    },
    {
     "name": "stderr",
     "output_type": "stream",
     "text": [
      " 42%|████▏     | 125/300 [1:11:51<1:41:15, 34.72s/it]"
     ]
    },
    {
     "name": "stdout",
     "output_type": "stream",
     "text": [
      "{'C': 0.1, 'B': 600, 'learning_rate': 0.1, 'comm_round': 125, 'train_acc': 0.9346, 'test_acc': 0.9396, 'train_loss': 0.2104, 'test_loss': 0.1948}\n",
      "WARNING:tensorflow:Compiled the loaded model, but the compiled metrics have yet to be built. `model.compile_metrics` will be empty until you train or evaluate the model.\n",
      "INFO:tensorflow:Assets written to: ./logs/NONIID-B600-E5-C0.1-MNIST-CNN-LR0.1/assets\n"
     ]
    },
    {
     "name": "stderr",
     "output_type": "stream",
     "text": [
      " 42%|████▏     | 126/300 [1:12:26<1:40:32, 34.67s/it]"
     ]
    },
    {
     "name": "stdout",
     "output_type": "stream",
     "text": [
      "{'C': 0.1, 'B': 600, 'learning_rate': 0.1, 'comm_round': 126, 'train_acc': 0.9051, 'test_acc': 0.9087, 'train_loss': 0.2792, 'test_loss': 0.2703}\n",
      "WARNING:tensorflow:Compiled the loaded model, but the compiled metrics have yet to be built. `model.compile_metrics` will be empty until you train or evaluate the model.\n",
      "INFO:tensorflow:Assets written to: ./logs/NONIID-B600-E5-C0.1-MNIST-CNN-LR0.1/assets\n"
     ]
    },
    {
     "name": "stderr",
     "output_type": "stream",
     "text": [
      " 42%|████▏     | 127/300 [1:12:59<1:38:45, 34.25s/it]"
     ]
    },
    {
     "name": "stdout",
     "output_type": "stream",
     "text": [
      "{'C': 0.1, 'B': 600, 'learning_rate': 0.1, 'comm_round': 127, 'train_acc': 0.9383, 'test_acc': 0.943, 'train_loss': 0.2051, 'test_loss': 0.1964}\n",
      "WARNING:tensorflow:Compiled the loaded model, but the compiled metrics have yet to be built. `model.compile_metrics` will be empty until you train or evaluate the model.\n",
      "INFO:tensorflow:Assets written to: ./logs/NONIID-B600-E5-C0.1-MNIST-CNN-LR0.1/assets\n"
     ]
    },
    {
     "name": "stderr",
     "output_type": "stream",
     "text": [
      " 43%|████▎     | 128/300 [1:13:34<1:38:30, 34.37s/it]"
     ]
    },
    {
     "name": "stdout",
     "output_type": "stream",
     "text": [
      "{'C': 0.1, 'B': 600, 'learning_rate': 0.1, 'comm_round': 128, 'train_acc': 0.9287, 'test_acc': 0.9328, 'train_loss': 0.2441, 'test_loss': 0.2298}\n",
      "WARNING:tensorflow:Compiled the loaded model, but the compiled metrics have yet to be built. `model.compile_metrics` will be empty until you train or evaluate the model.\n",
      "INFO:tensorflow:Assets written to: ./logs/NONIID-B600-E5-C0.1-MNIST-CNN-LR0.1/assets\n"
     ]
    },
    {
     "name": "stderr",
     "output_type": "stream",
     "text": [
      " 43%|████▎     | 129/300 [1:14:07<1:36:40, 33.92s/it]"
     ]
    },
    {
     "name": "stdout",
     "output_type": "stream",
     "text": [
      "{'C': 0.1, 'B': 600, 'learning_rate': 0.1, 'comm_round': 129, 'train_acc': 0.9256, 'test_acc': 0.9287, 'train_loss': 0.2414, 'test_loss': 0.2284}\n",
      "WARNING:tensorflow:Compiled the loaded model, but the compiled metrics have yet to be built. `model.compile_metrics` will be empty until you train or evaluate the model.\n",
      "INFO:tensorflow:Assets written to: ./logs/NONIID-B600-E5-C0.1-MNIST-CNN-LR0.1/assets\n"
     ]
    },
    {
     "name": "stderr",
     "output_type": "stream",
     "text": [
      " 43%|████▎     | 130/300 [1:14:40<1:35:29, 33.70s/it]"
     ]
    },
    {
     "name": "stdout",
     "output_type": "stream",
     "text": [
      "{'C': 0.1, 'B': 600, 'learning_rate': 0.1, 'comm_round': 130, 'train_acc': 0.9457, 'test_acc': 0.9477, 'train_loss': 0.188, 'test_loss': 0.1796}\n",
      "WARNING:tensorflow:Compiled the loaded model, but the compiled metrics have yet to be built. `model.compile_metrics` will be empty until you train or evaluate the model.\n",
      "INFO:tensorflow:Assets written to: ./logs/NONIID-B600-E5-C0.1-MNIST-CNN-LR0.1/assets\n"
     ]
    },
    {
     "name": "stderr",
     "output_type": "stream",
     "text": [
      " 44%|████▎     | 131/300 [1:15:13<1:34:31, 33.56s/it]"
     ]
    },
    {
     "name": "stdout",
     "output_type": "stream",
     "text": [
      "{'C': 0.1, 'B': 600, 'learning_rate': 0.1, 'comm_round': 131, 'train_acc': 0.9168, 'test_acc': 0.9191, 'train_loss': 0.2446, 'test_loss': 0.2334}\n",
      "WARNING:tensorflow:Compiled the loaded model, but the compiled metrics have yet to be built. `model.compile_metrics` will be empty until you train or evaluate the model.\n",
      "INFO:tensorflow:Assets written to: ./logs/NONIID-B600-E5-C0.1-MNIST-CNN-LR0.1/assets\n"
     ]
    },
    {
     "name": "stderr",
     "output_type": "stream",
     "text": [
      " 44%|████▍     | 132/300 [1:15:46<1:33:25, 33.37s/it]"
     ]
    },
    {
     "name": "stdout",
     "output_type": "stream",
     "text": [
      "{'C': 0.1, 'B': 600, 'learning_rate': 0.1, 'comm_round': 132, 'train_acc': 0.9366, 'test_acc': 0.9369, 'train_loss': 0.2091, 'test_loss': 0.1986}\n",
      "WARNING:tensorflow:Compiled the loaded model, but the compiled metrics have yet to be built. `model.compile_metrics` will be empty until you train or evaluate the model.\n",
      "INFO:tensorflow:Assets written to: ./logs/NONIID-B600-E5-C0.1-MNIST-CNN-LR0.1/assets\n"
     ]
    },
    {
     "name": "stderr",
     "output_type": "stream",
     "text": [
      " 44%|████▍     | 133/300 [1:16:19<1:32:59, 33.41s/it]"
     ]
    },
    {
     "name": "stdout",
     "output_type": "stream",
     "text": [
      "{'C': 0.1, 'B': 600, 'learning_rate': 0.1, 'comm_round': 133, 'train_acc': 0.9344, 'test_acc': 0.9376, 'train_loss': 0.2111, 'test_loss': 0.1982}\n",
      "WARNING:tensorflow:Compiled the loaded model, but the compiled metrics have yet to be built. `model.compile_metrics` will be empty until you train or evaluate the model.\n",
      "INFO:tensorflow:Assets written to: ./logs/NONIID-B600-E5-C0.1-MNIST-CNN-LR0.1/assets\n"
     ]
    },
    {
     "name": "stderr",
     "output_type": "stream",
     "text": [
      " 45%|████▍     | 134/300 [1:16:52<1:31:31, 33.08s/it]"
     ]
    },
    {
     "name": "stdout",
     "output_type": "stream",
     "text": [
      "{'C': 0.1, 'B': 600, 'learning_rate': 0.1, 'comm_round': 134, 'train_acc': 0.9473, 'test_acc': 0.9495, 'train_loss': 0.1828, 'test_loss': 0.1721}\n",
      "WARNING:tensorflow:Compiled the loaded model, but the compiled metrics have yet to be built. `model.compile_metrics` will be empty until you train or evaluate the model.\n",
      "INFO:tensorflow:Assets written to: ./logs/NONIID-B600-E5-C0.1-MNIST-CNN-LR0.1/assets\n"
     ]
    },
    {
     "name": "stderr",
     "output_type": "stream",
     "text": [
      " 45%|████▌     | 135/300 [1:17:25<1:30:56, 33.07s/it]"
     ]
    },
    {
     "name": "stdout",
     "output_type": "stream",
     "text": [
      "{'C': 0.1, 'B': 600, 'learning_rate': 0.1, 'comm_round': 135, 'train_acc': 0.9369, 'test_acc': 0.9397, 'train_loss': 0.2153, 'test_loss': 0.2004}\n",
      "WARNING:tensorflow:Compiled the loaded model, but the compiled metrics have yet to be built. `model.compile_metrics` will be empty until you train or evaluate the model.\n",
      "INFO:tensorflow:Assets written to: ./logs/NONIID-B600-E5-C0.1-MNIST-CNN-LR0.1/assets\n"
     ]
    },
    {
     "name": "stderr",
     "output_type": "stream",
     "text": [
      " 45%|████▌     | 136/300 [1:17:58<1:30:43, 33.19s/it]"
     ]
    },
    {
     "name": "stdout",
     "output_type": "stream",
     "text": [
      "{'C': 0.1, 'B': 600, 'learning_rate': 0.1, 'comm_round': 136, 'train_acc': 0.9468, 'test_acc': 0.9512, 'train_loss': 0.1837, 'test_loss': 0.1689}\n",
      "WARNING:tensorflow:Compiled the loaded model, but the compiled metrics have yet to be built. `model.compile_metrics` will be empty until you train or evaluate the model.\n",
      "INFO:tensorflow:Assets written to: ./logs/NONIID-B600-E5-C0.1-MNIST-CNN-LR0.1/assets\n"
     ]
    },
    {
     "name": "stderr",
     "output_type": "stream",
     "text": [
      " 46%|████▌     | 137/300 [1:18:30<1:29:10, 32.83s/it]"
     ]
    },
    {
     "name": "stdout",
     "output_type": "stream",
     "text": [
      "{'C': 0.1, 'B': 600, 'learning_rate': 0.1, 'comm_round': 137, 'train_acc': 0.9058, 'test_acc': 0.9125, 'train_loss': 0.2845, 'test_loss': 0.2658}\n",
      "WARNING:tensorflow:Compiled the loaded model, but the compiled metrics have yet to be built. `model.compile_metrics` will be empty until you train or evaluate the model.\n",
      "INFO:tensorflow:Assets written to: ./logs/NONIID-B600-E5-C0.1-MNIST-CNN-LR0.1/assets\n"
     ]
    },
    {
     "name": "stderr",
     "output_type": "stream",
     "text": [
      " 46%|████▌     | 138/300 [1:19:04<1:29:09, 33.02s/it]"
     ]
    },
    {
     "name": "stdout",
     "output_type": "stream",
     "text": [
      "{'C': 0.1, 'B': 600, 'learning_rate': 0.1, 'comm_round': 138, 'train_acc': 0.8866, 'test_acc': 0.8928, 'train_loss': 0.3217, 'test_loss': 0.3068}\n",
      "WARNING:tensorflow:Compiled the loaded model, but the compiled metrics have yet to be built. `model.compile_metrics` will be empty until you train or evaluate the model.\n",
      "INFO:tensorflow:Assets written to: ./logs/NONIID-B600-E5-C0.1-MNIST-CNN-LR0.1/assets\n"
     ]
    },
    {
     "name": "stderr",
     "output_type": "stream",
     "text": [
      " 46%|████▋     | 139/300 [1:19:37<1:29:15, 33.26s/it]"
     ]
    },
    {
     "name": "stdout",
     "output_type": "stream",
     "text": [
      "{'C': 0.1, 'B': 600, 'learning_rate': 0.1, 'comm_round': 139, 'train_acc': 0.935, 'test_acc': 0.9377, 'train_loss': 0.2175, 'test_loss': 0.2028}\n",
      "WARNING:tensorflow:Compiled the loaded model, but the compiled metrics have yet to be built. `model.compile_metrics` will be empty until you train or evaluate the model.\n",
      "INFO:tensorflow:Assets written to: ./logs/NONIID-B600-E5-C0.1-MNIST-CNN-LR0.1/assets\n"
     ]
    },
    {
     "name": "stderr",
     "output_type": "stream",
     "text": [
      " 47%|████▋     | 140/300 [1:20:10<1:28:29, 33.19s/it]"
     ]
    },
    {
     "name": "stdout",
     "output_type": "stream",
     "text": [
      "{'C': 0.1, 'B': 600, 'learning_rate': 0.1, 'comm_round': 140, 'train_acc': 0.9394, 'test_acc': 0.9432, 'train_loss': 0.2038, 'test_loss': 0.1951}\n",
      "WARNING:tensorflow:Compiled the loaded model, but the compiled metrics have yet to be built. `model.compile_metrics` will be empty until you train or evaluate the model.\n",
      "INFO:tensorflow:Assets written to: ./logs/NONIID-B600-E5-C0.1-MNIST-CNN-LR0.1/assets\n"
     ]
    },
    {
     "name": "stderr",
     "output_type": "stream",
     "text": [
      " 47%|████▋     | 141/300 [1:20:44<1:27:51, 33.15s/it]"
     ]
    },
    {
     "name": "stdout",
     "output_type": "stream",
     "text": [
      "{'C': 0.1, 'B': 600, 'learning_rate': 0.1, 'comm_round': 141, 'train_acc': 0.884, 'test_acc': 0.8906, 'train_loss': 0.3203, 'test_loss': 0.305}\n",
      "WARNING:tensorflow:Compiled the loaded model, but the compiled metrics have yet to be built. `model.compile_metrics` will be empty until you train or evaluate the model.\n",
      "INFO:tensorflow:Assets written to: ./logs/NONIID-B600-E5-C0.1-MNIST-CNN-LR0.1/assets\n"
     ]
    },
    {
     "name": "stderr",
     "output_type": "stream",
     "text": [
      " 47%|████▋     | 142/300 [1:21:16<1:26:52, 32.99s/it]"
     ]
    },
    {
     "name": "stdout",
     "output_type": "stream",
     "text": [
      "{'C': 0.1, 'B': 600, 'learning_rate': 0.1, 'comm_round': 142, 'train_acc': 0.9328, 'test_acc': 0.9356, 'train_loss': 0.217, 'test_loss': 0.2044}\n",
      "WARNING:tensorflow:Compiled the loaded model, but the compiled metrics have yet to be built. `model.compile_metrics` will be empty until you train or evaluate the model.\n",
      "INFO:tensorflow:Assets written to: ./logs/NONIID-B600-E5-C0.1-MNIST-CNN-LR0.1/assets\n"
     ]
    },
    {
     "name": "stderr",
     "output_type": "stream",
     "text": [
      " 48%|████▊     | 143/300 [1:21:49<1:26:26, 33.04s/it]"
     ]
    },
    {
     "name": "stdout",
     "output_type": "stream",
     "text": [
      "{'C': 0.1, 'B': 600, 'learning_rate': 0.1, 'comm_round': 143, 'train_acc': 0.9203, 'test_acc': 0.9246, 'train_loss': 0.2539, 'test_loss': 0.2419}\n",
      "WARNING:tensorflow:Compiled the loaded model, but the compiled metrics have yet to be built. `model.compile_metrics` will be empty until you train or evaluate the model.\n",
      "INFO:tensorflow:Assets written to: ./logs/NONIID-B600-E5-C0.1-MNIST-CNN-LR0.1/assets\n"
     ]
    },
    {
     "name": "stderr",
     "output_type": "stream",
     "text": [
      " 48%|████▊     | 144/300 [1:22:24<1:27:07, 33.51s/it]"
     ]
    },
    {
     "name": "stdout",
     "output_type": "stream",
     "text": [
      "{'C': 0.1, 'B': 600, 'learning_rate': 0.1, 'comm_round': 144, 'train_acc': 0.8842, 'test_acc': 0.8916, 'train_loss': 0.319, 'test_loss': 0.3036}\n",
      "WARNING:tensorflow:Compiled the loaded model, but the compiled metrics have yet to be built. `model.compile_metrics` will be empty until you train or evaluate the model.\n",
      "INFO:tensorflow:Assets written to: ./logs/NONIID-B600-E5-C0.1-MNIST-CNN-LR0.1/assets\n"
     ]
    },
    {
     "name": "stderr",
     "output_type": "stream",
     "text": [
      " 48%|████▊     | 145/300 [1:22:57<1:26:26, 33.46s/it]"
     ]
    },
    {
     "name": "stdout",
     "output_type": "stream",
     "text": [
      "{'C': 0.1, 'B': 600, 'learning_rate': 0.1, 'comm_round': 145, 'train_acc': 0.9452, 'test_acc': 0.9482, 'train_loss': 0.2041, 'test_loss': 0.1938}\n",
      "WARNING:tensorflow:Compiled the loaded model, but the compiled metrics have yet to be built. `model.compile_metrics` will be empty until you train or evaluate the model.\n",
      "INFO:tensorflow:Assets written to: ./logs/NONIID-B600-E5-C0.1-MNIST-CNN-LR0.1/assets\n"
     ]
    },
    {
     "name": "stderr",
     "output_type": "stream",
     "text": [
      " 49%|████▊     | 146/300 [1:23:31<1:26:03, 33.53s/it]"
     ]
    },
    {
     "name": "stdout",
     "output_type": "stream",
     "text": [
      "{'C': 0.1, 'B': 600, 'learning_rate': 0.1, 'comm_round': 146, 'train_acc': 0.888, 'test_acc': 0.894, 'train_loss': 0.3067, 'test_loss': 0.2928}\n",
      "WARNING:tensorflow:Compiled the loaded model, but the compiled metrics have yet to be built. `model.compile_metrics` will be empty until you train or evaluate the model.\n",
      "INFO:tensorflow:Assets written to: ./logs/NONIID-B600-E5-C0.1-MNIST-CNN-LR0.1/assets\n"
     ]
    },
    {
     "name": "stderr",
     "output_type": "stream",
     "text": [
      " 49%|████▉     | 147/300 [1:24:08<1:27:50, 34.45s/it]"
     ]
    },
    {
     "name": "stdout",
     "output_type": "stream",
     "text": [
      "{'C': 0.1, 'B': 600, 'learning_rate': 0.1, 'comm_round': 147, 'train_acc': 0.9366, 'test_acc': 0.9414, 'train_loss': 0.2222, 'test_loss': 0.2081}\n",
      "WARNING:tensorflow:Compiled the loaded model, but the compiled metrics have yet to be built. `model.compile_metrics` will be empty until you train or evaluate the model.\n",
      "INFO:tensorflow:Assets written to: ./logs/NONIID-B600-E5-C0.1-MNIST-CNN-LR0.1/assets\n"
     ]
    },
    {
     "name": "stderr",
     "output_type": "stream",
     "text": [
      " 49%|████▉     | 148/300 [1:24:43<1:27:51, 34.68s/it]"
     ]
    },
    {
     "name": "stdout",
     "output_type": "stream",
     "text": [
      "{'C': 0.1, 'B': 600, 'learning_rate': 0.1, 'comm_round': 148, 'train_acc': 0.9496, 'test_acc': 0.9553, 'train_loss': 0.1771, 'test_loss': 0.1633}\n",
      "WARNING:tensorflow:Compiled the loaded model, but the compiled metrics have yet to be built. `model.compile_metrics` will be empty until you train or evaluate the model.\n",
      "INFO:tensorflow:Assets written to: ./logs/NONIID-B600-E5-C0.1-MNIST-CNN-LR0.1/assets\n"
     ]
    },
    {
     "name": "stderr",
     "output_type": "stream",
     "text": [
      " 50%|████▉     | 149/300 [1:25:18<1:27:26, 34.75s/it]"
     ]
    },
    {
     "name": "stdout",
     "output_type": "stream",
     "text": [
      "{'C': 0.1, 'B': 600, 'learning_rate': 0.1, 'comm_round': 149, 'train_acc': 0.9376, 'test_acc': 0.944, 'train_loss': 0.2027, 'test_loss': 0.185}\n",
      "WARNING:tensorflow:Compiled the loaded model, but the compiled metrics have yet to be built. `model.compile_metrics` will be empty until you train or evaluate the model.\n",
      "INFO:tensorflow:Assets written to: ./logs/NONIID-B600-E5-C0.1-MNIST-CNN-LR0.1/assets\n"
     ]
    },
    {
     "name": "stderr",
     "output_type": "stream",
     "text": [
      " 50%|█████     | 150/300 [1:25:50<1:25:07, 34.05s/it]"
     ]
    },
    {
     "name": "stdout",
     "output_type": "stream",
     "text": [
      "{'C': 0.1, 'B': 600, 'learning_rate': 0.1, 'comm_round': 150, 'train_acc': 0.9391, 'test_acc': 0.9448, 'train_loss': 0.2039, 'test_loss': 0.1889}\n",
      "WARNING:tensorflow:Compiled the loaded model, but the compiled metrics have yet to be built. `model.compile_metrics` will be empty until you train or evaluate the model.\n",
      "INFO:tensorflow:Assets written to: ./logs/NONIID-B600-E5-C0.1-MNIST-CNN-LR0.1/assets\n"
     ]
    },
    {
     "name": "stderr",
     "output_type": "stream",
     "text": [
      " 50%|█████     | 151/300 [1:26:24<1:24:13, 33.91s/it]"
     ]
    },
    {
     "name": "stdout",
     "output_type": "stream",
     "text": [
      "{'C': 0.1, 'B': 600, 'learning_rate': 0.1, 'comm_round': 151, 'train_acc': 0.9341, 'test_acc': 0.9377, 'train_loss': 0.212, 'test_loss': 0.199}\n",
      "WARNING:tensorflow:Compiled the loaded model, but the compiled metrics have yet to be built. `model.compile_metrics` will be empty until you train or evaluate the model.\n",
      "INFO:tensorflow:Assets written to: ./logs/NONIID-B600-E5-C0.1-MNIST-CNN-LR0.1/assets\n"
     ]
    },
    {
     "name": "stderr",
     "output_type": "stream",
     "text": [
      " 51%|█████     | 152/300 [1:26:58<1:23:48, 33.98s/it]"
     ]
    },
    {
     "name": "stdout",
     "output_type": "stream",
     "text": [
      "{'C': 0.1, 'B': 600, 'learning_rate': 0.1, 'comm_round': 152, 'train_acc': 0.9069, 'test_acc': 0.9068, 'train_loss': 0.2666, 'test_loss': 0.261}\n",
      "WARNING:tensorflow:Compiled the loaded model, but the compiled metrics have yet to be built. `model.compile_metrics` will be empty until you train or evaluate the model.\n",
      "INFO:tensorflow:Assets written to: ./logs/NONIID-B600-E5-C0.1-MNIST-CNN-LR0.1/assets\n"
     ]
    },
    {
     "name": "stderr",
     "output_type": "stream",
     "text": [
      " 51%|█████     | 153/300 [1:27:30<1:21:37, 33.31s/it]"
     ]
    },
    {
     "name": "stdout",
     "output_type": "stream",
     "text": [
      "{'C': 0.1, 'B': 600, 'learning_rate': 0.1, 'comm_round': 153, 'train_acc': 0.9067, 'test_acc': 0.9078, 'train_loss': 0.2895, 'test_loss': 0.2812}\n",
      "WARNING:tensorflow:Compiled the loaded model, but the compiled metrics have yet to be built. `model.compile_metrics` will be empty until you train or evaluate the model.\n",
      "INFO:tensorflow:Assets written to: ./logs/NONIID-B600-E5-C0.1-MNIST-CNN-LR0.1/assets\n"
     ]
    },
    {
     "name": "stderr",
     "output_type": "stream",
     "text": [
      " 51%|█████▏    | 154/300 [1:28:05<1:22:43, 33.99s/it]"
     ]
    },
    {
     "name": "stdout",
     "output_type": "stream",
     "text": [
      "{'C': 0.1, 'B': 600, 'learning_rate': 0.1, 'comm_round': 154, 'train_acc': 0.9179, 'test_acc': 0.9209, 'train_loss': 0.2512, 'test_loss': 0.2413}\n",
      "WARNING:tensorflow:Compiled the loaded model, but the compiled metrics have yet to be built. `model.compile_metrics` will be empty until you train or evaluate the model.\n",
      "INFO:tensorflow:Assets written to: ./logs/NONIID-B600-E5-C0.1-MNIST-CNN-LR0.1/assets\n"
     ]
    },
    {
     "name": "stderr",
     "output_type": "stream",
     "text": [
      " 52%|█████▏    | 155/300 [1:28:42<1:24:30, 34.97s/it]"
     ]
    },
    {
     "name": "stdout",
     "output_type": "stream",
     "text": [
      "{'C': 0.1, 'B': 600, 'learning_rate': 0.1, 'comm_round': 155, 'train_acc': 0.946, 'test_acc': 0.95, 'train_loss': 0.1851, 'test_loss': 0.1727}\n",
      "WARNING:tensorflow:Compiled the loaded model, but the compiled metrics have yet to be built. `model.compile_metrics` will be empty until you train or evaluate the model.\n",
      "INFO:tensorflow:Assets written to: ./logs/NONIID-B600-E5-C0.1-MNIST-CNN-LR0.1/assets\n"
     ]
    },
    {
     "name": "stderr",
     "output_type": "stream",
     "text": [
      " 52%|█████▏    | 156/300 [1:29:19<1:24:43, 35.30s/it]"
     ]
    },
    {
     "name": "stdout",
     "output_type": "stream",
     "text": [
      "{'C': 0.1, 'B': 600, 'learning_rate': 0.1, 'comm_round': 156, 'train_acc': 0.9224, 'test_acc': 0.9224, 'train_loss': 0.2501, 'test_loss': 0.2409}\n",
      "WARNING:tensorflow:Compiled the loaded model, but the compiled metrics have yet to be built. `model.compile_metrics` will be empty until you train or evaluate the model.\n",
      "INFO:tensorflow:Assets written to: ./logs/NONIID-B600-E5-C0.1-MNIST-CNN-LR0.1/assets\n"
     ]
    },
    {
     "name": "stderr",
     "output_type": "stream",
     "text": [
      " 52%|█████▏    | 157/300 [1:29:52<1:23:00, 34.83s/it]"
     ]
    },
    {
     "name": "stdout",
     "output_type": "stream",
     "text": [
      "{'C': 0.1, 'B': 600, 'learning_rate': 0.1, 'comm_round': 157, 'train_acc': 0.9376, 'test_acc': 0.9373, 'train_loss': 0.211, 'test_loss': 0.2026}\n",
      "WARNING:tensorflow:Compiled the loaded model, but the compiled metrics have yet to be built. `model.compile_metrics` will be empty until you train or evaluate the model.\n",
      "INFO:tensorflow:Assets written to: ./logs/NONIID-B600-E5-C0.1-MNIST-CNN-LR0.1/assets\n"
     ]
    },
    {
     "name": "stderr",
     "output_type": "stream",
     "text": [
      " 53%|█████▎    | 158/300 [1:30:25<1:21:11, 34.31s/it]"
     ]
    },
    {
     "name": "stdout",
     "output_type": "stream",
     "text": [
      "{'C': 0.1, 'B': 600, 'learning_rate': 0.1, 'comm_round': 158, 'train_acc': 0.8682, 'test_acc': 0.8739, 'train_loss': 0.3712, 'test_loss': 0.3623}\n",
      "WARNING:tensorflow:Compiled the loaded model, but the compiled metrics have yet to be built. `model.compile_metrics` will be empty until you train or evaluate the model.\n",
      "INFO:tensorflow:Assets written to: ./logs/NONIID-B600-E5-C0.1-MNIST-CNN-LR0.1/assets\n"
     ]
    },
    {
     "name": "stderr",
     "output_type": "stream",
     "text": [
      " 53%|█████▎    | 159/300 [1:30:59<1:19:50, 33.98s/it]"
     ]
    },
    {
     "name": "stdout",
     "output_type": "stream",
     "text": [
      "{'C': 0.1, 'B': 600, 'learning_rate': 0.1, 'comm_round': 159, 'train_acc': 0.9347, 'test_acc': 0.94, 'train_loss': 0.2132, 'test_loss': 0.2022}\n",
      "WARNING:tensorflow:Compiled the loaded model, but the compiled metrics have yet to be built. `model.compile_metrics` will be empty until you train or evaluate the model.\n",
      "INFO:tensorflow:Assets written to: ./logs/NONIID-B600-E5-C0.1-MNIST-CNN-LR0.1/assets\n"
     ]
    },
    {
     "name": "stderr",
     "output_type": "stream",
     "text": [
      " 53%|█████▎    | 160/300 [1:31:34<1:20:39, 34.57s/it]"
     ]
    },
    {
     "name": "stdout",
     "output_type": "stream",
     "text": [
      "{'C': 0.1, 'B': 600, 'learning_rate': 0.1, 'comm_round': 160, 'train_acc': 0.8499, 'test_acc': 0.8515, 'train_loss': 0.4276, 'test_loss': 0.424}\n",
      "WARNING:tensorflow:Compiled the loaded model, but the compiled metrics have yet to be built. `model.compile_metrics` will be empty until you train or evaluate the model.\n",
      "INFO:tensorflow:Assets written to: ./logs/NONIID-B600-E5-C0.1-MNIST-CNN-LR0.1/assets\n"
     ]
    },
    {
     "name": "stderr",
     "output_type": "stream",
     "text": [
      " 54%|█████▎    | 161/300 [1:32:12<1:21:49, 35.32s/it]"
     ]
    },
    {
     "name": "stdout",
     "output_type": "stream",
     "text": [
      "{'C': 0.1, 'B': 600, 'learning_rate': 0.1, 'comm_round': 161, 'train_acc': 0.9452, 'test_acc': 0.9496, 'train_loss': 0.1849, 'test_loss': 0.1742}\n",
      "WARNING:tensorflow:Compiled the loaded model, but the compiled metrics have yet to be built. `model.compile_metrics` will be empty until you train or evaluate the model.\n",
      "INFO:tensorflow:Assets written to: ./logs/NONIID-B600-E5-C0.1-MNIST-CNN-LR0.1/assets\n"
     ]
    },
    {
     "name": "stderr",
     "output_type": "stream",
     "text": [
      " 54%|█████▍    | 162/300 [1:32:49<1:22:35, 35.91s/it]"
     ]
    },
    {
     "name": "stdout",
     "output_type": "stream",
     "text": [
      "{'C': 0.1, 'B': 600, 'learning_rate': 0.1, 'comm_round': 162, 'train_acc': 0.9045, 'test_acc': 0.9096, 'train_loss': 0.2823, 'test_loss': 0.2671}\n",
      "WARNING:tensorflow:Compiled the loaded model, but the compiled metrics have yet to be built. `model.compile_metrics` will be empty until you train or evaluate the model.\n",
      "INFO:tensorflow:Assets written to: ./logs/NONIID-B600-E5-C0.1-MNIST-CNN-LR0.1/assets\n"
     ]
    },
    {
     "name": "stderr",
     "output_type": "stream",
     "text": [
      " 54%|█████▍    | 163/300 [1:33:27<1:23:44, 36.67s/it]"
     ]
    },
    {
     "name": "stdout",
     "output_type": "stream",
     "text": [
      "{'C': 0.1, 'B': 600, 'learning_rate': 0.1, 'comm_round': 163, 'train_acc': 0.935, 'test_acc': 0.9397, 'train_loss': 0.2126, 'test_loss': 0.2}\n",
      "WARNING:tensorflow:Compiled the loaded model, but the compiled metrics have yet to be built. `model.compile_metrics` will be empty until you train or evaluate the model.\n",
      "INFO:tensorflow:Assets written to: ./logs/NONIID-B600-E5-C0.1-MNIST-CNN-LR0.1/assets\n"
     ]
    },
    {
     "name": "stderr",
     "output_type": "stream",
     "text": [
      " 55%|█████▍    | 164/300 [1:34:04<1:22:55, 36.58s/it]"
     ]
    },
    {
     "name": "stdout",
     "output_type": "stream",
     "text": [
      "{'C': 0.1, 'B': 600, 'learning_rate': 0.1, 'comm_round': 164, 'train_acc': 0.9229, 'test_acc': 0.9264, 'train_loss': 0.2405, 'test_loss': 0.2279}\n",
      "WARNING:tensorflow:Compiled the loaded model, but the compiled metrics have yet to be built. `model.compile_metrics` will be empty until you train or evaluate the model.\n",
      "INFO:tensorflow:Assets written to: ./logs/NONIID-B600-E5-C0.1-MNIST-CNN-LR0.1/assets\n"
     ]
    },
    {
     "name": "stderr",
     "output_type": "stream",
     "text": [
      " 55%|█████▌    | 165/300 [1:34:38<1:20:42, 35.87s/it]"
     ]
    },
    {
     "name": "stdout",
     "output_type": "stream",
     "text": [
      "{'C': 0.1, 'B': 600, 'learning_rate': 0.1, 'comm_round': 165, 'train_acc': 0.9223, 'test_acc': 0.926, 'train_loss': 0.2562, 'test_loss': 0.2415}\n",
      "WARNING:tensorflow:Compiled the loaded model, but the compiled metrics have yet to be built. `model.compile_metrics` will be empty until you train or evaluate the model.\n",
      "INFO:tensorflow:Assets written to: ./logs/NONIID-B600-E5-C0.1-MNIST-CNN-LR0.1/assets\n"
     ]
    },
    {
     "name": "stderr",
     "output_type": "stream",
     "text": [
      " 55%|█████▌    | 166/300 [1:35:14<1:20:19, 35.97s/it]"
     ]
    },
    {
     "name": "stdout",
     "output_type": "stream",
     "text": [
      "{'C': 0.1, 'B': 600, 'learning_rate': 0.1, 'comm_round': 166, 'train_acc': 0.9058, 'test_acc': 0.9101, 'train_loss': 0.2777, 'test_loss': 0.2673}\n",
      "WARNING:tensorflow:Compiled the loaded model, but the compiled metrics have yet to be built. `model.compile_metrics` will be empty until you train or evaluate the model.\n",
      "INFO:tensorflow:Assets written to: ./logs/NONIID-B600-E5-C0.1-MNIST-CNN-LR0.1/assets\n"
     ]
    },
    {
     "name": "stderr",
     "output_type": "stream",
     "text": [
      " 56%|█████▌    | 167/300 [1:35:49<1:18:48, 35.55s/it]"
     ]
    },
    {
     "name": "stdout",
     "output_type": "stream",
     "text": [
      "{'C': 0.1, 'B': 600, 'learning_rate': 0.1, 'comm_round': 167, 'train_acc': 0.9305, 'test_acc': 0.9351, 'train_loss': 0.2298, 'test_loss': 0.2242}\n",
      "WARNING:tensorflow:Compiled the loaded model, but the compiled metrics have yet to be built. `model.compile_metrics` will be empty until you train or evaluate the model.\n",
      "INFO:tensorflow:Assets written to: ./logs/NONIID-B600-E5-C0.1-MNIST-CNN-LR0.1/assets\n"
     ]
    },
    {
     "name": "stderr",
     "output_type": "stream",
     "text": [
      " 56%|█████▌    | 168/300 [1:36:27<1:19:48, 36.28s/it]"
     ]
    },
    {
     "name": "stdout",
     "output_type": "stream",
     "text": [
      "{'C': 0.1, 'B': 600, 'learning_rate': 0.1, 'comm_round': 168, 'train_acc': 0.905, 'test_acc': 0.9053, 'train_loss': 0.2925, 'test_loss': 0.2891}\n",
      "WARNING:tensorflow:Compiled the loaded model, but the compiled metrics have yet to be built. `model.compile_metrics` will be empty until you train or evaluate the model.\n",
      "INFO:tensorflow:Assets written to: ./logs/NONIID-B600-E5-C0.1-MNIST-CNN-LR0.1/assets\n"
     ]
    },
    {
     "name": "stderr",
     "output_type": "stream",
     "text": [
      " 56%|█████▋    | 169/300 [1:37:02<1:18:44, 36.06s/it]"
     ]
    },
    {
     "name": "stdout",
     "output_type": "stream",
     "text": [
      "{'C': 0.1, 'B': 600, 'learning_rate': 0.1, 'comm_round': 169, 'train_acc': 0.9029, 'test_acc': 0.9022, 'train_loss': 0.286, 'test_loss': 0.2832}\n",
      "WARNING:tensorflow:Compiled the loaded model, but the compiled metrics have yet to be built. `model.compile_metrics` will be empty until you train or evaluate the model.\n",
      "INFO:tensorflow:Assets written to: ./logs/NONIID-B600-E5-C0.1-MNIST-CNN-LR0.1/assets\n"
     ]
    },
    {
     "name": "stderr",
     "output_type": "stream",
     "text": [
      " 57%|█████▋    | 170/300 [1:37:37<1:17:24, 35.72s/it]"
     ]
    },
    {
     "name": "stdout",
     "output_type": "stream",
     "text": [
      "{'C': 0.1, 'B': 600, 'learning_rate': 0.1, 'comm_round': 170, 'train_acc': 0.9337, 'test_acc': 0.9386, 'train_loss': 0.2118, 'test_loss': 0.2022}\n",
      "WARNING:tensorflow:Compiled the loaded model, but the compiled metrics have yet to be built. `model.compile_metrics` will be empty until you train or evaluate the model.\n",
      "INFO:tensorflow:Assets written to: ./logs/NONIID-B600-E5-C0.1-MNIST-CNN-LR0.1/assets\n"
     ]
    },
    {
     "name": "stderr",
     "output_type": "stream",
     "text": [
      " 57%|█████▋    | 171/300 [1:38:12<1:16:10, 35.43s/it]"
     ]
    },
    {
     "name": "stdout",
     "output_type": "stream",
     "text": [
      "{'C': 0.1, 'B': 600, 'learning_rate': 0.1, 'comm_round': 171, 'train_acc': 0.9457, 'test_acc': 0.9493, 'train_loss': 0.1805, 'test_loss': 0.1712}\n",
      "WARNING:tensorflow:Compiled the loaded model, but the compiled metrics have yet to be built. `model.compile_metrics` will be empty until you train or evaluate the model.\n",
      "INFO:tensorflow:Assets written to: ./logs/NONIID-B600-E5-C0.1-MNIST-CNN-LR0.1/assets\n"
     ]
    },
    {
     "name": "stderr",
     "output_type": "stream",
     "text": [
      " 57%|█████▋    | 172/300 [1:38:49<1:17:00, 36.10s/it]"
     ]
    },
    {
     "name": "stdout",
     "output_type": "stream",
     "text": [
      "{'C': 0.1, 'B': 600, 'learning_rate': 0.1, 'comm_round': 172, 'train_acc': 0.905, 'test_acc': 0.9068, 'train_loss': 0.2809, 'test_loss': 0.2725}\n",
      "WARNING:tensorflow:Compiled the loaded model, but the compiled metrics have yet to be built. `model.compile_metrics` will be empty until you train or evaluate the model.\n",
      "INFO:tensorflow:Assets written to: ./logs/NONIID-B600-E5-C0.1-MNIST-CNN-LR0.1/assets\n"
     ]
    },
    {
     "name": "stderr",
     "output_type": "stream",
     "text": [
      " 58%|█████▊    | 173/300 [1:39:23<1:14:51, 35.37s/it]"
     ]
    },
    {
     "name": "stdout",
     "output_type": "stream",
     "text": [
      "{'C': 0.1, 'B': 600, 'learning_rate': 0.1, 'comm_round': 173, 'train_acc': 0.9353, 'test_acc': 0.9343, 'train_loss': 0.2152, 'test_loss': 0.2092}\n",
      "WARNING:tensorflow:Compiled the loaded model, but the compiled metrics have yet to be built. `model.compile_metrics` will be empty until you train or evaluate the model.\n",
      "INFO:tensorflow:Assets written to: ./logs/NONIID-B600-E5-C0.1-MNIST-CNN-LR0.1/assets\n"
     ]
    },
    {
     "name": "stderr",
     "output_type": "stream",
     "text": [
      " 58%|█████▊    | 174/300 [1:40:01<1:15:40, 36.04s/it]"
     ]
    },
    {
     "name": "stdout",
     "output_type": "stream",
     "text": [
      "{'C': 0.1, 'B': 600, 'learning_rate': 0.1, 'comm_round': 174, 'train_acc': 0.9328, 'test_acc': 0.9308, 'train_loss': 0.2308, 'test_loss': 0.2273}\n",
      "WARNING:tensorflow:Compiled the loaded model, but the compiled metrics have yet to be built. `model.compile_metrics` will be empty until you train or evaluate the model.\n",
      "INFO:tensorflow:Assets written to: ./logs/NONIID-B600-E5-C0.1-MNIST-CNN-LR0.1/assets\n"
     ]
    },
    {
     "name": "stderr",
     "output_type": "stream",
     "text": [
      " 58%|█████▊    | 175/300 [1:40:38<1:16:00, 36.49s/it]"
     ]
    },
    {
     "name": "stdout",
     "output_type": "stream",
     "text": [
      "{'C': 0.1, 'B': 600, 'learning_rate': 0.1, 'comm_round': 175, 'train_acc': 0.8976, 'test_acc': 0.8974, 'train_loss': 0.2955, 'test_loss': 0.2922}\n",
      "WARNING:tensorflow:Compiled the loaded model, but the compiled metrics have yet to be built. `model.compile_metrics` will be empty until you train or evaluate the model.\n",
      "INFO:tensorflow:Assets written to: ./logs/NONIID-B600-E5-C0.1-MNIST-CNN-LR0.1/assets\n"
     ]
    },
    {
     "name": "stderr",
     "output_type": "stream",
     "text": [
      " 59%|█████▊    | 176/300 [1:41:14<1:14:43, 36.16s/it]"
     ]
    },
    {
     "name": "stdout",
     "output_type": "stream",
     "text": [
      "{'C': 0.1, 'B': 600, 'learning_rate': 0.1, 'comm_round': 176, 'train_acc': 0.9043, 'test_acc': 0.9064, 'train_loss': 0.2774, 'test_loss': 0.2651}\n",
      "WARNING:tensorflow:Compiled the loaded model, but the compiled metrics have yet to be built. `model.compile_metrics` will be empty until you train or evaluate the model.\n",
      "INFO:tensorflow:Assets written to: ./logs/NONIID-B600-E5-C0.1-MNIST-CNN-LR0.1/assets\n"
     ]
    },
    {
     "name": "stderr",
     "output_type": "stream",
     "text": [
      " 59%|█████▉    | 177/300 [1:41:49<1:13:38, 35.92s/it]"
     ]
    },
    {
     "name": "stdout",
     "output_type": "stream",
     "text": [
      "{'C': 0.1, 'B': 600, 'learning_rate': 0.1, 'comm_round': 177, 'train_acc': 0.9253, 'test_acc': 0.9261, 'train_loss': 0.2314, 'test_loss': 0.2224}\n",
      "WARNING:tensorflow:Compiled the loaded model, but the compiled metrics have yet to be built. `model.compile_metrics` will be empty until you train or evaluate the model.\n",
      "INFO:tensorflow:Assets written to: ./logs/NONIID-B600-E5-C0.1-MNIST-CNN-LR0.1/assets\n"
     ]
    },
    {
     "name": "stderr",
     "output_type": "stream",
     "text": [
      " 59%|█████▉    | 178/300 [1:42:31<1:16:38, 37.69s/it]"
     ]
    },
    {
     "name": "stdout",
     "output_type": "stream",
     "text": [
      "{'C': 0.1, 'B': 600, 'learning_rate': 0.1, 'comm_round': 178, 'train_acc': 0.8914, 'test_acc': 0.8971, 'train_loss': 0.3249, 'test_loss': 0.3139}\n",
      "WARNING:tensorflow:Compiled the loaded model, but the compiled metrics have yet to be built. `model.compile_metrics` will be empty until you train or evaluate the model.\n",
      "INFO:tensorflow:Assets written to: ./logs/NONIID-B600-E5-C0.1-MNIST-CNN-LR0.1/assets\n"
     ]
    },
    {
     "name": "stderr",
     "output_type": "stream",
     "text": [
      " 60%|█████▉    | 179/300 [1:43:06<1:14:31, 36.95s/it]"
     ]
    },
    {
     "name": "stdout",
     "output_type": "stream",
     "text": [
      "{'C': 0.1, 'B': 600, 'learning_rate': 0.1, 'comm_round': 179, 'train_acc': 0.884, 'test_acc': 0.8913, 'train_loss': 0.3289, 'test_loss': 0.3164}\n",
      "WARNING:tensorflow:Compiled the loaded model, but the compiled metrics have yet to be built. `model.compile_metrics` will be empty until you train or evaluate the model.\n",
      "INFO:tensorflow:Assets written to: ./logs/NONIID-B600-E5-C0.1-MNIST-CNN-LR0.1/assets\n"
     ]
    },
    {
     "name": "stderr",
     "output_type": "stream",
     "text": [
      " 60%|██████    | 180/300 [1:43:41<1:12:22, 36.18s/it]"
     ]
    },
    {
     "name": "stdout",
     "output_type": "stream",
     "text": [
      "{'C': 0.1, 'B': 600, 'learning_rate': 0.1, 'comm_round': 180, 'train_acc': 0.9199, 'test_acc': 0.924, 'train_loss': 0.2445, 'test_loss': 0.2367}\n",
      "WARNING:tensorflow:Compiled the loaded model, but the compiled metrics have yet to be built. `model.compile_metrics` will be empty until you train or evaluate the model.\n",
      "INFO:tensorflow:Assets written to: ./logs/NONIID-B600-E5-C0.1-MNIST-CNN-LR0.1/assets\n"
     ]
    },
    {
     "name": "stderr",
     "output_type": "stream",
     "text": [
      " 60%|██████    | 181/300 [1:44:19<1:13:07, 36.87s/it]"
     ]
    },
    {
     "name": "stdout",
     "output_type": "stream",
     "text": [
      "{'C': 0.1, 'B': 600, 'learning_rate': 0.1, 'comm_round': 181, 'train_acc': 0.9476, 'test_acc': 0.9498, 'train_loss': 0.1778, 'test_loss': 0.171}\n",
      "WARNING:tensorflow:Compiled the loaded model, but the compiled metrics have yet to be built. `model.compile_metrics` will be empty until you train or evaluate the model.\n",
      "INFO:tensorflow:Assets written to: ./logs/NONIID-B600-E5-C0.1-MNIST-CNN-LR0.1/assets\n"
     ]
    },
    {
     "name": "stderr",
     "output_type": "stream",
     "text": [
      " 61%|██████    | 182/300 [1:44:54<1:11:29, 36.35s/it]"
     ]
    },
    {
     "name": "stdout",
     "output_type": "stream",
     "text": [
      "{'C': 0.1, 'B': 600, 'learning_rate': 0.1, 'comm_round': 182, 'train_acc': 0.927, 'test_acc': 0.9319, 'train_loss': 0.2273, 'test_loss': 0.2113}\n",
      "WARNING:tensorflow:Compiled the loaded model, but the compiled metrics have yet to be built. `model.compile_metrics` will be empty until you train or evaluate the model.\n",
      "INFO:tensorflow:Assets written to: ./logs/NONIID-B600-E5-C0.1-MNIST-CNN-LR0.1/assets\n"
     ]
    },
    {
     "name": "stderr",
     "output_type": "stream",
     "text": [
      " 61%|██████    | 183/300 [1:45:29<1:10:07, 35.96s/it]"
     ]
    },
    {
     "name": "stdout",
     "output_type": "stream",
     "text": [
      "{'C': 0.1, 'B': 600, 'learning_rate': 0.1, 'comm_round': 183, 'train_acc': 0.9143, 'test_acc': 0.919, 'train_loss': 0.2507, 'test_loss': 0.2369}\n",
      "WARNING:tensorflow:Compiled the loaded model, but the compiled metrics have yet to be built. `model.compile_metrics` will be empty until you train or evaluate the model.\n",
      "INFO:tensorflow:Assets written to: ./logs/NONIID-B600-E5-C0.1-MNIST-CNN-LR0.1/assets\n"
     ]
    },
    {
     "name": "stderr",
     "output_type": "stream",
     "text": [
      " 61%|██████▏   | 184/300 [1:46:07<1:10:50, 36.64s/it]"
     ]
    },
    {
     "name": "stdout",
     "output_type": "stream",
     "text": [
      "{'C': 0.1, 'B': 600, 'learning_rate': 0.1, 'comm_round': 184, 'train_acc': 0.946, 'test_acc': 0.9478, 'train_loss': 0.1809, 'test_loss': 0.1742}\n",
      "WARNING:tensorflow:Compiled the loaded model, but the compiled metrics have yet to be built. `model.compile_metrics` will be empty until you train or evaluate the model.\n",
      "INFO:tensorflow:Assets written to: ./logs/NONIID-B600-E5-C0.1-MNIST-CNN-LR0.1/assets\n"
     ]
    },
    {
     "name": "stderr",
     "output_type": "stream",
     "text": [
      " 62%|██████▏   | 185/300 [1:46:46<1:11:37, 37.37s/it]"
     ]
    },
    {
     "name": "stdout",
     "output_type": "stream",
     "text": [
      "{'C': 0.1, 'B': 600, 'learning_rate': 0.1, 'comm_round': 185, 'train_acc': 0.951, 'test_acc': 0.9527, 'train_loss': 0.1789, 'test_loss': 0.1687}\n",
      "WARNING:tensorflow:Compiled the loaded model, but the compiled metrics have yet to be built. `model.compile_metrics` will be empty until you train or evaluate the model.\n",
      "INFO:tensorflow:Assets written to: ./logs/NONIID-B600-E5-C0.1-MNIST-CNN-LR0.1/assets\n"
     ]
    },
    {
     "name": "stderr",
     "output_type": "stream",
     "text": [
      " 62%|██████▏   | 186/300 [1:47:23<1:10:34, 37.15s/it]"
     ]
    },
    {
     "name": "stdout",
     "output_type": "stream",
     "text": [
      "{'C': 0.1, 'B': 600, 'learning_rate': 0.1, 'comm_round': 186, 'train_acc': 0.9298, 'test_acc': 0.9321, 'train_loss': 0.2228, 'test_loss': 0.2111}\n",
      "WARNING:tensorflow:Compiled the loaded model, but the compiled metrics have yet to be built. `model.compile_metrics` will be empty until you train or evaluate the model.\n",
      "INFO:tensorflow:Assets written to: ./logs/NONIID-B600-E5-C0.1-MNIST-CNN-LR0.1/assets\n"
     ]
    },
    {
     "name": "stderr",
     "output_type": "stream",
     "text": [
      " 62%|██████▏   | 187/300 [1:47:59<1:09:23, 36.84s/it]"
     ]
    },
    {
     "name": "stdout",
     "output_type": "stream",
     "text": [
      "{'C': 0.1, 'B': 600, 'learning_rate': 0.1, 'comm_round': 187, 'train_acc': 0.9514, 'test_acc': 0.9562, 'train_loss': 0.1637, 'test_loss': 0.15}\n",
      "WARNING:tensorflow:Compiled the loaded model, but the compiled metrics have yet to be built. `model.compile_metrics` will be empty until you train or evaluate the model.\n",
      "INFO:tensorflow:Assets written to: ./logs/NONIID-B600-E5-C0.1-MNIST-CNN-LR0.1/assets\n"
     ]
    },
    {
     "name": "stderr",
     "output_type": "stream",
     "text": [
      " 63%|██████▎   | 188/300 [1:48:35<1:08:07, 36.49s/it]"
     ]
    },
    {
     "name": "stdout",
     "output_type": "stream",
     "text": [
      "{'C': 0.1, 'B': 600, 'learning_rate': 0.1, 'comm_round': 188, 'train_acc': 0.943, 'test_acc': 0.9438, 'train_loss': 0.1859, 'test_loss': 0.1761}\n",
      "WARNING:tensorflow:Compiled the loaded model, but the compiled metrics have yet to be built. `model.compile_metrics` will be empty until you train or evaluate the model.\n",
      "INFO:tensorflow:Assets written to: ./logs/NONIID-B600-E5-C0.1-MNIST-CNN-LR0.1/assets\n"
     ]
    },
    {
     "name": "stderr",
     "output_type": "stream",
     "text": [
      " 63%|██████▎   | 189/300 [1:49:15<1:09:37, 37.64s/it]"
     ]
    },
    {
     "name": "stdout",
     "output_type": "stream",
     "text": [
      "{'C': 0.1, 'B': 600, 'learning_rate': 0.1, 'comm_round': 189, 'train_acc': 0.8575, 'test_acc': 0.8607, 'train_loss': 0.4034, 'test_loss': 0.3999}\n",
      "WARNING:tensorflow:Compiled the loaded model, but the compiled metrics have yet to be built. `model.compile_metrics` will be empty until you train or evaluate the model.\n",
      "INFO:tensorflow:Assets written to: ./logs/NONIID-B600-E5-C0.1-MNIST-CNN-LR0.1/assets\n"
     ]
    },
    {
     "name": "stderr",
     "output_type": "stream",
     "text": [
      " 63%|██████▎   | 190/300 [1:49:51<1:08:04, 37.13s/it]"
     ]
    },
    {
     "name": "stdout",
     "output_type": "stream",
     "text": [
      "{'C': 0.1, 'B': 600, 'learning_rate': 0.1, 'comm_round': 190, 'train_acc': 0.907, 'test_acc': 0.9123, 'train_loss': 0.2643, 'test_loss': 0.2539}\n",
      "WARNING:tensorflow:Compiled the loaded model, but the compiled metrics have yet to be built. `model.compile_metrics` will be empty until you train or evaluate the model.\n",
      "INFO:tensorflow:Assets written to: ./logs/NONIID-B600-E5-C0.1-MNIST-CNN-LR0.1/assets\n"
     ]
    },
    {
     "name": "stderr",
     "output_type": "stream",
     "text": [
      " 64%|██████▎   | 191/300 [1:50:29<1:08:02, 37.45s/it]"
     ]
    },
    {
     "name": "stdout",
     "output_type": "stream",
     "text": [
      "{'C': 0.1, 'B': 600, 'learning_rate': 0.1, 'comm_round': 191, 'train_acc': 0.9422, 'test_acc': 0.9448, 'train_loss': 0.1861, 'test_loss': 0.1787}\n",
      "WARNING:tensorflow:Compiled the loaded model, but the compiled metrics have yet to be built. `model.compile_metrics` will be empty until you train or evaluate the model.\n",
      "INFO:tensorflow:Assets written to: ./logs/NONIID-B600-E5-C0.1-MNIST-CNN-LR0.1/assets\n"
     ]
    },
    {
     "name": "stderr",
     "output_type": "stream",
     "text": [
      " 64%|██████▍   | 192/300 [1:51:08<1:07:47, 37.66s/it]"
     ]
    },
    {
     "name": "stdout",
     "output_type": "stream",
     "text": [
      "{'C': 0.1, 'B': 600, 'learning_rate': 0.1, 'comm_round': 192, 'train_acc': 0.9511, 'test_acc': 0.9533, 'train_loss': 0.1719, 'test_loss': 0.1636}\n",
      "WARNING:tensorflow:Compiled the loaded model, but the compiled metrics have yet to be built. `model.compile_metrics` will be empty until you train or evaluate the model.\n",
      "INFO:tensorflow:Assets written to: ./logs/NONIID-B600-E5-C0.1-MNIST-CNN-LR0.1/assets\n"
     ]
    },
    {
     "name": "stderr",
     "output_type": "stream",
     "text": [
      " 64%|██████▍   | 193/300 [1:51:44<1:06:44, 37.43s/it]"
     ]
    },
    {
     "name": "stdout",
     "output_type": "stream",
     "text": [
      "{'C': 0.1, 'B': 600, 'learning_rate': 0.1, 'comm_round': 193, 'train_acc': 0.9486, 'test_acc': 0.9497, 'train_loss': 0.1776, 'test_loss': 0.169}\n",
      "WARNING:tensorflow:Compiled the loaded model, but the compiled metrics have yet to be built. `model.compile_metrics` will be empty until you train or evaluate the model.\n",
      "INFO:tensorflow:Assets written to: ./logs/NONIID-B600-E5-C0.1-MNIST-CNN-LR0.1/assets\n"
     ]
    },
    {
     "name": "stderr",
     "output_type": "stream",
     "text": [
      " 65%|██████▍   | 194/300 [1:52:20<1:05:10, 36.89s/it]"
     ]
    },
    {
     "name": "stdout",
     "output_type": "stream",
     "text": [
      "{'C': 0.1, 'B': 600, 'learning_rate': 0.1, 'comm_round': 194, 'train_acc': 0.9389, 'test_acc': 0.9402, 'train_loss': 0.1983, 'test_loss': 0.1914}\n",
      "WARNING:tensorflow:Compiled the loaded model, but the compiled metrics have yet to be built. `model.compile_metrics` will be empty until you train or evaluate the model.\n",
      "INFO:tensorflow:Assets written to: ./logs/NONIID-B600-E5-C0.1-MNIST-CNN-LR0.1/assets\n"
     ]
    },
    {
     "name": "stderr",
     "output_type": "stream",
     "text": [
      " 65%|██████▌   | 195/300 [1:53:00<1:06:15, 37.87s/it]"
     ]
    },
    {
     "name": "stdout",
     "output_type": "stream",
     "text": [
      "{'C': 0.1, 'B': 600, 'learning_rate': 0.1, 'comm_round': 195, 'train_acc': 0.949, 'test_acc': 0.9512, 'train_loss': 0.1692, 'test_loss': 0.16}\n",
      "WARNING:tensorflow:Compiled the loaded model, but the compiled metrics have yet to be built. `model.compile_metrics` will be empty until you train or evaluate the model.\n",
      "INFO:tensorflow:Assets written to: ./logs/NONIID-B600-E5-C0.1-MNIST-CNN-LR0.1/assets\n"
     ]
    },
    {
     "name": "stderr",
     "output_type": "stream",
     "text": [
      " 65%|██████▌   | 196/300 [1:53:37<1:05:00, 37.50s/it]"
     ]
    },
    {
     "name": "stdout",
     "output_type": "stream",
     "text": [
      "{'C': 0.1, 'B': 600, 'learning_rate': 0.1, 'comm_round': 196, 'train_acc': 0.9103, 'test_acc': 0.9112, 'train_loss': 0.2722, 'test_loss': 0.2622}\n",
      "WARNING:tensorflow:Compiled the loaded model, but the compiled metrics have yet to be built. `model.compile_metrics` will be empty until you train or evaluate the model.\n",
      "INFO:tensorflow:Assets written to: ./logs/NONIID-B600-E5-C0.1-MNIST-CNN-LR0.1/assets\n"
     ]
    },
    {
     "name": "stderr",
     "output_type": "stream",
     "text": [
      " 66%|██████▌   | 197/300 [1:54:14<1:04:06, 37.34s/it]"
     ]
    },
    {
     "name": "stdout",
     "output_type": "stream",
     "text": [
      "{'C': 0.1, 'B': 600, 'learning_rate': 0.1, 'comm_round': 197, 'train_acc': 0.9333, 'test_acc': 0.9361, 'train_loss': 0.2183, 'test_loss': 0.2099}\n",
      "WARNING:tensorflow:Compiled the loaded model, but the compiled metrics have yet to be built. `model.compile_metrics` will be empty until you train or evaluate the model.\n",
      "INFO:tensorflow:Assets written to: ./logs/NONIID-B600-E5-C0.1-MNIST-CNN-LR0.1/assets\n"
     ]
    },
    {
     "name": "stderr",
     "output_type": "stream",
     "text": [
      " 66%|██████▌   | 198/300 [1:54:49<1:02:21, 36.69s/it]"
     ]
    },
    {
     "name": "stdout",
     "output_type": "stream",
     "text": [
      "{'C': 0.1, 'B': 600, 'learning_rate': 0.1, 'comm_round': 198, 'train_acc': 0.9464, 'test_acc': 0.9487, 'train_loss': 0.1819, 'test_loss': 0.174}\n",
      "WARNING:tensorflow:Compiled the loaded model, but the compiled metrics have yet to be built. `model.compile_metrics` will be empty until you train or evaluate the model.\n",
      "INFO:tensorflow:Assets written to: ./logs/NONIID-B600-E5-C0.1-MNIST-CNN-LR0.1/assets\n"
     ]
    },
    {
     "name": "stderr",
     "output_type": "stream",
     "text": [
      " 66%|██████▋   | 199/300 [1:55:24<1:00:42, 36.07s/it]"
     ]
    },
    {
     "name": "stdout",
     "output_type": "stream",
     "text": [
      "{'C': 0.1, 'B': 600, 'learning_rate': 0.1, 'comm_round': 199, 'train_acc': 0.941, 'test_acc': 0.9433, 'train_loss': 0.1986, 'test_loss': 0.1914}\n",
      "WARNING:tensorflow:Compiled the loaded model, but the compiled metrics have yet to be built. `model.compile_metrics` will be empty until you train or evaluate the model.\n",
      "INFO:tensorflow:Assets written to: ./logs/NONIID-B600-E5-C0.1-MNIST-CNN-LR0.1/assets\n"
     ]
    },
    {
     "name": "stderr",
     "output_type": "stream",
     "text": [
      " 67%|██████▋   | 200/300 [1:55:59<59:42, 35.83s/it]  "
     ]
    },
    {
     "name": "stdout",
     "output_type": "stream",
     "text": [
      "{'C': 0.1, 'B': 600, 'learning_rate': 0.1, 'comm_round': 200, 'train_acc': 0.9281, 'test_acc': 0.9317, 'train_loss': 0.2247, 'test_loss': 0.2117}\n",
      "WARNING:tensorflow:Compiled the loaded model, but the compiled metrics have yet to be built. `model.compile_metrics` will be empty until you train or evaluate the model.\n",
      "INFO:tensorflow:Assets written to: ./logs/NONIID-B600-E5-C0.1-MNIST-CNN-LR0.1/assets\n"
     ]
    },
    {
     "name": "stderr",
     "output_type": "stream",
     "text": [
      " 67%|██████▋   | 201/300 [1:56:31<57:31, 34.86s/it]"
     ]
    },
    {
     "name": "stdout",
     "output_type": "stream",
     "text": [
      "{'C': 0.1, 'B': 600, 'learning_rate': 0.1, 'comm_round': 201, 'train_acc': 0.9055, 'test_acc': 0.9102, 'train_loss': 0.2684, 'test_loss': 0.2591}\n",
      "WARNING:tensorflow:Compiled the loaded model, but the compiled metrics have yet to be built. `model.compile_metrics` will be empty until you train or evaluate the model.\n",
      "INFO:tensorflow:Assets written to: ./logs/NONIID-B600-E5-C0.1-MNIST-CNN-LR0.1/assets\n"
     ]
    },
    {
     "name": "stderr",
     "output_type": "stream",
     "text": [
      " 67%|██████▋   | 202/300 [1:57:04<55:42, 34.11s/it]"
     ]
    },
    {
     "name": "stdout",
     "output_type": "stream",
     "text": [
      "{'C': 0.1, 'B': 600, 'learning_rate': 0.1, 'comm_round': 202, 'train_acc': 0.9248, 'test_acc': 0.93, 'train_loss': 0.2304, 'test_loss': 0.2178}\n",
      "WARNING:tensorflow:Compiled the loaded model, but the compiled metrics have yet to be built. `model.compile_metrics` will be empty until you train or evaluate the model.\n",
      "INFO:tensorflow:Assets written to: ./logs/NONIID-B600-E5-C0.1-MNIST-CNN-LR0.1/assets\n"
     ]
    },
    {
     "name": "stderr",
     "output_type": "stream",
     "text": [
      " 68%|██████▊   | 203/300 [1:57:35<53:54, 33.34s/it]"
     ]
    },
    {
     "name": "stdout",
     "output_type": "stream",
     "text": [
      "{'C': 0.1, 'B': 600, 'learning_rate': 0.1, 'comm_round': 203, 'train_acc': 0.8993, 'test_acc': 0.8975, 'train_loss': 0.2841, 'test_loss': 0.275}\n",
      "WARNING:tensorflow:Compiled the loaded model, but the compiled metrics have yet to be built. `model.compile_metrics` will be empty until you train or evaluate the model.\n",
      "INFO:tensorflow:Assets written to: ./logs/NONIID-B600-E5-C0.1-MNIST-CNN-LR0.1/assets\n"
     ]
    },
    {
     "name": "stderr",
     "output_type": "stream",
     "text": [
      " 68%|██████▊   | 204/300 [1:58:08<52:55, 33.08s/it]"
     ]
    },
    {
     "name": "stdout",
     "output_type": "stream",
     "text": [
      "{'C': 0.1, 'B': 600, 'learning_rate': 0.1, 'comm_round': 204, 'train_acc': 0.8933, 'test_acc': 0.8934, 'train_loss': 0.2949, 'test_loss': 0.2856}\n",
      "WARNING:tensorflow:Compiled the loaded model, but the compiled metrics have yet to be built. `model.compile_metrics` will be empty until you train or evaluate the model.\n",
      "INFO:tensorflow:Assets written to: ./logs/NONIID-B600-E5-C0.1-MNIST-CNN-LR0.1/assets\n"
     ]
    },
    {
     "name": "stderr",
     "output_type": "stream",
     "text": [
      " 68%|██████▊   | 205/300 [1:58:40<52:06, 32.91s/it]"
     ]
    },
    {
     "name": "stdout",
     "output_type": "stream",
     "text": [
      "{'C': 0.1, 'B': 600, 'learning_rate': 0.1, 'comm_round': 205, 'train_acc': 0.9474, 'test_acc': 0.9505, 'train_loss': 0.1779, 'test_loss': 0.1678}\n",
      "WARNING:tensorflow:Compiled the loaded model, but the compiled metrics have yet to be built. `model.compile_metrics` will be empty until you train or evaluate the model.\n",
      "INFO:tensorflow:Assets written to: ./logs/NONIID-B600-E5-C0.1-MNIST-CNN-LR0.1/assets\n"
     ]
    },
    {
     "name": "stderr",
     "output_type": "stream",
     "text": [
      " 69%|██████▊   | 206/300 [1:59:13<51:36, 32.94s/it]"
     ]
    },
    {
     "name": "stdout",
     "output_type": "stream",
     "text": [
      "{'C': 0.1, 'B': 600, 'learning_rate': 0.1, 'comm_round': 206, 'train_acc': 0.9087, 'test_acc': 0.9132, 'train_loss': 0.2725, 'test_loss': 0.2632}\n",
      "WARNING:tensorflow:Compiled the loaded model, but the compiled metrics have yet to be built. `model.compile_metrics` will be empty until you train or evaluate the model.\n",
      "INFO:tensorflow:Assets written to: ./logs/NONIID-B600-E5-C0.1-MNIST-CNN-LR0.1/assets\n"
     ]
    },
    {
     "name": "stderr",
     "output_type": "stream",
     "text": [
      " 69%|██████▉   | 207/300 [1:59:47<51:21, 33.13s/it]"
     ]
    },
    {
     "name": "stdout",
     "output_type": "stream",
     "text": [
      "{'C': 0.1, 'B': 600, 'learning_rate': 0.1, 'comm_round': 207, 'train_acc': 0.9406, 'test_acc': 0.9425, 'train_loss': 0.1914, 'test_loss': 0.1799}\n",
      "WARNING:tensorflow:Compiled the loaded model, but the compiled metrics have yet to be built. `model.compile_metrics` will be empty until you train or evaluate the model.\n",
      "INFO:tensorflow:Assets written to: ./logs/NONIID-B600-E5-C0.1-MNIST-CNN-LR0.1/assets\n"
     ]
    },
    {
     "name": "stderr",
     "output_type": "stream",
     "text": [
      " 69%|██████▉   | 208/300 [2:00:19<50:11, 32.74s/it]"
     ]
    },
    {
     "name": "stdout",
     "output_type": "stream",
     "text": [
      "{'C': 0.1, 'B': 600, 'learning_rate': 0.1, 'comm_round': 208, 'train_acc': 0.8747, 'test_acc': 0.8791, 'train_loss': 0.3528, 'test_loss': 0.3408}\n",
      "WARNING:tensorflow:Compiled the loaded model, but the compiled metrics have yet to be built. `model.compile_metrics` will be empty until you train or evaluate the model.\n",
      "INFO:tensorflow:Assets written to: ./logs/NONIID-B600-E5-C0.1-MNIST-CNN-LR0.1/assets\n"
     ]
    },
    {
     "name": "stderr",
     "output_type": "stream",
     "text": [
      " 70%|██████▉   | 209/300 [2:00:53<50:17, 33.16s/it]"
     ]
    },
    {
     "name": "stdout",
     "output_type": "stream",
     "text": [
      "{'C': 0.1, 'B': 600, 'learning_rate': 0.1, 'comm_round': 209, 'train_acc': 0.9092, 'test_acc': 0.9121, 'train_loss': 0.263, 'test_loss': 0.2535}\n",
      "WARNING:tensorflow:Compiled the loaded model, but the compiled metrics have yet to be built. `model.compile_metrics` will be empty until you train or evaluate the model.\n",
      "INFO:tensorflow:Assets written to: ./logs/NONIID-B600-E5-C0.1-MNIST-CNN-LR0.1/assets\n"
     ]
    },
    {
     "name": "stderr",
     "output_type": "stream",
     "text": [
      " 70%|███████   | 210/300 [2:01:25<49:29, 32.99s/it]"
     ]
    },
    {
     "name": "stdout",
     "output_type": "stream",
     "text": [
      "{'C': 0.1, 'B': 600, 'learning_rate': 0.1, 'comm_round': 210, 'train_acc': 0.9237, 'test_acc': 0.9237, 'train_loss': 0.2309, 'test_loss': 0.2226}\n",
      "WARNING:tensorflow:Compiled the loaded model, but the compiled metrics have yet to be built. `model.compile_metrics` will be empty until you train or evaluate the model.\n",
      "INFO:tensorflow:Assets written to: ./logs/NONIID-B600-E5-C0.1-MNIST-CNN-LR0.1/assets\n"
     ]
    },
    {
     "name": "stderr",
     "output_type": "stream",
     "text": [
      " 70%|███████   | 211/300 [2:01:57<48:23, 32.63s/it]"
     ]
    },
    {
     "name": "stdout",
     "output_type": "stream",
     "text": [
      "{'C': 0.1, 'B': 600, 'learning_rate': 0.1, 'comm_round': 211, 'train_acc': 0.9244, 'test_acc': 0.9247, 'train_loss': 0.2254, 'test_loss': 0.2186}\n",
      "WARNING:tensorflow:Compiled the loaded model, but the compiled metrics have yet to be built. `model.compile_metrics` will be empty until you train or evaluate the model.\n",
      "INFO:tensorflow:Assets written to: ./logs/NONIID-B600-E5-C0.1-MNIST-CNN-LR0.1/assets\n"
     ]
    },
    {
     "name": "stderr",
     "output_type": "stream",
     "text": [
      " 71%|███████   | 212/300 [2:02:29<47:33, 32.43s/it]"
     ]
    },
    {
     "name": "stdout",
     "output_type": "stream",
     "text": [
      "{'C': 0.1, 'B': 600, 'learning_rate': 0.1, 'comm_round': 212, 'train_acc': 0.9279, 'test_acc': 0.9272, 'train_loss': 0.2196, 'test_loss': 0.2132}\n",
      "WARNING:tensorflow:Compiled the loaded model, but the compiled metrics have yet to be built. `model.compile_metrics` will be empty until you train or evaluate the model.\n",
      "INFO:tensorflow:Assets written to: ./logs/NONIID-B600-E5-C0.1-MNIST-CNN-LR0.1/assets\n"
     ]
    },
    {
     "name": "stderr",
     "output_type": "stream",
     "text": [
      " 71%|███████   | 213/300 [2:03:00<46:29, 32.06s/it]"
     ]
    },
    {
     "name": "stdout",
     "output_type": "stream",
     "text": [
      "{'C': 0.1, 'B': 600, 'learning_rate': 0.1, 'comm_round': 213, 'train_acc': 0.9477, 'test_acc': 0.9518, 'train_loss': 0.1831, 'test_loss': 0.1741}\n",
      "WARNING:tensorflow:Compiled the loaded model, but the compiled metrics have yet to be built. `model.compile_metrics` will be empty until you train or evaluate the model.\n",
      "INFO:tensorflow:Assets written to: ./logs/NONIID-B600-E5-C0.1-MNIST-CNN-LR0.1/assets\n"
     ]
    },
    {
     "name": "stderr",
     "output_type": "stream",
     "text": [
      " 71%|███████▏  | 214/300 [2:03:32<45:50, 31.98s/it]"
     ]
    },
    {
     "name": "stdout",
     "output_type": "stream",
     "text": [
      "{'C': 0.1, 'B': 600, 'learning_rate': 0.1, 'comm_round': 214, 'train_acc': 0.8971, 'test_acc': 0.9005, 'train_loss': 0.2848, 'test_loss': 0.2786}\n",
      "WARNING:tensorflow:Compiled the loaded model, but the compiled metrics have yet to be built. `model.compile_metrics` will be empty until you train or evaluate the model.\n",
      "INFO:tensorflow:Assets written to: ./logs/NONIID-B600-E5-C0.1-MNIST-CNN-LR0.1/assets\n"
     ]
    },
    {
     "name": "stderr",
     "output_type": "stream",
     "text": [
      " 72%|███████▏  | 215/300 [2:04:04<45:13, 31.93s/it]"
     ]
    },
    {
     "name": "stdout",
     "output_type": "stream",
     "text": [
      "{'C': 0.1, 'B': 600, 'learning_rate': 0.1, 'comm_round': 215, 'train_acc': 0.9558, 'test_acc': 0.9585, 'train_loss': 0.1521, 'test_loss': 0.1447}\n",
      "WARNING:tensorflow:Compiled the loaded model, but the compiled metrics have yet to be built. `model.compile_metrics` will be empty until you train or evaluate the model.\n",
      "INFO:tensorflow:Assets written to: ./logs/NONIID-B600-E5-C0.1-MNIST-CNN-LR0.1/assets\n"
     ]
    },
    {
     "name": "stderr",
     "output_type": "stream",
     "text": [
      " 72%|███████▏  | 216/300 [2:04:35<44:26, 31.74s/it]"
     ]
    },
    {
     "name": "stdout",
     "output_type": "stream",
     "text": [
      "{'C': 0.1, 'B': 600, 'learning_rate': 0.1, 'comm_round': 216, 'train_acc': 0.9496, 'test_acc': 0.9542, 'train_loss': 0.1696, 'test_loss': 0.1592}\n",
      "WARNING:tensorflow:Compiled the loaded model, but the compiled metrics have yet to be built. `model.compile_metrics` will be empty until you train or evaluate the model.\n",
      "INFO:tensorflow:Assets written to: ./logs/NONIID-B600-E5-C0.1-MNIST-CNN-LR0.1/assets\n"
     ]
    },
    {
     "name": "stderr",
     "output_type": "stream",
     "text": [
      " 72%|███████▏  | 217/300 [2:05:09<44:30, 32.18s/it]"
     ]
    },
    {
     "name": "stdout",
     "output_type": "stream",
     "text": [
      "{'C': 0.1, 'B': 600, 'learning_rate': 0.1, 'comm_round': 217, 'train_acc': 0.9503, 'test_acc': 0.9555, 'train_loss': 0.1665, 'test_loss': 0.1528}\n",
      "WARNING:tensorflow:Compiled the loaded model, but the compiled metrics have yet to be built. `model.compile_metrics` will be empty until you train or evaluate the model.\n",
      "INFO:tensorflow:Assets written to: ./logs/NONIID-B600-E5-C0.1-MNIST-CNN-LR0.1/assets\n"
     ]
    },
    {
     "name": "stderr",
     "output_type": "stream",
     "text": [
      " 73%|███████▎  | 218/300 [2:05:41<43:59, 32.18s/it]"
     ]
    },
    {
     "name": "stdout",
     "output_type": "stream",
     "text": [
      "{'C': 0.1, 'B': 600, 'learning_rate': 0.1, 'comm_round': 218, 'train_acc': 0.9385, 'test_acc': 0.9406, 'train_loss': 0.205, 'test_loss': 0.1906}\n",
      "WARNING:tensorflow:Compiled the loaded model, but the compiled metrics have yet to be built. `model.compile_metrics` will be empty until you train or evaluate the model.\n",
      "INFO:tensorflow:Assets written to: ./logs/NONIID-B600-E5-C0.1-MNIST-CNN-LR0.1/assets\n"
     ]
    },
    {
     "name": "stderr",
     "output_type": "stream",
     "text": [
      " 73%|███████▎  | 219/300 [2:06:13<43:34, 32.28s/it]"
     ]
    },
    {
     "name": "stdout",
     "output_type": "stream",
     "text": [
      "{'C': 0.1, 'B': 600, 'learning_rate': 0.1, 'comm_round': 219, 'train_acc': 0.9177, 'test_acc': 0.922, 'train_loss': 0.2415, 'test_loss': 0.2252}\n",
      "WARNING:tensorflow:Compiled the loaded model, but the compiled metrics have yet to be built. `model.compile_metrics` will be empty until you train or evaluate the model.\n",
      "INFO:tensorflow:Assets written to: ./logs/NONIID-B600-E5-C0.1-MNIST-CNN-LR0.1/assets\n"
     ]
    },
    {
     "name": "stderr",
     "output_type": "stream",
     "text": [
      " 73%|███████▎  | 220/300 [2:06:45<42:52, 32.16s/it]"
     ]
    },
    {
     "name": "stdout",
     "output_type": "stream",
     "text": [
      "{'C': 0.1, 'B': 600, 'learning_rate': 0.1, 'comm_round': 220, 'train_acc': 0.9108, 'test_acc': 0.9177, 'train_loss': 0.2659, 'test_loss': 0.2469}\n",
      "WARNING:tensorflow:Compiled the loaded model, but the compiled metrics have yet to be built. `model.compile_metrics` will be empty until you train or evaluate the model.\n",
      "INFO:tensorflow:Assets written to: ./logs/NONIID-B600-E5-C0.1-MNIST-CNN-LR0.1/assets\n"
     ]
    },
    {
     "name": "stderr",
     "output_type": "stream",
     "text": [
      " 74%|███████▎  | 221/300 [2:07:18<42:27, 32.25s/it]"
     ]
    },
    {
     "name": "stdout",
     "output_type": "stream",
     "text": [
      "{'C': 0.1, 'B': 600, 'learning_rate': 0.1, 'comm_round': 221, 'train_acc': 0.9078, 'test_acc': 0.9118, 'train_loss': 0.2649, 'test_loss': 0.2532}\n",
      "WARNING:tensorflow:Compiled the loaded model, but the compiled metrics have yet to be built. `model.compile_metrics` will be empty until you train or evaluate the model.\n",
      "INFO:tensorflow:Assets written to: ./logs/NONIID-B600-E5-C0.1-MNIST-CNN-LR0.1/assets\n"
     ]
    },
    {
     "name": "stderr",
     "output_type": "stream",
     "text": [
      " 74%|███████▍  | 222/300 [2:07:49<41:42, 32.08s/it]"
     ]
    },
    {
     "name": "stdout",
     "output_type": "stream",
     "text": [
      "{'C': 0.1, 'B': 600, 'learning_rate': 0.1, 'comm_round': 222, 'train_acc': 0.9433, 'test_acc': 0.9465, 'train_loss': 0.1921, 'test_loss': 0.1796}\n",
      "WARNING:tensorflow:Compiled the loaded model, but the compiled metrics have yet to be built. `model.compile_metrics` will be empty until you train or evaluate the model.\n",
      "INFO:tensorflow:Assets written to: ./logs/NONIID-B600-E5-C0.1-MNIST-CNN-LR0.1/assets\n"
     ]
    },
    {
     "name": "stderr",
     "output_type": "stream",
     "text": [
      " 74%|███████▍  | 223/300 [2:08:22<41:20, 32.22s/it]"
     ]
    },
    {
     "name": "stdout",
     "output_type": "stream",
     "text": [
      "{'C': 0.1, 'B': 600, 'learning_rate': 0.1, 'comm_round': 223, 'train_acc': 0.9494, 'test_acc': 0.952, 'train_loss': 0.1751, 'test_loss': 0.1641}\n",
      "WARNING:tensorflow:Compiled the loaded model, but the compiled metrics have yet to be built. `model.compile_metrics` will be empty until you train or evaluate the model.\n",
      "INFO:tensorflow:Assets written to: ./logs/NONIID-B600-E5-C0.1-MNIST-CNN-LR0.1/assets\n"
     ]
    },
    {
     "name": "stderr",
     "output_type": "stream",
     "text": [
      " 75%|███████▍  | 224/300 [2:08:54<40:50, 32.24s/it]"
     ]
    },
    {
     "name": "stdout",
     "output_type": "stream",
     "text": [
      "{'C': 0.1, 'B': 600, 'learning_rate': 0.1, 'comm_round': 224, 'train_acc': 0.8886, 'test_acc': 0.8962, 'train_loss': 0.3239, 'test_loss': 0.3147}\n",
      "WARNING:tensorflow:Compiled the loaded model, but the compiled metrics have yet to be built. `model.compile_metrics` will be empty until you train or evaluate the model.\n",
      "INFO:tensorflow:Assets written to: ./logs/NONIID-B600-E5-C0.1-MNIST-CNN-LR0.1/assets\n"
     ]
    },
    {
     "name": "stderr",
     "output_type": "stream",
     "text": [
      " 75%|███████▌  | 225/300 [2:09:26<40:18, 32.25s/it]"
     ]
    },
    {
     "name": "stdout",
     "output_type": "stream",
     "text": [
      "{'C': 0.1, 'B': 600, 'learning_rate': 0.1, 'comm_round': 225, 'train_acc': 0.9556, 'test_acc': 0.9585, 'train_loss': 0.1554, 'test_loss': 0.1448}\n",
      "WARNING:tensorflow:Compiled the loaded model, but the compiled metrics have yet to be built. `model.compile_metrics` will be empty until you train or evaluate the model.\n",
      "INFO:tensorflow:Assets written to: ./logs/NONIID-B600-E5-C0.1-MNIST-CNN-LR0.1/assets\n"
     ]
    },
    {
     "name": "stderr",
     "output_type": "stream",
     "text": [
      " 75%|███████▌  | 226/300 [2:09:59<39:50, 32.31s/it]"
     ]
    },
    {
     "name": "stdout",
     "output_type": "stream",
     "text": [
      "{'C': 0.1, 'B': 600, 'learning_rate': 0.1, 'comm_round': 226, 'train_acc': 0.959, 'test_acc': 0.9611, 'train_loss': 0.1454, 'test_loss': 0.1367}\n",
      "WARNING:tensorflow:Compiled the loaded model, but the compiled metrics have yet to be built. `model.compile_metrics` will be empty until you train or evaluate the model.\n",
      "INFO:tensorflow:Assets written to: ./logs/NONIID-B600-E5-C0.1-MNIST-CNN-LR0.1/assets\n"
     ]
    },
    {
     "name": "stderr",
     "output_type": "stream",
     "text": [
      " 76%|███████▌  | 227/300 [2:10:31<39:08, 32.17s/it]"
     ]
    },
    {
     "name": "stdout",
     "output_type": "stream",
     "text": [
      "{'C': 0.1, 'B': 600, 'learning_rate': 0.1, 'comm_round': 227, 'train_acc': 0.9464, 'test_acc': 0.9494, 'train_loss': 0.1761, 'test_loss': 0.1644}\n",
      "WARNING:tensorflow:Compiled the loaded model, but the compiled metrics have yet to be built. `model.compile_metrics` will be empty until you train or evaluate the model.\n",
      "INFO:tensorflow:Assets written to: ./logs/NONIID-B600-E5-C0.1-MNIST-CNN-LR0.1/assets\n"
     ]
    },
    {
     "name": "stderr",
     "output_type": "stream",
     "text": [
      " 76%|███████▌  | 228/300 [2:11:03<38:33, 32.14s/it]"
     ]
    },
    {
     "name": "stdout",
     "output_type": "stream",
     "text": [
      "{'C': 0.1, 'B': 600, 'learning_rate': 0.1, 'comm_round': 228, 'train_acc': 0.9492, 'test_acc': 0.9527, 'train_loss': 0.1634, 'test_loss': 0.1481}\n",
      "WARNING:tensorflow:Compiled the loaded model, but the compiled metrics have yet to be built. `model.compile_metrics` will be empty until you train or evaluate the model.\n",
      "INFO:tensorflow:Assets written to: ./logs/NONIID-B600-E5-C0.1-MNIST-CNN-LR0.1/assets\n"
     ]
    },
    {
     "name": "stderr",
     "output_type": "stream",
     "text": [
      " 76%|███████▋  | 229/300 [2:11:34<37:35, 31.77s/it]"
     ]
    },
    {
     "name": "stdout",
     "output_type": "stream",
     "text": [
      "{'C': 0.1, 'B': 600, 'learning_rate': 0.1, 'comm_round': 229, 'train_acc': 0.9282, 'test_acc': 0.9304, 'train_loss': 0.2232, 'test_loss': 0.2131}\n",
      "WARNING:tensorflow:Compiled the loaded model, but the compiled metrics have yet to be built. `model.compile_metrics` will be empty until you train or evaluate the model.\n",
      "INFO:tensorflow:Assets written to: ./logs/NONIID-B600-E5-C0.1-MNIST-CNN-LR0.1/assets\n"
     ]
    },
    {
     "name": "stderr",
     "output_type": "stream",
     "text": [
      " 77%|███████▋  | 230/300 [2:12:06<37:19, 31.99s/it]"
     ]
    },
    {
     "name": "stdout",
     "output_type": "stream",
     "text": [
      "{'C': 0.1, 'B': 600, 'learning_rate': 0.1, 'comm_round': 230, 'train_acc': 0.9534, 'test_acc': 0.9553, 'train_loss': 0.1549, 'test_loss': 0.1428}\n",
      "WARNING:tensorflow:Compiled the loaded model, but the compiled metrics have yet to be built. `model.compile_metrics` will be empty until you train or evaluate the model.\n",
      "INFO:tensorflow:Assets written to: ./logs/NONIID-B600-E5-C0.1-MNIST-CNN-LR0.1/assets\n"
     ]
    },
    {
     "name": "stderr",
     "output_type": "stream",
     "text": [
      " 77%|███████▋  | 231/300 [2:12:37<36:33, 31.78s/it]"
     ]
    },
    {
     "name": "stdout",
     "output_type": "stream",
     "text": [
      "{'C': 0.1, 'B': 600, 'learning_rate': 0.1, 'comm_round': 231, 'train_acc': 0.9424, 'test_acc': 0.9457, 'train_loss': 0.184, 'test_loss': 0.1733}\n",
      "WARNING:tensorflow:Compiled the loaded model, but the compiled metrics have yet to be built. `model.compile_metrics` will be empty until you train or evaluate the model.\n",
      "INFO:tensorflow:Assets written to: ./logs/NONIID-B600-E5-C0.1-MNIST-CNN-LR0.1/assets\n"
     ]
    },
    {
     "name": "stderr",
     "output_type": "stream",
     "text": [
      " 77%|███████▋  | 232/300 [2:13:09<36:03, 31.82s/it]"
     ]
    },
    {
     "name": "stdout",
     "output_type": "stream",
     "text": [
      "{'C': 0.1, 'B': 600, 'learning_rate': 0.1, 'comm_round': 232, 'train_acc': 0.9031, 'test_acc': 0.908, 'train_loss': 0.2682, 'test_loss': 0.2565}\n",
      "WARNING:tensorflow:Compiled the loaded model, but the compiled metrics have yet to be built. `model.compile_metrics` will be empty until you train or evaluate the model.\n",
      "INFO:tensorflow:Assets written to: ./logs/NONIID-B600-E5-C0.1-MNIST-CNN-LR0.1/assets\n"
     ]
    },
    {
     "name": "stderr",
     "output_type": "stream",
     "text": [
      " 78%|███████▊  | 233/300 [2:13:40<35:18, 31.61s/it]"
     ]
    },
    {
     "name": "stdout",
     "output_type": "stream",
     "text": [
      "{'C': 0.1, 'B': 600, 'learning_rate': 0.1, 'comm_round': 233, 'train_acc': 0.9186, 'test_acc': 0.9217, 'train_loss': 0.2341, 'test_loss': 0.2232}\n",
      "WARNING:tensorflow:Compiled the loaded model, but the compiled metrics have yet to be built. `model.compile_metrics` will be empty until you train or evaluate the model.\n",
      "INFO:tensorflow:Assets written to: ./logs/NONIID-B600-E5-C0.1-MNIST-CNN-LR0.1/assets\n"
     ]
    },
    {
     "name": "stderr",
     "output_type": "stream",
     "text": [
      " 78%|███████▊  | 234/300 [2:14:12<34:44, 31.58s/it]"
     ]
    },
    {
     "name": "stdout",
     "output_type": "stream",
     "text": [
      "{'C': 0.1, 'B': 600, 'learning_rate': 0.1, 'comm_round': 234, 'train_acc': 0.9374, 'test_acc': 0.9408, 'train_loss': 0.1962, 'test_loss': 0.1865}\n",
      "WARNING:tensorflow:Compiled the loaded model, but the compiled metrics have yet to be built. `model.compile_metrics` will be empty until you train or evaluate the model.\n",
      "INFO:tensorflow:Assets written to: ./logs/NONIID-B600-E5-C0.1-MNIST-CNN-LR0.1/assets\n"
     ]
    },
    {
     "name": "stderr",
     "output_type": "stream",
     "text": [
      " 78%|███████▊  | 235/300 [2:14:44<34:22, 31.72s/it]"
     ]
    },
    {
     "name": "stdout",
     "output_type": "stream",
     "text": [
      "{'C': 0.1, 'B': 600, 'learning_rate': 0.1, 'comm_round': 235, 'train_acc': 0.9557, 'test_acc': 0.9602, 'train_loss': 0.1516, 'test_loss': 0.1458}\n",
      "WARNING:tensorflow:Compiled the loaded model, but the compiled metrics have yet to be built. `model.compile_metrics` will be empty until you train or evaluate the model.\n",
      "INFO:tensorflow:Assets written to: ./logs/NONIID-B600-E5-C0.1-MNIST-CNN-LR0.1/assets\n"
     ]
    },
    {
     "name": "stderr",
     "output_type": "stream",
     "text": [
      " 79%|███████▊  | 236/300 [2:15:16<33:53, 31.77s/it]"
     ]
    },
    {
     "name": "stdout",
     "output_type": "stream",
     "text": [
      "{'C': 0.1, 'B': 600, 'learning_rate': 0.1, 'comm_round': 236, 'train_acc': 0.9516, 'test_acc': 0.9549, 'train_loss': 0.1616, 'test_loss': 0.1529}\n",
      "WARNING:tensorflow:Compiled the loaded model, but the compiled metrics have yet to be built. `model.compile_metrics` will be empty until you train or evaluate the model.\n",
      "INFO:tensorflow:Assets written to: ./logs/NONIID-B600-E5-C0.1-MNIST-CNN-LR0.1/assets\n"
     ]
    },
    {
     "name": "stderr",
     "output_type": "stream",
     "text": [
      " 79%|███████▉  | 237/300 [2:15:48<33:35, 31.99s/it]"
     ]
    },
    {
     "name": "stdout",
     "output_type": "stream",
     "text": [
      "{'C': 0.1, 'B': 600, 'learning_rate': 0.1, 'comm_round': 237, 'train_acc': 0.954, 'test_acc': 0.9571, 'train_loss': 0.1549, 'test_loss': 0.1459}\n",
      "WARNING:tensorflow:Compiled the loaded model, but the compiled metrics have yet to be built. `model.compile_metrics` will be empty until you train or evaluate the model.\n",
      "INFO:tensorflow:Assets written to: ./logs/NONIID-B600-E5-C0.1-MNIST-CNN-LR0.1/assets\n"
     ]
    },
    {
     "name": "stderr",
     "output_type": "stream",
     "text": [
      " 79%|███████▉  | 238/300 [2:16:20<32:57, 31.89s/it]"
     ]
    },
    {
     "name": "stdout",
     "output_type": "stream",
     "text": [
      "{'C': 0.1, 'B': 600, 'learning_rate': 0.1, 'comm_round': 238, 'train_acc': 0.955, 'test_acc': 0.9581, 'train_loss': 0.1565, 'test_loss': 0.1511}\n",
      "WARNING:tensorflow:Compiled the loaded model, but the compiled metrics have yet to be built. `model.compile_metrics` will be empty until you train or evaluate the model.\n",
      "INFO:tensorflow:Assets written to: ./logs/NONIID-B600-E5-C0.1-MNIST-CNN-LR0.1/assets\n"
     ]
    },
    {
     "name": "stderr",
     "output_type": "stream",
     "text": [
      " 80%|███████▉  | 239/300 [2:16:52<32:21, 31.84s/it]"
     ]
    },
    {
     "name": "stdout",
     "output_type": "stream",
     "text": [
      "{'C': 0.1, 'B': 600, 'learning_rate': 0.1, 'comm_round': 239, 'train_acc': 0.8845, 'test_acc': 0.8883, 'train_loss': 0.3166, 'test_loss': 0.3081}\n",
      "WARNING:tensorflow:Compiled the loaded model, but the compiled metrics have yet to be built. `model.compile_metrics` will be empty until you train or evaluate the model.\n",
      "INFO:tensorflow:Assets written to: ./logs/NONIID-B600-E5-C0.1-MNIST-CNN-LR0.1/assets\n"
     ]
    },
    {
     "name": "stderr",
     "output_type": "stream",
     "text": [
      " 80%|████████  | 240/300 [2:17:23<31:46, 31.78s/it]"
     ]
    },
    {
     "name": "stdout",
     "output_type": "stream",
     "text": [
      "{'C': 0.1, 'B': 600, 'learning_rate': 0.1, 'comm_round': 240, 'train_acc': 0.9458, 'test_acc': 0.9481, 'train_loss': 0.1843, 'test_loss': 0.1729}\n",
      "WARNING:tensorflow:Compiled the loaded model, but the compiled metrics have yet to be built. `model.compile_metrics` will be empty until you train or evaluate the model.\n",
      "INFO:tensorflow:Assets written to: ./logs/NONIID-B600-E5-C0.1-MNIST-CNN-LR0.1/assets\n"
     ]
    },
    {
     "name": "stderr",
     "output_type": "stream",
     "text": [
      " 80%|████████  | 241/300 [2:17:55<31:10, 31.71s/it]"
     ]
    },
    {
     "name": "stdout",
     "output_type": "stream",
     "text": [
      "{'C': 0.1, 'B': 600, 'learning_rate': 0.1, 'comm_round': 241, 'train_acc': 0.9085, 'test_acc': 0.9084, 'train_loss': 0.2664, 'test_loss': 0.2582}\n",
      "WARNING:tensorflow:Compiled the loaded model, but the compiled metrics have yet to be built. `model.compile_metrics` will be empty until you train or evaluate the model.\n",
      "INFO:tensorflow:Assets written to: ./logs/NONIID-B600-E5-C0.1-MNIST-CNN-LR0.1/assets\n"
     ]
    },
    {
     "name": "stderr",
     "output_type": "stream",
     "text": [
      " 81%|████████  | 242/300 [2:18:26<30:27, 31.51s/it]"
     ]
    },
    {
     "name": "stdout",
     "output_type": "stream",
     "text": [
      "{'C': 0.1, 'B': 600, 'learning_rate': 0.1, 'comm_round': 242, 'train_acc': 0.8993, 'test_acc': 0.8995, 'train_loss': 0.2811, 'test_loss': 0.2734}\n",
      "WARNING:tensorflow:Compiled the loaded model, but the compiled metrics have yet to be built. `model.compile_metrics` will be empty until you train or evaluate the model.\n",
      "INFO:tensorflow:Assets written to: ./logs/NONIID-B600-E5-C0.1-MNIST-CNN-LR0.1/assets\n"
     ]
    },
    {
     "name": "stderr",
     "output_type": "stream",
     "text": [
      " 81%|████████  | 243/300 [2:18:57<29:53, 31.47s/it]"
     ]
    },
    {
     "name": "stdout",
     "output_type": "stream",
     "text": [
      "{'C': 0.1, 'B': 600, 'learning_rate': 0.1, 'comm_round': 243, 'train_acc': 0.9186, 'test_acc': 0.9216, 'train_loss': 0.2345, 'test_loss': 0.2243}\n",
      "WARNING:tensorflow:Compiled the loaded model, but the compiled metrics have yet to be built. `model.compile_metrics` will be empty until you train or evaluate the model.\n",
      "INFO:tensorflow:Assets written to: ./logs/NONIID-B600-E5-C0.1-MNIST-CNN-LR0.1/assets\n"
     ]
    },
    {
     "name": "stderr",
     "output_type": "stream",
     "text": [
      " 81%|████████▏ | 244/300 [2:19:28<29:16, 31.36s/it]"
     ]
    },
    {
     "name": "stdout",
     "output_type": "stream",
     "text": [
      "{'C': 0.1, 'B': 600, 'learning_rate': 0.1, 'comm_round': 244, 'train_acc': 0.9547, 'test_acc': 0.9581, 'train_loss': 0.1528, 'test_loss': 0.1443}\n",
      "WARNING:tensorflow:Compiled the loaded model, but the compiled metrics have yet to be built. `model.compile_metrics` will be empty until you train or evaluate the model.\n",
      "INFO:tensorflow:Assets written to: ./logs/NONIID-B600-E5-C0.1-MNIST-CNN-LR0.1/assets\n"
     ]
    },
    {
     "name": "stderr",
     "output_type": "stream",
     "text": [
      " 82%|████████▏ | 245/300 [2:20:00<28:42, 31.32s/it]"
     ]
    },
    {
     "name": "stdout",
     "output_type": "stream",
     "text": [
      "{'C': 0.1, 'B': 600, 'learning_rate': 0.1, 'comm_round': 245, 'train_acc': 0.9412, 'test_acc': 0.9425, 'train_loss': 0.1874, 'test_loss': 0.1761}\n",
      "WARNING:tensorflow:Compiled the loaded model, but the compiled metrics have yet to be built. `model.compile_metrics` will be empty until you train or evaluate the model.\n",
      "INFO:tensorflow:Assets written to: ./logs/NONIID-B600-E5-C0.1-MNIST-CNN-LR0.1/assets\n"
     ]
    },
    {
     "name": "stderr",
     "output_type": "stream",
     "text": [
      " 82%|████████▏ | 246/300 [2:20:31<28:13, 31.37s/it]"
     ]
    },
    {
     "name": "stdout",
     "output_type": "stream",
     "text": [
      "{'C': 0.1, 'B': 600, 'learning_rate': 0.1, 'comm_round': 246, 'train_acc': 0.9496, 'test_acc': 0.9502, 'train_loss': 0.169, 'test_loss': 0.1598}\n",
      "WARNING:tensorflow:Compiled the loaded model, but the compiled metrics have yet to be built. `model.compile_metrics` will be empty until you train or evaluate the model.\n",
      "INFO:tensorflow:Assets written to: ./logs/NONIID-B600-E5-C0.1-MNIST-CNN-LR0.1/assets\n"
     ]
    },
    {
     "name": "stderr",
     "output_type": "stream",
     "text": [
      " 82%|████████▏ | 247/300 [2:21:02<27:34, 31.22s/it]"
     ]
    },
    {
     "name": "stdout",
     "output_type": "stream",
     "text": [
      "{'C': 0.1, 'B': 600, 'learning_rate': 0.1, 'comm_round': 247, 'train_acc': 0.9056, 'test_acc': 0.9047, 'train_loss': 0.2642, 'test_loss': 0.2528}\n",
      "WARNING:tensorflow:Compiled the loaded model, but the compiled metrics have yet to be built. `model.compile_metrics` will be empty until you train or evaluate the model.\n",
      "INFO:tensorflow:Assets written to: ./logs/NONIID-B600-E5-C0.1-MNIST-CNN-LR0.1/assets\n"
     ]
    },
    {
     "name": "stderr",
     "output_type": "stream",
     "text": [
      " 83%|████████▎ | 248/300 [2:21:34<27:07, 31.31s/it]"
     ]
    },
    {
     "name": "stdout",
     "output_type": "stream",
     "text": [
      "{'C': 0.1, 'B': 600, 'learning_rate': 0.1, 'comm_round': 248, 'train_acc': 0.9448, 'test_acc': 0.9485, 'train_loss': 0.1764, 'test_loss': 0.1625}\n",
      "WARNING:tensorflow:Compiled the loaded model, but the compiled metrics have yet to be built. `model.compile_metrics` will be empty until you train or evaluate the model.\n",
      "INFO:tensorflow:Assets written to: ./logs/NONIID-B600-E5-C0.1-MNIST-CNN-LR0.1/assets\n"
     ]
    },
    {
     "name": "stderr",
     "output_type": "stream",
     "text": [
      " 83%|████████▎ | 249/300 [2:22:05<26:41, 31.40s/it]"
     ]
    },
    {
     "name": "stdout",
     "output_type": "stream",
     "text": [
      "{'C': 0.1, 'B': 600, 'learning_rate': 0.1, 'comm_round': 249, 'train_acc': 0.952, 'test_acc': 0.9559, 'train_loss': 0.159, 'test_loss': 0.152}\n",
      "WARNING:tensorflow:Compiled the loaded model, but the compiled metrics have yet to be built. `model.compile_metrics` will be empty until you train or evaluate the model.\n",
      "INFO:tensorflow:Assets written to: ./logs/NONIID-B600-E5-C0.1-MNIST-CNN-LR0.1/assets\n"
     ]
    },
    {
     "name": "stderr",
     "output_type": "stream",
     "text": [
      " 83%|████████▎ | 250/300 [2:22:36<26:06, 31.34s/it]"
     ]
    },
    {
     "name": "stdout",
     "output_type": "stream",
     "text": [
      "{'C': 0.1, 'B': 600, 'learning_rate': 0.1, 'comm_round': 250, 'train_acc': 0.9447, 'test_acc': 0.949, 'train_loss': 0.1869, 'test_loss': 0.1758}\n",
      "WARNING:tensorflow:Compiled the loaded model, but the compiled metrics have yet to be built. `model.compile_metrics` will be empty until you train or evaluate the model.\n",
      "INFO:tensorflow:Assets written to: ./logs/NONIID-B600-E5-C0.1-MNIST-CNN-LR0.1/assets\n"
     ]
    },
    {
     "name": "stderr",
     "output_type": "stream",
     "text": [
      " 84%|████████▎ | 251/300 [2:23:07<25:31, 31.26s/it]"
     ]
    },
    {
     "name": "stdout",
     "output_type": "stream",
     "text": [
      "{'C': 0.1, 'B': 600, 'learning_rate': 0.1, 'comm_round': 251, 'train_acc': 0.924, 'test_acc': 0.9242, 'train_loss': 0.2272, 'test_loss': 0.2165}\n",
      "WARNING:tensorflow:Compiled the loaded model, but the compiled metrics have yet to be built. `model.compile_metrics` will be empty until you train or evaluate the model.\n",
      "INFO:tensorflow:Assets written to: ./logs/NONIID-B600-E5-C0.1-MNIST-CNN-LR0.1/assets\n"
     ]
    },
    {
     "name": "stderr",
     "output_type": "stream",
     "text": [
      " 84%|████████▍ | 252/300 [2:23:39<25:00, 31.27s/it]"
     ]
    },
    {
     "name": "stdout",
     "output_type": "stream",
     "text": [
      "{'C': 0.1, 'B': 600, 'learning_rate': 0.1, 'comm_round': 252, 'train_acc': 0.9552, 'test_acc': 0.9597, 'train_loss': 0.1514, 'test_loss': 0.1394}\n",
      "WARNING:tensorflow:Compiled the loaded model, but the compiled metrics have yet to be built. `model.compile_metrics` will be empty until you train or evaluate the model.\n",
      "INFO:tensorflow:Assets written to: ./logs/NONIID-B600-E5-C0.1-MNIST-CNN-LR0.1/assets\n"
     ]
    },
    {
     "name": "stderr",
     "output_type": "stream",
     "text": [
      " 84%|████████▍ | 253/300 [2:24:10<24:32, 31.33s/it]"
     ]
    },
    {
     "name": "stdout",
     "output_type": "stream",
     "text": [
      "{'C': 0.1, 'B': 600, 'learning_rate': 0.1, 'comm_round': 253, 'train_acc': 0.9337, 'test_acc': 0.9389, 'train_loss': 0.205, 'test_loss': 0.19}\n",
      "WARNING:tensorflow:Compiled the loaded model, but the compiled metrics have yet to be built. `model.compile_metrics` will be empty until you train or evaluate the model.\n",
      "INFO:tensorflow:Assets written to: ./logs/NONIID-B600-E5-C0.1-MNIST-CNN-LR0.1/assets\n"
     ]
    },
    {
     "name": "stderr",
     "output_type": "stream",
     "text": [
      " 85%|████████▍ | 254/300 [2:24:41<23:57, 31.25s/it]"
     ]
    },
    {
     "name": "stdout",
     "output_type": "stream",
     "text": [
      "{'C': 0.1, 'B': 600, 'learning_rate': 0.1, 'comm_round': 254, 'train_acc': 0.9569, 'test_acc': 0.9595, 'train_loss': 0.1447, 'test_loss': 0.1354}\n"
     ]
    },
    {
     "name": "stderr",
     "output_type": "stream",
     "text": [
      " 85%|████████▍ | 254/300 [2:25:14<26:18, 34.31s/it]\n"
     ]
    },
    {
     "ename": "KeyboardInterrupt",
     "evalue": "",
     "output_type": "error",
     "traceback": [
      "\u001b[0;31m---------------------------------------------------------------------------\u001b[0m",
      "\u001b[0;31mKeyboardInterrupt\u001b[0m                         Traceback (most recent call last)",
      "\u001b[0;32m<ipython-input-8-c36a573b3b6f>\u001b[0m in \u001b[0;36m<module>\u001b[0;34m\u001b[0m\n\u001b[1;32m      1\u001b[0m \u001b[0;31m# Run experiment with your own setting\u001b[0m\u001b[0;34m\u001b[0m\u001b[0;34m\u001b[0m\u001b[0;34m\u001b[0m\u001b[0m\n\u001b[0;32m----> 2\u001b[0;31m history = run_experiment(data=\"MNIST\", use_val=False, model_family=\"CNN\",\\\n\u001b[0m\u001b[1;32m      3\u001b[0m                          \u001b[0msetting\u001b[0m\u001b[0;34m=\u001b[0m\u001b[0;34m\"NONIID\"\u001b[0m\u001b[0;34m,\u001b[0m \u001b[0mb_size\u001b[0m\u001b[0;34m=\u001b[0m\u001b[0;36m600\u001b[0m\u001b[0;34m,\u001b[0m \u001b[0mepoch\u001b[0m\u001b[0;34m=\u001b[0m\u001b[0;36m5\u001b[0m\u001b[0;34m,\u001b[0m\u001b[0;31m\\\u001b[0m\u001b[0;34m\u001b[0m\u001b[0;34m\u001b[0m\u001b[0m\n\u001b[1;32m      4\u001b[0m                          \u001b[0mest_comm_round\u001b[0m\u001b[0;34m=\u001b[0m\u001b[0;36m300\u001b[0m\u001b[0;34m,\u001b[0m \u001b[0mc_fraction\u001b[0m\u001b[0;34m=\u001b[0m\u001b[0;36m0.1\u001b[0m\u001b[0;34m,\u001b[0m \u001b[0mdesired_acc\u001b[0m\u001b[0;34m=\u001b[0m\u001b[0;36m0.99\u001b[0m\u001b[0;34m,\u001b[0m\u001b[0;31m\\\u001b[0m\u001b[0;34m\u001b[0m\u001b[0;34m\u001b[0m\u001b[0m\n\u001b[1;32m      5\u001b[0m                          \u001b[0mmodel_checkpoint\u001b[0m\u001b[0;34m=\u001b[0m\u001b[0;34m\"logs/NONIID-B600-E5-C0.1-MNIST-CNN-LR0.1\"\u001b[0m\u001b[0;34m,\u001b[0m\u001b[0;31m\\\u001b[0m\u001b[0;34m\u001b[0m\u001b[0;34m\u001b[0m\u001b[0m\n",
      "\u001b[0;32m<ipython-input-4-68a68ae98c63>\u001b[0m in \u001b[0;36mrun_experiment\u001b[0;34m(data, use_val, model_family, setting, b_size, epoch, est_comm_round, c_fraction, desired_acc, model_checkpoint, n_clients, n_classes, learning_rate, output_path, verbose)\u001b[0m\n\u001b[1;32m     70\u001b[0m \u001b[0;34m\u001b[0m\u001b[0m\n\u001b[1;32m     71\u001b[0m         \u001b[0;31m# Evaluate the loss & accuracy\u001b[0m\u001b[0;34m\u001b[0m\u001b[0;34m\u001b[0m\u001b[0;34m\u001b[0m\u001b[0m\n\u001b[0;32m---> 72\u001b[0;31m         \u001b[0mtrain_loss\u001b[0m\u001b[0;34m,\u001b[0m \u001b[0mtrain_accuracy\u001b[0m \u001b[0;34m=\u001b[0m \u001b[0mevaluate_model\u001b[0m\u001b[0;34m(\u001b[0m\u001b[0mglobal_nn\u001b[0m\u001b[0;34m,\u001b[0m \u001b[0mx_train\u001b[0m\u001b[0;34m,\u001b[0m \u001b[0my_train\u001b[0m\u001b[0;34m)\u001b[0m\u001b[0;34m\u001b[0m\u001b[0;34m\u001b[0m\u001b[0m\n\u001b[0m\u001b[1;32m     73\u001b[0m         \u001b[0mtest_loss\u001b[0m\u001b[0;34m,\u001b[0m \u001b[0mtest_accuracy\u001b[0m \u001b[0;34m=\u001b[0m \u001b[0mevaluate_model\u001b[0m\u001b[0;34m(\u001b[0m\u001b[0mglobal_nn\u001b[0m\u001b[0;34m,\u001b[0m \u001b[0mx_test\u001b[0m\u001b[0;34m,\u001b[0m \u001b[0my_test\u001b[0m\u001b[0;34m)\u001b[0m\u001b[0;34m\u001b[0m\u001b[0;34m\u001b[0m\u001b[0m\n\u001b[1;32m     74\u001b[0m \u001b[0;34m\u001b[0m\u001b[0m\n",
      "\u001b[0;32m<ipython-input-3-750c64fa6023>\u001b[0m in \u001b[0;36mevaluate_model\u001b[0;34m(model, test_data, test_label)\u001b[0m\n\u001b[1;32m     92\u001b[0m \u001b[0;34m\u001b[0m\u001b[0m\n\u001b[1;32m     93\u001b[0m     \u001b[0;31m# Predict label\u001b[0m\u001b[0;34m\u001b[0m\u001b[0;34m\u001b[0m\u001b[0;34m\u001b[0m\u001b[0m\n\u001b[0;32m---> 94\u001b[0;31m     \u001b[0my_pred\u001b[0m \u001b[0;34m=\u001b[0m \u001b[0mmodel\u001b[0m\u001b[0;34m.\u001b[0m\u001b[0mpredict\u001b[0m\u001b[0;34m(\u001b[0m\u001b[0mtest_data\u001b[0m\u001b[0;34m)\u001b[0m\u001b[0;34m\u001b[0m\u001b[0;34m\u001b[0m\u001b[0m\n\u001b[0m\u001b[1;32m     95\u001b[0m     \u001b[0my_true\u001b[0m \u001b[0;34m=\u001b[0m \u001b[0mtest_label\u001b[0m\u001b[0;34m\u001b[0m\u001b[0;34m\u001b[0m\u001b[0m\n\u001b[1;32m     96\u001b[0m \u001b[0;34m\u001b[0m\u001b[0m\n",
      "\u001b[0;32m~/.local/lib/python3.8/site-packages/tensorflow/python/keras/engine/training.py\u001b[0m in \u001b[0;36mpredict\u001b[0;34m(self, x, batch_size, verbose, steps, callbacks, max_queue_size, workers, use_multiprocessing)\u001b[0m\n\u001b[1;32m   1725\u001b[0m           \u001b[0;32mfor\u001b[0m \u001b[0mstep\u001b[0m \u001b[0;32min\u001b[0m \u001b[0mdata_handler\u001b[0m\u001b[0;34m.\u001b[0m\u001b[0msteps\u001b[0m\u001b[0;34m(\u001b[0m\u001b[0;34m)\u001b[0m\u001b[0;34m:\u001b[0m\u001b[0;34m\u001b[0m\u001b[0;34m\u001b[0m\u001b[0m\n\u001b[1;32m   1726\u001b[0m             \u001b[0mcallbacks\u001b[0m\u001b[0;34m.\u001b[0m\u001b[0mon_predict_batch_begin\u001b[0m\u001b[0;34m(\u001b[0m\u001b[0mstep\u001b[0m\u001b[0;34m)\u001b[0m\u001b[0;34m\u001b[0m\u001b[0;34m\u001b[0m\u001b[0m\n\u001b[0;32m-> 1727\u001b[0;31m             \u001b[0mtmp_batch_outputs\u001b[0m \u001b[0;34m=\u001b[0m \u001b[0mself\u001b[0m\u001b[0;34m.\u001b[0m\u001b[0mpredict_function\u001b[0m\u001b[0;34m(\u001b[0m\u001b[0miterator\u001b[0m\u001b[0;34m)\u001b[0m\u001b[0;34m\u001b[0m\u001b[0;34m\u001b[0m\u001b[0m\n\u001b[0m\u001b[1;32m   1728\u001b[0m             \u001b[0;32mif\u001b[0m \u001b[0mdata_handler\u001b[0m\u001b[0;34m.\u001b[0m\u001b[0mshould_sync\u001b[0m\u001b[0;34m:\u001b[0m\u001b[0;34m\u001b[0m\u001b[0;34m\u001b[0m\u001b[0m\n\u001b[1;32m   1729\u001b[0m               \u001b[0mcontext\u001b[0m\u001b[0;34m.\u001b[0m\u001b[0masync_wait\u001b[0m\u001b[0;34m(\u001b[0m\u001b[0;34m)\u001b[0m\u001b[0;34m\u001b[0m\u001b[0;34m\u001b[0m\u001b[0m\n",
      "\u001b[0;32m~/.local/lib/python3.8/site-packages/tensorflow/python/eager/def_function.py\u001b[0m in \u001b[0;36m__call__\u001b[0;34m(self, *args, **kwds)\u001b[0m\n\u001b[1;32m    887\u001b[0m \u001b[0;34m\u001b[0m\u001b[0m\n\u001b[1;32m    888\u001b[0m       \u001b[0;32mwith\u001b[0m \u001b[0mOptionalXlaContext\u001b[0m\u001b[0;34m(\u001b[0m\u001b[0mself\u001b[0m\u001b[0;34m.\u001b[0m\u001b[0m_jit_compile\u001b[0m\u001b[0;34m)\u001b[0m\u001b[0;34m:\u001b[0m\u001b[0;34m\u001b[0m\u001b[0;34m\u001b[0m\u001b[0m\n\u001b[0;32m--> 889\u001b[0;31m         \u001b[0mresult\u001b[0m \u001b[0;34m=\u001b[0m \u001b[0mself\u001b[0m\u001b[0;34m.\u001b[0m\u001b[0m_call\u001b[0m\u001b[0;34m(\u001b[0m\u001b[0;34m*\u001b[0m\u001b[0margs\u001b[0m\u001b[0;34m,\u001b[0m \u001b[0;34m**\u001b[0m\u001b[0mkwds\u001b[0m\u001b[0;34m)\u001b[0m\u001b[0;34m\u001b[0m\u001b[0;34m\u001b[0m\u001b[0m\n\u001b[0m\u001b[1;32m    890\u001b[0m \u001b[0;34m\u001b[0m\u001b[0m\n\u001b[1;32m    891\u001b[0m       \u001b[0mnew_tracing_count\u001b[0m \u001b[0;34m=\u001b[0m \u001b[0mself\u001b[0m\u001b[0;34m.\u001b[0m\u001b[0mexperimental_get_tracing_count\u001b[0m\u001b[0;34m(\u001b[0m\u001b[0;34m)\u001b[0m\u001b[0;34m\u001b[0m\u001b[0;34m\u001b[0m\u001b[0m\n",
      "\u001b[0;32m~/.local/lib/python3.8/site-packages/tensorflow/python/eager/def_function.py\u001b[0m in \u001b[0;36m_call\u001b[0;34m(self, *args, **kwds)\u001b[0m\n\u001b[1;32m    922\u001b[0m       \u001b[0;31m# In this case we have not created variables on the first call. So we can\u001b[0m\u001b[0;34m\u001b[0m\u001b[0;34m\u001b[0m\u001b[0;34m\u001b[0m\u001b[0m\n\u001b[1;32m    923\u001b[0m       \u001b[0;31m# run the first trace but we should fail if variables are created.\u001b[0m\u001b[0;34m\u001b[0m\u001b[0;34m\u001b[0m\u001b[0;34m\u001b[0m\u001b[0m\n\u001b[0;32m--> 924\u001b[0;31m       \u001b[0mresults\u001b[0m \u001b[0;34m=\u001b[0m \u001b[0mself\u001b[0m\u001b[0;34m.\u001b[0m\u001b[0m_stateful_fn\u001b[0m\u001b[0;34m(\u001b[0m\u001b[0;34m*\u001b[0m\u001b[0margs\u001b[0m\u001b[0;34m,\u001b[0m \u001b[0;34m**\u001b[0m\u001b[0mkwds\u001b[0m\u001b[0;34m)\u001b[0m\u001b[0;34m\u001b[0m\u001b[0;34m\u001b[0m\u001b[0m\n\u001b[0m\u001b[1;32m    925\u001b[0m       \u001b[0;32mif\u001b[0m \u001b[0mself\u001b[0m\u001b[0;34m.\u001b[0m\u001b[0m_created_variables\u001b[0m\u001b[0;34m:\u001b[0m\u001b[0;34m\u001b[0m\u001b[0;34m\u001b[0m\u001b[0m\n\u001b[1;32m    926\u001b[0m         raise ValueError(\"Creating variables on a non-first call to a function\"\n",
      "\u001b[0;32m~/.local/lib/python3.8/site-packages/tensorflow/python/eager/function.py\u001b[0m in \u001b[0;36m__call__\u001b[0;34m(self, *args, **kwargs)\u001b[0m\n\u001b[1;32m   3021\u001b[0m       (graph_function,\n\u001b[1;32m   3022\u001b[0m        filtered_flat_args) = self._maybe_define_function(args, kwargs)\n\u001b[0;32m-> 3023\u001b[0;31m     return graph_function._call_flat(\n\u001b[0m\u001b[1;32m   3024\u001b[0m         filtered_flat_args, captured_inputs=graph_function.captured_inputs)  # pylint: disable=protected-access\n\u001b[1;32m   3025\u001b[0m \u001b[0;34m\u001b[0m\u001b[0m\n",
      "\u001b[0;32m~/.local/lib/python3.8/site-packages/tensorflow/python/eager/function.py\u001b[0m in \u001b[0;36m_call_flat\u001b[0;34m(self, args, captured_inputs, cancellation_manager)\u001b[0m\n\u001b[1;32m   1958\u001b[0m         and executing_eagerly):\n\u001b[1;32m   1959\u001b[0m       \u001b[0;31m# No tape is watching; skip to running the function.\u001b[0m\u001b[0;34m\u001b[0m\u001b[0;34m\u001b[0m\u001b[0;34m\u001b[0m\u001b[0m\n\u001b[0;32m-> 1960\u001b[0;31m       return self._build_call_outputs(self._inference_function.call(\n\u001b[0m\u001b[1;32m   1961\u001b[0m           ctx, args, cancellation_manager=cancellation_manager))\n\u001b[1;32m   1962\u001b[0m     forward_backward = self._select_forward_and_backward_functions(\n",
      "\u001b[0;32m~/.local/lib/python3.8/site-packages/tensorflow/python/eager/function.py\u001b[0m in \u001b[0;36mcall\u001b[0;34m(self, ctx, args, cancellation_manager)\u001b[0m\n\u001b[1;32m    589\u001b[0m       \u001b[0;32mwith\u001b[0m \u001b[0m_InterpolateFunctionError\u001b[0m\u001b[0;34m(\u001b[0m\u001b[0mself\u001b[0m\u001b[0;34m)\u001b[0m\u001b[0;34m:\u001b[0m\u001b[0;34m\u001b[0m\u001b[0;34m\u001b[0m\u001b[0m\n\u001b[1;32m    590\u001b[0m         \u001b[0;32mif\u001b[0m \u001b[0mcancellation_manager\u001b[0m \u001b[0;32mis\u001b[0m \u001b[0;32mNone\u001b[0m\u001b[0;34m:\u001b[0m\u001b[0;34m\u001b[0m\u001b[0;34m\u001b[0m\u001b[0m\n\u001b[0;32m--> 591\u001b[0;31m           outputs = execute.execute(\n\u001b[0m\u001b[1;32m    592\u001b[0m               \u001b[0mstr\u001b[0m\u001b[0;34m(\u001b[0m\u001b[0mself\u001b[0m\u001b[0;34m.\u001b[0m\u001b[0msignature\u001b[0m\u001b[0;34m.\u001b[0m\u001b[0mname\u001b[0m\u001b[0;34m)\u001b[0m\u001b[0;34m,\u001b[0m\u001b[0;34m\u001b[0m\u001b[0;34m\u001b[0m\u001b[0m\n\u001b[1;32m    593\u001b[0m               \u001b[0mnum_outputs\u001b[0m\u001b[0;34m=\u001b[0m\u001b[0mself\u001b[0m\u001b[0;34m.\u001b[0m\u001b[0m_num_outputs\u001b[0m\u001b[0;34m,\u001b[0m\u001b[0;34m\u001b[0m\u001b[0;34m\u001b[0m\u001b[0m\n",
      "\u001b[0;32m~/.local/lib/python3.8/site-packages/tensorflow/python/eager/execute.py\u001b[0m in \u001b[0;36mquick_execute\u001b[0;34m(op_name, num_outputs, inputs, attrs, ctx, name)\u001b[0m\n\u001b[1;32m     57\u001b[0m   \u001b[0;32mtry\u001b[0m\u001b[0;34m:\u001b[0m\u001b[0;34m\u001b[0m\u001b[0;34m\u001b[0m\u001b[0m\n\u001b[1;32m     58\u001b[0m     \u001b[0mctx\u001b[0m\u001b[0;34m.\u001b[0m\u001b[0mensure_initialized\u001b[0m\u001b[0;34m(\u001b[0m\u001b[0;34m)\u001b[0m\u001b[0;34m\u001b[0m\u001b[0;34m\u001b[0m\u001b[0m\n\u001b[0;32m---> 59\u001b[0;31m     tensors = pywrap_tfe.TFE_Py_Execute(ctx._handle, device_name, op_name,\n\u001b[0m\u001b[1;32m     60\u001b[0m                                         inputs, attrs, num_outputs)\n\u001b[1;32m     61\u001b[0m   \u001b[0;32mexcept\u001b[0m \u001b[0mcore\u001b[0m\u001b[0;34m.\u001b[0m\u001b[0m_NotOkStatusException\u001b[0m \u001b[0;32mas\u001b[0m \u001b[0me\u001b[0m\u001b[0;34m:\u001b[0m\u001b[0;34m\u001b[0m\u001b[0;34m\u001b[0m\u001b[0m\n",
      "\u001b[0;31mKeyboardInterrupt\u001b[0m: "
     ]
    }
   ],
   "source": [
    "# Run experiment with your own setting\n",
    "history = run_experiment(data=\"MNIST\", use_val=False, model_family=\"CNN\",\\\n",
    "                         setting=\"NONIID\", b_size=600, epoch=5,\\\n",
    "                         est_comm_round=300, c_fraction=0.1, desired_acc=0.99,\\\n",
    "                         model_checkpoint=\"logs/NONIID-B600-E5-C0.1-MNIST-CNN-LR0.1\",\\\n",
    "                         n_clients=100, n_classes=10,\\\n",
    "                         learning_rate=0.1, output_path='./logs/', verbose=0)"
   ]
  }
 ],
 "metadata": {
  "kernelspec": {
   "display_name": "tensorflow",
   "language": "python",
   "name": "tensorflow"
  },
  "language_info": {
   "codemirror_mode": {
    "name": "ipython",
    "version": 3
   },
   "file_extension": ".py",
   "mimetype": "text/x-python",
   "name": "python",
   "nbconvert_exporter": "python",
   "pygments_lexer": "ipython3",
   "version": "3.8.10"
  }
 },
 "nbformat": 4,
 "nbformat_minor": 4
}

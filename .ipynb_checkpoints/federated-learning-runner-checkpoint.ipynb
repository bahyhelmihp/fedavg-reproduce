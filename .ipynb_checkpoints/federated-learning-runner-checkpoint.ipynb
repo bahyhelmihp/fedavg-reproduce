{
 "cells": [
  {
   "cell_type": "code",
   "execution_count": 1,
   "metadata": {
    "tags": []
   },
   "outputs": [],
   "source": [
    "import json\n",
    "import os\n",
    "import logging\n",
    "os.environ['TF_ENABLE_ONEDNN_OPTS'] = \"1\"\n",
    "os.environ['TF_CPP_MIN_LOG_LEVEL'] = \"3\"  # FATAL\n",
    "logging.getLogger('tensorflow').setLevel(logging.FATAL)\n",
    "\n",
    "import tensorflow as tf\n",
    "import matplotlib.pyplot as plt\n",
    "import numpy as np\n",
    "import pandas as pd\n",
    "\n",
    "from sklearn import utils\n",
    "from sklearn.metrics import accuracy_score\n",
    "from sklearn.model_selection import train_test_split\n",
    "from tensorflow.keras import Sequential\n",
    "from tensorflow.keras.layers import Dense, Flatten, Conv2D, MaxPooling2D\n",
    "from time import time\n",
    "from tqdm import tqdm"
   ]
  },
  {
   "cell_type": "code",
   "execution_count": 2,
   "metadata": {
    "tags": []
   },
   "outputs": [],
   "source": [
    "# Model: CNN\n",
    "class CNN:\n",
    "    def initiate(self, n_classes):\n",
    "        model = Sequential([\n",
    "              ## Convolutional Layers\n",
    "              Conv2D(filters=32, kernel_size=(5,5), padding='same', input_shape=(28,28,1)),\n",
    "              MaxPooling2D(pool_size=(2,2)),\n",
    "              Conv2D(filters=64, kernel_size=(5,5), padding='same'), \n",
    "              MaxPooling2D(pool_size=(2,2)),\n",
    "\n",
    "              ## Fully Connected Layer\n",
    "              Flatten(),\n",
    "              Dense(512, activation='relu'), \n",
    "              Dense(n_classes, activation='softmax')\n",
    "            ])\n",
    "\n",
    "        return model\n",
    "    \n",
    "# Model: 2NN\n",
    "class NN2Layers:\n",
    "    def initiate(self, n_classes):\n",
    "        model = Sequential([\n",
    "                            Flatten(input_shape=(28,28)), \n",
    "                            Dense(200, activation='relu'), \n",
    "                            Dense(200, activation='relu'), \n",
    "                            Dense(n_classes, activation='softmax')\n",
    "        ])\n",
    "\n",
    "        return model"
   ]
  },
  {
   "cell_type": "code",
   "execution_count": 3,
   "metadata": {
    "tags": []
   },
   "outputs": [],
   "source": [
    "# Generate data based on chosen setting\n",
    "def generate_data(data, use_val, setting, n_clients):\n",
    "\n",
    "    # Load data from Tensorflow Library\n",
    "    if data == \"MNIST\":\n",
    "        (x_train, y_train), (x_test, y_test) = tf.keras.datasets.mnist.load_data()\n",
    "        \n",
    "        x_train = x_train.astype(\"float32\") / 255\n",
    "        x_test = x_test.astype(\"float32\") / 255\n",
    "        \n",
    "        y_train = y_train.astype(\"float32\")\n",
    "        y_test = y_test.astype(\"float32\")\n",
    "    \n",
    "    # Expand dims to add batch axis\n",
    "    x_train = np.expand_dims(x_train, axis=-1)\n",
    "    x_test = np.expand_dims(x_test, axis=-1)\n",
    "    \n",
    "    # Divide train into val\n",
    "    if use_val == True:\n",
    "        x_train, x_val, y_train, y_val = train_test_split(x_train, y_train, test_size=len(x_test), random_state=42)\n",
    "    else:\n",
    "        x_val, y_val = None, None\n",
    "    \n",
    "    # Distribute data based on setting\n",
    "    if setting == \"IID\":\n",
    "        # Shuffle train data\n",
    "        x_train_shuffled, y_train_shuffled = utils.shuffle(x_train, y_train, random_state=21)\n",
    "        \n",
    "        # Partitioned proxy data to clients, each receiving 600 examples\n",
    "        clients_data, clients_label = {}, {}\n",
    "        list_data = np.array_split(x_train_shuffled, n_clients)\n",
    "        list_label = np.array_split(y_train_shuffled, n_clients)\n",
    "\n",
    "        # Distribute the data to all clients\n",
    "        for i in range(1, len(list_data)+1):\n",
    "            clients_data[\"client_%s\" % i] = list_data[i-1]\n",
    "            clients_label[\"client_%s\" % i] = list_label[i-1]\n",
    "            \n",
    "    elif setting == \"NONIID\":\n",
    "        # Sort the train data based on digits label\n",
    "        sorted_index = np.argsort(y_train)\n",
    "        y_train = y_train[sorted_index]\n",
    "        x_train = x_train[sorted_index]\n",
    "        \n",
    "        # Split training data into to distribute to 100 clients\n",
    "        data_shards = np.array_split(x_train, 100)\n",
    "        label_shards = np.array_split(y_train, 100)\n",
    "        \n",
    "        # Distribute shards to all clients\n",
    "        N_CLIENTS = 100\n",
    "        clients_data = {}\n",
    "        clients_label = {}\n",
    "        for i in range(1, N_CLIENTS+1):\n",
    "            clients_data[\"client_%s\" % i] = data_shards[i-1]\n",
    "            clients_label[\"client_%s\" % i] = label_shards[i-1]\n",
    "            \n",
    "    return clients_data, clients_label, x_train, y_train, x_val, y_val, x_test, y_test\n",
    "\n",
    "# Initiate global model\n",
    "def initiate_model(model_fam, num_class):\n",
    "    if model_fam == \"2NN\":\n",
    "        nn = NN2Layers()\n",
    "        active_nn = nn.initiate(num_class)\n",
    "    elif model_fam == \"CNN\":\n",
    "        nn = CNN()\n",
    "        active_nn = nn.initiate(num_class)\n",
    "        \n",
    "    return active_nn\n",
    "\n",
    "# Scaling weights to the dataset proportion\n",
    "def scale_weights(num_local_samples, weights, chosen_clients):\n",
    "    num_total_samples = len(chosen_clients) * num_local_samples\n",
    "    scaling_factor = num_local_samples / num_total_samples\n",
    "\n",
    "    # Loop through each layer weight & biases\n",
    "    scaled_weights = []\n",
    "    for component in weights:\n",
    "        scaled_weights.append(scaling_factor * component)\n",
    "\n",
    "    return scaled_weights\n",
    "\n",
    "# Sum all the scaled weights from all clients\n",
    "def sum_scaled_weights(scaled_weights):\n",
    "    final_weights = []\n",
    "    for component in zip(*scaled_weights):\n",
    "        final_weights.append(tf.math.reduce_sum(component, axis=0))\n",
    "  \n",
    "    return final_weights\n",
    "\n",
    "# Custom global model evaluation\n",
    "def evaluate_model(model, test_data, test_label):\n",
    "    \n",
    "    # Predict label\n",
    "    y_pred = model.predict(test_data)\n",
    "    y_true = test_label\n",
    "\n",
    "    # Calculate loss with SCCE\n",
    "    scce = tf.keras.losses.SparseCategoricalCrossentropy()\n",
    "    loss = scce(y_true, y_pred).numpy()\n",
    "\n",
    "    # Calculate accuracy\n",
    "    accuracy = accuracy_score(y_true, np.argmax(y_pred, axis=1))\n",
    "\n",
    "    return np.round(loss, 4), np.round(accuracy, 4)"
   ]
  },
  {
   "cell_type": "code",
   "execution_count": 4,
   "metadata": {
    "tags": []
   },
   "outputs": [],
   "source": [
    "def run_experiment(data=\"MNIST\", use_val=False, model_family=\"2NN\", setting=\"IID\", b_size=600, epoch=1,\\\n",
    "                   est_comm_round=1000, c_fraction=0.1, desired_acc=False,\\\n",
    "                   model_checkpoint=False, n_clients=100, n_classes=10,\\\n",
    "                   learning_rate=0.01, output_path='./logs/', verbose=0):\n",
    "    \n",
    "    # Training setting\n",
    "    EXP_NAME = \"%s-B%s-E%s-C%s-MNIST-%s-LR%s\" % (setting, b_size, epoch, c_fraction,\\\n",
    "                                                 model_family, learning_rate)\n",
    "    start_time = time()\n",
    "    history = []\n",
    "    comm_round = 1\n",
    "    \n",
    "    # Generate data\n",
    "    clients_data, clients_label, x_train, y_train, x_val, y_val, x_test, y_test = generate_data(data, use_val, setting,\\\n",
    "                                                                                  n_clients)\n",
    "    \n",
    "    # Initiate new global model\n",
    "    if model_checkpoint == False: \n",
    "        global_nn = initiate_model(model_family, n_classes)\n",
    "        \n",
    "    # Continue training from existing checkpoint\n",
    "    else:\n",
    "        global_nn = tf.keras.models.load_model(model_checkpoint)\n",
    "        \n",
    "    # Training setting\n",
    "    comm_round = 1\n",
    "    start_time = time()\n",
    "    \n",
    "    # Loop until estimated communication round reached\n",
    "    for i in tqdm(range(est_comm_round)):\n",
    "\n",
    "        # Save the global weight\n",
    "        global_weights = global_nn.get_weights()\n",
    "\n",
    "        # Client set\n",
    "        if c_fraction == 0.0: # Exactly one client\n",
    "            chosen_clients = np.random.choice(list(clients_data.keys()), 1)\n",
    "        elif c_fraction == 1.0: # All clients\n",
    "            chosen_clients = clients_data.keys()\n",
    "        else: # Percentage subset\n",
    "            chosen_clients = np.random.choice(list(clients_data.keys()), \\\n",
    "                                          int(c_fraction*len(clients_data)), replace=False)\n",
    "\n",
    "        clients_weight = []\n",
    "        for client in chosen_clients:\n",
    "            # Iniatiate local model\n",
    "            local_nn = initiate_model(model_family, n_classes)\n",
    "            optimizer = tf.keras.optimizers.SGD(\n",
    "                learning_rate=learning_rate, clipnorm=1.0)\n",
    "            local_nn.compile(\n",
    "                optimizer=optimizer,\n",
    "                loss='sparse_categorical_crossentropy',\n",
    "                metrics=['accuracy']\n",
    "                )\n",
    "\n",
    "            # Set global weight to the local model\n",
    "            local_nn.set_weights(global_weights)\n",
    "\n",
    "            # Do training on local\n",
    "            local_nn.fit(clients_data[client], clients_label[client], batch_size=b_size,\\\n",
    "                         epochs=epoch, verbose=verbose)\n",
    "\n",
    "            # Save weight\n",
    "            scaled_weights = scale_weights(len(clients_data[client]), local_nn.get_weights(),\\\n",
    "                                           chosen_clients)\n",
    "            clients_weight.append(scaled_weights)\n",
    "\n",
    "        # Sum all scaled weights & update the global model\n",
    "        global_nn.set_weights(sum_scaled_weights(clients_weight))\n",
    "\n",
    "        # Evaluate the loss & accuracy\n",
    "        train_loss, train_accuracy = evaluate_model(global_nn, x_train, y_train)\n",
    "        test_loss, test_accuracy = evaluate_model(global_nn, x_test, y_test)\n",
    "        \n",
    "        # If gradient explode, rollback weight, continue to next round\n",
    "        if comm_round > 1: \n",
    "            if str(test_loss) == \"nan\":\n",
    "                print(\"Explode,\", test_accuracy, \"<-\", history[-1]['test_acc'])\n",
    "                break\n",
    "\n",
    "        # Save metrics for current round\n",
    "        data = {\"C\": c_fraction, \"B\": b_size, \"learning_rate\": learning_rate, \n",
    "                \"comm_round\": comm_round, \"train_acc\": train_accuracy, \n",
    "                \"test_acc\": test_accuracy, \"train_loss\": train_loss, \"test_loss\": test_loss}\n",
    "        \n",
    "        # If validation set exists\n",
    "        if x_val is not None:\n",
    "            val_loss, val_accuracy = evaluate_model(global_nn, x_val, y_val)\n",
    "            data['val_acc'] = val_accuracy\n",
    "            data['val_loss'] = val_loss\n",
    "        \n",
    "        # Save model state and history\n",
    "        history.append(data)\n",
    "        global_nn.save(output_path + EXP_NAME)\n",
    "        file = open(output_path + EXP_NAME + \".txt\", 'a')\n",
    "        file.write(json.dumps(str(data)) + \"\\n\")\n",
    "        file.close()\n",
    "        print(data)\n",
    "\n",
    "        # Stop when the desired test-accuracy reached, comm_round ignored\n",
    "        if desired_acc != False and test_accuracy >= desired_acc:\n",
    "            break\n",
    "\n",
    "        # Update variables\n",
    "        comm_round += 1\n",
    "    end_time = time()\n",
    "    print(\"Took %.2f seconds.\" % (end_time - start_time))\n",
    "    return history"
   ]
  },
  {
   "cell_type": "code",
   "execution_count": null,
   "metadata": {
    "scrolled": true,
    "tags": []
   },
   "outputs": [
    {
     "name": "stdout",
     "output_type": "stream",
     "text": [
      "WARNING:tensorflow:SavedModel saved prior to TF 2.5 detected when loading Keras model. Please ensure that you are saving the model with model.save() or tf.keras.models.save_model(), *NOT* tf.saved_model.save(). To confirm, there should be a file named \"keras_metadata.pb\" in the SavedModel directory.\n",
      "WARNING:tensorflow:No training configuration found in save file, so the model was *not* compiled. Compile it manually.\n"
     ]
    },
    {
     "name": "stderr",
     "output_type": "stream",
     "text": [
      "  0%|          | 0/300 [00:00<?, ?it/s]"
     ]
    },
    {
     "name": "stdout",
     "output_type": "stream",
     "text": [
      "WARNING:tensorflow:Compiled the loaded model, but the compiled metrics have yet to be built. `model.compile_metrics` will be empty until you train or evaluate the model.\n",
      "INFO:tensorflow:Assets written to: ./logs/IID-B600-E5-C0.1-MNIST-CNN-LR0.215/assets\n"
     ]
    },
    {
     "name": "stderr",
     "output_type": "stream",
     "text": [
      "  0%|          | 1/300 [00:30<2:29:38, 30.03s/it]"
     ]
    },
    {
     "name": "stdout",
     "output_type": "stream",
     "text": [
      "{'C': 0.1, 'B': 600, 'learning_rate': 0.215, 'comm_round': 1, 'train_acc': 0.9786, 'test_acc': 0.9776, 'train_loss': 0.0698, 'test_loss': 0.0676}\n",
      "WARNING:tensorflow:Compiled the loaded model, but the compiled metrics have yet to be built. `model.compile_metrics` will be empty until you train or evaluate the model.\n",
      "INFO:tensorflow:Assets written to: ./logs/IID-B600-E5-C0.1-MNIST-CNN-LR0.215/assets\n"
     ]
    },
    {
     "name": "stderr",
     "output_type": "stream",
     "text": [
      "  1%|          | 2/300 [00:59<2:27:53, 29.78s/it]"
     ]
    },
    {
     "name": "stdout",
     "output_type": "stream",
     "text": [
      "{'C': 0.1, 'B': 600, 'learning_rate': 0.215, 'comm_round': 2, 'train_acc': 0.9788, 'test_acc': 0.9787, 'train_loss': 0.0686, 'test_loss': 0.0659}\n",
      "WARNING:tensorflow:Compiled the loaded model, but the compiled metrics have yet to be built. `model.compile_metrics` will be empty until you train or evaluate the model.\n",
      "INFO:tensorflow:Assets written to: ./logs/IID-B600-E5-C0.1-MNIST-CNN-LR0.215/assets\n"
     ]
    },
    {
     "name": "stderr",
     "output_type": "stream",
     "text": [
      "  1%|          | 3/300 [01:32<2:35:24, 31.40s/it]"
     ]
    },
    {
     "name": "stdout",
     "output_type": "stream",
     "text": [
      "{'C': 0.1, 'B': 600, 'learning_rate': 0.215, 'comm_round': 3, 'train_acc': 0.9796, 'test_acc': 0.9785, 'train_loss': 0.0678, 'test_loss': 0.0649}\n",
      "WARNING:tensorflow:Compiled the loaded model, but the compiled metrics have yet to be built. `model.compile_metrics` will be empty until you train or evaluate the model.\n",
      "INFO:tensorflow:Assets written to: ./logs/IID-B600-E5-C0.1-MNIST-CNN-LR0.215/assets\n"
     ]
    },
    {
     "name": "stderr",
     "output_type": "stream",
     "text": [
      "  1%|▏         | 4/300 [02:06<2:39:24, 32.31s/it]"
     ]
    },
    {
     "name": "stdout",
     "output_type": "stream",
     "text": [
      "{'C': 0.1, 'B': 600, 'learning_rate': 0.215, 'comm_round': 4, 'train_acc': 0.9796, 'test_acc': 0.9791, 'train_loss': 0.0673, 'test_loss': 0.065}\n",
      "WARNING:tensorflow:Compiled the loaded model, but the compiled metrics have yet to be built. `model.compile_metrics` will be empty until you train or evaluate the model.\n",
      "INFO:tensorflow:Assets written to: ./logs/IID-B600-E5-C0.1-MNIST-CNN-LR0.215/assets\n"
     ]
    },
    {
     "name": "stderr",
     "output_type": "stream",
     "text": [
      "  2%|▏         | 5/300 [02:38<2:37:15, 31.98s/it]"
     ]
    },
    {
     "name": "stdout",
     "output_type": "stream",
     "text": [
      "{'C': 0.1, 'B': 600, 'learning_rate': 0.215, 'comm_round': 5, 'train_acc': 0.9795, 'test_acc': 0.9789, 'train_loss': 0.0656, 'test_loss': 0.0632}\n",
      "WARNING:tensorflow:Compiled the loaded model, but the compiled metrics have yet to be built. `model.compile_metrics` will be empty until you train or evaluate the model.\n",
      "INFO:tensorflow:Assets written to: ./logs/IID-B600-E5-C0.1-MNIST-CNN-LR0.215/assets\n"
     ]
    },
    {
     "name": "stderr",
     "output_type": "stream",
     "text": [
      "  2%|▏         | 6/300 [03:09<2:36:24, 31.92s/it]"
     ]
    },
    {
     "name": "stdout",
     "output_type": "stream",
     "text": [
      "{'C': 0.1, 'B': 600, 'learning_rate': 0.215, 'comm_round': 6, 'train_acc': 0.98, 'test_acc': 0.9789, 'train_loss': 0.0636, 'test_loss': 0.0616}\n",
      "WARNING:tensorflow:Compiled the loaded model, but the compiled metrics have yet to be built. `model.compile_metrics` will be empty until you train or evaluate the model.\n",
      "INFO:tensorflow:Assets written to: ./logs/IID-B600-E5-C0.1-MNIST-CNN-LR0.215/assets\n"
     ]
    },
    {
     "name": "stderr",
     "output_type": "stream",
     "text": [
      "  2%|▏         | 7/300 [03:43<2:38:31, 32.46s/it]"
     ]
    },
    {
     "name": "stdout",
     "output_type": "stream",
     "text": [
      "{'C': 0.1, 'B': 600, 'learning_rate': 0.215, 'comm_round': 7, 'train_acc': 0.9795, 'test_acc': 0.979, 'train_loss': 0.0652, 'test_loss': 0.0635}\n",
      "WARNING:tensorflow:Compiled the loaded model, but the compiled metrics have yet to be built. `model.compile_metrics` will be empty until you train or evaluate the model.\n",
      "INFO:tensorflow:Assets written to: ./logs/IID-B600-E5-C0.1-MNIST-CNN-LR0.215/assets\n"
     ]
    },
    {
     "name": "stderr",
     "output_type": "stream",
     "text": [
      "  3%|▎         | 8/300 [04:15<2:37:08, 32.29s/it]"
     ]
    },
    {
     "name": "stdout",
     "output_type": "stream",
     "text": [
      "{'C': 0.1, 'B': 600, 'learning_rate': 0.215, 'comm_round': 8, 'train_acc': 0.9793, 'test_acc': 0.9792, 'train_loss': 0.0647, 'test_loss': 0.0616}\n",
      "WARNING:tensorflow:Compiled the loaded model, but the compiled metrics have yet to be built. `model.compile_metrics` will be empty until you train or evaluate the model.\n",
      "INFO:tensorflow:Assets written to: ./logs/IID-B600-E5-C0.1-MNIST-CNN-LR0.215/assets\n"
     ]
    },
    {
     "name": "stderr",
     "output_type": "stream",
     "text": [
      "  3%|▎         | 9/300 [04:46<2:35:04, 31.98s/it]"
     ]
    },
    {
     "name": "stdout",
     "output_type": "stream",
     "text": [
      "{'C': 0.1, 'B': 600, 'learning_rate': 0.215, 'comm_round': 9, 'train_acc': 0.9792, 'test_acc': 0.9794, 'train_loss': 0.0667, 'test_loss': 0.0648}\n",
      "WARNING:tensorflow:Compiled the loaded model, but the compiled metrics have yet to be built. `model.compile_metrics` will be empty until you train or evaluate the model.\n",
      "INFO:tensorflow:Assets written to: ./logs/IID-B600-E5-C0.1-MNIST-CNN-LR0.215/assets\n"
     ]
    },
    {
     "name": "stderr",
     "output_type": "stream",
     "text": [
      "  3%|▎         | 10/300 [05:20<2:36:51, 32.45s/it]"
     ]
    },
    {
     "name": "stdout",
     "output_type": "stream",
     "text": [
      "{'C': 0.1, 'B': 600, 'learning_rate': 0.215, 'comm_round': 10, 'train_acc': 0.9805, 'test_acc': 0.9792, 'train_loss': 0.0617, 'test_loss': 0.0596}\n",
      "WARNING:tensorflow:Compiled the loaded model, but the compiled metrics have yet to be built. `model.compile_metrics` will be empty until you train or evaluate the model.\n",
      "INFO:tensorflow:Assets written to: ./logs/IID-B600-E5-C0.1-MNIST-CNN-LR0.215/assets\n"
     ]
    },
    {
     "name": "stderr",
     "output_type": "stream",
     "text": [
      "  4%|▎         | 11/300 [05:50<2:33:29, 31.87s/it]"
     ]
    },
    {
     "name": "stdout",
     "output_type": "stream",
     "text": [
      "{'C': 0.1, 'B': 600, 'learning_rate': 0.215, 'comm_round': 11, 'train_acc': 0.9814, 'test_acc': 0.9805, 'train_loss': 0.0605, 'test_loss': 0.0588}\n",
      "WARNING:tensorflow:Compiled the loaded model, but the compiled metrics have yet to be built. `model.compile_metrics` will be empty until you train or evaluate the model.\n",
      "INFO:tensorflow:Assets written to: ./logs/IID-B600-E5-C0.1-MNIST-CNN-LR0.215/assets\n"
     ]
    },
    {
     "name": "stderr",
     "output_type": "stream",
     "text": [
      "  4%|▍         | 12/300 [06:21<2:31:37, 31.59s/it]"
     ]
    },
    {
     "name": "stdout",
     "output_type": "stream",
     "text": [
      "{'C': 0.1, 'B': 600, 'learning_rate': 0.215, 'comm_round': 12, 'train_acc': 0.9816, 'test_acc': 0.9803, 'train_loss': 0.059, 'test_loss': 0.0587}\n",
      "WARNING:tensorflow:Compiled the loaded model, but the compiled metrics have yet to be built. `model.compile_metrics` will be empty until you train or evaluate the model.\n",
      "INFO:tensorflow:Assets written to: ./logs/IID-B600-E5-C0.1-MNIST-CNN-LR0.215/assets\n"
     ]
    },
    {
     "name": "stderr",
     "output_type": "stream",
     "text": [
      "  4%|▍         | 13/300 [06:53<2:30:55, 31.55s/it]"
     ]
    },
    {
     "name": "stdout",
     "output_type": "stream",
     "text": [
      "{'C': 0.1, 'B': 600, 'learning_rate': 0.215, 'comm_round': 13, 'train_acc': 0.982, 'test_acc': 0.9803, 'train_loss': 0.0576, 'test_loss': 0.0574}\n",
      "WARNING:tensorflow:Compiled the loaded model, but the compiled metrics have yet to be built. `model.compile_metrics` will be empty until you train or evaluate the model.\n",
      "INFO:tensorflow:Assets written to: ./logs/IID-B600-E5-C0.1-MNIST-CNN-LR0.215/assets\n"
     ]
    },
    {
     "name": "stderr",
     "output_type": "stream",
     "text": [
      "  5%|▍         | 14/300 [07:25<2:31:09, 31.71s/it]"
     ]
    },
    {
     "name": "stdout",
     "output_type": "stream",
     "text": [
      "{'C': 0.1, 'B': 600, 'learning_rate': 0.215, 'comm_round': 14, 'train_acc': 0.9822, 'test_acc': 0.9798, 'train_loss': 0.0576, 'test_loss': 0.0573}\n",
      "WARNING:tensorflow:Compiled the loaded model, but the compiled metrics have yet to be built. `model.compile_metrics` will be empty until you train or evaluate the model.\n",
      "INFO:tensorflow:Assets written to: ./logs/IID-B600-E5-C0.1-MNIST-CNN-LR0.215/assets\n"
     ]
    },
    {
     "name": "stderr",
     "output_type": "stream",
     "text": [
      "  5%|▌         | 15/300 [07:56<2:30:14, 31.63s/it]"
     ]
    },
    {
     "name": "stdout",
     "output_type": "stream",
     "text": [
      "{'C': 0.1, 'B': 600, 'learning_rate': 0.215, 'comm_round': 15, 'train_acc': 0.9824, 'test_acc': 0.9813, 'train_loss': 0.0562, 'test_loss': 0.0555}\n",
      "WARNING:tensorflow:Compiled the loaded model, but the compiled metrics have yet to be built. `model.compile_metrics` will be empty until you train or evaluate the model.\n",
      "INFO:tensorflow:Assets written to: ./logs/IID-B600-E5-C0.1-MNIST-CNN-LR0.215/assets\n"
     ]
    },
    {
     "name": "stderr",
     "output_type": "stream",
     "text": [
      "  5%|▌         | 16/300 [08:27<2:28:49, 31.44s/it]"
     ]
    },
    {
     "name": "stdout",
     "output_type": "stream",
     "text": [
      "{'C': 0.1, 'B': 600, 'learning_rate': 0.215, 'comm_round': 16, 'train_acc': 0.9812, 'test_acc': 0.9801, 'train_loss': 0.0612, 'test_loss': 0.0592}\n",
      "WARNING:tensorflow:Compiled the loaded model, but the compiled metrics have yet to be built. `model.compile_metrics` will be empty until you train or evaluate the model.\n",
      "INFO:tensorflow:Assets written to: ./logs/IID-B600-E5-C0.1-MNIST-CNN-LR0.215/assets\n"
     ]
    },
    {
     "name": "stderr",
     "output_type": "stream",
     "text": [
      "  6%|▌         | 17/300 [09:00<2:30:10, 31.84s/it]"
     ]
    },
    {
     "name": "stdout",
     "output_type": "stream",
     "text": [
      "{'C': 0.1, 'B': 600, 'learning_rate': 0.215, 'comm_round': 17, 'train_acc': 0.983, 'test_acc': 0.9812, 'train_loss': 0.055, 'test_loss': 0.0554}\n",
      "WARNING:tensorflow:Compiled the loaded model, but the compiled metrics have yet to be built. `model.compile_metrics` will be empty until you train or evaluate the model.\n",
      "INFO:tensorflow:Assets written to: ./logs/IID-B600-E5-C0.1-MNIST-CNN-LR0.215/assets\n"
     ]
    },
    {
     "name": "stderr",
     "output_type": "stream",
     "text": [
      "  6%|▌         | 18/300 [09:31<2:28:34, 31.61s/it]"
     ]
    },
    {
     "name": "stdout",
     "output_type": "stream",
     "text": [
      "{'C': 0.1, 'B': 600, 'learning_rate': 0.215, 'comm_round': 18, 'train_acc': 0.9831, 'test_acc': 0.982, 'train_loss': 0.0542, 'test_loss': 0.0548}\n",
      "WARNING:tensorflow:Compiled the loaded model, but the compiled metrics have yet to be built. `model.compile_metrics` will be empty until you train or evaluate the model.\n",
      "INFO:tensorflow:Assets written to: ./logs/IID-B600-E5-C0.1-MNIST-CNN-LR0.215/assets\n"
     ]
    },
    {
     "name": "stderr",
     "output_type": "stream",
     "text": [
      "  6%|▋         | 19/300 [10:03<2:29:12, 31.86s/it]"
     ]
    },
    {
     "name": "stdout",
     "output_type": "stream",
     "text": [
      "{'C': 0.1, 'B': 600, 'learning_rate': 0.215, 'comm_round': 19, 'train_acc': 0.9824, 'test_acc': 0.9816, 'train_loss': 0.0553, 'test_loss': 0.0559}\n",
      "WARNING:tensorflow:Compiled the loaded model, but the compiled metrics have yet to be built. `model.compile_metrics` will be empty until you train or evaluate the model.\n",
      "INFO:tensorflow:Assets written to: ./logs/IID-B600-E5-C0.1-MNIST-CNN-LR0.215/assets\n"
     ]
    },
    {
     "name": "stderr",
     "output_type": "stream",
     "text": [
      "  7%|▋         | 20/300 [10:35<2:28:56, 31.92s/it]"
     ]
    },
    {
     "name": "stdout",
     "output_type": "stream",
     "text": [
      "{'C': 0.1, 'B': 600, 'learning_rate': 0.215, 'comm_round': 20, 'train_acc': 0.9824, 'test_acc': 0.9816, 'train_loss': 0.0559, 'test_loss': 0.0554}\n",
      "WARNING:tensorflow:Compiled the loaded model, but the compiled metrics have yet to be built. `model.compile_metrics` will be empty until you train or evaluate the model.\n",
      "INFO:tensorflow:Assets written to: ./logs/IID-B600-E5-C0.1-MNIST-CNN-LR0.215/assets\n"
     ]
    },
    {
     "name": "stderr",
     "output_type": "stream",
     "text": [
      "  7%|▋         | 21/300 [11:07<2:27:11, 31.65s/it]"
     ]
    },
    {
     "name": "stdout",
     "output_type": "stream",
     "text": [
      "{'C': 0.1, 'B': 600, 'learning_rate': 0.215, 'comm_round': 21, 'train_acc': 0.9833, 'test_acc': 0.9835, 'train_loss': 0.0523, 'test_loss': 0.0522}\n",
      "WARNING:tensorflow:Compiled the loaded model, but the compiled metrics have yet to be built. `model.compile_metrics` will be empty until you train or evaluate the model.\n",
      "INFO:tensorflow:Assets written to: ./logs/IID-B600-E5-C0.1-MNIST-CNN-LR0.215/assets\n"
     ]
    },
    {
     "name": "stderr",
     "output_type": "stream",
     "text": [
      "  7%|▋         | 22/300 [11:38<2:25:48, 31.47s/it]"
     ]
    },
    {
     "name": "stdout",
     "output_type": "stream",
     "text": [
      "{'C': 0.1, 'B': 600, 'learning_rate': 0.215, 'comm_round': 22, 'train_acc': 0.9835, 'test_acc': 0.9823, 'train_loss': 0.0519, 'test_loss': 0.0522}\n",
      "WARNING:tensorflow:Compiled the loaded model, but the compiled metrics have yet to be built. `model.compile_metrics` will be empty until you train or evaluate the model.\n",
      "INFO:tensorflow:Assets written to: ./logs/IID-B600-E5-C0.1-MNIST-CNN-LR0.215/assets\n"
     ]
    },
    {
     "name": "stderr",
     "output_type": "stream",
     "text": [
      "  8%|▊         | 23/300 [12:09<2:25:46, 31.57s/it]"
     ]
    },
    {
     "name": "stdout",
     "output_type": "stream",
     "text": [
      "{'C': 0.1, 'B': 600, 'learning_rate': 0.215, 'comm_round': 23, 'train_acc': 0.9841, 'test_acc': 0.9821, 'train_loss': 0.0514, 'test_loss': 0.0524}\n",
      "WARNING:tensorflow:Compiled the loaded model, but the compiled metrics have yet to be built. `model.compile_metrics` will be empty until you train or evaluate the model.\n",
      "INFO:tensorflow:Assets written to: ./logs/IID-B600-E5-C0.1-MNIST-CNN-LR0.215/assets\n"
     ]
    },
    {
     "name": "stderr",
     "output_type": "stream",
     "text": [
      "  8%|▊         | 24/300 [12:40<2:24:33, 31.43s/it]"
     ]
    },
    {
     "name": "stdout",
     "output_type": "stream",
     "text": [
      "{'C': 0.1, 'B': 600, 'learning_rate': 0.215, 'comm_round': 24, 'train_acc': 0.9841, 'test_acc': 0.9812, 'train_loss': 0.0512, 'test_loss': 0.0519}\n",
      "WARNING:tensorflow:Compiled the loaded model, but the compiled metrics have yet to be built. `model.compile_metrics` will be empty until you train or evaluate the model.\n",
      "INFO:tensorflow:Assets written to: ./logs/IID-B600-E5-C0.1-MNIST-CNN-LR0.215/assets\n"
     ]
    },
    {
     "name": "stderr",
     "output_type": "stream",
     "text": [
      "  8%|▊         | 25/300 [13:11<2:23:29, 31.31s/it]"
     ]
    },
    {
     "name": "stdout",
     "output_type": "stream",
     "text": [
      "{'C': 0.1, 'B': 600, 'learning_rate': 0.215, 'comm_round': 25, 'train_acc': 0.9843, 'test_acc': 0.9823, 'train_loss': 0.0509, 'test_loss': 0.0514}\n",
      "WARNING:tensorflow:Compiled the loaded model, but the compiled metrics have yet to be built. `model.compile_metrics` will be empty until you train or evaluate the model.\n",
      "INFO:tensorflow:Assets written to: ./logs/IID-B600-E5-C0.1-MNIST-CNN-LR0.215/assets\n"
     ]
    },
    {
     "name": "stderr",
     "output_type": "stream",
     "text": [
      "  9%|▊         | 26/300 [13:44<2:24:33, 31.66s/it]"
     ]
    },
    {
     "name": "stdout",
     "output_type": "stream",
     "text": [
      "{'C': 0.1, 'B': 600, 'learning_rate': 0.215, 'comm_round': 26, 'train_acc': 0.9841, 'test_acc': 0.9812, 'train_loss': 0.0512, 'test_loss': 0.0531}\n",
      "WARNING:tensorflow:Compiled the loaded model, but the compiled metrics have yet to be built. `model.compile_metrics` will be empty until you train or evaluate the model.\n",
      "INFO:tensorflow:Assets written to: ./logs/IID-B600-E5-C0.1-MNIST-CNN-LR0.215/assets\n"
     ]
    },
    {
     "name": "stderr",
     "output_type": "stream",
     "text": [
      "  9%|▉         | 27/300 [14:17<2:25:36, 32.00s/it]"
     ]
    },
    {
     "name": "stdout",
     "output_type": "stream",
     "text": [
      "{'C': 0.1, 'B': 600, 'learning_rate': 0.215, 'comm_round': 27, 'train_acc': 0.9844, 'test_acc': 0.9816, 'train_loss': 0.0505, 'test_loss': 0.0516}\n",
      "WARNING:tensorflow:Compiled the loaded model, but the compiled metrics have yet to be built. `model.compile_metrics` will be empty until you train or evaluate the model.\n",
      "INFO:tensorflow:Assets written to: ./logs/IID-B600-E5-C0.1-MNIST-CNN-LR0.215/assets\n"
     ]
    },
    {
     "name": "stderr",
     "output_type": "stream",
     "text": [
      "  9%|▉         | 28/300 [14:48<2:24:38, 31.91s/it]"
     ]
    },
    {
     "name": "stdout",
     "output_type": "stream",
     "text": [
      "{'C': 0.1, 'B': 600, 'learning_rate': 0.215, 'comm_round': 28, 'train_acc': 0.9833, 'test_acc': 0.9809, 'train_loss': 0.0524, 'test_loss': 0.0546}\n",
      "WARNING:tensorflow:Compiled the loaded model, but the compiled metrics have yet to be built. `model.compile_metrics` will be empty until you train or evaluate the model.\n",
      "INFO:tensorflow:Assets written to: ./logs/IID-B600-E5-C0.1-MNIST-CNN-LR0.215/assets\n"
     ]
    },
    {
     "name": "stderr",
     "output_type": "stream",
     "text": [
      " 10%|▉         | 29/300 [15:21<2:24:30, 32.00s/it]"
     ]
    },
    {
     "name": "stdout",
     "output_type": "stream",
     "text": [
      "{'C': 0.1, 'B': 600, 'learning_rate': 0.215, 'comm_round': 29, 'train_acc': 0.9844, 'test_acc': 0.982, 'train_loss': 0.0497, 'test_loss': 0.0526}\n",
      "WARNING:tensorflow:Compiled the loaded model, but the compiled metrics have yet to be built. `model.compile_metrics` will be empty until you train or evaluate the model.\n",
      "INFO:tensorflow:Assets written to: ./logs/IID-B600-E5-C0.1-MNIST-CNN-LR0.215/assets\n"
     ]
    },
    {
     "name": "stderr",
     "output_type": "stream",
     "text": [
      " 10%|█         | 30/300 [15:53<2:24:02, 32.01s/it]"
     ]
    },
    {
     "name": "stdout",
     "output_type": "stream",
     "text": [
      "{'C': 0.1, 'B': 600, 'learning_rate': 0.215, 'comm_round': 30, 'train_acc': 0.9843, 'test_acc': 0.9827, 'train_loss': 0.05, 'test_loss': 0.052}\n",
      "WARNING:tensorflow:Compiled the loaded model, but the compiled metrics have yet to be built. `model.compile_metrics` will be empty until you train or evaluate the model.\n",
      "INFO:tensorflow:Assets written to: ./logs/IID-B600-E5-C0.1-MNIST-CNN-LR0.215/assets\n"
     ]
    },
    {
     "name": "stderr",
     "output_type": "stream",
     "text": [
      " 10%|█         | 31/300 [16:24<2:22:42, 31.83s/it]"
     ]
    },
    {
     "name": "stdout",
     "output_type": "stream",
     "text": [
      "{'C': 0.1, 'B': 600, 'learning_rate': 0.215, 'comm_round': 31, 'train_acc': 0.9849, 'test_acc': 0.9824, 'train_loss': 0.0481, 'test_loss': 0.0507}\n",
      "WARNING:tensorflow:Compiled the loaded model, but the compiled metrics have yet to be built. `model.compile_metrics` will be empty until you train or evaluate the model.\n",
      "INFO:tensorflow:Assets written to: ./logs/IID-B600-E5-C0.1-MNIST-CNN-LR0.215/assets\n"
     ]
    },
    {
     "name": "stderr",
     "output_type": "stream",
     "text": [
      " 11%|█         | 32/300 [16:55<2:21:31, 31.69s/it]"
     ]
    },
    {
     "name": "stdout",
     "output_type": "stream",
     "text": [
      "{'C': 0.1, 'B': 600, 'learning_rate': 0.215, 'comm_round': 32, 'train_acc': 0.9852, 'test_acc': 0.9819, 'train_loss': 0.0481, 'test_loss': 0.0508}\n",
      "WARNING:tensorflow:Compiled the loaded model, but the compiled metrics have yet to be built. `model.compile_metrics` will be empty until you train or evaluate the model.\n",
      "INFO:tensorflow:Assets written to: ./logs/IID-B600-E5-C0.1-MNIST-CNN-LR0.215/assets\n"
     ]
    },
    {
     "name": "stderr",
     "output_type": "stream",
     "text": [
      " 11%|█         | 33/300 [17:27<2:20:34, 31.59s/it]"
     ]
    },
    {
     "name": "stdout",
     "output_type": "stream",
     "text": [
      "{'C': 0.1, 'B': 600, 'learning_rate': 0.215, 'comm_round': 33, 'train_acc': 0.9856, 'test_acc': 0.9826, 'train_loss': 0.0464, 'test_loss': 0.049}\n",
      "WARNING:tensorflow:Compiled the loaded model, but the compiled metrics have yet to be built. `model.compile_metrics` will be empty until you train or evaluate the model.\n",
      "INFO:tensorflow:Assets written to: ./logs/IID-B600-E5-C0.1-MNIST-CNN-LR0.215/assets\n"
     ]
    },
    {
     "name": "stderr",
     "output_type": "stream",
     "text": [
      " 11%|█▏        | 34/300 [17:58<2:18:59, 31.35s/it]"
     ]
    },
    {
     "name": "stdout",
     "output_type": "stream",
     "text": [
      "{'C': 0.1, 'B': 600, 'learning_rate': 0.215, 'comm_round': 34, 'train_acc': 0.9852, 'test_acc': 0.983, 'train_loss': 0.0471, 'test_loss': 0.0498}\n",
      "WARNING:tensorflow:Compiled the loaded model, but the compiled metrics have yet to be built. `model.compile_metrics` will be empty until you train or evaluate the model.\n",
      "INFO:tensorflow:Assets written to: ./logs/IID-B600-E5-C0.1-MNIST-CNN-LR0.215/assets\n"
     ]
    },
    {
     "name": "stderr",
     "output_type": "stream",
     "text": [
      " 12%|█▏        | 35/300 [18:29<2:18:15, 31.30s/it]"
     ]
    },
    {
     "name": "stdout",
     "output_type": "stream",
     "text": [
      "{'C': 0.1, 'B': 600, 'learning_rate': 0.215, 'comm_round': 35, 'train_acc': 0.9855, 'test_acc': 0.9825, 'train_loss': 0.0471, 'test_loss': 0.0497}\n",
      "WARNING:tensorflow:Compiled the loaded model, but the compiled metrics have yet to be built. `model.compile_metrics` will be empty until you train or evaluate the model.\n",
      "INFO:tensorflow:Assets written to: ./logs/IID-B600-E5-C0.1-MNIST-CNN-LR0.215/assets\n"
     ]
    },
    {
     "name": "stderr",
     "output_type": "stream",
     "text": [
      " 12%|█▏        | 36/300 [19:01<2:18:46, 31.54s/it]"
     ]
    },
    {
     "name": "stdout",
     "output_type": "stream",
     "text": [
      "{'C': 0.1, 'B': 600, 'learning_rate': 0.215, 'comm_round': 36, 'train_acc': 0.9851, 'test_acc': 0.9831, 'train_loss': 0.0469, 'test_loss': 0.051}\n",
      "WARNING:tensorflow:Compiled the loaded model, but the compiled metrics have yet to be built. `model.compile_metrics` will be empty until you train or evaluate the model.\n",
      "INFO:tensorflow:Assets written to: ./logs/IID-B600-E5-C0.1-MNIST-CNN-LR0.215/assets\n"
     ]
    },
    {
     "name": "stderr",
     "output_type": "stream",
     "text": [
      " 12%|█▏        | 37/300 [19:32<2:18:06, 31.51s/it]"
     ]
    },
    {
     "name": "stdout",
     "output_type": "stream",
     "text": [
      "{'C': 0.1, 'B': 600, 'learning_rate': 0.215, 'comm_round': 37, 'train_acc': 0.9857, 'test_acc': 0.9826, 'train_loss': 0.0466, 'test_loss': 0.0494}\n",
      "WARNING:tensorflow:Compiled the loaded model, but the compiled metrics have yet to be built. `model.compile_metrics` will be empty until you train or evaluate the model.\n",
      "INFO:tensorflow:Assets written to: ./logs/IID-B600-E5-C0.1-MNIST-CNN-LR0.215/assets\n"
     ]
    },
    {
     "name": "stderr",
     "output_type": "stream",
     "text": [
      " 13%|█▎        | 38/300 [20:04<2:17:20, 31.45s/it]"
     ]
    },
    {
     "name": "stdout",
     "output_type": "stream",
     "text": [
      "{'C': 0.1, 'B': 600, 'learning_rate': 0.215, 'comm_round': 38, 'train_acc': 0.9858, 'test_acc': 0.9834, 'train_loss': 0.0452, 'test_loss': 0.0492}\n",
      "WARNING:tensorflow:Compiled the loaded model, but the compiled metrics have yet to be built. `model.compile_metrics` will be empty until you train or evaluate the model.\n",
      "INFO:tensorflow:Assets written to: ./logs/IID-B600-E5-C0.1-MNIST-CNN-LR0.215/assets\n"
     ]
    },
    {
     "name": "stderr",
     "output_type": "stream",
     "text": [
      " 13%|█▎        | 39/300 [20:35<2:16:42, 31.43s/it]"
     ]
    },
    {
     "name": "stdout",
     "output_type": "stream",
     "text": [
      "{'C': 0.1, 'B': 600, 'learning_rate': 0.215, 'comm_round': 39, 'train_acc': 0.9851, 'test_acc': 0.9834, 'train_loss': 0.0458, 'test_loss': 0.0477}\n",
      "WARNING:tensorflow:Compiled the loaded model, but the compiled metrics have yet to be built. `model.compile_metrics` will be empty until you train or evaluate the model.\n",
      "INFO:tensorflow:Assets written to: ./logs/IID-B600-E5-C0.1-MNIST-CNN-LR0.215/assets\n"
     ]
    },
    {
     "name": "stderr",
     "output_type": "stream",
     "text": [
      " 13%|█▎        | 40/300 [21:07<2:16:31, 31.51s/it]"
     ]
    },
    {
     "name": "stdout",
     "output_type": "stream",
     "text": [
      "{'C': 0.1, 'B': 600, 'learning_rate': 0.215, 'comm_round': 40, 'train_acc': 0.9861, 'test_acc': 0.9838, 'train_loss': 0.0439, 'test_loss': 0.0483}\n",
      "WARNING:tensorflow:Compiled the loaded model, but the compiled metrics have yet to be built. `model.compile_metrics` will be empty until you train or evaluate the model.\n",
      "INFO:tensorflow:Assets written to: ./logs/IID-B600-E5-C0.1-MNIST-CNN-LR0.215/assets\n"
     ]
    },
    {
     "name": "stderr",
     "output_type": "stream",
     "text": [
      " 14%|█▎        | 41/300 [21:38<2:15:14, 31.33s/it]"
     ]
    },
    {
     "name": "stdout",
     "output_type": "stream",
     "text": [
      "{'C': 0.1, 'B': 600, 'learning_rate': 0.215, 'comm_round': 41, 'train_acc': 0.9863, 'test_acc': 0.9835, 'train_loss': 0.0437, 'test_loss': 0.0483}\n",
      "WARNING:tensorflow:Compiled the loaded model, but the compiled metrics have yet to be built. `model.compile_metrics` will be empty until you train or evaluate the model.\n",
      "INFO:tensorflow:Assets written to: ./logs/IID-B600-E5-C0.1-MNIST-CNN-LR0.215/assets\n"
     ]
    },
    {
     "name": "stderr",
     "output_type": "stream",
     "text": [
      " 14%|█▍        | 42/300 [22:10<2:15:39, 31.55s/it]"
     ]
    },
    {
     "name": "stdout",
     "output_type": "stream",
     "text": [
      "{'C': 0.1, 'B': 600, 'learning_rate': 0.215, 'comm_round': 42, 'train_acc': 0.9864, 'test_acc': 0.9846, 'train_loss': 0.0432, 'test_loss': 0.0474}\n",
      "WARNING:tensorflow:Compiled the loaded model, but the compiled metrics have yet to be built. `model.compile_metrics` will be empty until you train or evaluate the model.\n",
      "INFO:tensorflow:Assets written to: ./logs/IID-B600-E5-C0.1-MNIST-CNN-LR0.215/assets\n"
     ]
    },
    {
     "name": "stderr",
     "output_type": "stream",
     "text": [
      " 14%|█▍        | 43/300 [22:42<2:16:09, 31.79s/it]"
     ]
    },
    {
     "name": "stdout",
     "output_type": "stream",
     "text": [
      "{'C': 0.1, 'B': 600, 'learning_rate': 0.215, 'comm_round': 43, 'train_acc': 0.9866, 'test_acc': 0.9838, 'train_loss': 0.0423, 'test_loss': 0.0466}\n",
      "WARNING:tensorflow:Compiled the loaded model, but the compiled metrics have yet to be built. `model.compile_metrics` will be empty until you train or evaluate the model.\n",
      "INFO:tensorflow:Assets written to: ./logs/IID-B600-E5-C0.1-MNIST-CNN-LR0.215/assets\n"
     ]
    },
    {
     "name": "stderr",
     "output_type": "stream",
     "text": [
      " 15%|█▍        | 44/300 [23:14<2:15:45, 31.82s/it]"
     ]
    },
    {
     "name": "stdout",
     "output_type": "stream",
     "text": [
      "{'C': 0.1, 'B': 600, 'learning_rate': 0.215, 'comm_round': 44, 'train_acc': 0.986, 'test_acc': 0.9838, 'train_loss': 0.0432, 'test_loss': 0.0472}\n",
      "WARNING:tensorflow:Compiled the loaded model, but the compiled metrics have yet to be built. `model.compile_metrics` will be empty until you train or evaluate the model.\n",
      "INFO:tensorflow:Assets written to: ./logs/IID-B600-E5-C0.1-MNIST-CNN-LR0.215/assets\n"
     ]
    },
    {
     "name": "stderr",
     "output_type": "stream",
     "text": [
      " 15%|█▌        | 45/300 [23:45<2:14:42, 31.70s/it]"
     ]
    },
    {
     "name": "stdout",
     "output_type": "stream",
     "text": [
      "{'C': 0.1, 'B': 600, 'learning_rate': 0.215, 'comm_round': 45, 'train_acc': 0.9871, 'test_acc': 0.9848, 'train_loss': 0.0415, 'test_loss': 0.0458}\n",
      "WARNING:tensorflow:Compiled the loaded model, but the compiled metrics have yet to be built. `model.compile_metrics` will be empty until you train or evaluate the model.\n",
      "INFO:tensorflow:Assets written to: ./logs/IID-B600-E5-C0.1-MNIST-CNN-LR0.215/assets\n"
     ]
    },
    {
     "name": "stderr",
     "output_type": "stream",
     "text": [
      " 15%|█▌        | 46/300 [24:17<2:13:33, 31.55s/it]"
     ]
    },
    {
     "name": "stdout",
     "output_type": "stream",
     "text": [
      "{'C': 0.1, 'B': 600, 'learning_rate': 0.215, 'comm_round': 46, 'train_acc': 0.987, 'test_acc': 0.985, 'train_loss': 0.0411, 'test_loss': 0.0453}\n",
      "WARNING:tensorflow:Compiled the loaded model, but the compiled metrics have yet to be built. `model.compile_metrics` will be empty until you train or evaluate the model.\n",
      "INFO:tensorflow:Assets written to: ./logs/IID-B600-E5-C0.1-MNIST-CNN-LR0.215/assets\n"
     ]
    },
    {
     "name": "stderr",
     "output_type": "stream",
     "text": [
      " 16%|█▌        | 47/300 [24:49<2:13:48, 31.73s/it]"
     ]
    },
    {
     "name": "stdout",
     "output_type": "stream",
     "text": [
      "{'C': 0.1, 'B': 600, 'learning_rate': 0.215, 'comm_round': 47, 'train_acc': 0.987, 'test_acc': 0.9843, 'train_loss': 0.0404, 'test_loss': 0.0448}\n",
      "WARNING:tensorflow:Compiled the loaded model, but the compiled metrics have yet to be built. `model.compile_metrics` will be empty until you train or evaluate the model.\n",
      "INFO:tensorflow:Assets written to: ./logs/IID-B600-E5-C0.1-MNIST-CNN-LR0.215/assets\n"
     ]
    },
    {
     "name": "stderr",
     "output_type": "stream",
     "text": [
      " 16%|█▌        | 48/300 [25:21<2:13:30, 31.79s/it]"
     ]
    },
    {
     "name": "stdout",
     "output_type": "stream",
     "text": [
      "{'C': 0.1, 'B': 600, 'learning_rate': 0.215, 'comm_round': 48, 'train_acc': 0.9869, 'test_acc': 0.9837, 'train_loss': 0.0413, 'test_loss': 0.0464}\n",
      "WARNING:tensorflow:Compiled the loaded model, but the compiled metrics have yet to be built. `model.compile_metrics` will be empty until you train or evaluate the model.\n",
      "INFO:tensorflow:Assets written to: ./logs/IID-B600-E5-C0.1-MNIST-CNN-LR0.215/assets\n"
     ]
    },
    {
     "name": "stderr",
     "output_type": "stream",
     "text": [
      " 16%|█▋        | 49/300 [25:52<2:12:30, 31.68s/it]"
     ]
    },
    {
     "name": "stdout",
     "output_type": "stream",
     "text": [
      "{'C': 0.1, 'B': 600, 'learning_rate': 0.215, 'comm_round': 49, 'train_acc': 0.987, 'test_acc': 0.985, 'train_loss': 0.0399, 'test_loss': 0.0445}\n",
      "WARNING:tensorflow:Compiled the loaded model, but the compiled metrics have yet to be built. `model.compile_metrics` will be empty until you train or evaluate the model.\n",
      "INFO:tensorflow:Assets written to: ./logs/IID-B600-E5-C0.1-MNIST-CNN-LR0.215/assets\n"
     ]
    },
    {
     "name": "stderr",
     "output_type": "stream",
     "text": [
      " 17%|█▋        | 50/300 [26:23<2:11:30, 31.56s/it]"
     ]
    },
    {
     "name": "stdout",
     "output_type": "stream",
     "text": [
      "{'C': 0.1, 'B': 600, 'learning_rate': 0.215, 'comm_round': 50, 'train_acc': 0.9874, 'test_acc': 0.9854, 'train_loss': 0.0392, 'test_loss': 0.0443}\n",
      "WARNING:tensorflow:Compiled the loaded model, but the compiled metrics have yet to be built. `model.compile_metrics` will be empty until you train or evaluate the model.\n",
      "INFO:tensorflow:Assets written to: ./logs/IID-B600-E5-C0.1-MNIST-CNN-LR0.215/assets\n"
     ]
    },
    {
     "name": "stderr",
     "output_type": "stream",
     "text": [
      " 17%|█▋        | 51/300 [26:54<2:10:20, 31.41s/it]"
     ]
    },
    {
     "name": "stdout",
     "output_type": "stream",
     "text": [
      "{'C': 0.1, 'B': 600, 'learning_rate': 0.215, 'comm_round': 51, 'train_acc': 0.9876, 'test_acc': 0.9849, 'train_loss': 0.0388, 'test_loss': 0.0437}\n",
      "WARNING:tensorflow:Compiled the loaded model, but the compiled metrics have yet to be built. `model.compile_metrics` will be empty until you train or evaluate the model.\n",
      "INFO:tensorflow:Assets written to: ./logs/IID-B600-E5-C0.1-MNIST-CNN-LR0.215/assets\n"
     ]
    },
    {
     "name": "stderr",
     "output_type": "stream",
     "text": [
      " 17%|█▋        | 52/300 [27:26<2:09:31, 31.34s/it]"
     ]
    },
    {
     "name": "stdout",
     "output_type": "stream",
     "text": [
      "{'C': 0.1, 'B': 600, 'learning_rate': 0.215, 'comm_round': 52, 'train_acc': 0.9875, 'test_acc': 0.9846, 'train_loss': 0.0387, 'test_loss': 0.0448}\n",
      "WARNING:tensorflow:Compiled the loaded model, but the compiled metrics have yet to be built. `model.compile_metrics` will be empty until you train or evaluate the model.\n",
      "INFO:tensorflow:Assets written to: ./logs/IID-B600-E5-C0.1-MNIST-CNN-LR0.215/assets\n"
     ]
    },
    {
     "name": "stderr",
     "output_type": "stream",
     "text": [
      " 18%|█▊        | 53/300 [27:57<2:08:57, 31.33s/it]"
     ]
    },
    {
     "name": "stdout",
     "output_type": "stream",
     "text": [
      "{'C': 0.1, 'B': 600, 'learning_rate': 0.215, 'comm_round': 53, 'train_acc': 0.9876, 'test_acc': 0.9855, 'train_loss': 0.0387, 'test_loss': 0.0441}\n",
      "WARNING:tensorflow:Compiled the loaded model, but the compiled metrics have yet to be built. `model.compile_metrics` will be empty until you train or evaluate the model.\n",
      "INFO:tensorflow:Assets written to: ./logs/IID-B600-E5-C0.1-MNIST-CNN-LR0.215/assets\n"
     ]
    },
    {
     "name": "stderr",
     "output_type": "stream",
     "text": [
      " 18%|█▊        | 54/300 [28:29<2:08:54, 31.44s/it]"
     ]
    },
    {
     "name": "stdout",
     "output_type": "stream",
     "text": [
      "{'C': 0.1, 'B': 600, 'learning_rate': 0.215, 'comm_round': 54, 'train_acc': 0.9844, 'test_acc': 0.9816, 'train_loss': 0.047, 'test_loss': 0.0542}\n",
      "WARNING:tensorflow:Compiled the loaded model, but the compiled metrics have yet to be built. `model.compile_metrics` will be empty until you train or evaluate the model.\n",
      "INFO:tensorflow:Assets written to: ./logs/IID-B600-E5-C0.1-MNIST-CNN-LR0.215/assets\n"
     ]
    },
    {
     "name": "stderr",
     "output_type": "stream",
     "text": [
      " 18%|█▊        | 55/300 [29:00<2:08:06, 31.38s/it]"
     ]
    },
    {
     "name": "stdout",
     "output_type": "stream",
     "text": [
      "{'C': 0.1, 'B': 600, 'learning_rate': 0.215, 'comm_round': 55, 'train_acc': 0.9875, 'test_acc': 0.9847, 'train_loss': 0.0391, 'test_loss': 0.0449}\n",
      "WARNING:tensorflow:Compiled the loaded model, but the compiled metrics have yet to be built. `model.compile_metrics` will be empty until you train or evaluate the model.\n",
      "INFO:tensorflow:Assets written to: ./logs/IID-B600-E5-C0.1-MNIST-CNN-LR0.215/assets\n"
     ]
    },
    {
     "name": "stderr",
     "output_type": "stream",
     "text": [
      " 19%|█▊        | 56/300 [29:31<2:06:48, 31.18s/it]"
     ]
    },
    {
     "name": "stdout",
     "output_type": "stream",
     "text": [
      "{'C': 0.1, 'B': 600, 'learning_rate': 0.215, 'comm_round': 56, 'train_acc': 0.9877, 'test_acc': 0.9849, 'train_loss': 0.0382, 'test_loss': 0.0439}\n",
      "WARNING:tensorflow:Compiled the loaded model, but the compiled metrics have yet to be built. `model.compile_metrics` will be empty until you train or evaluate the model.\n",
      "INFO:tensorflow:Assets written to: ./logs/IID-B600-E5-C0.1-MNIST-CNN-LR0.215/assets\n"
     ]
    },
    {
     "name": "stderr",
     "output_type": "stream",
     "text": [
      " 19%|█▉        | 57/300 [30:02<2:07:02, 31.37s/it]"
     ]
    },
    {
     "name": "stdout",
     "output_type": "stream",
     "text": [
      "{'C': 0.1, 'B': 600, 'learning_rate': 0.215, 'comm_round': 57, 'train_acc': 0.9878, 'test_acc': 0.9843, 'train_loss': 0.0383, 'test_loss': 0.0452}\n",
      "WARNING:tensorflow:Compiled the loaded model, but the compiled metrics have yet to be built. `model.compile_metrics` will be empty until you train or evaluate the model.\n",
      "INFO:tensorflow:Assets written to: ./logs/IID-B600-E5-C0.1-MNIST-CNN-LR0.215/assets\n"
     ]
    },
    {
     "name": "stderr",
     "output_type": "stream",
     "text": [
      " 19%|█▉        | 58/300 [30:34<2:06:27, 31.35s/it]"
     ]
    },
    {
     "name": "stdout",
     "output_type": "stream",
     "text": [
      "{'C': 0.1, 'B': 600, 'learning_rate': 0.215, 'comm_round': 58, 'train_acc': 0.988, 'test_acc': 0.9847, 'train_loss': 0.0386, 'test_loss': 0.0453}\n",
      "WARNING:tensorflow:Compiled the loaded model, but the compiled metrics have yet to be built. `model.compile_metrics` will be empty until you train or evaluate the model.\n",
      "INFO:tensorflow:Assets written to: ./logs/IID-B600-E5-C0.1-MNIST-CNN-LR0.215/assets\n"
     ]
    },
    {
     "name": "stderr",
     "output_type": "stream",
     "text": [
      " 20%|█▉        | 59/300 [31:05<2:05:47, 31.32s/it]"
     ]
    },
    {
     "name": "stdout",
     "output_type": "stream",
     "text": [
      "{'C': 0.1, 'B': 600, 'learning_rate': 0.215, 'comm_round': 59, 'train_acc': 0.9884, 'test_acc': 0.9848, 'train_loss': 0.0381, 'test_loss': 0.0443}\n",
      "WARNING:tensorflow:Compiled the loaded model, but the compiled metrics have yet to be built. `model.compile_metrics` will be empty until you train or evaluate the model.\n",
      "INFO:tensorflow:Assets written to: ./logs/IID-B600-E5-C0.1-MNIST-CNN-LR0.215/assets\n"
     ]
    },
    {
     "name": "stderr",
     "output_type": "stream",
     "text": [
      " 20%|██        | 60/300 [31:37<2:05:57, 31.49s/it]"
     ]
    },
    {
     "name": "stdout",
     "output_type": "stream",
     "text": [
      "{'C': 0.1, 'B': 600, 'learning_rate': 0.215, 'comm_round': 60, 'train_acc': 0.9875, 'test_acc': 0.9853, 'train_loss': 0.0391, 'test_loss': 0.0439}\n",
      "WARNING:tensorflow:Compiled the loaded model, but the compiled metrics have yet to be built. `model.compile_metrics` will be empty until you train or evaluate the model.\n",
      "INFO:tensorflow:Assets written to: ./logs/IID-B600-E5-C0.1-MNIST-CNN-LR0.215/assets\n"
     ]
    },
    {
     "name": "stderr",
     "output_type": "stream",
     "text": [
      " 20%|██        | 61/300 [32:08<2:04:48, 31.33s/it]"
     ]
    },
    {
     "name": "stdout",
     "output_type": "stream",
     "text": [
      "{'C': 0.1, 'B': 600, 'learning_rate': 0.215, 'comm_round': 61, 'train_acc': 0.9883, 'test_acc': 0.9852, 'train_loss': 0.0376, 'test_loss': 0.0432}\n",
      "WARNING:tensorflow:Compiled the loaded model, but the compiled metrics have yet to be built. `model.compile_metrics` will be empty until you train or evaluate the model.\n",
      "INFO:tensorflow:Assets written to: ./logs/IID-B600-E5-C0.1-MNIST-CNN-LR0.215/assets\n"
     ]
    },
    {
     "name": "stderr",
     "output_type": "stream",
     "text": [
      " 21%|██        | 62/300 [32:39<2:04:44, 31.45s/it]"
     ]
    },
    {
     "name": "stdout",
     "output_type": "stream",
     "text": [
      "{'C': 0.1, 'B': 600, 'learning_rate': 0.215, 'comm_round': 62, 'train_acc': 0.9883, 'test_acc': 0.9852, 'train_loss': 0.037, 'test_loss': 0.0434}\n",
      "WARNING:tensorflow:Compiled the loaded model, but the compiled metrics have yet to be built. `model.compile_metrics` will be empty until you train or evaluate the model.\n",
      "INFO:tensorflow:Assets written to: ./logs/IID-B600-E5-C0.1-MNIST-CNN-LR0.215/assets\n"
     ]
    },
    {
     "name": "stderr",
     "output_type": "stream",
     "text": [
      " 21%|██        | 63/300 [33:10<2:03:18, 31.22s/it]"
     ]
    },
    {
     "name": "stdout",
     "output_type": "stream",
     "text": [
      "{'C': 0.1, 'B': 600, 'learning_rate': 0.215, 'comm_round': 63, 'train_acc': 0.9887, 'test_acc': 0.9856, 'train_loss': 0.0361, 'test_loss': 0.0425}\n",
      "WARNING:tensorflow:Compiled the loaded model, but the compiled metrics have yet to be built. `model.compile_metrics` will be empty until you train or evaluate the model.\n",
      "INFO:tensorflow:Assets written to: ./logs/IID-B600-E5-C0.1-MNIST-CNN-LR0.215/assets\n"
     ]
    },
    {
     "name": "stderr",
     "output_type": "stream",
     "text": [
      " 21%|██▏       | 64/300 [33:42<2:03:15, 31.34s/it]"
     ]
    },
    {
     "name": "stdout",
     "output_type": "stream",
     "text": [
      "{'C': 0.1, 'B': 600, 'learning_rate': 0.215, 'comm_round': 64, 'train_acc': 0.9882, 'test_acc': 0.9853, 'train_loss': 0.0371, 'test_loss': 0.043}\n",
      "WARNING:tensorflow:Compiled the loaded model, but the compiled metrics have yet to be built. `model.compile_metrics` will be empty until you train or evaluate the model.\n",
      "INFO:tensorflow:Assets written to: ./logs/IID-B600-E5-C0.1-MNIST-CNN-LR0.215/assets\n"
     ]
    },
    {
     "name": "stderr",
     "output_type": "stream",
     "text": [
      " 22%|██▏       | 65/300 [34:13<2:02:16, 31.22s/it]"
     ]
    },
    {
     "name": "stdout",
     "output_type": "stream",
     "text": [
      "{'C': 0.1, 'B': 600, 'learning_rate': 0.215, 'comm_round': 65, 'train_acc': 0.9889, 'test_acc': 0.9854, 'train_loss': 0.0352, 'test_loss': 0.0415}\n",
      "WARNING:tensorflow:Compiled the loaded model, but the compiled metrics have yet to be built. `model.compile_metrics` will be empty until you train or evaluate the model.\n",
      "INFO:tensorflow:Assets written to: ./logs/IID-B600-E5-C0.1-MNIST-CNN-LR0.215/assets\n"
     ]
    },
    {
     "name": "stderr",
     "output_type": "stream",
     "text": [
      " 22%|██▏       | 66/300 [34:44<2:02:18, 31.36s/it]"
     ]
    },
    {
     "name": "stdout",
     "output_type": "stream",
     "text": [
      "{'C': 0.1, 'B': 600, 'learning_rate': 0.215, 'comm_round': 66, 'train_acc': 0.9888, 'test_acc': 0.986, 'train_loss': 0.0353, 'test_loss': 0.0419}\n",
      "WARNING:tensorflow:Compiled the loaded model, but the compiled metrics have yet to be built. `model.compile_metrics` will be empty until you train or evaluate the model.\n",
      "INFO:tensorflow:Assets written to: ./logs/IID-B600-E5-C0.1-MNIST-CNN-LR0.215/assets\n"
     ]
    },
    {
     "name": "stderr",
     "output_type": "stream",
     "text": [
      " 22%|██▏       | 67/300 [35:16<2:01:31, 31.29s/it]"
     ]
    },
    {
     "name": "stdout",
     "output_type": "stream",
     "text": [
      "{'C': 0.1, 'B': 600, 'learning_rate': 0.215, 'comm_round': 67, 'train_acc': 0.9889, 'test_acc': 0.9859, 'train_loss': 0.035, 'test_loss': 0.0428}\n",
      "WARNING:tensorflow:Compiled the loaded model, but the compiled metrics have yet to be built. `model.compile_metrics` will be empty until you train or evaluate the model.\n",
      "INFO:tensorflow:Assets written to: ./logs/IID-B600-E5-C0.1-MNIST-CNN-LR0.215/assets\n"
     ]
    },
    {
     "name": "stderr",
     "output_type": "stream",
     "text": [
      " 23%|██▎       | 68/300 [35:46<2:00:24, 31.14s/it]"
     ]
    },
    {
     "name": "stdout",
     "output_type": "stream",
     "text": [
      "{'C': 0.1, 'B': 600, 'learning_rate': 0.215, 'comm_round': 68, 'train_acc': 0.9891, 'test_acc': 0.9857, 'train_loss': 0.0347, 'test_loss': 0.0419}\n",
      "WARNING:tensorflow:Compiled the loaded model, but the compiled metrics have yet to be built. `model.compile_metrics` will be empty until you train or evaluate the model.\n",
      "INFO:tensorflow:Assets written to: ./logs/IID-B600-E5-C0.1-MNIST-CNN-LR0.215/assets\n"
     ]
    },
    {
     "name": "stderr",
     "output_type": "stream",
     "text": [
      " 23%|██▎       | 69/300 [36:18<2:00:25, 31.28s/it]"
     ]
    },
    {
     "name": "stdout",
     "output_type": "stream",
     "text": [
      "{'C': 0.1, 'B': 600, 'learning_rate': 0.215, 'comm_round': 69, 'train_acc': 0.9891, 'test_acc': 0.9861, 'train_loss': 0.0344, 'test_loss': 0.0412}\n",
      "WARNING:tensorflow:Compiled the loaded model, but the compiled metrics have yet to be built. `model.compile_metrics` will be empty until you train or evaluate the model.\n",
      "INFO:tensorflow:Assets written to: ./logs/IID-B600-E5-C0.1-MNIST-CNN-LR0.215/assets\n"
     ]
    },
    {
     "name": "stderr",
     "output_type": "stream",
     "text": [
      " 23%|██▎       | 70/300 [36:50<2:00:27, 31.43s/it]"
     ]
    },
    {
     "name": "stdout",
     "output_type": "stream",
     "text": [
      "{'C': 0.1, 'B': 600, 'learning_rate': 0.215, 'comm_round': 70, 'train_acc': 0.9886, 'test_acc': 0.9853, 'train_loss': 0.0342, 'test_loss': 0.0408}\n",
      "WARNING:tensorflow:Compiled the loaded model, but the compiled metrics have yet to be built. `model.compile_metrics` will be empty until you train or evaluate the model.\n",
      "INFO:tensorflow:Assets written to: ./logs/IID-B600-E5-C0.1-MNIST-CNN-LR0.215/assets\n"
     ]
    },
    {
     "name": "stderr",
     "output_type": "stream",
     "text": [
      " 24%|██▎       | 71/300 [37:21<1:59:35, 31.33s/it]"
     ]
    },
    {
     "name": "stdout",
     "output_type": "stream",
     "text": [
      "{'C': 0.1, 'B': 600, 'learning_rate': 0.215, 'comm_round': 71, 'train_acc': 0.9889, 'test_acc': 0.9858, 'train_loss': 0.0338, 'test_loss': 0.0409}\n",
      "WARNING:tensorflow:Compiled the loaded model, but the compiled metrics have yet to be built. `model.compile_metrics` will be empty until you train or evaluate the model.\n",
      "INFO:tensorflow:Assets written to: ./logs/IID-B600-E5-C0.1-MNIST-CNN-LR0.215/assets\n"
     ]
    },
    {
     "name": "stderr",
     "output_type": "stream",
     "text": [
      " 24%|██▍       | 72/300 [37:52<1:59:01, 31.32s/it]"
     ]
    },
    {
     "name": "stdout",
     "output_type": "stream",
     "text": [
      "{'C': 0.1, 'B': 600, 'learning_rate': 0.215, 'comm_round': 72, 'train_acc': 0.989, 'test_acc': 0.9864, 'train_loss': 0.034, 'test_loss': 0.0413}\n",
      "WARNING:tensorflow:Compiled the loaded model, but the compiled metrics have yet to be built. `model.compile_metrics` will be empty until you train or evaluate the model.\n",
      "INFO:tensorflow:Assets written to: ./logs/IID-B600-E5-C0.1-MNIST-CNN-LR0.215/assets\n"
     ]
    },
    {
     "name": "stderr",
     "output_type": "stream",
     "text": [
      " 24%|██▍       | 73/300 [38:23<1:58:32, 31.33s/it]"
     ]
    },
    {
     "name": "stdout",
     "output_type": "stream",
     "text": [
      "{'C': 0.1, 'B': 600, 'learning_rate': 0.215, 'comm_round': 73, 'train_acc': 0.9892, 'test_acc': 0.9859, 'train_loss': 0.0334, 'test_loss': 0.0416}\n",
      "WARNING:tensorflow:Compiled the loaded model, but the compiled metrics have yet to be built. `model.compile_metrics` will be empty until you train or evaluate the model.\n",
      "INFO:tensorflow:Assets written to: ./logs/IID-B600-E5-C0.1-MNIST-CNN-LR0.215/assets\n"
     ]
    },
    {
     "name": "stderr",
     "output_type": "stream",
     "text": [
      " 25%|██▍       | 74/300 [38:55<1:58:19, 31.41s/it]"
     ]
    },
    {
     "name": "stdout",
     "output_type": "stream",
     "text": [
      "{'C': 0.1, 'B': 600, 'learning_rate': 0.215, 'comm_round': 74, 'train_acc': 0.9892, 'test_acc': 0.9858, 'train_loss': 0.0333, 'test_loss': 0.0416}\n",
      "WARNING:tensorflow:Compiled the loaded model, but the compiled metrics have yet to be built. `model.compile_metrics` will be empty until you train or evaluate the model.\n",
      "INFO:tensorflow:Assets written to: ./logs/IID-B600-E5-C0.1-MNIST-CNN-LR0.215/assets\n"
     ]
    },
    {
     "name": "stderr",
     "output_type": "stream",
     "text": [
      " 25%|██▌       | 75/300 [39:26<1:57:37, 31.37s/it]"
     ]
    },
    {
     "name": "stdout",
     "output_type": "stream",
     "text": [
      "{'C': 0.1, 'B': 600, 'learning_rate': 0.215, 'comm_round': 75, 'train_acc': 0.9894, 'test_acc': 0.9863, 'train_loss': 0.0329, 'test_loss': 0.0408}\n",
      "WARNING:tensorflow:Compiled the loaded model, but the compiled metrics have yet to be built. `model.compile_metrics` will be empty until you train or evaluate the model.\n",
      "INFO:tensorflow:Assets written to: ./logs/IID-B600-E5-C0.1-MNIST-CNN-LR0.215/assets\n"
     ]
    },
    {
     "name": "stderr",
     "output_type": "stream",
     "text": [
      " 25%|██▌       | 76/300 [39:58<1:57:21, 31.43s/it]"
     ]
    },
    {
     "name": "stdout",
     "output_type": "stream",
     "text": [
      "{'C': 0.1, 'B': 600, 'learning_rate': 0.215, 'comm_round': 76, 'train_acc': 0.9895, 'test_acc': 0.9863, 'train_loss': 0.0329, 'test_loss': 0.0402}\n",
      "WARNING:tensorflow:Compiled the loaded model, but the compiled metrics have yet to be built. `model.compile_metrics` will be empty until you train or evaluate the model.\n",
      "INFO:tensorflow:Assets written to: ./logs/IID-B600-E5-C0.1-MNIST-CNN-LR0.215/assets\n"
     ]
    },
    {
     "name": "stderr",
     "output_type": "stream",
     "text": [
      " 26%|██▌       | 77/300 [40:28<1:55:52, 31.18s/it]"
     ]
    },
    {
     "name": "stdout",
     "output_type": "stream",
     "text": [
      "{'C': 0.1, 'B': 600, 'learning_rate': 0.215, 'comm_round': 77, 'train_acc': 0.9893, 'test_acc': 0.9858, 'train_loss': 0.0331, 'test_loss': 0.0407}\n",
      "WARNING:tensorflow:Compiled the loaded model, but the compiled metrics have yet to be built. `model.compile_metrics` will be empty until you train or evaluate the model.\n",
      "INFO:tensorflow:Assets written to: ./logs/IID-B600-E5-C0.1-MNIST-CNN-LR0.215/assets\n"
     ]
    },
    {
     "name": "stderr",
     "output_type": "stream",
     "text": [
      " 26%|██▌       | 78/300 [41:00<1:55:51, 31.31s/it]"
     ]
    },
    {
     "name": "stdout",
     "output_type": "stream",
     "text": [
      "{'C': 0.1, 'B': 600, 'learning_rate': 0.215, 'comm_round': 78, 'train_acc': 0.9892, 'test_acc': 0.9859, 'train_loss': 0.0325, 'test_loss': 0.0408}\n",
      "WARNING:tensorflow:Compiled the loaded model, but the compiled metrics have yet to be built. `model.compile_metrics` will be empty until you train or evaluate the model.\n",
      "INFO:tensorflow:Assets written to: ./logs/IID-B600-E5-C0.1-MNIST-CNN-LR0.215/assets\n"
     ]
    },
    {
     "name": "stderr",
     "output_type": "stream",
     "text": [
      " 26%|██▋       | 79/300 [41:31<1:55:07, 31.26s/it]"
     ]
    },
    {
     "name": "stdout",
     "output_type": "stream",
     "text": [
      "{'C': 0.1, 'B': 600, 'learning_rate': 0.215, 'comm_round': 79, 'train_acc': 0.9895, 'test_acc': 0.9858, 'train_loss': 0.0322, 'test_loss': 0.0403}\n",
      "WARNING:tensorflow:Compiled the loaded model, but the compiled metrics have yet to be built. `model.compile_metrics` will be empty until you train or evaluate the model.\n",
      "INFO:tensorflow:Assets written to: ./logs/IID-B600-E5-C0.1-MNIST-CNN-LR0.215/assets\n"
     ]
    },
    {
     "name": "stderr",
     "output_type": "stream",
     "text": [
      " 27%|██▋       | 80/300 [42:03<1:54:39, 31.27s/it]"
     ]
    },
    {
     "name": "stdout",
     "output_type": "stream",
     "text": [
      "{'C': 0.1, 'B': 600, 'learning_rate': 0.215, 'comm_round': 80, 'train_acc': 0.989, 'test_acc': 0.9859, 'train_loss': 0.0327, 'test_loss': 0.0404}\n",
      "WARNING:tensorflow:Compiled the loaded model, but the compiled metrics have yet to be built. `model.compile_metrics` will be empty until you train or evaluate the model.\n",
      "INFO:tensorflow:Assets written to: ./logs/IID-B600-E5-C0.1-MNIST-CNN-LR0.215/assets\n"
     ]
    },
    {
     "name": "stderr",
     "output_type": "stream",
     "text": [
      " 27%|██▋       | 81/300 [42:34<1:54:04, 31.25s/it]"
     ]
    },
    {
     "name": "stdout",
     "output_type": "stream",
     "text": [
      "{'C': 0.1, 'B': 600, 'learning_rate': 0.215, 'comm_round': 81, 'train_acc': 0.9896, 'test_acc': 0.9862, 'train_loss': 0.0319, 'test_loss': 0.0404}\n",
      "WARNING:tensorflow:Compiled the loaded model, but the compiled metrics have yet to be built. `model.compile_metrics` will be empty until you train or evaluate the model.\n",
      "INFO:tensorflow:Assets written to: ./logs/IID-B600-E5-C0.1-MNIST-CNN-LR0.215/assets\n"
     ]
    },
    {
     "name": "stderr",
     "output_type": "stream",
     "text": [
      " 27%|██▋       | 82/300 [43:06<1:54:07, 31.41s/it]"
     ]
    },
    {
     "name": "stdout",
     "output_type": "stream",
     "text": [
      "{'C': 0.1, 'B': 600, 'learning_rate': 0.215, 'comm_round': 82, 'train_acc': 0.9896, 'test_acc': 0.9864, 'train_loss': 0.0327, 'test_loss': 0.0407}\n",
      "WARNING:tensorflow:Compiled the loaded model, but the compiled metrics have yet to be built. `model.compile_metrics` will be empty until you train or evaluate the model.\n",
      "INFO:tensorflow:Assets written to: ./logs/IID-B600-E5-C0.1-MNIST-CNN-LR0.215/assets\n"
     ]
    },
    {
     "name": "stderr",
     "output_type": "stream",
     "text": [
      " 28%|██▊       | 83/300 [43:36<1:52:59, 31.24s/it]"
     ]
    },
    {
     "name": "stdout",
     "output_type": "stream",
     "text": [
      "{'C': 0.1, 'B': 600, 'learning_rate': 0.215, 'comm_round': 83, 'train_acc': 0.9896, 'test_acc': 0.9857, 'train_loss': 0.0329, 'test_loss': 0.041}\n",
      "WARNING:tensorflow:Compiled the loaded model, but the compiled metrics have yet to be built. `model.compile_metrics` will be empty until you train or evaluate the model.\n",
      "INFO:tensorflow:Assets written to: ./logs/IID-B600-E5-C0.1-MNIST-CNN-LR0.215/assets\n"
     ]
    },
    {
     "name": "stderr",
     "output_type": "stream",
     "text": [
      " 28%|██▊       | 84/300 [44:08<1:53:08, 31.43s/it]"
     ]
    },
    {
     "name": "stdout",
     "output_type": "stream",
     "text": [
      "{'C': 0.1, 'B': 600, 'learning_rate': 0.215, 'comm_round': 84, 'train_acc': 0.9897, 'test_acc': 0.9856, 'train_loss': 0.0319, 'test_loss': 0.0412}\n",
      "WARNING:tensorflow:Compiled the loaded model, but the compiled metrics have yet to be built. `model.compile_metrics` will be empty until you train or evaluate the model.\n",
      "INFO:tensorflow:Assets written to: ./logs/IID-B600-E5-C0.1-MNIST-CNN-LR0.215/assets\n"
     ]
    },
    {
     "name": "stderr",
     "output_type": "stream",
     "text": [
      " 28%|██▊       | 85/300 [44:41<1:53:42, 31.73s/it]"
     ]
    },
    {
     "name": "stdout",
     "output_type": "stream",
     "text": [
      "{'C': 0.1, 'B': 600, 'learning_rate': 0.215, 'comm_round': 85, 'train_acc': 0.99, 'test_acc': 0.9858, 'train_loss': 0.0314, 'test_loss': 0.0398}\n",
      "WARNING:tensorflow:Compiled the loaded model, but the compiled metrics have yet to be built. `model.compile_metrics` will be empty until you train or evaluate the model.\n",
      "INFO:tensorflow:Assets written to: ./logs/IID-B600-E5-C0.1-MNIST-CNN-LR0.215/assets\n"
     ]
    },
    {
     "name": "stderr",
     "output_type": "stream",
     "text": [
      " 29%|██▊       | 86/300 [45:12<1:52:45, 31.61s/it]"
     ]
    },
    {
     "name": "stdout",
     "output_type": "stream",
     "text": [
      "{'C': 0.1, 'B': 600, 'learning_rate': 0.215, 'comm_round': 86, 'train_acc': 0.99, 'test_acc': 0.9864, 'train_loss': 0.0311, 'test_loss': 0.0397}\n",
      "WARNING:tensorflow:Compiled the loaded model, but the compiled metrics have yet to be built. `model.compile_metrics` will be empty until you train or evaluate the model.\n",
      "INFO:tensorflow:Assets written to: ./logs/IID-B600-E5-C0.1-MNIST-CNN-LR0.215/assets\n"
     ]
    },
    {
     "name": "stderr",
     "output_type": "stream",
     "text": [
      " 29%|██▉       | 87/300 [45:44<1:52:19, 31.64s/it]"
     ]
    },
    {
     "name": "stdout",
     "output_type": "stream",
     "text": [
      "{'C': 0.1, 'B': 600, 'learning_rate': 0.215, 'comm_round': 87, 'train_acc': 0.9902, 'test_acc': 0.9861, 'train_loss': 0.0307, 'test_loss': 0.04}\n",
      "WARNING:tensorflow:Compiled the loaded model, but the compiled metrics have yet to be built. `model.compile_metrics` will be empty until you train or evaluate the model.\n",
      "INFO:tensorflow:Assets written to: ./logs/IID-B600-E5-C0.1-MNIST-CNN-LR0.215/assets\n"
     ]
    },
    {
     "name": "stderr",
     "output_type": "stream",
     "text": [
      " 29%|██▉       | 88/300 [46:15<1:51:01, 31.42s/it]"
     ]
    },
    {
     "name": "stdout",
     "output_type": "stream",
     "text": [
      "{'C': 0.1, 'B': 600, 'learning_rate': 0.215, 'comm_round': 88, 'train_acc': 0.9899, 'test_acc': 0.9864, 'train_loss': 0.031, 'test_loss': 0.0398}\n",
      "WARNING:tensorflow:Compiled the loaded model, but the compiled metrics have yet to be built. `model.compile_metrics` will be empty until you train or evaluate the model.\n",
      "INFO:tensorflow:Assets written to: ./logs/IID-B600-E5-C0.1-MNIST-CNN-LR0.215/assets\n"
     ]
    },
    {
     "name": "stderr",
     "output_type": "stream",
     "text": [
      " 30%|██▉       | 89/300 [46:46<1:50:45, 31.50s/it]"
     ]
    },
    {
     "name": "stdout",
     "output_type": "stream",
     "text": [
      "{'C': 0.1, 'B': 600, 'learning_rate': 0.215, 'comm_round': 89, 'train_acc': 0.9902, 'test_acc': 0.986, 'train_loss': 0.0306, 'test_loss': 0.0394}\n",
      "WARNING:tensorflow:Compiled the loaded model, but the compiled metrics have yet to be built. `model.compile_metrics` will be empty until you train or evaluate the model.\n",
      "INFO:tensorflow:Assets written to: ./logs/IID-B600-E5-C0.1-MNIST-CNN-LR0.215/assets\n"
     ]
    },
    {
     "name": "stderr",
     "output_type": "stream",
     "text": [
      " 30%|███       | 90/300 [47:17<1:49:31, 31.29s/it]"
     ]
    },
    {
     "name": "stdout",
     "output_type": "stream",
     "text": [
      "{'C': 0.1, 'B': 600, 'learning_rate': 0.215, 'comm_round': 90, 'train_acc': 0.9904, 'test_acc': 0.9867, 'train_loss': 0.0304, 'test_loss': 0.0391}\n",
      "WARNING:tensorflow:Compiled the loaded model, but the compiled metrics have yet to be built. `model.compile_metrics` will be empty until you train or evaluate the model.\n",
      "INFO:tensorflow:Assets written to: ./logs/IID-B600-E5-C0.1-MNIST-CNN-LR0.215/assets\n"
     ]
    },
    {
     "name": "stderr",
     "output_type": "stream",
     "text": [
      " 30%|███       | 91/300 [47:48<1:48:21, 31.11s/it]"
     ]
    },
    {
     "name": "stdout",
     "output_type": "stream",
     "text": [
      "{'C': 0.1, 'B': 600, 'learning_rate': 0.215, 'comm_round': 91, 'train_acc': 0.9902, 'test_acc': 0.9858, 'train_loss': 0.0304, 'test_loss': 0.0409}\n",
      "WARNING:tensorflow:Compiled the loaded model, but the compiled metrics have yet to be built. `model.compile_metrics` will be empty until you train or evaluate the model.\n",
      "INFO:tensorflow:Assets written to: ./logs/IID-B600-E5-C0.1-MNIST-CNN-LR0.215/assets\n"
     ]
    },
    {
     "name": "stderr",
     "output_type": "stream",
     "text": [
      " 31%|███       | 92/300 [48:21<1:50:14, 31.80s/it]"
     ]
    },
    {
     "name": "stdout",
     "output_type": "stream",
     "text": [
      "{'C': 0.1, 'B': 600, 'learning_rate': 0.215, 'comm_round': 92, 'train_acc': 0.9906, 'test_acc': 0.9861, 'train_loss': 0.0299, 'test_loss': 0.0397}\n",
      "WARNING:tensorflow:Compiled the loaded model, but the compiled metrics have yet to be built. `model.compile_metrics` will be empty until you train or evaluate the model.\n",
      "INFO:tensorflow:Assets written to: ./logs/IID-B600-E5-C0.1-MNIST-CNN-LR0.215/assets\n"
     ]
    },
    {
     "name": "stderr",
     "output_type": "stream",
     "text": [
      " 31%|███       | 93/300 [48:52<1:48:23, 31.42s/it]"
     ]
    },
    {
     "name": "stdout",
     "output_type": "stream",
     "text": [
      "{'C': 0.1, 'B': 600, 'learning_rate': 0.215, 'comm_round': 93, 'train_acc': 0.9905, 'test_acc': 0.9861, 'train_loss': 0.0298, 'test_loss': 0.0401}\n",
      "WARNING:tensorflow:Compiled the loaded model, but the compiled metrics have yet to be built. `model.compile_metrics` will be empty until you train or evaluate the model.\n",
      "INFO:tensorflow:Assets written to: ./logs/IID-B600-E5-C0.1-MNIST-CNN-LR0.215/assets\n"
     ]
    },
    {
     "name": "stderr",
     "output_type": "stream",
     "text": [
      " 31%|███▏      | 94/300 [49:24<1:48:21, 31.56s/it]"
     ]
    },
    {
     "name": "stdout",
     "output_type": "stream",
     "text": [
      "{'C': 0.1, 'B': 600, 'learning_rate': 0.215, 'comm_round': 94, 'train_acc': 0.9907, 'test_acc': 0.9864, 'train_loss': 0.0292, 'test_loss': 0.0396}\n",
      "WARNING:tensorflow:Compiled the loaded model, but the compiled metrics have yet to be built. `model.compile_metrics` will be empty until you train or evaluate the model.\n",
      "INFO:tensorflow:Assets written to: ./logs/IID-B600-E5-C0.1-MNIST-CNN-LR0.215/assets\n"
     ]
    },
    {
     "name": "stderr",
     "output_type": "stream",
     "text": [
      " 32%|███▏      | 95/300 [49:55<1:47:45, 31.54s/it]"
     ]
    },
    {
     "name": "stdout",
     "output_type": "stream",
     "text": [
      "{'C': 0.1, 'B': 600, 'learning_rate': 0.215, 'comm_round': 95, 'train_acc': 0.9905, 'test_acc': 0.9852, 'train_loss': 0.0294, 'test_loss': 0.0406}\n",
      "WARNING:tensorflow:Compiled the loaded model, but the compiled metrics have yet to be built. `model.compile_metrics` will be empty until you train or evaluate the model.\n",
      "INFO:tensorflow:Assets written to: ./logs/IID-B600-E5-C0.1-MNIST-CNN-LR0.215/assets\n"
     ]
    },
    {
     "name": "stderr",
     "output_type": "stream",
     "text": [
      " 32%|███▏      | 96/300 [50:26<1:46:30, 31.33s/it]"
     ]
    },
    {
     "name": "stdout",
     "output_type": "stream",
     "text": [
      "{'C': 0.1, 'B': 600, 'learning_rate': 0.215, 'comm_round': 96, 'train_acc': 0.9906, 'test_acc': 0.9864, 'train_loss': 0.0292, 'test_loss': 0.0401}\n",
      "WARNING:tensorflow:Compiled the loaded model, but the compiled metrics have yet to be built. `model.compile_metrics` will be empty until you train or evaluate the model.\n",
      "INFO:tensorflow:Assets written to: ./logs/IID-B600-E5-C0.1-MNIST-CNN-LR0.215/assets\n"
     ]
    },
    {
     "name": "stderr",
     "output_type": "stream",
     "text": [
      " 32%|███▏      | 97/300 [50:57<1:46:11, 31.38s/it]"
     ]
    },
    {
     "name": "stdout",
     "output_type": "stream",
     "text": [
      "{'C': 0.1, 'B': 600, 'learning_rate': 0.215, 'comm_round': 97, 'train_acc': 0.9906, 'test_acc': 0.9874, 'train_loss': 0.0286, 'test_loss': 0.0391}\n",
      "WARNING:tensorflow:Compiled the loaded model, but the compiled metrics have yet to be built. `model.compile_metrics` will be empty until you train or evaluate the model.\n",
      "INFO:tensorflow:Assets written to: ./logs/IID-B600-E5-C0.1-MNIST-CNN-LR0.215/assets\n"
     ]
    },
    {
     "name": "stderr",
     "output_type": "stream",
     "text": [
      " 33%|███▎      | 98/300 [51:29<1:45:54, 31.46s/it]"
     ]
    },
    {
     "name": "stdout",
     "output_type": "stream",
     "text": [
      "{'C': 0.1, 'B': 600, 'learning_rate': 0.215, 'comm_round': 98, 'train_acc': 0.9902, 'test_acc': 0.9863, 'train_loss': 0.0298, 'test_loss': 0.0399}\n",
      "WARNING:tensorflow:Compiled the loaded model, but the compiled metrics have yet to be built. `model.compile_metrics` will be empty until you train or evaluate the model.\n",
      "INFO:tensorflow:Assets written to: ./logs/IID-B600-E5-C0.1-MNIST-CNN-LR0.215/assets\n"
     ]
    },
    {
     "name": "stderr",
     "output_type": "stream",
     "text": [
      " 33%|███▎      | 99/300 [52:01<1:45:40, 31.55s/it]"
     ]
    },
    {
     "name": "stdout",
     "output_type": "stream",
     "text": [
      "{'C': 0.1, 'B': 600, 'learning_rate': 0.215, 'comm_round': 99, 'train_acc': 0.9903, 'test_acc': 0.9859, 'train_loss': 0.0299, 'test_loss': 0.0414}\n",
      "WARNING:tensorflow:Compiled the loaded model, but the compiled metrics have yet to be built. `model.compile_metrics` will be empty until you train or evaluate the model.\n",
      "INFO:tensorflow:Assets written to: ./logs/IID-B600-E5-C0.1-MNIST-CNN-LR0.215/assets\n"
     ]
    },
    {
     "name": "stderr",
     "output_type": "stream",
     "text": [
      " 33%|███▎      | 100/300 [52:32<1:44:46, 31.43s/it]"
     ]
    },
    {
     "name": "stdout",
     "output_type": "stream",
     "text": [
      "{'C': 0.1, 'B': 600, 'learning_rate': 0.215, 'comm_round': 100, 'train_acc': 0.9908, 'test_acc': 0.9859, 'train_loss': 0.0283, 'test_loss': 0.0398}\n",
      "WARNING:tensorflow:Compiled the loaded model, but the compiled metrics have yet to be built. `model.compile_metrics` will be empty until you train or evaluate the model.\n",
      "INFO:tensorflow:Assets written to: ./logs/IID-B600-E5-C0.1-MNIST-CNN-LR0.215/assets\n"
     ]
    },
    {
     "name": "stderr",
     "output_type": "stream",
     "text": [
      " 34%|███▎      | 101/300 [53:03<1:44:05, 31.38s/it]"
     ]
    },
    {
     "name": "stdout",
     "output_type": "stream",
     "text": [
      "{'C': 0.1, 'B': 600, 'learning_rate': 0.215, 'comm_round': 101, 'train_acc': 0.991, 'test_acc': 0.987, 'train_loss': 0.0281, 'test_loss': 0.0386}\n",
      "WARNING:tensorflow:Compiled the loaded model, but the compiled metrics have yet to be built. `model.compile_metrics` will be empty until you train or evaluate the model.\n",
      "INFO:tensorflow:Assets written to: ./logs/IID-B600-E5-C0.1-MNIST-CNN-LR0.215/assets\n"
     ]
    },
    {
     "name": "stderr",
     "output_type": "stream",
     "text": [
      " 34%|███▍      | 102/300 [53:34<1:43:18, 31.30s/it]"
     ]
    },
    {
     "name": "stdout",
     "output_type": "stream",
     "text": [
      "{'C': 0.1, 'B': 600, 'learning_rate': 0.215, 'comm_round': 102, 'train_acc': 0.9909, 'test_acc': 0.987, 'train_loss': 0.0277, 'test_loss': 0.0377}\n",
      "WARNING:tensorflow:Compiled the loaded model, but the compiled metrics have yet to be built. `model.compile_metrics` will be empty until you train or evaluate the model.\n",
      "INFO:tensorflow:Assets written to: ./logs/IID-B600-E5-C0.1-MNIST-CNN-LR0.215/assets\n"
     ]
    },
    {
     "name": "stderr",
     "output_type": "stream",
     "text": [
      " 34%|███▍      | 103/300 [54:06<1:42:36, 31.25s/it]"
     ]
    },
    {
     "name": "stdout",
     "output_type": "stream",
     "text": [
      "{'C': 0.1, 'B': 600, 'learning_rate': 0.215, 'comm_round': 103, 'train_acc': 0.9908, 'test_acc': 0.9861, 'train_loss': 0.0276, 'test_loss': 0.0383}\n",
      "WARNING:tensorflow:Compiled the loaded model, but the compiled metrics have yet to be built. `model.compile_metrics` will be empty until you train or evaluate the model.\n",
      "INFO:tensorflow:Assets written to: ./logs/IID-B600-E5-C0.1-MNIST-CNN-LR0.215/assets\n"
     ]
    },
    {
     "name": "stderr",
     "output_type": "stream",
     "text": [
      " 35%|███▍      | 104/300 [54:37<1:42:21, 31.34s/it]"
     ]
    },
    {
     "name": "stdout",
     "output_type": "stream",
     "text": [
      "{'C': 0.1, 'B': 600, 'learning_rate': 0.215, 'comm_round': 104, 'train_acc': 0.9913, 'test_acc': 0.9864, 'train_loss': 0.0275, 'test_loss': 0.0396}\n",
      "WARNING:tensorflow:Compiled the loaded model, but the compiled metrics have yet to be built. `model.compile_metrics` will be empty until you train or evaluate the model.\n",
      "INFO:tensorflow:Assets written to: ./logs/IID-B600-E5-C0.1-MNIST-CNN-LR0.215/assets\n"
     ]
    },
    {
     "name": "stderr",
     "output_type": "stream",
     "text": [
      " 35%|███▌      | 105/300 [55:08<1:41:20, 31.18s/it]"
     ]
    },
    {
     "name": "stdout",
     "output_type": "stream",
     "text": [
      "{'C': 0.1, 'B': 600, 'learning_rate': 0.215, 'comm_round': 105, 'train_acc': 0.9914, 'test_acc': 0.9868, 'train_loss': 0.0272, 'test_loss': 0.0384}\n",
      "WARNING:tensorflow:Compiled the loaded model, but the compiled metrics have yet to be built. `model.compile_metrics` will be empty until you train or evaluate the model.\n",
      "INFO:tensorflow:Assets written to: ./logs/IID-B600-E5-C0.1-MNIST-CNN-LR0.215/assets\n"
     ]
    },
    {
     "name": "stderr",
     "output_type": "stream",
     "text": [
      " 35%|███▌      | 106/300 [55:39<1:41:04, 31.26s/it]"
     ]
    },
    {
     "name": "stdout",
     "output_type": "stream",
     "text": [
      "{'C': 0.1, 'B': 600, 'learning_rate': 0.215, 'comm_round': 106, 'train_acc': 0.9912, 'test_acc': 0.9869, 'train_loss': 0.0277, 'test_loss': 0.0392}\n",
      "WARNING:tensorflow:Compiled the loaded model, but the compiled metrics have yet to be built. `model.compile_metrics` will be empty until you train or evaluate the model.\n",
      "INFO:tensorflow:Assets written to: ./logs/IID-B600-E5-C0.1-MNIST-CNN-LR0.215/assets\n"
     ]
    },
    {
     "name": "stderr",
     "output_type": "stream",
     "text": [
      " 36%|███▌      | 107/300 [56:11<1:40:44, 31.32s/it]"
     ]
    },
    {
     "name": "stdout",
     "output_type": "stream",
     "text": [
      "{'C': 0.1, 'B': 600, 'learning_rate': 0.215, 'comm_round': 107, 'train_acc': 0.9914, 'test_acc': 0.9864, 'train_loss': 0.0273, 'test_loss': 0.0386}\n",
      "WARNING:tensorflow:Compiled the loaded model, but the compiled metrics have yet to be built. `model.compile_metrics` will be empty until you train or evaluate the model.\n",
      "INFO:tensorflow:Assets written to: ./logs/IID-B600-E5-C0.1-MNIST-CNN-LR0.215/assets\n"
     ]
    },
    {
     "name": "stderr",
     "output_type": "stream",
     "text": [
      " 36%|███▌      | 108/300 [56:42<1:40:25, 31.38s/it]"
     ]
    },
    {
     "name": "stdout",
     "output_type": "stream",
     "text": [
      "{'C': 0.1, 'B': 600, 'learning_rate': 0.215, 'comm_round': 108, 'train_acc': 0.9913, 'test_acc': 0.9866, 'train_loss': 0.027, 'test_loss': 0.0383}\n",
      "WARNING:tensorflow:Compiled the loaded model, but the compiled metrics have yet to be built. `model.compile_metrics` will be empty until you train or evaluate the model.\n",
      "INFO:tensorflow:Assets written to: ./logs/IID-B600-E5-C0.1-MNIST-CNN-LR0.215/assets\n"
     ]
    },
    {
     "name": "stderr",
     "output_type": "stream",
     "text": [
      " 36%|███▋      | 109/300 [57:14<1:40:06, 31.45s/it]"
     ]
    },
    {
     "name": "stdout",
     "output_type": "stream",
     "text": [
      "{'C': 0.1, 'B': 600, 'learning_rate': 0.215, 'comm_round': 109, 'train_acc': 0.9916, 'test_acc': 0.987, 'train_loss': 0.0262, 'test_loss': 0.0382}\n",
      "WARNING:tensorflow:Compiled the loaded model, but the compiled metrics have yet to be built. `model.compile_metrics` will be empty until you train or evaluate the model.\n",
      "INFO:tensorflow:Assets written to: ./logs/IID-B600-E5-C0.1-MNIST-CNN-LR0.215/assets\n"
     ]
    },
    {
     "name": "stderr",
     "output_type": "stream",
     "text": [
      " 37%|███▋      | 110/300 [57:46<1:39:51, 31.53s/it]"
     ]
    },
    {
     "name": "stdout",
     "output_type": "stream",
     "text": [
      "{'C': 0.1, 'B': 600, 'learning_rate': 0.215, 'comm_round': 110, 'train_acc': 0.9918, 'test_acc': 0.9867, 'train_loss': 0.0265, 'test_loss': 0.0386}\n",
      "WARNING:tensorflow:Compiled the loaded model, but the compiled metrics have yet to be built. `model.compile_metrics` will be empty until you train or evaluate the model.\n",
      "INFO:tensorflow:Assets written to: ./logs/IID-B600-E5-C0.1-MNIST-CNN-LR0.215/assets\n"
     ]
    },
    {
     "name": "stderr",
     "output_type": "stream",
     "text": [
      " 37%|███▋      | 111/300 [58:17<1:38:59, 31.43s/it]"
     ]
    },
    {
     "name": "stdout",
     "output_type": "stream",
     "text": [
      "{'C': 0.1, 'B': 600, 'learning_rate': 0.215, 'comm_round': 111, 'train_acc': 0.9916, 'test_acc': 0.9872, 'train_loss': 0.0267, 'test_loss': 0.0388}\n",
      "WARNING:tensorflow:Compiled the loaded model, but the compiled metrics have yet to be built. `model.compile_metrics` will be empty until you train or evaluate the model.\n",
      "INFO:tensorflow:Assets written to: ./logs/IID-B600-E5-C0.1-MNIST-CNN-LR0.215/assets\n"
     ]
    },
    {
     "name": "stderr",
     "output_type": "stream",
     "text": [
      " 37%|███▋      | 112/300 [58:48<1:38:41, 31.50s/it]"
     ]
    },
    {
     "name": "stdout",
     "output_type": "stream",
     "text": [
      "{'C': 0.1, 'B': 600, 'learning_rate': 0.215, 'comm_round': 112, 'train_acc': 0.9917, 'test_acc': 0.9862, 'train_loss': 0.0263, 'test_loss': 0.0382}\n",
      "WARNING:tensorflow:Compiled the loaded model, but the compiled metrics have yet to be built. `model.compile_metrics` will be empty until you train or evaluate the model.\n",
      "INFO:tensorflow:Assets written to: ./logs/IID-B600-E5-C0.1-MNIST-CNN-LR0.215/assets\n"
     ]
    },
    {
     "name": "stderr",
     "output_type": "stream",
     "text": [
      " 38%|███▊      | 113/300 [59:21<1:38:54, 31.74s/it]"
     ]
    },
    {
     "name": "stdout",
     "output_type": "stream",
     "text": [
      "{'C': 0.1, 'B': 600, 'learning_rate': 0.215, 'comm_round': 113, 'train_acc': 0.9918, 'test_acc': 0.9867, 'train_loss': 0.026, 'test_loss': 0.0376}\n",
      "WARNING:tensorflow:Compiled the loaded model, but the compiled metrics have yet to be built. `model.compile_metrics` will be empty until you train or evaluate the model.\n",
      "INFO:tensorflow:Assets written to: ./logs/IID-B600-E5-C0.1-MNIST-CNN-LR0.215/assets\n"
     ]
    },
    {
     "name": "stderr",
     "output_type": "stream",
     "text": [
      " 38%|███▊      | 114/300 [59:53<1:38:45, 31.86s/it]"
     ]
    },
    {
     "name": "stdout",
     "output_type": "stream",
     "text": [
      "{'C': 0.1, 'B': 600, 'learning_rate': 0.215, 'comm_round': 114, 'train_acc': 0.9918, 'test_acc': 0.9866, 'train_loss': 0.0259, 'test_loss': 0.0375}\n",
      "WARNING:tensorflow:Compiled the loaded model, but the compiled metrics have yet to be built. `model.compile_metrics` will be empty until you train or evaluate the model.\n",
      "INFO:tensorflow:Assets written to: ./logs/IID-B600-E5-C0.1-MNIST-CNN-LR0.215/assets\n"
     ]
    },
    {
     "name": "stderr",
     "output_type": "stream",
     "text": [
      " 38%|███▊      | 115/300 [1:00:24<1:37:25, 31.60s/it]"
     ]
    },
    {
     "name": "stdout",
     "output_type": "stream",
     "text": [
      "{'C': 0.1, 'B': 600, 'learning_rate': 0.215, 'comm_round': 115, 'train_acc': 0.9916, 'test_acc': 0.9865, 'train_loss': 0.0264, 'test_loss': 0.038}\n",
      "WARNING:tensorflow:Compiled the loaded model, but the compiled metrics have yet to be built. `model.compile_metrics` will be empty until you train or evaluate the model.\n",
      "INFO:tensorflow:Assets written to: ./logs/IID-B600-E5-C0.1-MNIST-CNN-LR0.215/assets\n"
     ]
    },
    {
     "name": "stderr",
     "output_type": "stream",
     "text": [
      " 39%|███▊      | 116/300 [1:00:55<1:36:29, 31.46s/it]"
     ]
    },
    {
     "name": "stdout",
     "output_type": "stream",
     "text": [
      "{'C': 0.1, 'B': 600, 'learning_rate': 0.215, 'comm_round': 116, 'train_acc': 0.9919, 'test_acc': 0.9877, 'train_loss': 0.0256, 'test_loss': 0.0369}\n",
      "WARNING:tensorflow:Compiled the loaded model, but the compiled metrics have yet to be built. `model.compile_metrics` will be empty until you train or evaluate the model.\n",
      "INFO:tensorflow:Assets written to: ./logs/IID-B600-E5-C0.1-MNIST-CNN-LR0.215/assets\n"
     ]
    },
    {
     "name": "stderr",
     "output_type": "stream",
     "text": [
      " 39%|███▉      | 117/300 [1:01:26<1:35:53, 31.44s/it]"
     ]
    },
    {
     "name": "stdout",
     "output_type": "stream",
     "text": [
      "{'C': 0.1, 'B': 600, 'learning_rate': 0.215, 'comm_round': 117, 'train_acc': 0.9918, 'test_acc': 0.9879, 'train_loss': 0.0255, 'test_loss': 0.037}\n",
      "WARNING:tensorflow:Compiled the loaded model, but the compiled metrics have yet to be built. `model.compile_metrics` will be empty until you train or evaluate the model.\n",
      "INFO:tensorflow:Assets written to: ./logs/IID-B600-E5-C0.1-MNIST-CNN-LR0.215/assets\n"
     ]
    },
    {
     "name": "stderr",
     "output_type": "stream",
     "text": [
      " 39%|███▉      | 118/300 [1:01:58<1:35:24, 31.45s/it]"
     ]
    },
    {
     "name": "stdout",
     "output_type": "stream",
     "text": [
      "{'C': 0.1, 'B': 600, 'learning_rate': 0.215, 'comm_round': 118, 'train_acc': 0.9918, 'test_acc': 0.9881, 'train_loss': 0.0254, 'test_loss': 0.0372}\n",
      "WARNING:tensorflow:Compiled the loaded model, but the compiled metrics have yet to be built. `model.compile_metrics` will be empty until you train or evaluate the model.\n",
      "INFO:tensorflow:Assets written to: ./logs/IID-B600-E5-C0.1-MNIST-CNN-LR0.215/assets\n"
     ]
    },
    {
     "name": "stderr",
     "output_type": "stream",
     "text": [
      " 40%|███▉      | 119/300 [1:02:30<1:35:01, 31.50s/it]"
     ]
    },
    {
     "name": "stdout",
     "output_type": "stream",
     "text": [
      "{'C': 0.1, 'B': 600, 'learning_rate': 0.215, 'comm_round': 119, 'train_acc': 0.992, 'test_acc': 0.9872, 'train_loss': 0.0253, 'test_loss': 0.0374}\n",
      "WARNING:tensorflow:Compiled the loaded model, but the compiled metrics have yet to be built. `model.compile_metrics` will be empty until you train or evaluate the model.\n",
      "INFO:tensorflow:Assets written to: ./logs/IID-B600-E5-C0.1-MNIST-CNN-LR0.215/assets\n"
     ]
    },
    {
     "name": "stderr",
     "output_type": "stream",
     "text": [
      " 40%|████      | 120/300 [1:03:01<1:34:36, 31.54s/it]"
     ]
    },
    {
     "name": "stdout",
     "output_type": "stream",
     "text": [
      "{'C': 0.1, 'B': 600, 'learning_rate': 0.215, 'comm_round': 120, 'train_acc': 0.9918, 'test_acc': 0.9879, 'train_loss': 0.0257, 'test_loss': 0.0377}\n",
      "WARNING:tensorflow:Compiled the loaded model, but the compiled metrics have yet to be built. `model.compile_metrics` will be empty until you train or evaluate the model.\n",
      "INFO:tensorflow:Assets written to: ./logs/IID-B600-E5-C0.1-MNIST-CNN-LR0.215/assets\n"
     ]
    },
    {
     "name": "stderr",
     "output_type": "stream",
     "text": [
      " 40%|████      | 121/300 [1:03:33<1:34:11, 31.57s/it]"
     ]
    },
    {
     "name": "stdout",
     "output_type": "stream",
     "text": [
      "{'C': 0.1, 'B': 600, 'learning_rate': 0.215, 'comm_round': 121, 'train_acc': 0.9911, 'test_acc': 0.9869, 'train_loss': 0.0271, 'test_loss': 0.039}\n",
      "WARNING:tensorflow:Compiled the loaded model, but the compiled metrics have yet to be built. `model.compile_metrics` will be empty until you train or evaluate the model.\n",
      "INFO:tensorflow:Assets written to: ./logs/IID-B600-E5-C0.1-MNIST-CNN-LR0.215/assets\n"
     ]
    },
    {
     "name": "stderr",
     "output_type": "stream",
     "text": [
      " 41%|████      | 122/300 [1:04:04<1:33:21, 31.47s/it]"
     ]
    },
    {
     "name": "stdout",
     "output_type": "stream",
     "text": [
      "{'C': 0.1, 'B': 600, 'learning_rate': 0.215, 'comm_round': 122, 'train_acc': 0.9918, 'test_acc': 0.9878, 'train_loss': 0.0253, 'test_loss': 0.0373}\n",
      "WARNING:tensorflow:Compiled the loaded model, but the compiled metrics have yet to be built. `model.compile_metrics` will be empty until you train or evaluate the model.\n",
      "INFO:tensorflow:Assets written to: ./logs/IID-B600-E5-C0.1-MNIST-CNN-LR0.215/assets\n"
     ]
    },
    {
     "name": "stderr",
     "output_type": "stream",
     "text": [
      " 41%|████      | 123/300 [1:04:36<1:33:05, 31.55s/it]"
     ]
    },
    {
     "name": "stdout",
     "output_type": "stream",
     "text": [
      "{'C': 0.1, 'B': 600, 'learning_rate': 0.215, 'comm_round': 123, 'train_acc': 0.9919, 'test_acc': 0.9876, 'train_loss': 0.0254, 'test_loss': 0.0372}\n",
      "WARNING:tensorflow:Compiled the loaded model, but the compiled metrics have yet to be built. `model.compile_metrics` will be empty until you train or evaluate the model.\n",
      "INFO:tensorflow:Assets written to: ./logs/IID-B600-E5-C0.1-MNIST-CNN-LR0.215/assets\n"
     ]
    },
    {
     "name": "stderr",
     "output_type": "stream",
     "text": [
      " 41%|████▏     | 124/300 [1:05:08<1:33:06, 31.74s/it]"
     ]
    },
    {
     "name": "stdout",
     "output_type": "stream",
     "text": [
      "{'C': 0.1, 'B': 600, 'learning_rate': 0.215, 'comm_round': 124, 'train_acc': 0.9912, 'test_acc': 0.9871, 'train_loss': 0.0274, 'test_loss': 0.0393}\n",
      "WARNING:tensorflow:Compiled the loaded model, but the compiled metrics have yet to be built. `model.compile_metrics` will be empty until you train or evaluate the model.\n",
      "INFO:tensorflow:Assets written to: ./logs/IID-B600-E5-C0.1-MNIST-CNN-LR0.215/assets\n"
     ]
    },
    {
     "name": "stderr",
     "output_type": "stream",
     "text": [
      " 42%|████▏     | 125/300 [1:05:39<1:32:08, 31.59s/it]"
     ]
    },
    {
     "name": "stdout",
     "output_type": "stream",
     "text": [
      "{'C': 0.1, 'B': 600, 'learning_rate': 0.215, 'comm_round': 125, 'train_acc': 0.9918, 'test_acc': 0.9872, 'train_loss': 0.0254, 'test_loss': 0.0369}\n",
      "WARNING:tensorflow:Compiled the loaded model, but the compiled metrics have yet to be built. `model.compile_metrics` will be empty until you train or evaluate the model.\n",
      "INFO:tensorflow:Assets written to: ./logs/IID-B600-E5-C0.1-MNIST-CNN-LR0.215/assets\n"
     ]
    },
    {
     "name": "stderr",
     "output_type": "stream",
     "text": [
      " 42%|████▏     | 126/300 [1:06:10<1:31:12, 31.45s/it]"
     ]
    },
    {
     "name": "stdout",
     "output_type": "stream",
     "text": [
      "{'C': 0.1, 'B': 600, 'learning_rate': 0.215, 'comm_round': 126, 'train_acc': 0.9919, 'test_acc': 0.9869, 'train_loss': 0.0249, 'test_loss': 0.0365}\n",
      "WARNING:tensorflow:Compiled the loaded model, but the compiled metrics have yet to be built. `model.compile_metrics` will be empty until you train or evaluate the model.\n",
      "INFO:tensorflow:Assets written to: ./logs/IID-B600-E5-C0.1-MNIST-CNN-LR0.215/assets\n"
     ]
    },
    {
     "name": "stderr",
     "output_type": "stream",
     "text": [
      " 42%|████▏     | 127/300 [1:06:42<1:30:38, 31.43s/it]"
     ]
    },
    {
     "name": "stdout",
     "output_type": "stream",
     "text": [
      "{'C': 0.1, 'B': 600, 'learning_rate': 0.215, 'comm_round': 127, 'train_acc': 0.9921, 'test_acc': 0.9874, 'train_loss': 0.025, 'test_loss': 0.0368}\n",
      "WARNING:tensorflow:Compiled the loaded model, but the compiled metrics have yet to be built. `model.compile_metrics` will be empty until you train or evaluate the model.\n",
      "INFO:tensorflow:Assets written to: ./logs/IID-B600-E5-C0.1-MNIST-CNN-LR0.215/assets\n"
     ]
    },
    {
     "name": "stderr",
     "output_type": "stream",
     "text": [
      " 43%|████▎     | 128/300 [1:07:13<1:29:50, 31.34s/it]"
     ]
    },
    {
     "name": "stdout",
     "output_type": "stream",
     "text": [
      "{'C': 0.1, 'B': 600, 'learning_rate': 0.215, 'comm_round': 128, 'train_acc': 0.9923, 'test_acc': 0.9878, 'train_loss': 0.0246, 'test_loss': 0.0362}\n",
      "WARNING:tensorflow:Compiled the loaded model, but the compiled metrics have yet to be built. `model.compile_metrics` will be empty until you train or evaluate the model.\n",
      "INFO:tensorflow:Assets written to: ./logs/IID-B600-E5-C0.1-MNIST-CNN-LR0.215/assets\n"
     ]
    },
    {
     "name": "stderr",
     "output_type": "stream",
     "text": [
      " 43%|████▎     | 129/300 [1:07:44<1:29:06, 31.27s/it]"
     ]
    },
    {
     "name": "stdout",
     "output_type": "stream",
     "text": [
      "{'C': 0.1, 'B': 600, 'learning_rate': 0.215, 'comm_round': 129, 'train_acc': 0.9921, 'test_acc': 0.9874, 'train_loss': 0.0243, 'test_loss': 0.0364}\n",
      "WARNING:tensorflow:Compiled the loaded model, but the compiled metrics have yet to be built. `model.compile_metrics` will be empty until you train or evaluate the model.\n",
      "INFO:tensorflow:Assets written to: ./logs/IID-B600-E5-C0.1-MNIST-CNN-LR0.215/assets\n"
     ]
    },
    {
     "name": "stderr",
     "output_type": "stream",
     "text": [
      " 43%|████▎     | 130/300 [1:08:15<1:28:13, 31.14s/it]"
     ]
    },
    {
     "name": "stdout",
     "output_type": "stream",
     "text": [
      "{'C': 0.1, 'B': 600, 'learning_rate': 0.215, 'comm_round': 130, 'train_acc': 0.9922, 'test_acc': 0.9872, 'train_loss': 0.0243, 'test_loss': 0.0362}\n",
      "WARNING:tensorflow:Compiled the loaded model, but the compiled metrics have yet to be built. `model.compile_metrics` will be empty until you train or evaluate the model.\n",
      "INFO:tensorflow:Assets written to: ./logs/IID-B600-E5-C0.1-MNIST-CNN-LR0.215/assets\n"
     ]
    },
    {
     "name": "stderr",
     "output_type": "stream",
     "text": [
      " 44%|████▎     | 131/300 [1:08:46<1:27:57, 31.23s/it]"
     ]
    },
    {
     "name": "stdout",
     "output_type": "stream",
     "text": [
      "{'C': 0.1, 'B': 600, 'learning_rate': 0.215, 'comm_round': 131, 'train_acc': 0.9925, 'test_acc': 0.9874, 'train_loss': 0.0238, 'test_loss': 0.0362}\n",
      "WARNING:tensorflow:Compiled the loaded model, but the compiled metrics have yet to be built. `model.compile_metrics` will be empty until you train or evaluate the model.\n",
      "INFO:tensorflow:Assets written to: ./logs/IID-B600-E5-C0.1-MNIST-CNN-LR0.215/assets\n"
     ]
    },
    {
     "name": "stderr",
     "output_type": "stream",
     "text": [
      " 44%|████▍     | 132/300 [1:09:17<1:27:23, 31.21s/it]"
     ]
    },
    {
     "name": "stdout",
     "output_type": "stream",
     "text": [
      "{'C': 0.1, 'B': 600, 'learning_rate': 0.215, 'comm_round': 132, 'train_acc': 0.9926, 'test_acc': 0.9877, 'train_loss': 0.024, 'test_loss': 0.0365}\n",
      "WARNING:tensorflow:Compiled the loaded model, but the compiled metrics have yet to be built. `model.compile_metrics` will be empty until you train or evaluate the model.\n",
      "INFO:tensorflow:Assets written to: ./logs/IID-B600-E5-C0.1-MNIST-CNN-LR0.215/assets\n"
     ]
    },
    {
     "name": "stderr",
     "output_type": "stream",
     "text": [
      " 44%|████▍     | 133/300 [1:09:49<1:27:13, 31.34s/it]"
     ]
    },
    {
     "name": "stdout",
     "output_type": "stream",
     "text": [
      "{'C': 0.1, 'B': 600, 'learning_rate': 0.215, 'comm_round': 133, 'train_acc': 0.9927, 'test_acc': 0.9872, 'train_loss': 0.0234, 'test_loss': 0.0371}\n",
      "WARNING:tensorflow:Compiled the loaded model, but the compiled metrics have yet to be built. `model.compile_metrics` will be empty until you train or evaluate the model.\n",
      "INFO:tensorflow:Assets written to: ./logs/IID-B600-E5-C0.1-MNIST-CNN-LR0.215/assets\n"
     ]
    },
    {
     "name": "stderr",
     "output_type": "stream",
     "text": [
      " 45%|████▍     | 134/300 [1:10:20<1:26:19, 31.20s/it]"
     ]
    },
    {
     "name": "stdout",
     "output_type": "stream",
     "text": [
      "{'C': 0.1, 'B': 600, 'learning_rate': 0.215, 'comm_round': 134, 'train_acc': 0.9928, 'test_acc': 0.9875, 'train_loss': 0.023, 'test_loss': 0.0367}\n",
      "WARNING:tensorflow:Compiled the loaded model, but the compiled metrics have yet to be built. `model.compile_metrics` will be empty until you train or evaluate the model.\n",
      "INFO:tensorflow:Assets written to: ./logs/IID-B600-E5-C0.1-MNIST-CNN-LR0.215/assets\n"
     ]
    },
    {
     "name": "stderr",
     "output_type": "stream",
     "text": [
      " 45%|████▌     | 135/300 [1:10:51<1:25:37, 31.14s/it]"
     ]
    },
    {
     "name": "stdout",
     "output_type": "stream",
     "text": [
      "{'C': 0.1, 'B': 600, 'learning_rate': 0.215, 'comm_round': 135, 'train_acc': 0.9924, 'test_acc': 0.9876, 'train_loss': 0.0235, 'test_loss': 0.0368}\n",
      "WARNING:tensorflow:Compiled the loaded model, but the compiled metrics have yet to be built. `model.compile_metrics` will be empty until you train or evaluate the model.\n",
      "INFO:tensorflow:Assets written to: ./logs/IID-B600-E5-C0.1-MNIST-CNN-LR0.215/assets\n"
     ]
    },
    {
     "name": "stderr",
     "output_type": "stream",
     "text": [
      " 45%|████▌     | 136/300 [1:11:22<1:24:54, 31.06s/it]"
     ]
    },
    {
     "name": "stdout",
     "output_type": "stream",
     "text": [
      "{'C': 0.1, 'B': 600, 'learning_rate': 0.215, 'comm_round': 136, 'train_acc': 0.9927, 'test_acc': 0.9878, 'train_loss': 0.0231, 'test_loss': 0.0365}\n",
      "WARNING:tensorflow:Compiled the loaded model, but the compiled metrics have yet to be built. `model.compile_metrics` will be empty until you train or evaluate the model.\n",
      "INFO:tensorflow:Assets written to: ./logs/IID-B600-E5-C0.1-MNIST-CNN-LR0.215/assets\n"
     ]
    },
    {
     "name": "stderr",
     "output_type": "stream",
     "text": [
      " 46%|████▌     | 137/300 [1:11:53<1:24:30, 31.11s/it]"
     ]
    },
    {
     "name": "stdout",
     "output_type": "stream",
     "text": [
      "{'C': 0.1, 'B': 600, 'learning_rate': 0.215, 'comm_round': 137, 'train_acc': 0.9925, 'test_acc': 0.9879, 'train_loss': 0.0233, 'test_loss': 0.0369}\n",
      "WARNING:tensorflow:Compiled the loaded model, but the compiled metrics have yet to be built. `model.compile_metrics` will be empty until you train or evaluate the model.\n",
      "INFO:tensorflow:Assets written to: ./logs/IID-B600-E5-C0.1-MNIST-CNN-LR0.215/assets\n"
     ]
    },
    {
     "name": "stderr",
     "output_type": "stream",
     "text": [
      " 46%|████▌     | 138/300 [1:12:24<1:23:58, 31.10s/it]"
     ]
    },
    {
     "name": "stdout",
     "output_type": "stream",
     "text": [
      "{'C': 0.1, 'B': 600, 'learning_rate': 0.215, 'comm_round': 138, 'train_acc': 0.9926, 'test_acc': 0.9879, 'train_loss': 0.0227, 'test_loss': 0.0363}\n",
      "WARNING:tensorflow:Compiled the loaded model, but the compiled metrics have yet to be built. `model.compile_metrics` will be empty until you train or evaluate the model.\n",
      "INFO:tensorflow:Assets written to: ./logs/IID-B600-E5-C0.1-MNIST-CNN-LR0.215/assets\n"
     ]
    },
    {
     "name": "stderr",
     "output_type": "stream",
     "text": [
      " 46%|████▋     | 139/300 [1:12:56<1:23:49, 31.24s/it]"
     ]
    },
    {
     "name": "stdout",
     "output_type": "stream",
     "text": [
      "{'C': 0.1, 'B': 600, 'learning_rate': 0.215, 'comm_round': 139, 'train_acc': 0.9925, 'test_acc': 0.9877, 'train_loss': 0.0228, 'test_loss': 0.037}\n",
      "WARNING:tensorflow:Compiled the loaded model, but the compiled metrics have yet to be built. `model.compile_metrics` will be empty until you train or evaluate the model.\n",
      "INFO:tensorflow:Assets written to: ./logs/IID-B600-E5-C0.1-MNIST-CNN-LR0.215/assets\n"
     ]
    },
    {
     "name": "stderr",
     "output_type": "stream",
     "text": [
      " 47%|████▋     | 140/300 [1:13:27<1:23:01, 31.13s/it]"
     ]
    },
    {
     "name": "stdout",
     "output_type": "stream",
     "text": [
      "{'C': 0.1, 'B': 600, 'learning_rate': 0.215, 'comm_round': 140, 'train_acc': 0.9927, 'test_acc': 0.9879, 'train_loss': 0.0228, 'test_loss': 0.0368}\n",
      "WARNING:tensorflow:Compiled the loaded model, but the compiled metrics have yet to be built. `model.compile_metrics` will be empty until you train or evaluate the model.\n",
      "INFO:tensorflow:Assets written to: ./logs/IID-B600-E5-C0.1-MNIST-CNN-LR0.215/assets\n"
     ]
    },
    {
     "name": "stderr",
     "output_type": "stream",
     "text": [
      " 47%|████▋     | 141/300 [1:13:58<1:22:23, 31.09s/it]"
     ]
    },
    {
     "name": "stdout",
     "output_type": "stream",
     "text": [
      "{'C': 0.1, 'B': 600, 'learning_rate': 0.215, 'comm_round': 141, 'train_acc': 0.9928, 'test_acc': 0.9873, 'train_loss': 0.0225, 'test_loss': 0.0372}\n",
      "WARNING:tensorflow:Compiled the loaded model, but the compiled metrics have yet to be built. `model.compile_metrics` will be empty until you train or evaluate the model.\n",
      "INFO:tensorflow:Assets written to: ./logs/IID-B600-E5-C0.1-MNIST-CNN-LR0.215/assets\n"
     ]
    },
    {
     "name": "stderr",
     "output_type": "stream",
     "text": [
      " 47%|████▋     | 142/300 [1:14:30<1:22:44, 31.42s/it]"
     ]
    },
    {
     "name": "stdout",
     "output_type": "stream",
     "text": [
      "{'C': 0.1, 'B': 600, 'learning_rate': 0.215, 'comm_round': 142, 'train_acc': 0.9929, 'test_acc': 0.9877, 'train_loss': 0.0221, 'test_loss': 0.0359}\n",
      "WARNING:tensorflow:Compiled the loaded model, but the compiled metrics have yet to be built. `model.compile_metrics` will be empty until you train or evaluate the model.\n",
      "INFO:tensorflow:Assets written to: ./logs/IID-B600-E5-C0.1-MNIST-CNN-LR0.215/assets\n"
     ]
    },
    {
     "name": "stderr",
     "output_type": "stream",
     "text": [
      " 48%|████▊     | 143/300 [1:15:01<1:22:17, 31.45s/it]"
     ]
    },
    {
     "name": "stdout",
     "output_type": "stream",
     "text": [
      "{'C': 0.1, 'B': 600, 'learning_rate': 0.215, 'comm_round': 143, 'train_acc': 0.9929, 'test_acc': 0.988, 'train_loss': 0.022, 'test_loss': 0.036}\n",
      "WARNING:tensorflow:Compiled the loaded model, but the compiled metrics have yet to be built. `model.compile_metrics` will be empty until you train or evaluate the model.\n",
      "INFO:tensorflow:Assets written to: ./logs/IID-B600-E5-C0.1-MNIST-CNN-LR0.215/assets\n"
     ]
    },
    {
     "name": "stderr",
     "output_type": "stream",
     "text": [
      " 48%|████▊     | 144/300 [1:15:32<1:21:26, 31.32s/it]"
     ]
    },
    {
     "name": "stdout",
     "output_type": "stream",
     "text": [
      "{'C': 0.1, 'B': 600, 'learning_rate': 0.215, 'comm_round': 144, 'train_acc': 0.9928, 'test_acc': 0.9876, 'train_loss': 0.022, 'test_loss': 0.0362}\n",
      "WARNING:tensorflow:Compiled the loaded model, but the compiled metrics have yet to be built. `model.compile_metrics` will be empty until you train or evaluate the model.\n",
      "INFO:tensorflow:Assets written to: ./logs/IID-B600-E5-C0.1-MNIST-CNN-LR0.215/assets\n"
     ]
    },
    {
     "name": "stderr",
     "output_type": "stream",
     "text": [
      " 48%|████▊     | 145/300 [1:16:04<1:20:56, 31.33s/it]"
     ]
    },
    {
     "name": "stdout",
     "output_type": "stream",
     "text": [
      "{'C': 0.1, 'B': 600, 'learning_rate': 0.215, 'comm_round': 145, 'train_acc': 0.9928, 'test_acc': 0.9874, 'train_loss': 0.022, 'test_loss': 0.0361}\n",
      "WARNING:tensorflow:Compiled the loaded model, but the compiled metrics have yet to be built. `model.compile_metrics` will be empty until you train or evaluate the model.\n",
      "INFO:tensorflow:Assets written to: ./logs/IID-B600-E5-C0.1-MNIST-CNN-LR0.215/assets\n"
     ]
    },
    {
     "name": "stderr",
     "output_type": "stream",
     "text": [
      " 49%|████▊     | 146/300 [1:16:35<1:20:41, 31.44s/it]"
     ]
    },
    {
     "name": "stdout",
     "output_type": "stream",
     "text": [
      "{'C': 0.1, 'B': 600, 'learning_rate': 0.215, 'comm_round': 146, 'train_acc': 0.9929, 'test_acc': 0.9877, 'train_loss': 0.022, 'test_loss': 0.036}\n",
      "WARNING:tensorflow:Compiled the loaded model, but the compiled metrics have yet to be built. `model.compile_metrics` will be empty until you train or evaluate the model.\n",
      "INFO:tensorflow:Assets written to: ./logs/IID-B600-E5-C0.1-MNIST-CNN-LR0.215/assets\n"
     ]
    },
    {
     "name": "stderr",
     "output_type": "stream",
     "text": [
      " 49%|████▉     | 147/300 [1:17:07<1:20:22, 31.52s/it]"
     ]
    },
    {
     "name": "stdout",
     "output_type": "stream",
     "text": [
      "{'C': 0.1, 'B': 600, 'learning_rate': 0.215, 'comm_round': 147, 'train_acc': 0.9928, 'test_acc': 0.9883, 'train_loss': 0.022, 'test_loss': 0.0361}\n",
      "WARNING:tensorflow:Compiled the loaded model, but the compiled metrics have yet to be built. `model.compile_metrics` will be empty until you train or evaluate the model.\n",
      "INFO:tensorflow:Assets written to: ./logs/IID-B600-E5-C0.1-MNIST-CNN-LR0.215/assets\n"
     ]
    },
    {
     "name": "stderr",
     "output_type": "stream",
     "text": [
      " 49%|████▉     | 148/300 [1:17:38<1:19:39, 31.44s/it]"
     ]
    },
    {
     "name": "stdout",
     "output_type": "stream",
     "text": [
      "{'C': 0.1, 'B': 600, 'learning_rate': 0.215, 'comm_round': 148, 'train_acc': 0.9928, 'test_acc': 0.9874, 'train_loss': 0.022, 'test_loss': 0.0359}\n",
      "WARNING:tensorflow:Compiled the loaded model, but the compiled metrics have yet to be built. `model.compile_metrics` will be empty until you train or evaluate the model.\n",
      "INFO:tensorflow:Assets written to: ./logs/IID-B600-E5-C0.1-MNIST-CNN-LR0.215/assets\n"
     ]
    },
    {
     "name": "stderr",
     "output_type": "stream",
     "text": [
      " 50%|████▉     | 149/300 [1:18:10<1:19:34, 31.62s/it]"
     ]
    },
    {
     "name": "stdout",
     "output_type": "stream",
     "text": [
      "{'C': 0.1, 'B': 600, 'learning_rate': 0.215, 'comm_round': 149, 'train_acc': 0.9925, 'test_acc': 0.9874, 'train_loss': 0.0224, 'test_loss': 0.0368}\n",
      "WARNING:tensorflow:Compiled the loaded model, but the compiled metrics have yet to be built. `model.compile_metrics` will be empty until you train or evaluate the model.\n",
      "INFO:tensorflow:Assets written to: ./logs/IID-B600-E5-C0.1-MNIST-CNN-LR0.215/assets\n"
     ]
    },
    {
     "name": "stderr",
     "output_type": "stream",
     "text": [
      " 50%|█████     | 150/300 [1:18:42<1:19:03, 31.62s/it]"
     ]
    },
    {
     "name": "stdout",
     "output_type": "stream",
     "text": [
      "{'C': 0.1, 'B': 600, 'learning_rate': 0.215, 'comm_round': 150, 'train_acc': 0.993, 'test_acc': 0.9878, 'train_loss': 0.0214, 'test_loss': 0.0363}\n",
      "WARNING:tensorflow:Compiled the loaded model, but the compiled metrics have yet to be built. `model.compile_metrics` will be empty until you train or evaluate the model.\n",
      "INFO:tensorflow:Assets written to: ./logs/IID-B600-E5-C0.1-MNIST-CNN-LR0.215/assets\n"
     ]
    },
    {
     "name": "stderr",
     "output_type": "stream",
     "text": [
      " 50%|█████     | 151/300 [1:19:18<1:22:11, 33.10s/it]"
     ]
    },
    {
     "name": "stdout",
     "output_type": "stream",
     "text": [
      "{'C': 0.1, 'B': 600, 'learning_rate': 0.215, 'comm_round': 151, 'train_acc': 0.9928, 'test_acc': 0.9876, 'train_loss': 0.0218, 'test_loss': 0.0359}\n"
     ]
    }
   ],
   "source": [
    "# Run experiment with your own setting\n",
    "history = run_experiment(data=\"MNIST\", use_val=False, model_family=\"CNN\",\\\n",
    "                         setting=\"IID\", b_size=600, epoch=5,\\\n",
    "                         est_comm_round=300, c_fraction=0.1, desired_acc=0.99,\\\n",
    "                         model_checkpoint=\"logs/IID-B600-E5-C0.1-MNIST-CNN-LR0.215\",\\\n",
    "                         n_clients=100, n_classes=10,\\\n",
    "                         learning_rate=0.215, output_path='./logs/', verbose=0)"
   ]
  }
 ],
 "metadata": {
  "kernelspec": {
   "display_name": "tensorflow",
   "language": "python",
   "name": "tensorflow"
  },
  "language_info": {
   "codemirror_mode": {
    "name": "ipython",
    "version": 3
   },
   "file_extension": ".py",
   "mimetype": "text/x-python",
   "name": "python",
   "nbconvert_exporter": "python",
   "pygments_lexer": "ipython3",
   "version": "3.8.10"
  }
 },
 "nbformat": 4,
 "nbformat_minor": 4
}

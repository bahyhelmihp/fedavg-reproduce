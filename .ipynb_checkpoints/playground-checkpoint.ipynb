{
 "cells": [
  {
   "cell_type": "code",
   "execution_count": 25,
   "id": "8169a3bb-fd99-4e9c-8927-802c14935e03",
   "metadata": {},
   "outputs": [],
   "source": [
    "import json\n",
    "import os\n",
    "\n",
    "import pandas as pd"
   ]
  },
  {
   "cell_type": "code",
   "execution_count": 26,
   "id": "a3e8d92d-ca38-414b-ba18-273de75500fe",
   "metadata": {},
   "outputs": [],
   "source": [
    "os.chdir(\"/home/bahy/research/icl-prelab-assignment/\")"
   ]
  },
  {
   "cell_type": "code",
   "execution_count": 27,
   "id": "58d0a2ed-e834-47dc-8131-e5848166bbe9",
   "metadata": {},
   "outputs": [
    {
     "name": "stdout",
     "output_type": "stream",
     "text": [
      "/home/bahy/research/icl-prelab-assignment\n"
     ]
    }
   ],
   "source": [
    "!pwd"
   ]
  },
  {
   "cell_type": "markdown",
   "id": "8890b423-5b36-498c-a33c-38803c94f9fc",
   "metadata": {},
   "source": [
    "#### Log Extractor"
   ]
  },
  {
   "cell_type": "code",
   "execution_count": null,
   "id": "8770982f-33b0-4987-8703-e7b929110aff",
   "metadata": {},
   "outputs": [],
   "source": []
  },
  {
   "cell_type": "markdown",
   "id": "40b07a23-5a57-4bf7-8f94-3df68afde9c9",
   "metadata": {},
   "source": [
    "#### Log Cleaner"
   ]
  },
  {
   "cell_type": "code",
   "execution_count": 113,
   "id": "6959836d-e8da-4d9e-9fd9-f999b40e6b04",
   "metadata": {},
   "outputs": [],
   "source": [
    "file = \"logs/NONIID-B600-C0.1-MNIST-CNN.txt\""
   ]
  },
  {
   "cell_type": "code",
   "execution_count": 114,
   "id": "bdf31058-7055-45ab-a635-3b3c8a0c6820",
   "metadata": {},
   "outputs": [],
   "source": [
    "def remove_blank_spaces(file_name):\n",
    "    file_open = open(file_name, \"r\")\n",
    "    cleaned = []\n",
    "    for line in file_open.readlines():\n",
    "        if len(line) < 50:\n",
    "            continue\n",
    "        cleaned.append(eval(line))\n",
    "\n",
    "    return pd.DataFrame(cleaned)"
   ]
  },
  {
   "cell_type": "code",
   "execution_count": 115,
   "id": "223c0a85-4fcd-4b04-b28d-32b3c8d00328",
   "metadata": {},
   "outputs": [],
   "source": [
    "def remove_duplicates(df_input):\n",
    "    df_input = df_input.drop_duplicates().reset_index(drop=True)\n",
    "    \n",
    "    return df_input"
   ]
  },
  {
   "cell_type": "code",
   "execution_count": 116,
   "id": "8115e280-786f-4c26-b4cf-99a4a664ea72",
   "metadata": {},
   "outputs": [],
   "source": [
    "def fix_comm_round(df_input):\n",
    "    df_input['comm_round'] = df_input.index.values + 1\n",
    "    first_acc_index = df_input[df_input['test_acc'] > 0.9699].index[0]\n",
    "    df_input = df_input.iloc[:first_acc_index+1]\n",
    "    \n",
    "    return df_input"
   ]
  },
  {
   "cell_type": "code",
   "execution_count": 117,
   "id": "76ea58b2-715c-46c9-87c5-eb1c0929452b",
   "metadata": {},
   "outputs": [],
   "source": [
    "def write_back_to_file(df_input, file_name):\n",
    "    file_open = open(file_name, \"w+\")\n",
    "    for row in df_input.to_dict(\"records\"):\n",
    "        file_open.write(json.dumps(row))\n",
    "        file_open.write(\"\\n\")\n",
    "    file_open.close()\n",
    "    \n",
    "    return \"Write success.\""
   ]
  },
  {
   "cell_type": "code",
   "execution_count": 118,
   "id": "8415f0bc-1f45-4a80-80c9-3cc53967527e",
   "metadata": {},
   "outputs": [
    {
     "name": "stdout",
     "output_type": "stream",
     "text": [
      "(1620, 7)\n"
     ]
    },
    {
     "data": {
      "text/html": [
       "<div>\n",
       "<style scoped>\n",
       "    .dataframe tbody tr th:only-of-type {\n",
       "        vertical-align: middle;\n",
       "    }\n",
       "\n",
       "    .dataframe tbody tr th {\n",
       "        vertical-align: top;\n",
       "    }\n",
       "\n",
       "    .dataframe thead th {\n",
       "        text-align: right;\n",
       "    }\n",
       "</style>\n",
       "<table border=\"1\" class=\"dataframe\">\n",
       "  <thead>\n",
       "    <tr style=\"text-align: right;\">\n",
       "      <th></th>\n",
       "      <th>C</th>\n",
       "      <th>B</th>\n",
       "      <th>comm_round</th>\n",
       "      <th>train_acc</th>\n",
       "      <th>test_acc</th>\n",
       "      <th>train_loss</th>\n",
       "      <th>test_loss</th>\n",
       "    </tr>\n",
       "  </thead>\n",
       "  <tbody>\n",
       "    <tr>\n",
       "      <th>0</th>\n",
       "      <td>0.1</td>\n",
       "      <td>600</td>\n",
       "      <td>1</td>\n",
       "      <td>0.0866</td>\n",
       "      <td>0.0856</td>\n",
       "      <td>13.8148</td>\n",
       "      <td>13.9276</td>\n",
       "    </tr>\n",
       "    <tr>\n",
       "      <th>1</th>\n",
       "      <td>0.1</td>\n",
       "      <td>600</td>\n",
       "      <td>2</td>\n",
       "      <td>0.1398</td>\n",
       "      <td>0.1332</td>\n",
       "      <td>12.9615</td>\n",
       "      <td>13.0543</td>\n",
       "    </tr>\n",
       "    <tr>\n",
       "      <th>2</th>\n",
       "      <td>0.1</td>\n",
       "      <td>600</td>\n",
       "      <td>3</td>\n",
       "      <td>0.1499</td>\n",
       "      <td>0.1517</td>\n",
       "      <td>12.8511</td>\n",
       "      <td>12.7558</td>\n",
       "    </tr>\n",
       "    <tr>\n",
       "      <th>3</th>\n",
       "      <td>0.1</td>\n",
       "      <td>600</td>\n",
       "      <td>4</td>\n",
       "      <td>0.0983</td>\n",
       "      <td>0.0971</td>\n",
       "      <td>14.4698</td>\n",
       "      <td>14.5108</td>\n",
       "    </tr>\n",
       "    <tr>\n",
       "      <th>4</th>\n",
       "      <td>0.1</td>\n",
       "      <td>600</td>\n",
       "      <td>5</td>\n",
       "      <td>0.1008</td>\n",
       "      <td>0.1034</td>\n",
       "      <td>14.4630</td>\n",
       "      <td>14.4205</td>\n",
       "    </tr>\n",
       "  </tbody>\n",
       "</table>\n",
       "</div>"
      ],
      "text/plain": [
       "     C    B  comm_round  train_acc  test_acc  train_loss  test_loss\n",
       "0  0.1  600           1     0.0866    0.0856     13.8148    13.9276\n",
       "1  0.1  600           2     0.1398    0.1332     12.9615    13.0543\n",
       "2  0.1  600           3     0.1499    0.1517     12.8511    12.7558\n",
       "3  0.1  600           4     0.0983    0.0971     14.4698    14.5108\n",
       "4  0.1  600           5     0.1008    0.1034     14.4630    14.4205"
      ]
     },
     "execution_count": 118,
     "metadata": {},
     "output_type": "execute_result"
    }
   ],
   "source": [
    "df = remove_blank_spaces(file)\n",
    "print(df.shape)\n",
    "df.head()"
   ]
  },
  {
   "cell_type": "code",
   "execution_count": 119,
   "id": "161b8ea9-3a64-4861-ad1f-e04a51990ad6",
   "metadata": {},
   "outputs": [
    {
     "name": "stdout",
     "output_type": "stream",
     "text": [
      "(1620, 7)\n"
     ]
    },
    {
     "data": {
      "text/html": [
       "<div>\n",
       "<style scoped>\n",
       "    .dataframe tbody tr th:only-of-type {\n",
       "        vertical-align: middle;\n",
       "    }\n",
       "\n",
       "    .dataframe tbody tr th {\n",
       "        vertical-align: top;\n",
       "    }\n",
       "\n",
       "    .dataframe thead th {\n",
       "        text-align: right;\n",
       "    }\n",
       "</style>\n",
       "<table border=\"1\" class=\"dataframe\">\n",
       "  <thead>\n",
       "    <tr style=\"text-align: right;\">\n",
       "      <th></th>\n",
       "      <th>C</th>\n",
       "      <th>B</th>\n",
       "      <th>comm_round</th>\n",
       "      <th>train_acc</th>\n",
       "      <th>test_acc</th>\n",
       "      <th>train_loss</th>\n",
       "      <th>test_loss</th>\n",
       "    </tr>\n",
       "  </thead>\n",
       "  <tbody>\n",
       "    <tr>\n",
       "      <th>0</th>\n",
       "      <td>0.1</td>\n",
       "      <td>600</td>\n",
       "      <td>1</td>\n",
       "      <td>0.0866</td>\n",
       "      <td>0.0856</td>\n",
       "      <td>13.8148</td>\n",
       "      <td>13.9276</td>\n",
       "    </tr>\n",
       "    <tr>\n",
       "      <th>1</th>\n",
       "      <td>0.1</td>\n",
       "      <td>600</td>\n",
       "      <td>2</td>\n",
       "      <td>0.1398</td>\n",
       "      <td>0.1332</td>\n",
       "      <td>12.9615</td>\n",
       "      <td>13.0543</td>\n",
       "    </tr>\n",
       "    <tr>\n",
       "      <th>2</th>\n",
       "      <td>0.1</td>\n",
       "      <td>600</td>\n",
       "      <td>3</td>\n",
       "      <td>0.1499</td>\n",
       "      <td>0.1517</td>\n",
       "      <td>12.8511</td>\n",
       "      <td>12.7558</td>\n",
       "    </tr>\n",
       "    <tr>\n",
       "      <th>3</th>\n",
       "      <td>0.1</td>\n",
       "      <td>600</td>\n",
       "      <td>4</td>\n",
       "      <td>0.0983</td>\n",
       "      <td>0.0971</td>\n",
       "      <td>14.4698</td>\n",
       "      <td>14.5108</td>\n",
       "    </tr>\n",
       "    <tr>\n",
       "      <th>4</th>\n",
       "      <td>0.1</td>\n",
       "      <td>600</td>\n",
       "      <td>5</td>\n",
       "      <td>0.1008</td>\n",
       "      <td>0.1034</td>\n",
       "      <td>14.4630</td>\n",
       "      <td>14.4205</td>\n",
       "    </tr>\n",
       "  </tbody>\n",
       "</table>\n",
       "</div>"
      ],
      "text/plain": [
       "     C    B  comm_round  train_acc  test_acc  train_loss  test_loss\n",
       "0  0.1  600           1     0.0866    0.0856     13.8148    13.9276\n",
       "1  0.1  600           2     0.1398    0.1332     12.9615    13.0543\n",
       "2  0.1  600           3     0.1499    0.1517     12.8511    12.7558\n",
       "3  0.1  600           4     0.0983    0.0971     14.4698    14.5108\n",
       "4  0.1  600           5     0.1008    0.1034     14.4630    14.4205"
      ]
     },
     "execution_count": 119,
     "metadata": {},
     "output_type": "execute_result"
    }
   ],
   "source": [
    "df = remove_duplicates(df)\n",
    "print(df.shape)\n",
    "df.head()"
   ]
  },
  {
   "cell_type": "code",
   "execution_count": 120,
   "id": "8300a214-cd0f-4f95-ad4a-9604a7c44779",
   "metadata": {},
   "outputs": [
    {
     "name": "stdout",
     "output_type": "stream",
     "text": [
      "(1620, 7)\n"
     ]
    },
    {
     "data": {
      "text/html": [
       "<div>\n",
       "<style scoped>\n",
       "    .dataframe tbody tr th:only-of-type {\n",
       "        vertical-align: middle;\n",
       "    }\n",
       "\n",
       "    .dataframe tbody tr th {\n",
       "        vertical-align: top;\n",
       "    }\n",
       "\n",
       "    .dataframe thead th {\n",
       "        text-align: right;\n",
       "    }\n",
       "</style>\n",
       "<table border=\"1\" class=\"dataframe\">\n",
       "  <thead>\n",
       "    <tr style=\"text-align: right;\">\n",
       "      <th></th>\n",
       "      <th>C</th>\n",
       "      <th>B</th>\n",
       "      <th>comm_round</th>\n",
       "      <th>train_acc</th>\n",
       "      <th>test_acc</th>\n",
       "      <th>train_loss</th>\n",
       "      <th>test_loss</th>\n",
       "    </tr>\n",
       "  </thead>\n",
       "  <tbody>\n",
       "    <tr>\n",
       "      <th>0</th>\n",
       "      <td>0.1</td>\n",
       "      <td>600</td>\n",
       "      <td>1</td>\n",
       "      <td>0.0866</td>\n",
       "      <td>0.0856</td>\n",
       "      <td>13.8148</td>\n",
       "      <td>13.9276</td>\n",
       "    </tr>\n",
       "    <tr>\n",
       "      <th>1</th>\n",
       "      <td>0.1</td>\n",
       "      <td>600</td>\n",
       "      <td>2</td>\n",
       "      <td>0.1398</td>\n",
       "      <td>0.1332</td>\n",
       "      <td>12.9615</td>\n",
       "      <td>13.0543</td>\n",
       "    </tr>\n",
       "    <tr>\n",
       "      <th>2</th>\n",
       "      <td>0.1</td>\n",
       "      <td>600</td>\n",
       "      <td>3</td>\n",
       "      <td>0.1499</td>\n",
       "      <td>0.1517</td>\n",
       "      <td>12.8511</td>\n",
       "      <td>12.7558</td>\n",
       "    </tr>\n",
       "    <tr>\n",
       "      <th>3</th>\n",
       "      <td>0.1</td>\n",
       "      <td>600</td>\n",
       "      <td>4</td>\n",
       "      <td>0.0983</td>\n",
       "      <td>0.0971</td>\n",
       "      <td>14.4698</td>\n",
       "      <td>14.5108</td>\n",
       "    </tr>\n",
       "    <tr>\n",
       "      <th>4</th>\n",
       "      <td>0.1</td>\n",
       "      <td>600</td>\n",
       "      <td>5</td>\n",
       "      <td>0.1008</td>\n",
       "      <td>0.1034</td>\n",
       "      <td>14.4630</td>\n",
       "      <td>14.4205</td>\n",
       "    </tr>\n",
       "  </tbody>\n",
       "</table>\n",
       "</div>"
      ],
      "text/plain": [
       "     C    B  comm_round  train_acc  test_acc  train_loss  test_loss\n",
       "0  0.1  600           1     0.0866    0.0856     13.8148    13.9276\n",
       "1  0.1  600           2     0.1398    0.1332     12.9615    13.0543\n",
       "2  0.1  600           3     0.1499    0.1517     12.8511    12.7558\n",
       "3  0.1  600           4     0.0983    0.0971     14.4698    14.5108\n",
       "4  0.1  600           5     0.1008    0.1034     14.4630    14.4205"
      ]
     },
     "execution_count": 120,
     "metadata": {},
     "output_type": "execute_result"
    }
   ],
   "source": [
    "df = fix_comm_round(df)\n",
    "print(df.shape)\n",
    "df.head()"
   ]
  },
  {
   "cell_type": "code",
   "execution_count": 121,
   "id": "e10490fe-85ea-4e0a-9542-4a3f0e87a994",
   "metadata": {},
   "outputs": [
    {
     "data": {
      "text/plain": [
       "'Write success.'"
      ]
     },
     "execution_count": 121,
     "metadata": {},
     "output_type": "execute_result"
    }
   ],
   "source": [
    "write_back_to_file(df, file)"
   ]
  }
 ],
 "metadata": {
  "kernelspec": {
   "display_name": "tensorflow",
   "language": "python",
   "name": "tensorflow"
  },
  "language_info": {
   "codemirror_mode": {
    "name": "ipython",
    "version": 3
   },
   "file_extension": ".py",
   "mimetype": "text/x-python",
   "name": "python",
   "nbconvert_exporter": "python",
   "pygments_lexer": "ipython3",
   "version": "3.8.5"
  }
 },
 "nbformat": 4,
 "nbformat_minor": 5
}

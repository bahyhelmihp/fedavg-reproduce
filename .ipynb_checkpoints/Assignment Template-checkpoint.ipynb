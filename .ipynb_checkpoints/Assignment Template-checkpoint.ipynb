{
 "cells": [
  {
   "cell_type": "markdown",
   "metadata": {
    "id": "5NmVVQpBsTOv"
   },
   "source": [
    "### **ICL Graduate Assignment 1 - Paper Results Reproduce**\n",
    "##### **Paper Reference**: [Communication-Efficient Learning of Deep Networks from Decentralized Data](https://arxiv.org/pdf/1602.05629.pdf)\n",
    "##### **Code by**: Bahy Helmi Hartoyo Putra (bahyhelmi97@gmail.com)"
   ]
  },
  {
   "cell_type": "code",
   "execution_count": 1,
   "metadata": {
    "id": "E-RYuxa41IMu"
   },
   "outputs": [],
   "source": [
    "import os\n",
    "os.environ['TF_ENABLE_ONEDNN_OPTS'] = '1'\n",
    "\n",
    "import tensorflow as tf\n",
    "import matplotlib.pyplot as plt\n",
    "import numpy as np\n",
    "import pandas as pd\n",
    "\n",
    "from tqdm import tqdm\n",
    "from time import time\n",
    "from sklearn import utils\n",
    "from sklearn.metrics import accuracy_score\n",
    "from tensorflow.keras import Sequential\n",
    "from tensorflow.keras.layers import Dense, Flatten"
   ]
  },
  {
   "cell_type": "code",
   "execution_count": 2,
   "metadata": {},
   "outputs": [],
   "source": [
    "tf.compat.v1.logging.set_verbosity(40) # ERROR"
   ]
  },
  {
   "cell_type": "markdown",
   "metadata": {
    "id": "rNBFq6A11EJO"
   },
   "source": [
    "#### Task 2 - Reproduce Table [1]\n",
    "- **Dataset used**: [MNIST Digits](http://yann.lecun.com/exdb/mnist/)\n",
    "- **Model Families**: \n",
    "  - Neural Network with 2 Hidden Layers (2NN)\n",
    "  - Convolutional Neural Network (CNN)\n",
    "- **Algorithm**: FederatedAveraging (FedAVG)"
   ]
  },
  {
   "cell_type": "markdown",
   "metadata": {
    "id": "WElNk5foQvKM"
   },
   "source": [
    "##### Setup: IID-Setting & 2NN"
   ]
  },
  {
   "cell_type": "code",
   "execution_count": 3,
   "metadata": {
    "colab": {
     "base_uri": "https://localhost:8080/"
    },
    "id": "HzebAbhU0fHj",
    "outputId": "eae3f5b2-4a45-424b-9d18-557cddcb2b2e"
   },
   "outputs": [],
   "source": [
    "# MNIST Data from Tensorflow\n",
    "# Splitted into train, test by default, we could re-arrange later on\n",
    "(x_train, y_train), (x_test, y_test) = tf.keras.datasets.mnist.load_data()"
   ]
  },
  {
   "cell_type": "code",
   "execution_count": 4,
   "metadata": {
    "colab": {
     "base_uri": "https://localhost:8080/"
    },
    "id": "aKwaZAWG0fH2",
    "jupyter": {
     "source_hidden": true
    },
    "outputId": "5e1de774-eb98-4ecf-bc73-61ca00538aae",
    "tags": []
   },
   "outputs": [
    {
     "name": "stdout",
     "output_type": "stream",
     "text": [
      "Dataset contains 70000 images and 70000 labels\n"
     ]
    }
   ],
   "source": [
    "# Join the dataset & labels as whole\n",
    "dataset = np.concatenate((x_train, x_test), axis=0)\n",
    "labels = np.concatenate((y_train, y_test), axis=0)\n",
    "\n",
    "print(\"Dataset contains %s images and %s labels\" % (dataset.shape[0], labels.shape[0]))"
   ]
  },
  {
   "cell_type": "code",
   "execution_count": 5,
   "metadata": {
    "colab": {
     "base_uri": "https://localhost:8080/",
     "height": 309
    },
    "id": "YQ2odRRZ0fH2",
    "jupyter": {
     "source_hidden": true
    },
    "outputId": "ff9552aa-89ab-4d9d-e078-6cf33799f6ae",
    "tags": []
   },
   "outputs": [
    {
     "data": {
      "image/png": "[encoded data removed]",
      "text/plain": [
       "<Figure size 432x288 with 2 Axes>"
      ]
     },
     "metadata": {
      "needs_background": "light"
     },
     "output_type": "display_data"
    },
    {
     "data": {
      "image/png": "[encoded data removed]",
      "text/plain": [
       "<Figure size 432x288 with 2 Axes>"
      ]
     },
     "metadata": {
      "needs_background": "light"
     },
     "output_type": "display_data"
    }
   ],
   "source": [
    "# Sanity check on data\n",
    "for i in range(1,5,2):\n",
    "  fig = plt.figure()\n",
    "  \n",
    "  ax1 = fig.add_subplot(2,2,i)\n",
    "  ax2 = fig.add_subplot(2,2,i+1)\n",
    "  ax1.imshow(dataset[i], cmap='gray')\n",
    "  ax2.imshow(dataset[i+1], cmap='gray')\n",
    "  \n",
    "  ax1.set_title(\"Digit: %s\" % labels[i])\n",
    "  ax2.set_title(\"Digit: %s\" % labels[i+1])\n",
    "  plt.show()"
   ]
  },
  {
   "cell_type": "code",
   "execution_count": 6,
   "metadata": {
    "colab": {
     "base_uri": "https://localhost:8080/",
     "height": 545
    },
    "id": "CXqy7NFjemG3",
    "jupyter": {
     "source_hidden": true
    },
    "outputId": "7b786e34-9ee7-4bac-b468-ac201d2d7658",
    "tags": []
   },
   "outputs": [
    {
     "data": {
      "image/png": "[encoded data removed]",
      "text/plain": [
       "<Figure size 432x288 with 1 Axes>"
      ]
     },
     "metadata": {
      "needs_background": "light"
     },
     "output_type": "display_data"
    },
    {
     "data": {
      "image/png": "[encoded data removed]",
      "text/plain": [
       "<Figure size 432x288 with 1 Axes>"
      ]
     },
     "metadata": {
      "needs_background": "light"
     },
     "output_type": "display_data"
    }
   ],
   "source": [
    "# Shuffle the train data\n",
    "plt.imshow(x_train[0], cmap='gray')\n",
    "plt.title(\"First index before shuffled: %s\" % y_train[0])\n",
    "plt.show()\n",
    "\n",
    "x_train, y_train = utils.shuffle(x_train, y_train, random_state=21)\n",
    "plt.imshow(x_train[0], cmap='gray')\n",
    "plt.title(\"First index before shuffled: %s\" % y_train[0])\n",
    "plt.show()"
   ]
  },
  {
   "cell_type": "code",
   "execution_count": 7,
   "metadata": {
    "colab": {
     "base_uri": "https://localhost:8080/"
    },
    "id": "3sJnz0dwROEq",
    "jupyter": {
     "source_hidden": true
    },
    "outputId": "e2dd3d9f-2a88-4449-fa60-8811d3360786",
    "tags": []
   },
   "outputs": [
    {
     "name": "stdout",
     "output_type": "stream",
     "text": [
      "Proxy train dataset contains 60000 images and 60000 labels\n"
     ]
    }
   ],
   "source": [
    "print(\"Proxy train dataset contains %s images and %s labels\" % (len(x_train), len(y_train)))"
   ]
  },
  {
   "cell_type": "code",
   "execution_count": 8,
   "metadata": {
    "id": "LPV8XLd-Uz64",
    "jupyter": {
     "source_hidden": true
    },
    "tags": []
   },
   "outputs": [],
   "source": [
    "# Partitioned proxy data to clients, each receiving 600 examples\n",
    "N_CLIENTS = 100\n",
    "clients_data = {}\n",
    "clients_label = {}\n",
    "\n",
    "# Distribute the data to all clients\n",
    "i=1\n",
    "for data in np.array_split(x_train, N_CLIENTS):\n",
    "  clients_data[\"client_%s\" % i] = data\n",
    "  i+=1\n",
    "\n",
    "i=1\n",
    "for label in np.array_split(y_train, N_CLIENTS):\n",
    "  clients_label[\"client_%s\" % i] = label\n",
    "  i+=1"
   ]
  },
  {
   "cell_type": "code",
   "execution_count": 9,
   "metadata": {
    "colab": {
     "base_uri": "https://localhost:8080/",
     "height": 333
    },
    "id": "AF1at5UBzG7U",
    "jupyter": {
     "source_hidden": true
    },
    "outputId": "728b4000-541c-4973-80c2-1afd2eccc0dc",
    "tags": []
   },
   "outputs": [
    {
     "data": {
      "image/png": "[encoded data removed]",
      "text/plain": [
       "<Figure size 432x288 with 2 Axes>"
      ]
     },
     "metadata": {
      "needs_background": "light"
     },
     "output_type": "display_data"
    },
    {
     "data": {
      "image/png": "[encoded data removed]",
      "text/plain": [
       "<Figure size 432x288 with 2 Axes>"
      ]
     },
     "metadata": {
      "needs_background": "light"
     },
     "output_type": "display_data"
    }
   ],
   "source": [
    "# Sanity check on clients data\n",
    "for i in range(1,5,2):\n",
    "  fig = plt.figure()\n",
    "  \n",
    "  ax1 = fig.add_subplot(2,2,i)\n",
    "  ax2 = fig.add_subplot(2,2,i+1)\n",
    "  ax1.imshow(clients_data['client_%s' % i][0], cmap='gray')\n",
    "  ax2.imshow(clients_data['client_%s' % (i+1)][0], cmap='gray')\n",
    "  \n",
    "  ax1.set_title(\"First example at client_%s: Digit %s\" % (i, clients_label['client_%s' % i][0]))\n",
    "  ax2.set_title(\"First example at client_%s: Digit %s\" % (i+1, clients_label['client_%s' % (i+1)][0]))\n",
    "  \n",
    "  plt.tight_layout()\n",
    "  plt.show()"
   ]
  },
  {
   "cell_type": "code",
   "execution_count": 10,
   "metadata": {
    "id": "Ce1NN55bhhHU",
    "jupyter": {
     "source_hidden": true
    },
    "tags": []
   },
   "outputs": [],
   "source": [
    "# Scale image to [0,1]\n",
    "for key, value in clients_data.items():\n",
    "  clients_data[key] = value / 255.0"
   ]
  },
  {
   "cell_type": "code",
   "execution_count": 11,
   "metadata": {
    "id": "rAlynRkWgnem",
    "jupyter": {
     "source_hidden": true
    },
    "tags": []
   },
   "outputs": [],
   "source": [
    "# Global model: 2NN\n",
    "class NN2Layers:\n",
    "  def initiate(self, n_classes):\n",
    "    model = Sequential([\n",
    "                        Flatten(input_shape=(28,28)), \n",
    "                        Dense(200, activation='relu'), \n",
    "                        Dense(200, activation='relu'), \n",
    "                        Dense(n_classes, activation='softmax')\n",
    "    ])\n",
    "\n",
    "    return model"
   ]
  },
  {
   "cell_type": "code",
   "execution_count": 12,
   "metadata": {
    "id": "CBV02fcak3yL",
    "tags": []
   },
   "outputs": [],
   "source": [
    "# Scaling weights to the dataset proportion\n",
    "def scale_weights(num_local_samples, weights, chosen_clients):\n",
    "  num_total_samples = len(chosen_clients) * num_local_samples\n",
    "  scaling_factor = num_local_samples / num_total_samples\n",
    "\n",
    "  # Loop through each layer weight & biases\n",
    "  scaled_weights = []\n",
    "  for component in weights:\n",
    "    scaled_weights.append(scaling_factor * component)\n",
    "\n",
    "  return scaled_weights\n",
    "\n",
    "# Sum all the scaled weights from all clients\n",
    "def sum_scaled_weights(scaled_weights):\n",
    "  final_weights = []\n",
    "  for component in zip(*scaled_weights):\n",
    "    final_weights.append(tf.math.reduce_sum(component, axis=0))\n",
    "  \n",
    "  return final_weights\n",
    "\n",
    "# Custom global model evaluation\n",
    "def evaluate_model(model, test_data, test_label):\n",
    "  y_pred = model.predict(test_data)\n",
    "  y_true = test_label\n",
    "\n",
    "  # Calculate loss with SCCE\n",
    "  scce = tf.keras.losses.SparseCategoricalCrossentropy()\n",
    "  loss = scce(y_true, y_pred).numpy()\n",
    "\n",
    "  # Calculate accuracy\n",
    "  accuracy = accuracy_score(y_true, np.argmax(y_pred, axis=1))\n",
    "\n",
    "  return round(loss, 4), round(accuracy, 4)"
   ]
  },
  {
   "cell_type": "code",
   "execution_count": null,
   "metadata": {
    "colab": {
     "base_uri": "https://localhost:8080/"
    },
    "id": "UFO5GrxWyWFz",
    "outputId": "ff08a316-ad6f-472c-d971-089b05676d5e",
    "scrolled": true,
    "tags": []
   },
   "outputs": [
    {
     "name": "stderr",
     "output_type": "stream",
     "text": [
      "  0%|          | 0/1000 [00:00<?, ?it/s]"
     ]
    }
   ],
   "source": [
    "# CLIENT_FRACTIONS = [0.0, 0.1] # Client fractions, 0 means exactly 1 client\n",
    "CLIENT_FRACTIONS = [0.1] # Client fractions, 0 means exactly 1 client\n",
    "BATCH_SIZES = [\"all\"] # Batch sizes, 'all' means all local dataset treated as one batch\n",
    "\n",
    "history = []\n",
    "for c_fraction in CLIENT_FRACTIONS:\n",
    "  for b_size in BATCH_SIZES:\n",
    "    # Initiate the global 2NN model\n",
    "    nn = NN2Layers()\n",
    "    global_nn = nn.initiate(10) \n",
    "    recorded_test_accuracy = 0\n",
    "    comm_round = 1\n",
    "    estimated_comm_round = 1000\n",
    "    start_time = time()\n",
    "\n",
    "#     while (recorded_test_accuracy < 0.97): # Stop the loop when it reaches 97% of test-accuracy\n",
    "    for i in tqdm(range(estimated_comm_round)):\n",
    "\n",
    "      # Save the global weight\n",
    "      global_weights = global_nn.get_weights()\n",
    "      \n",
    "      # Take c random subset client\n",
    "      if c_fraction == 0.0:\n",
    "        chosen_clients = np.random.choice(list(clients_data.keys()), 1)\n",
    "      else:\n",
    "        chosen_clients = np.random.choice(list(clients_data.keys()), \\\n",
    "                                          int(c_fraction*len(clients_data)))\n",
    "      \n",
    "      clients_weight = [] \n",
    "      for client in chosen_clients:\n",
    "        # Iniatiate local model\n",
    "        optimizer = tf.keras.optimizers.SGD(\n",
    "            learning_rate=0.2)\n",
    "        nn = NN2Layers()\n",
    "        local_nn = nn.initiate(10)\n",
    "        local_nn.compile(\n",
    "            optimizer=optimizer,\n",
    "            loss='sparse_categorical_crossentropy',\n",
    "            metrics=['accuracy']\n",
    "            )\n",
    "\n",
    "        # Set global weight to the local model\n",
    "        local_nn.set_weights(global_weights)\n",
    "\n",
    "        # Do training on local\n",
    "        b_size = len(clients_data[client]) if b_size == \"all\" else b_size\n",
    "        local_nn.fit(clients_data[client], clients_label[client], batch_size=b_size, epochs=1, verbose=0)\n",
    "        \n",
    "        # Save weight\n",
    "        scaled_weights = scale_weights(len(clients_data[client]), local_nn.get_weights(), chosen_clients) # 1st algo: scaled weight\n",
    "        clients_weight.append(scaled_weights)\n",
    "\n",
    "      # Sum all scaled weights & update the global model\n",
    "      global_nn.set_weights(sum_scaled_weights(clients_weight)) # 1st algo: sum scaled weight\n",
    "\n",
    "      # Evaluate the loss & accuracy\n",
    "      train_loss, train_accuracy = evaluate_model(global_nn, x_train, y_train)\n",
    "      test_loss, test_accuracy = evaluate_model(global_nn, x_test, y_test)\n",
    "\n",
    "      # Save metrics for current round\n",
    "      data = {\"C\": c_fraction, \"B\": b_size, \"comm_round\": comm_round, \"train_acc\": train_accuracy, \n",
    "              \"test_acc\": test_accuracy, \"train_loss\": train_loss, \"test_loss\": test_loss}\n",
    "      history.append(data)\n",
    "      print(data)\n",
    "      global_nn.save(\"b_600_c_0.1\")\n",
    "\n",
    "      # Update variables\n",
    "      recorded_test_accuracy = test_accuracy\n",
    "      comm_round += 1\n",
    "    end_time = time()\n",
    "    print(\"Took %.2f seconds.\" % (end_time - start_time))"
   ]
  },
  {
   "cell_type": "code",
   "execution_count": null,
   "metadata": {},
   "outputs": [],
   "source": []
  },
  {
   "cell_type": "code",
   "execution_count": null,
   "metadata": {},
   "outputs": [],
   "source": []
  },
  {
   "cell_type": "code",
   "execution_count": null,
   "metadata": {},
   "outputs": [],
   "source": []
  },
  {
   "cell_type": "code",
   "execution_count": null,
   "metadata": {},
   "outputs": [],
   "source": []
  },
  {
   "cell_type": "code",
   "execution_count": null,
   "metadata": {},
   "outputs": [],
   "source": []
  },
  {
   "cell_type": "code",
   "execution_count": null,
   "metadata": {},
   "outputs": [],
   "source": []
  },
  {
   "cell_type": "code",
   "execution_count": null,
   "metadata": {},
   "outputs": [],
   "source": []
  },
  {
   "cell_type": "code",
   "execution_count": null,
   "metadata": {},
   "outputs": [],
   "source": []
  },
  {
   "cell_type": "code",
   "execution_count": null,
   "metadata": {},
   "outputs": [],
   "source": []
  },
  {
   "cell_type": "code",
   "execution_count": null,
   "metadata": {},
   "outputs": [],
   "source": []
  },
  {
   "cell_type": "code",
   "execution_count": null,
   "metadata": {},
   "outputs": [],
   "source": []
  },
  {
   "cell_type": "code",
   "execution_count": null,
   "metadata": {},
   "outputs": [],
   "source": []
  },
  {
   "cell_type": "code",
   "execution_count": null,
   "metadata": {},
   "outputs": [],
   "source": []
  },
  {
   "cell_type": "code",
   "execution_count": null,
   "metadata": {},
   "outputs": [],
   "source": []
  },
  {
   "cell_type": "code",
   "execution_count": null,
   "metadata": {},
   "outputs": [],
   "source": []
  },
  {
   "cell_type": "code",
   "execution_count": null,
   "metadata": {},
   "outputs": [],
   "source": []
  },
  {
   "cell_type": "code",
   "execution_count": null,
   "metadata": {},
   "outputs": [],
   "source": []
  },
  {
   "cell_type": "code",
   "execution_count": null,
   "metadata": {},
   "outputs": [],
   "source": []
  },
  {
   "cell_type": "markdown",
   "metadata": {
    "id": "CpVdHJw5zjty"
   },
   "source": [
    "###### Setup: Non-IID Setting & 2NN"
   ]
  },
  {
   "cell_type": "code",
   "execution_count": null,
   "metadata": {
    "id": "dYmaLjzxzgkk"
   },
   "outputs": [],
   "source": [
    "# MNIST Data from Tensorflow\n",
    "# Splitted into train, test by default, we could re-arrange later on\n",
    "(x_train, y_train), (x_test, y_test) = tf.keras.datasets.mnist.load_data()"
   ]
  },
  {
   "cell_type": "code",
   "execution_count": null,
   "metadata": {
    "id": "lfFtzHRP3Lk-"
   },
   "outputs": [],
   "source": [
    "# Join the dataset & labels as whole\n",
    "dataset = np.concatenate((x_train, x_test), axis=0)\n",
    "labels = np.concatenate((y_train, y_test), axis=0)\n",
    "\n",
    "print(\"Dataset contains %s images and %s labels\" % (dataset.shape[0], labels.shape[0]))"
   ]
  },
  {
   "cell_type": "code",
   "execution_count": null,
   "metadata": {
    "id": "aEGiJcJ_3Qsi"
   },
   "outputs": [],
   "source": [
    "# Sanity check on data\n",
    "for i in range(1,5,2):\n",
    "  fig = plt.figure()\n",
    "  \n",
    "  ax1 = fig.add_subplot(2,2,i)\n",
    "  ax2 = fig.add_subplot(2,2,i+1)\n",
    "  ax1.imshow(dataset[i], cmap='gray')\n",
    "  ax2.imshow(dataset[i+1], cmap='gray')\n",
    "  \n",
    "  ax1.set_title(\"Digit: %s\" % labels[i])\n",
    "  ax2.set_title(\"Digit: %s\" % labels[i+1])\n",
    "  plt.show()"
   ]
  },
  {
   "cell_type": "code",
   "execution_count": null,
   "metadata": {
    "id": "qUsmjSXO5ik8"
   },
   "outputs": [],
   "source": [
    "# Sort the train data based on digits label\n",
    "sorted_index = np.argsort(y_train)\n"
   ]
  }
 ],
 "metadata": {
  "accelerator": "GPU",
  "colab": {
   "collapsed_sections": [],
   "name": "Federated Learning - Assignment 1.ipynb",
   "provenance": [],
   "toc_visible": true
  },
  "kernelspec": {
   "display_name": "tensorflow",
   "language": "python",
   "name": "tensorflow"
  },
  "language_info": {
   "codemirror_mode": {
    "name": "ipython",
    "version": 3
   },
   "file_extension": ".py",
   "mimetype": "text/x-python",
   "name": "python",
   "nbconvert_exporter": "python",
   "pygments_lexer": "ipython3",
   "version": "3.8.5"
  }
 },
 "nbformat": 4,
 "nbformat_minor": 4
}

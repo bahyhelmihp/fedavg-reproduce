{
 "cells": [
  {
   "cell_type": "code",
   "execution_count": 4,
   "id": "13780bb3-a80c-47e5-bdd0-e090b5c5e5c6",
   "metadata": {},
   "outputs": [],
   "source": [
    "import json\n",
    "import pickle\n",
    "import os\n",
    "import zipfile\n",
    "os.environ[\"TF_ENABLE_ONEDNN_OPTS\"] = \"1\"\n",
    "\n",
    "import pandas as pd\n",
    "import matplotlib.pyplot as plt\n",
    "import seaborn as sns\n",
    "import tensorflow as tf\n",
    "\n",
    "from glob import glob\n",
    "from shutil import copyfile\n",
    "\n",
    "sns.set_style(\"darkgrid\")"
   ]
  },
  {
   "cell_type": "code",
   "execution_count": 3,
   "id": "f172a82d-1a8a-4e9b-aaab-b7060e2262ff",
   "metadata": {},
   "outputs": [],
   "source": [
    "#### Settings\n",
    "### Learning Rate for CNN = 0.01, no learning rate decay"
   ]
  },
  {
   "cell_type": "code",
   "execution_count": 4,
   "id": "cbc01049-0b92-41c6-997e-fbaee367ae92",
   "metadata": {},
   "outputs": [],
   "source": [
    "os.chdir(\"/home/bahy/research/icl-prelab-assignment/\")"
   ]
  },
  {
   "cell_type": "code",
   "execution_count": 5,
   "id": "a4d49d8b-5fd7-4afc-a627-8d47bc49a081",
   "metadata": {},
   "outputs": [
    {
     "name": "stdout",
     "output_type": "stream",
     "text": [
      "/home/bahy/research/icl-prelab-assignment\n"
     ]
    }
   ],
   "source": [
    "!pwd"
   ]
  }
 ],
 "metadata": {
  "kernelspec": {
   "display_name": "tensorflow",
   "language": "python",
   "name": "tensorflow"
  },
  "language_info": {
   "codemirror_mode": {
    "name": "ipython",
    "version": 3
   },
   "file_extension": ".py",
   "mimetype": "text/x-python",
   "name": "python",
   "nbconvert_exporter": "python",
   "pygments_lexer": "ipython3",
   "version": "3.8.10"
  }
 },
 "nbformat": 4,
 "nbformat_minor": 5
}

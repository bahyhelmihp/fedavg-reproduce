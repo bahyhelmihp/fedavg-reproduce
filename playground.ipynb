{
 "cells": [
  {
   "cell_type": "code",
   "execution_count": 1,
   "id": "8169a3bb-fd99-4e9c-8927-802c14935e03",
   "metadata": {},
   "outputs": [],
   "source": [
    "import json\n",
    "import os\n",
    "\n",
    "import pandas as pd\n",
    "\n",
    "from glob import glob"
   ]
  },
  {
   "cell_type": "code",
   "execution_count": 2,
   "id": "a3e8d92d-ca38-414b-ba18-273de75500fe",
   "metadata": {},
   "outputs": [],
   "source": [
    "os.chdir(\"/home/bahy/research/icl-prelab-assignment/\")"
   ]
  },
  {
   "cell_type": "code",
   "execution_count": 3,
   "id": "58d0a2ed-e834-47dc-8131-e5848166bbe9",
   "metadata": {},
   "outputs": [
    {
     "name": "stdout",
     "output_type": "stream",
     "text": [
      "/home/bahy/research/icl-prelab-assignment\n"
     ]
    }
   ],
   "source": [
    "!pwd"
   ]
  },
  {
   "cell_type": "markdown",
   "id": "40b07a23-5a57-4bf7-8f94-3df68afde9c9",
   "metadata": {},
   "source": [
    "#### Log Cleaner"
   ]
  },
  {
   "cell_type": "code",
   "execution_count": 4,
   "id": "bdf31058-7055-45ab-a635-3b3c8a0c6820",
   "metadata": {},
   "outputs": [],
   "source": [
    "def remove_blank_spaces(file_name):\n",
    "    file_open = open(file_name, \"r\")\n",
    "    cleaned = []\n",
    "    for line in file_open.readlines():\n",
    "\n",
    "        try:\n",
    "            line = json.loads(line)\n",
    "            cleaned.append(eval(line))\n",
    "        except:\n",
    "            cleaned.append(line)\n",
    "            continue\n",
    "        \n",
    "\n",
    "    return pd.DataFrame(cleaned)"
   ]
  },
  {
   "cell_type": "code",
   "execution_count": 5,
   "id": "223c0a85-4fcd-4b04-b28d-32b3c8d00328",
   "metadata": {},
   "outputs": [],
   "source": [
    "def remove_duplicates(df_input):\n",
    "    df_input = df_input.fillna(\"Undefined\")\n",
    "    df_input = df_input.drop_duplicates().reset_index(drop=True)\n",
    "    \n",
    "    return df_input"
   ]
  },
  {
   "cell_type": "code",
   "execution_count": 6,
   "id": "8115e280-786f-4c26-b4cf-99a4a664ea72",
   "metadata": {},
   "outputs": [],
   "source": [
    "def fix_comm_round(df_input, accuracy_filter=None):\n",
    "    df_input['comm_round'] = df_input.index.values + 1\n",
    "    \n",
    "    # Accuracy filter\n",
    "    if accuracy_filter is not None:\n",
    "        first_acc_index = df_input[df_input['test_acc'] > accuracy_filter].index[0]\n",
    "        df_input = df_input.iloc[:first_acc_index+1]\n",
    "    \n",
    "    return df_input"
   ]
  },
  {
   "cell_type": "code",
   "execution_count": 7,
   "id": "76ea58b2-715c-46c9-87c5-eb1c0929452b",
   "metadata": {},
   "outputs": [],
   "source": [
    "def write_back_to_file(df_input, file_name):\n",
    "    file_open = open(file_name, \"w+\")\n",
    "    for row in df_input.to_dict(\"records\"):\n",
    "        file_open.write(json.dumps(row))\n",
    "        file_open.write(\"\\n\")\n",
    "    file_open.close()\n",
    "    \n",
    "    return \"Write success.\""
   ]
  },
  {
   "cell_type": "code",
   "execution_count": 34,
   "id": "6c960b45-de4d-4b6a-b4df-ac510e0603fd",
   "metadata": {},
   "outputs": [],
   "source": [
    "for file in glob(\"logs_q2/lr0.01/*.txt\"):\n",
    "    try:\n",
    "        df = remove_blank_spaces(file)\n",
    "        df = remove_duplicates(df)\n",
    "        df = fix_comm_round(df)\n",
    "        write_back_to_file(df, file)\n",
    "    except:\n",
    "        continue"
   ]
  },
  {
   "cell_type": "code",
   "execution_count": null,
   "id": "cba0cb53-2658-4fc1-93aa-3abf2d8b7f1a",
   "metadata": {},
   "outputs": [],
   "source": []
  }
 ],
 "metadata": {
  "kernelspec": {
   "display_name": "tensorflow",
   "language": "python",
   "name": "tensorflow"
  },
  "language_info": {
   "codemirror_mode": {
    "name": "ipython",
    "version": 3
   },
   "file_extension": ".py",
   "mimetype": "text/x-python",
   "name": "python",
   "nbconvert_exporter": "python",
   "pygments_lexer": "ipython3",
   "version": "3.8.10"
  }
 },
 "nbformat": 4,
 "nbformat_minor": 5
}

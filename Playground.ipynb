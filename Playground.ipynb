{
 "cells": [
  {
   "cell_type": "code",
   "execution_count": 27,
   "id": "8169a3bb-fd99-4e9c-8927-802c14935e03",
   "metadata": {},
   "outputs": [],
   "source": [
    "import json\n",
    "\n",
    "import pandas as pd"
   ]
  },
  {
   "cell_type": "code",
   "execution_count": 28,
   "id": "6959836d-e8da-4d9e-9fd9-f999b40e6b04",
   "metadata": {},
   "outputs": [],
   "source": [
    "file = \"logs/IID-B600-C0.1-MNIST.txt\""
   ]
  },
  {
   "cell_type": "code",
   "execution_count": 29,
   "id": "bdf31058-7055-45ab-a635-3b3c8a0c6820",
   "metadata": {},
   "outputs": [],
   "source": [
    "def remove_blank_spaces(file_name):\n",
    "    file_open = open(file_name, \"r\")\n",
    "    cleaned = []\n",
    "    for line in file_open.readlines():\n",
    "        if len(line) < 10:\n",
    "            continue\n",
    "        cleaned.append(eval(line))\n",
    "\n",
    "    return pd.DataFrame(cleaned)"
   ]
  },
  {
   "cell_type": "code",
   "execution_count": 30,
   "id": "223c0a85-4fcd-4b04-b28d-32b3c8d00328",
   "metadata": {},
   "outputs": [],
   "source": [
    "def remove_duplicates(df_input):\n",
    "    df_input = df_input.drop_duplicates().reset_index(drop=True)\n",
    "    \n",
    "    return df_input"
   ]
  },
  {
   "cell_type": "code",
   "execution_count": 31,
   "id": "8115e280-786f-4c26-b4cf-99a4a664ea72",
   "metadata": {},
   "outputs": [],
   "source": [
    "def fix_comm_round(df_input):\n",
    "    df_input['comm_round'] = df_input.index.values + 1\n",
    "    first_acc_index = df_input[df_input['test_acc'] > 0.9699].index[0]\n",
    "    df_input = df_input.iloc[:first_acc_index+1]\n",
    "    \n",
    "    return df_input"
   ]
  },
  {
   "cell_type": "code",
   "execution_count": 32,
   "id": "76ea58b2-715c-46c9-87c5-eb1c0929452b",
   "metadata": {},
   "outputs": [],
   "source": [
    "def write_back_to_file(df_input, file_name):\n",
    "    file_open = open(file_name, \"w+\")\n",
    "    for row in df_input.to_dict(\"records\"):\n",
    "        file_open.write(json.dumps(row))\n",
    "        file_open.write(\"\\n\")\n",
    "    file_open.close()\n",
    "    \n",
    "    return \"Write success.\""
   ]
  },
  {
   "cell_type": "code",
   "execution_count": 33,
   "id": "8415f0bc-1f45-4a80-80c9-3cc53967527e",
   "metadata": {},
   "outputs": [
    {
     "name": "stdout",
     "output_type": "stream",
     "text": [
      "(3998, 7)\n"
     ]
    },
    {
     "data": {
      "text/html": [
       "<div>\n",
       "<style scoped>\n",
       "    .dataframe tbody tr th:only-of-type {\n",
       "        vertical-align: middle;\n",
       "    }\n",
       "\n",
       "    .dataframe tbody tr th {\n",
       "        vertical-align: top;\n",
       "    }\n",
       "\n",
       "    .dataframe thead th {\n",
       "        text-align: right;\n",
       "    }\n",
       "</style>\n",
       "<table border=\"1\" class=\"dataframe\">\n",
       "  <thead>\n",
       "    <tr style=\"text-align: right;\">\n",
       "      <th></th>\n",
       "      <th>C</th>\n",
       "      <th>B</th>\n",
       "      <th>comm_round</th>\n",
       "      <th>train_acc</th>\n",
       "      <th>test_acc</th>\n",
       "      <th>train_loss</th>\n",
       "      <th>test_loss</th>\n",
       "    </tr>\n",
       "  </thead>\n",
       "  <tbody>\n",
       "    <tr>\n",
       "      <th>0</th>\n",
       "      <td>0.1</td>\n",
       "      <td>600</td>\n",
       "      <td>1</td>\n",
       "      <td>0.1750</td>\n",
       "      <td>0.1766</td>\n",
       "      <td>12.8010</td>\n",
       "      <td>12.7859</td>\n",
       "    </tr>\n",
       "    <tr>\n",
       "      <th>1</th>\n",
       "      <td>0.1</td>\n",
       "      <td>600</td>\n",
       "      <td>2</td>\n",
       "      <td>0.2436</td>\n",
       "      <td>0.2464</td>\n",
       "      <td>11.5673</td>\n",
       "      <td>11.5301</td>\n",
       "    </tr>\n",
       "    <tr>\n",
       "      <th>2</th>\n",
       "      <td>0.1</td>\n",
       "      <td>600</td>\n",
       "      <td>2</td>\n",
       "      <td>0.2436</td>\n",
       "      <td>0.2464</td>\n",
       "      <td>11.5673</td>\n",
       "      <td>11.5301</td>\n",
       "    </tr>\n",
       "    <tr>\n",
       "      <th>3</th>\n",
       "      <td>0.1</td>\n",
       "      <td>600</td>\n",
       "      <td>3</td>\n",
       "      <td>0.3491</td>\n",
       "      <td>0.3540</td>\n",
       "      <td>9.7809</td>\n",
       "      <td>9.6699</td>\n",
       "    </tr>\n",
       "    <tr>\n",
       "      <th>4</th>\n",
       "      <td>0.1</td>\n",
       "      <td>600</td>\n",
       "      <td>3</td>\n",
       "      <td>0.3491</td>\n",
       "      <td>0.3540</td>\n",
       "      <td>9.7809</td>\n",
       "      <td>9.6699</td>\n",
       "    </tr>\n",
       "  </tbody>\n",
       "</table>\n",
       "</div>"
      ],
      "text/plain": [
       "     C    B  comm_round  train_acc  test_acc  train_loss  test_loss\n",
       "0  0.1  600           1     0.1750    0.1766     12.8010    12.7859\n",
       "1  0.1  600           2     0.2436    0.2464     11.5673    11.5301\n",
       "2  0.1  600           2     0.2436    0.2464     11.5673    11.5301\n",
       "3  0.1  600           3     0.3491    0.3540      9.7809     9.6699\n",
       "4  0.1  600           3     0.3491    0.3540      9.7809     9.6699"
      ]
     },
     "execution_count": 33,
     "metadata": {},
     "output_type": "execute_result"
    }
   ],
   "source": [
    "df = remove_blank_spaces(file)\n",
    "print(df.shape)\n",
    "df.head()"
   ]
  },
  {
   "cell_type": "code",
   "execution_count": 34,
   "id": "161b8ea9-3a64-4861-ad1f-e04a51990ad6",
   "metadata": {},
   "outputs": [
    {
     "name": "stdout",
     "output_type": "stream",
     "text": [
      "(3000, 7)\n"
     ]
    },
    {
     "data": {
      "text/html": [
       "<div>\n",
       "<style scoped>\n",
       "    .dataframe tbody tr th:only-of-type {\n",
       "        vertical-align: middle;\n",
       "    }\n",
       "\n",
       "    .dataframe tbody tr th {\n",
       "        vertical-align: top;\n",
       "    }\n",
       "\n",
       "    .dataframe thead th {\n",
       "        text-align: right;\n",
       "    }\n",
       "</style>\n",
       "<table border=\"1\" class=\"dataframe\">\n",
       "  <thead>\n",
       "    <tr style=\"text-align: right;\">\n",
       "      <th></th>\n",
       "      <th>C</th>\n",
       "      <th>B</th>\n",
       "      <th>comm_round</th>\n",
       "      <th>train_acc</th>\n",
       "      <th>test_acc</th>\n",
       "      <th>train_loss</th>\n",
       "      <th>test_loss</th>\n",
       "    </tr>\n",
       "  </thead>\n",
       "  <tbody>\n",
       "    <tr>\n",
       "      <th>0</th>\n",
       "      <td>0.1</td>\n",
       "      <td>600</td>\n",
       "      <td>1</td>\n",
       "      <td>0.1750</td>\n",
       "      <td>0.1766</td>\n",
       "      <td>12.8010</td>\n",
       "      <td>12.7859</td>\n",
       "    </tr>\n",
       "    <tr>\n",
       "      <th>1</th>\n",
       "      <td>0.1</td>\n",
       "      <td>600</td>\n",
       "      <td>2</td>\n",
       "      <td>0.2436</td>\n",
       "      <td>0.2464</td>\n",
       "      <td>11.5673</td>\n",
       "      <td>11.5301</td>\n",
       "    </tr>\n",
       "    <tr>\n",
       "      <th>2</th>\n",
       "      <td>0.1</td>\n",
       "      <td>600</td>\n",
       "      <td>3</td>\n",
       "      <td>0.3491</td>\n",
       "      <td>0.3540</td>\n",
       "      <td>9.7809</td>\n",
       "      <td>9.6699</td>\n",
       "    </tr>\n",
       "    <tr>\n",
       "      <th>3</th>\n",
       "      <td>0.1</td>\n",
       "      <td>600</td>\n",
       "      <td>4</td>\n",
       "      <td>0.4363</td>\n",
       "      <td>0.4445</td>\n",
       "      <td>8.4599</td>\n",
       "      <td>8.2844</td>\n",
       "    </tr>\n",
       "    <tr>\n",
       "      <th>4</th>\n",
       "      <td>0.1</td>\n",
       "      <td>600</td>\n",
       "      <td>5</td>\n",
       "      <td>0.4933</td>\n",
       "      <td>0.5055</td>\n",
       "      <td>7.5995</td>\n",
       "      <td>7.3989</td>\n",
       "    </tr>\n",
       "  </tbody>\n",
       "</table>\n",
       "</div>"
      ],
      "text/plain": [
       "     C    B  comm_round  train_acc  test_acc  train_loss  test_loss\n",
       "0  0.1  600           1     0.1750    0.1766     12.8010    12.7859\n",
       "1  0.1  600           2     0.2436    0.2464     11.5673    11.5301\n",
       "2  0.1  600           3     0.3491    0.3540      9.7809     9.6699\n",
       "3  0.1  600           4     0.4363    0.4445      8.4599     8.2844\n",
       "4  0.1  600           5     0.4933    0.5055      7.5995     7.3989"
      ]
     },
     "execution_count": 34,
     "metadata": {},
     "output_type": "execute_result"
    }
   ],
   "source": [
    "df = remove_duplicates(df)\n",
    "print(df.shape)\n",
    "df.head()"
   ]
  },
  {
   "cell_type": "code",
   "execution_count": 35,
   "id": "8300a214-cd0f-4f95-ad4a-9604a7c44779",
   "metadata": {},
   "outputs": [
    {
     "name": "stdout",
     "output_type": "stream",
     "text": [
      "(2526, 7)\n"
     ]
    },
    {
     "data": {
      "text/html": [
       "<div>\n",
       "<style scoped>\n",
       "    .dataframe tbody tr th:only-of-type {\n",
       "        vertical-align: middle;\n",
       "    }\n",
       "\n",
       "    .dataframe tbody tr th {\n",
       "        vertical-align: top;\n",
       "    }\n",
       "\n",
       "    .dataframe thead th {\n",
       "        text-align: right;\n",
       "    }\n",
       "</style>\n",
       "<table border=\"1\" class=\"dataframe\">\n",
       "  <thead>\n",
       "    <tr style=\"text-align: right;\">\n",
       "      <th></th>\n",
       "      <th>C</th>\n",
       "      <th>B</th>\n",
       "      <th>comm_round</th>\n",
       "      <th>train_acc</th>\n",
       "      <th>test_acc</th>\n",
       "      <th>train_loss</th>\n",
       "      <th>test_loss</th>\n",
       "    </tr>\n",
       "  </thead>\n",
       "  <tbody>\n",
       "    <tr>\n",
       "      <th>0</th>\n",
       "      <td>0.1</td>\n",
       "      <td>600</td>\n",
       "      <td>1</td>\n",
       "      <td>0.1750</td>\n",
       "      <td>0.1766</td>\n",
       "      <td>12.8010</td>\n",
       "      <td>12.7859</td>\n",
       "    </tr>\n",
       "    <tr>\n",
       "      <th>1</th>\n",
       "      <td>0.1</td>\n",
       "      <td>600</td>\n",
       "      <td>2</td>\n",
       "      <td>0.2436</td>\n",
       "      <td>0.2464</td>\n",
       "      <td>11.5673</td>\n",
       "      <td>11.5301</td>\n",
       "    </tr>\n",
       "    <tr>\n",
       "      <th>2</th>\n",
       "      <td>0.1</td>\n",
       "      <td>600</td>\n",
       "      <td>3</td>\n",
       "      <td>0.3491</td>\n",
       "      <td>0.3540</td>\n",
       "      <td>9.7809</td>\n",
       "      <td>9.6699</td>\n",
       "    </tr>\n",
       "    <tr>\n",
       "      <th>3</th>\n",
       "      <td>0.1</td>\n",
       "      <td>600</td>\n",
       "      <td>4</td>\n",
       "      <td>0.4363</td>\n",
       "      <td>0.4445</td>\n",
       "      <td>8.4599</td>\n",
       "      <td>8.2844</td>\n",
       "    </tr>\n",
       "    <tr>\n",
       "      <th>4</th>\n",
       "      <td>0.1</td>\n",
       "      <td>600</td>\n",
       "      <td>5</td>\n",
       "      <td>0.4933</td>\n",
       "      <td>0.5055</td>\n",
       "      <td>7.5995</td>\n",
       "      <td>7.3989</td>\n",
       "    </tr>\n",
       "  </tbody>\n",
       "</table>\n",
       "</div>"
      ],
      "text/plain": [
       "     C    B  comm_round  train_acc  test_acc  train_loss  test_loss\n",
       "0  0.1  600           1     0.1750    0.1766     12.8010    12.7859\n",
       "1  0.1  600           2     0.2436    0.2464     11.5673    11.5301\n",
       "2  0.1  600           3     0.3491    0.3540      9.7809     9.6699\n",
       "3  0.1  600           4     0.4363    0.4445      8.4599     8.2844\n",
       "4  0.1  600           5     0.4933    0.5055      7.5995     7.3989"
      ]
     },
     "execution_count": 35,
     "metadata": {},
     "output_type": "execute_result"
    }
   ],
   "source": [
    "df = fix_comm_round(df)\n",
    "print(df.shape)\n",
    "df.head()"
   ]
  },
  {
   "cell_type": "code",
   "execution_count": 36,
   "id": "e10490fe-85ea-4e0a-9542-4a3f0e87a994",
   "metadata": {},
   "outputs": [
    {
     "data": {
      "text/plain": [
       "'Write success.'"
      ]
     },
     "execution_count": 36,
     "metadata": {},
     "output_type": "execute_result"
    }
   ],
   "source": [
    "write_back_to_file(df, file)"
   ]
  }
 ],
 "metadata": {
  "kernelspec": {
   "display_name": "tensorflow",
   "language": "python",
   "name": "tensorflow"
  },
  "language_info": {
   "codemirror_mode": {
    "name": "ipython",
    "version": 3
   },
   "file_extension": ".py",
   "mimetype": "text/x-python",
   "name": "python",
   "nbconvert_exporter": "python",
   "pygments_lexer": "ipython3",
   "version": "3.8.5"
  }
 },
 "nbformat": 4,
 "nbformat_minor": 5
}

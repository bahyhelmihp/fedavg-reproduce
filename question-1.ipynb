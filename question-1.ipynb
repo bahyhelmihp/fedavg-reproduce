{
 "cells": [
  {
   "cell_type": "code",
   "execution_count": 74,
   "id": "de4bcfcd-b2ee-4113-9966-a8d9271e2ddd",
   "metadata": {},
   "outputs": [],
   "source": [
    "import json\n",
    "import pickle\n",
    "import os\n",
    "\n",
    "import pandas as pd\n",
    "import matplotlib.pyplot as plt\n",
    "import numpy as np\n",
    "import seaborn as sns\n",
    "\n",
    "from glob import glob\n",
    "\n",
    "pd.options.mode.chained_assignment = None\n",
    "sns.set_style(\"darkgrid\")"
   ]
  },
  {
   "cell_type": "code",
   "execution_count": 2,
   "id": "98de0f92-e989-4c40-a42f-7c60570593e3",
   "metadata": {},
   "outputs": [],
   "source": [
    "#### Settings\n",
    "### Learning Rate for 2NN = 0.1, no learning rate decay"
   ]
  },
  {
   "cell_type": "code",
   "execution_count": 3,
   "id": "3ccd57ec-de6a-41a7-a7fe-3aec44d744a5",
   "metadata": {},
   "outputs": [],
   "source": [
    "os.chdir(\"/home/bahy/research/icl-prelab-assignment/\")"
   ]
  },
  {
   "cell_type": "code",
   "execution_count": 4,
   "id": "1147505b-befa-47cf-84f9-c3748e8ec9b9",
   "metadata": {},
   "outputs": [
    {
     "name": "stdout",
     "output_type": "stream",
     "text": [
      "/home/bahy/research/icl-prelab-assignment\n"
     ]
    }
   ],
   "source": [
    "!pwd"
   ]
  },
  {
   "cell_type": "code",
   "execution_count": 5,
   "id": "50eee4ce-a093-47f3-b251-63f52ba1143c",
   "metadata": {
    "scrolled": true,
    "tags": []
   },
   "outputs": [
    {
     "name": "stdout",
     "output_type": "stream",
     "text": [
      "logs_q1/IID-B10-E1-C0.1-MNIST-2NN.txt\n",
      "logs_q1/NONIID-B10-E1-C0.1-MNIST-2NN.txt\n"
     ]
    }
   ],
   "source": [
    "datas = []\n",
    "for file_name in glob(\"logs_q1/*.txt\"):\n",
    "    print(file_name)\n",
    "    file = open(file_name, \"rb\")\n",
    "    for data in file.readlines():\n",
    "        if len(data) < 10: # Ignoring blank space/not useful information\n",
    "            continue\n",
    "        dict_data = eval(data)\n",
    "        dict_data['setting'] = file_name.split(\"/\")[1].split(\"-\")[0]\n",
    "        dict_data['model'] = file_name.split(\"/\")[1].split(\"-\")[-1].split(\".\")[0]\n",
    "        datas.append(dict_data)\n",
    "        \n",
    "datas = pd.DataFrame(datas)"
   ]
  },
  {
   "cell_type": "code",
   "execution_count": 6,
   "id": "71b7ebf6-42ac-46f3-ac6e-0d51b2bbf850",
   "metadata": {},
   "outputs": [
    {
     "data": {
      "text/html": [
       "<div>\n",
       "<style scoped>\n",
       "    .dataframe tbody tr th:only-of-type {\n",
       "        vertical-align: middle;\n",
       "    }\n",
       "\n",
       "    .dataframe tbody tr th {\n",
       "        vertical-align: top;\n",
       "    }\n",
       "\n",
       "    .dataframe thead th {\n",
       "        text-align: right;\n",
       "    }\n",
       "</style>\n",
       "<table border=\"1\" class=\"dataframe\">\n",
       "  <thead>\n",
       "    <tr style=\"text-align: right;\">\n",
       "      <th></th>\n",
       "      <th>C</th>\n",
       "      <th>B</th>\n",
       "      <th>learning_rate</th>\n",
       "      <th>comm_round</th>\n",
       "      <th>train_acc</th>\n",
       "      <th>test_acc</th>\n",
       "      <th>train_loss</th>\n",
       "      <th>test_loss</th>\n",
       "      <th>val_acc</th>\n",
       "      <th>val_loss</th>\n",
       "      <th>setting</th>\n",
       "      <th>model</th>\n",
       "    </tr>\n",
       "  </thead>\n",
       "  <tbody>\n",
       "    <tr>\n",
       "      <th>0</th>\n",
       "      <td>0.1</td>\n",
       "      <td>10</td>\n",
       "      <td>0.1</td>\n",
       "      <td>1</td>\n",
       "      <td>0.8304</td>\n",
       "      <td>0.8349</td>\n",
       "      <td>0.7483</td>\n",
       "      <td>0.7324</td>\n",
       "      <td>0.8298</td>\n",
       "      <td>0.7466</td>\n",
       "      <td>IID</td>\n",
       "      <td>2NN</td>\n",
       "    </tr>\n",
       "    <tr>\n",
       "      <th>1</th>\n",
       "      <td>0.1</td>\n",
       "      <td>10</td>\n",
       "      <td>0.1</td>\n",
       "      <td>2</td>\n",
       "      <td>0.8606</td>\n",
       "      <td>0.8651</td>\n",
       "      <td>0.4973</td>\n",
       "      <td>0.4816</td>\n",
       "      <td>0.8569</td>\n",
       "      <td>0.4951</td>\n",
       "      <td>IID</td>\n",
       "      <td>2NN</td>\n",
       "    </tr>\n",
       "    <tr>\n",
       "      <th>2</th>\n",
       "      <td>0.1</td>\n",
       "      <td>10</td>\n",
       "      <td>0.1</td>\n",
       "      <td>3</td>\n",
       "      <td>0.8842</td>\n",
       "      <td>0.8904</td>\n",
       "      <td>0.4091</td>\n",
       "      <td>0.3939</td>\n",
       "      <td>0.8824</td>\n",
       "      <td>0.4065</td>\n",
       "      <td>IID</td>\n",
       "      <td>2NN</td>\n",
       "    </tr>\n",
       "    <tr>\n",
       "      <th>3</th>\n",
       "      <td>0.1</td>\n",
       "      <td>10</td>\n",
       "      <td>0.1</td>\n",
       "      <td>4</td>\n",
       "      <td>0.9013</td>\n",
       "      <td>0.9062</td>\n",
       "      <td>0.3506</td>\n",
       "      <td>0.3395</td>\n",
       "      <td>0.9004</td>\n",
       "      <td>0.3457</td>\n",
       "      <td>IID</td>\n",
       "      <td>2NN</td>\n",
       "    </tr>\n",
       "    <tr>\n",
       "      <th>4</th>\n",
       "      <td>0.1</td>\n",
       "      <td>10</td>\n",
       "      <td>0.1</td>\n",
       "      <td>5</td>\n",
       "      <td>0.9034</td>\n",
       "      <td>0.9086</td>\n",
       "      <td>0.3233</td>\n",
       "      <td>0.3090</td>\n",
       "      <td>0.9044</td>\n",
       "      <td>0.3155</td>\n",
       "      <td>IID</td>\n",
       "      <td>2NN</td>\n",
       "    </tr>\n",
       "  </tbody>\n",
       "</table>\n",
       "</div>"
      ],
      "text/plain": [
       "     C   B  learning_rate  comm_round  train_acc  test_acc  train_loss  \\\n",
       "0  0.1  10            0.1           1     0.8304    0.8349      0.7483   \n",
       "1  0.1  10            0.1           2     0.8606    0.8651      0.4973   \n",
       "2  0.1  10            0.1           3     0.8842    0.8904      0.4091   \n",
       "3  0.1  10            0.1           4     0.9013    0.9062      0.3506   \n",
       "4  0.1  10            0.1           5     0.9034    0.9086      0.3233   \n",
       "\n",
       "   test_loss  val_acc  val_loss setting model  \n",
       "0     0.7324   0.8298    0.7466     IID   2NN  \n",
       "1     0.4816   0.8569    0.4951     IID   2NN  \n",
       "2     0.3939   0.8824    0.4065     IID   2NN  \n",
       "3     0.3395   0.9004    0.3457     IID   2NN  \n",
       "4     0.3090   0.9044    0.3155     IID   2NN  "
      ]
     },
     "execution_count": 6,
     "metadata": {},
     "output_type": "execute_result"
    }
   ],
   "source": [
    "# Sort the data\n",
    "ROUNDING_DIGIT = 4\n",
    "\n",
    "df_metrics = datas.sort_values(by=['setting', 'B', 'C', 'comm_round']).reset_index(drop=True)\n",
    "df_metrics['train_acc'] = df_metrics['train_acc'].apply(lambda x: round(x, ROUNDING_DIGIT))\n",
    "df_metrics['test_acc'] = df_metrics['test_acc'].apply(lambda x: round(x, ROUNDING_DIGIT))\n",
    "df_metrics['train_loss'] = df_metrics['train_loss'].apply(lambda x: round(x, ROUNDING_DIGIT))\n",
    "df_metrics['test_loss'] = df_metrics['test_loss'].apply(lambda x: round(x, ROUNDING_DIGIT))\n",
    "df_metrics.head()"
   ]
  },
  {
   "cell_type": "code",
   "execution_count": 7,
   "id": "d79bdb14-9dbd-4035-933a-cf918c33a496",
   "metadata": {},
   "outputs": [
    {
     "data": {
      "text/html": [
       "<div>\n",
       "<style scoped>\n",
       "    .dataframe tbody tr th:only-of-type {\n",
       "        vertical-align: middle;\n",
       "    }\n",
       "\n",
       "    .dataframe tbody tr th {\n",
       "        vertical-align: top;\n",
       "    }\n",
       "\n",
       "    .dataframe thead th {\n",
       "        text-align: right;\n",
       "    }\n",
       "</style>\n",
       "<table border=\"1\" class=\"dataframe\">\n",
       "  <thead>\n",
       "    <tr style=\"text-align: right;\">\n",
       "      <th></th>\n",
       "      <th>C</th>\n",
       "      <th>B</th>\n",
       "      <th>learning_rate</th>\n",
       "      <th>comm_round</th>\n",
       "      <th>train_acc</th>\n",
       "      <th>test_acc</th>\n",
       "      <th>train_loss</th>\n",
       "      <th>test_loss</th>\n",
       "      <th>val_acc</th>\n",
       "      <th>val_loss</th>\n",
       "      <th>setting</th>\n",
       "      <th>model</th>\n",
       "    </tr>\n",
       "  </thead>\n",
       "  <tbody>\n",
       "    <tr>\n",
       "      <th>1061</th>\n",
       "      <td>0.1</td>\n",
       "      <td>10</td>\n",
       "      <td>0.1</td>\n",
       "      <td>1004</td>\n",
       "      <td>0.9692</td>\n",
       "      <td>0.9650</td>\n",
       "      <td>0.0947</td>\n",
       "      <td>0.1128</td>\n",
       "      <td>0.9652</td>\n",
       "      <td>0.1166</td>\n",
       "      <td>NONIID</td>\n",
       "      <td>2NN</td>\n",
       "    </tr>\n",
       "    <tr>\n",
       "      <th>1062</th>\n",
       "      <td>0.1</td>\n",
       "      <td>10</td>\n",
       "      <td>0.1</td>\n",
       "      <td>1005</td>\n",
       "      <td>0.9709</td>\n",
       "      <td>0.9671</td>\n",
       "      <td>0.0876</td>\n",
       "      <td>0.1059</td>\n",
       "      <td>0.9649</td>\n",
       "      <td>0.1123</td>\n",
       "      <td>NONIID</td>\n",
       "      <td>2NN</td>\n",
       "    </tr>\n",
       "    <tr>\n",
       "      <th>1063</th>\n",
       "      <td>0.1</td>\n",
       "      <td>10</td>\n",
       "      <td>0.1</td>\n",
       "      <td>1006</td>\n",
       "      <td>0.9726</td>\n",
       "      <td>0.9687</td>\n",
       "      <td>0.0822</td>\n",
       "      <td>0.1020</td>\n",
       "      <td>0.9670</td>\n",
       "      <td>0.1063</td>\n",
       "      <td>NONIID</td>\n",
       "      <td>2NN</td>\n",
       "    </tr>\n",
       "    <tr>\n",
       "      <th>1064</th>\n",
       "      <td>0.1</td>\n",
       "      <td>10</td>\n",
       "      <td>0.1</td>\n",
       "      <td>1007</td>\n",
       "      <td>0.9723</td>\n",
       "      <td>0.9671</td>\n",
       "      <td>0.0844</td>\n",
       "      <td>0.1054</td>\n",
       "      <td>0.9677</td>\n",
       "      <td>0.1094</td>\n",
       "      <td>NONIID</td>\n",
       "      <td>2NN</td>\n",
       "    </tr>\n",
       "    <tr>\n",
       "      <th>1065</th>\n",
       "      <td>0.1</td>\n",
       "      <td>10</td>\n",
       "      <td>0.1</td>\n",
       "      <td>1008</td>\n",
       "      <td>0.9744</td>\n",
       "      <td>0.9702</td>\n",
       "      <td>0.0782</td>\n",
       "      <td>0.1014</td>\n",
       "      <td>0.9683</td>\n",
       "      <td>0.1051</td>\n",
       "      <td>NONIID</td>\n",
       "      <td>2NN</td>\n",
       "    </tr>\n",
       "  </tbody>\n",
       "</table>\n",
       "</div>"
      ],
      "text/plain": [
       "        C   B  learning_rate  comm_round  train_acc  test_acc  train_loss  \\\n",
       "1061  0.1  10            0.1        1004     0.9692    0.9650      0.0947   \n",
       "1062  0.1  10            0.1        1005     0.9709    0.9671      0.0876   \n",
       "1063  0.1  10            0.1        1006     0.9726    0.9687      0.0822   \n",
       "1064  0.1  10            0.1        1007     0.9723    0.9671      0.0844   \n",
       "1065  0.1  10            0.1        1008     0.9744    0.9702      0.0782   \n",
       "\n",
       "      test_loss  val_acc  val_loss setting model  \n",
       "1061     0.1128   0.9652    0.1166  NONIID   2NN  \n",
       "1062     0.1059   0.9649    0.1123  NONIID   2NN  \n",
       "1063     0.1020   0.9670    0.1063  NONIID   2NN  \n",
       "1064     0.1054   0.9677    0.1094  NONIID   2NN  \n",
       "1065     0.1014   0.9683    0.1051  NONIID   2NN  "
      ]
     },
     "execution_count": 7,
     "metadata": {},
     "output_type": "execute_result"
    }
   ],
   "source": [
    "df_metrics.tail()"
   ]
  },
  {
   "cell_type": "code",
   "execution_count": 8,
   "id": "9de03dec-d6af-476c-abb2-ae64bafe8470",
   "metadata": {},
   "outputs": [
    {
     "data": {
      "text/plain": [
       "model  setting  B   C  \n",
       "2NN    IID      10  0.1      58\n",
       "       NONIID   10  0.1    1008\n",
       "dtype: int64"
      ]
     },
     "execution_count": 8,
     "metadata": {},
     "output_type": "execute_result"
    }
   ],
   "source": [
    "df_metrics.groupby([\"model\", \"setting\", \"B\", \"C\"]).size()"
   ]
  },
  {
   "cell_type": "code",
   "execution_count": 9,
   "id": "8059c5b5-45d4-4930-95ef-f66c4fa69493",
   "metadata": {},
   "outputs": [
    {
     "data": {
      "text/html": [
       "<div>\n",
       "<style scoped>\n",
       "    .dataframe tbody tr th:only-of-type {\n",
       "        vertical-align: middle;\n",
       "    }\n",
       "\n",
       "    .dataframe tbody tr th {\n",
       "        vertical-align: top;\n",
       "    }\n",
       "\n",
       "    .dataframe thead th {\n",
       "        text-align: right;\n",
       "    }\n",
       "</style>\n",
       "<table border=\"1\" class=\"dataframe\">\n",
       "  <thead>\n",
       "    <tr style=\"text-align: right;\">\n",
       "      <th></th>\n",
       "      <th>model</th>\n",
       "      <th>setting</th>\n",
       "      <th>B</th>\n",
       "      <th>C</th>\n",
       "      <th>comm_round</th>\n",
       "    </tr>\n",
       "  </thead>\n",
       "  <tbody>\n",
       "    <tr>\n",
       "      <th>0</th>\n",
       "      <td>2NN</td>\n",
       "      <td>IID</td>\n",
       "      <td>10</td>\n",
       "      <td>0.1</td>\n",
       "      <td>58</td>\n",
       "    </tr>\n",
       "    <tr>\n",
       "      <th>1</th>\n",
       "      <td>2NN</td>\n",
       "      <td>NONIID</td>\n",
       "      <td>10</td>\n",
       "      <td>0.1</td>\n",
       "      <td>1008</td>\n",
       "    </tr>\n",
       "  </tbody>\n",
       "</table>\n",
       "</div>"
      ],
      "text/plain": [
       "  model setting   B    C  comm_round\n",
       "0   2NN     IID  10  0.1          58\n",
       "1   2NN  NONIID  10  0.1        1008"
      ]
     },
     "execution_count": 9,
     "metadata": {},
     "output_type": "execute_result"
    }
   ],
   "source": [
    "table_df = df_metrics.groupby([\"model\", \"setting\", \"B\", \"C\"]).size().to_frame('comm_round').reset_index()\n",
    "table_df"
   ]
  },
  {
   "cell_type": "code",
   "execution_count": 102,
   "id": "865de18a-8f8d-4e60-a2eb-35887d6ffcda",
   "metadata": {},
   "outputs": [],
   "source": [
    "def plot_monotonic_acc(input_df, metrics=[\"test\", \"train\"]):\n",
    "    \n",
    "    min_ylim = []\n",
    "    for metric in metrics:\n",
    "        max_val = input_df['%s_acc' % metric][0]\n",
    "        keep = []\n",
    "    \n",
    "        for i in range(len(input_df)):\n",
    "            current = input_df['%s_acc' % metric][i]\n",
    "            if max_val <= current:\n",
    "                keep.append(input_df['comm_round'].index[i])\n",
    "                max_val = current          \n",
    "        \n",
    "        sns.lineplot(data=input_df.iloc[keep], x='comm_round', y='%s_acc' % metric, label=\"%s_acc\" % metric)\n",
    "        min_ylim.append(input_df.iloc[keep]['%s_acc' % metric].min())\n",
    "    \n",
    "    plt.ylim(max(min_ylim), None)\n",
    "    plt.ylabel(\"Accuracy\")\n",
    "    plt.xlabel(\"Communication Rounds\")\n",
    "    plt.title(\"MNIST %s %s\\nB=%s, C=%s\" % (input_df['model'].unique()[0], input_df['setting'].unique()[0],\\\n",
    "                                             input_df['B'].unique()[0], input_df['C'].unique()[0]))\n",
    "    plt.legend(loc='lower right')\n",
    "    plt.show()"
   ]
  },
  {
   "cell_type": "code",
   "execution_count": 103,
   "id": "6834f68f-ed66-4549-99f1-064f2380dbc2",
   "metadata": {},
   "outputs": [],
   "source": [
    "def plot_monotonic_loss(input_df, metrics=[\"test\", \"train\"]):\n",
    "    \n",
    "    max_ylim = []\n",
    "    for metric in metrics:\n",
    "        min_val = input_df['%s_loss' % metric][0]\n",
    "        keep = []\n",
    "    \n",
    "        for i in range(len(sample_df)):\n",
    "            current = input_df['%s_loss' % metric][i]\n",
    "            if min_val >= current:\n",
    "                keep.append(input_df['comm_round'].index[i])\n",
    "                min_val = current          \n",
    "        \n",
    "        sns.lineplot(data=input_df.iloc[keep], x='comm_round', y='%s_loss' % metric, label=\"%s_loss\" % metric)\n",
    "        max_ylim.append(input_df.iloc[keep]['%s_loss' % metric].max())\n",
    "    \n",
    "    plt.ylim(None, min(max_ylim))\n",
    "    plt.ylabel(\"Loss\")\n",
    "    plt.xlabel(\"Communication Rounds\")\n",
    "    plt.title(\"MNIST %s %s\\nB=%s, C=%s\" % (input_df['model'].unique()[0], input_df['setting'].unique()[0],\\\n",
    "                                             input_df['B'].unique()[0], input_df['C'].unique()[0]))\n",
    "    plt.legend(loc='upper right')\n",
    "    plt.show()"
   ]
  },
  {
   "cell_type": "code",
   "execution_count": 104,
   "id": "dca1661c-0ce4-4299-8276-db536a76396d",
   "metadata": {
    "scrolled": true,
    "tags": []
   },
   "outputs": [
    {
     "data": {
      "image/png": "[encoded data removed]",
      "text/plain": [
       "<Figure size 432x288 with 1 Axes>"
      ]
     },
     "metadata": {},
     "output_type": "display_data"
    },
    {
     "data": {
      "image/png": "[encoded data removed]",
      "text/plain": [
       "<Figure size 432x288 with 1 Axes>"
      ]
     },
     "metadata": {},
     "output_type": "display_data"
    },
    {
     "data": {
      "image/png": "[encoded data removed]",
      "text/plain": [
       "<Figure size 432x288 with 1 Axes>"
      ]
     },
     "metadata": {},
     "output_type": "display_data"
    },
    {
     "data": {
      "image/png": "[encoded data removed]",
      "text/plain": [
       "<Figure size 432x288 with 1 Axes>"
      ]
     },
     "metadata": {},
     "output_type": "display_data"
    }
   ],
   "source": [
    "# Plot all accuracy and losses\n",
    "MODELS = [\"CNN\", \"2NN\"]\n",
    "SETTINGS = [\"IID\", \"NONIID\"]\n",
    "BATCHES = [600, 10]\n",
    "C_FRACTIONS = [0.0, 0.1, 1.0]\n",
    "\n",
    "for model in MODELS:\n",
    "    for setting in SETTINGS:\n",
    "        for b in BATCHES:\n",
    "            for c in C_FRACTIONS:\n",
    "                sample_df = df_metrics[(df_metrics['B']==b) & (df_metrics['C']==c)\\\n",
    "                                       & (df_metrics['setting']==setting) & (df_metrics['model']==model)]\\\n",
    "                                        .reset_index(drop=True)\n",
    "                if len(sample_df) == 0:\n",
    "                    continue\n",
    "                plot_monotonic_acc(sample_df, ['train', 'test'])\n",
    "                plot_monotonic_loss(sample_df, ['train', 'test'])"
   ]
  }
 ],
 "metadata": {
  "kernelspec": {
   "display_name": "tensorflow",
   "language": "python",
   "name": "tensorflow"
  },
  "language_info": {
   "codemirror_mode": {
    "name": "ipython",
    "version": 3
   },
   "file_extension": ".py",
   "mimetype": "text/x-python",
   "name": "python",
   "nbconvert_exporter": "python",
   "pygments_lexer": "ipython3",
   "version": "3.8.10"
  }
 },
 "nbformat": 4,
 "nbformat_minor": 5
}

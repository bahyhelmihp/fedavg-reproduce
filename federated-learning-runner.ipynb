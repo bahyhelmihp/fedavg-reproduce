{
 "cells": [
  {
   "cell_type": "code",
   "execution_count": 27,
   "metadata": {
    "tags": []
   },
   "outputs": [],
   "source": [
    "import json\n",
    "import os\n",
    "import logging\n",
    "os.environ['TF_ENABLE_ONEDNN_OPTS'] = \"1\"\n",
    "os.environ['TF_CPP_MIN_LOG_LEVEL'] = \"3\"  # FATAL\n",
    "logging.getLogger('tensorflow').setLevel(logging.FATAL)\n",
    "\n",
    "import tensorflow as tf\n",
    "import matplotlib.pyplot as plt\n",
    "import numpy as np\n",
    "import pandas as pd\n",
    "\n",
    "from sklearn import utils\n",
    "from sklearn.metrics import accuracy_score\n",
    "from sklearn.model_selection import train_test_split\n",
    "from tensorflow.keras import Sequential\n",
    "from tensorflow.keras.layers import Dense, Flatten, Conv2D, MaxPooling2D\n",
    "from time import time\n",
    "from tqdm import tqdm"
   ]
  },
  {
   "cell_type": "code",
   "execution_count": 28,
   "metadata": {
    "tags": []
   },
   "outputs": [],
   "source": [
    "# Model: CNN\n",
    "class CNN:\n",
    "    def initiate(self, n_classes):\n",
    "        model = Sequential([\n",
    "              ## Convolutional Layers\n",
    "              Conv2D(filters=32, kernel_size=(5,5), padding='same', input_shape=(28,28,1)),\n",
    "              MaxPooling2D(pool_size=(2,2)),\n",
    "              Conv2D(filters=64, kernel_size=(5,5), padding='same'), \n",
    "              MaxPooling2D(pool_size=(2,2)),\n",
    "\n",
    "              ## Fully Connected Layer\n",
    "              Flatten(),\n",
    "              Dense(512, activation='relu'), \n",
    "              Dense(n_classes, activation='softmax')\n",
    "            ])\n",
    "\n",
    "        return model\n",
    "    \n",
    "# Model: 2NN\n",
    "class NN2Layers:\n",
    "    def initiate(self, n_classes):\n",
    "        model = Sequential([\n",
    "                            Flatten(input_shape=(28,28)), \n",
    "                            Dense(200, activation='relu'), \n",
    "                            Dense(200, activation='relu'), \n",
    "                            Dense(n_classes, activation='softmax')\n",
    "        ])\n",
    "\n",
    "        return model"
   ]
  },
  {
   "cell_type": "code",
   "execution_count": 29,
   "metadata": {
    "tags": []
   },
   "outputs": [],
   "source": [
    "# Generate data based on chosen setting\n",
    "def generate_data(data, use_val, setting, n_clients):\n",
    "     \n",
    "    # Scale image to [0,1]\n",
    "    def scale_image(input_array):\n",
    "        input_array = input_array / 255.0\n",
    "        \n",
    "        return input_array\n",
    "    \n",
    "    # Load data from Tensorflow Library\n",
    "    if data == \"MNIST\":\n",
    "        (x_train, y_train), (x_test, y_test) = tf.keras.datasets.mnist.load_data()\n",
    "    \n",
    "    # Scale data\n",
    "    x_train, x_test = scale_image(x_train), scale_image(x_test)\n",
    "\n",
    "    # Expand dims to add batch axis\n",
    "    x_train = np.expand_dims(x_train, axis=-1)\n",
    "    x_test = np.expand_dims(x_test, axis=-1)\n",
    "    \n",
    "    # Divide train into val\n",
    "    if use_val == True:\n",
    "        x_train, x_val, y_train, y_val = train_test_split(x_train, y_train, test_size=len(x_test), random_state=42)\n",
    "    else:\n",
    "        x_val, y_val = None, None\n",
    "    \n",
    "    # Distribute data based on setting\n",
    "    if setting == \"IID\":\n",
    "        # Shuffle train data\n",
    "        x_train_shuffled, y_train_shuffled = utils.shuffle(x_train, y_train, random_state=21)\n",
    "        \n",
    "        # Partitioned proxy data to clients, each receiving 600 examples\n",
    "        clients_data, clients_label = {}, {}\n",
    "        list_data = np.array_split(x_train_shuffled, n_clients)\n",
    "        list_label = np.array_split(y_train_shuffled, n_clients)\n",
    "\n",
    "        # Distribute the data to all clients\n",
    "        for i in range(1, len(list_data)+1):\n",
    "            clients_data[\"client_%s\" % i] = list_data[i-1]\n",
    "            clients_label[\"client_%s\" % i] = list_label[i-1]\n",
    "            \n",
    "    elif setting == \"NONIID\":\n",
    "        # Sort the train data based on digits label\n",
    "        sorted_index = np.argsort(y_train)\n",
    "        y_train = y_train[sorted_index]\n",
    "        x_train = x_train[sorted_index]\n",
    "        \n",
    "        # Split training data into to distribute to 100 clients\n",
    "        data_shards = np.array_split(x_train, 100)\n",
    "        label_shards = np.array_split(y_train, 100)\n",
    "        \n",
    "        # Distribute shards to all clients\n",
    "        N_CLIENTS = 100\n",
    "        clients_data = {}\n",
    "        clients_label = {}\n",
    "        for i in range(1, N_CLIENTS+1):\n",
    "            clients_data[\"client_%s\" % i] = data_shards[i-1]\n",
    "            clients_label[\"client_%s\" % i] = label_shards[i-1]\n",
    "            \n",
    "    return clients_data, clients_label, x_train, y_train, x_val, y_val, x_test, y_test\n",
    "\n",
    "# Initiate global model\n",
    "def initiate_model(model_fam, num_class):\n",
    "    if model_fam == \"2NN\":\n",
    "        nn = NN2Layers()\n",
    "        active_nn = nn.initiate(num_class)\n",
    "    elif model_fam == \"CNN\":\n",
    "        nn = CNN()\n",
    "        active_nn = nn.initiate(num_class)\n",
    "        \n",
    "    return active_nn\n",
    "\n",
    "# Scaling weights to the dataset proportion\n",
    "def scale_weights(num_local_samples, weights, chosen_clients):\n",
    "    num_total_samples = len(chosen_clients) * num_local_samples\n",
    "    scaling_factor = num_local_samples / num_total_samples\n",
    "\n",
    "    # Loop through each layer weight & biases\n",
    "    scaled_weights = []\n",
    "    for component in weights:\n",
    "        scaled_weights.append(scaling_factor * component)\n",
    "\n",
    "    return scaled_weights\n",
    "\n",
    "# Sum all the scaled weights from all clients\n",
    "def sum_scaled_weights(scaled_weights):\n",
    "    final_weights = []\n",
    "    for component in zip(*scaled_weights):\n",
    "        final_weights.append(tf.math.reduce_sum(component, axis=0))\n",
    "  \n",
    "    return final_weights\n",
    "\n",
    "# Custom global model evaluation\n",
    "def evaluate_model(model, test_data, test_label):\n",
    "        \n",
    "    # Predict label\n",
    "    y_pred = model.predict(test_data)\n",
    "    y_true = test_label\n",
    "\n",
    "    # Calculate loss with SCCE\n",
    "    scce = tf.keras.losses.SparseCategoricalCrossentropy()\n",
    "    loss = scce(y_true, y_pred).numpy()\n",
    "\n",
    "    # Calculate accuracy\n",
    "    accuracy = accuracy_score(y_true, np.argmax(y_pred, axis=1))\n",
    "\n",
    "    return round(loss, 4), round(accuracy, 4)"
   ]
  },
  {
   "cell_type": "code",
   "execution_count": 30,
   "metadata": {
    "tags": []
   },
   "outputs": [],
   "source": [
    "def run_experiment(data=\"MNIST\", use_val=False, model_family=\"2NN\", setting=\"IID\", b_size=600, epoch=1,\\\n",
    "                   est_comm_round=1000, c_fraction=0.1, desired_acc=False,\\\n",
    "                   model_checkpoint=False, n_clients=100, n_classes=10,\\\n",
    "                   learning_rate=0.01, output_path='./logs/'):\n",
    "    \n",
    "    # Training setting\n",
    "    EXP_NAME = \"%s-B%s-E%s-C%s-MNIST-%s-LR%s\" % (setting, b_size, epoch, c_fraction,\\\n",
    "                                                 model_family, learning_rate)\n",
    "    start_time = time()\n",
    "    history = []\n",
    "    comm_round = 1\n",
    "    \n",
    "    # Generate data\n",
    "    clients_data, clients_label, x_train, y_train, x_val, y_val, x_test, y_test = generate_data(data, use_val, setting,\\\n",
    "                                                                                  n_clients)\n",
    "    \n",
    "    # Initiate new global model\n",
    "    if model_checkpoint == False: \n",
    "        global_nn = initiate_model(model_family, n_classes)\n",
    "        \n",
    "    # Continue training from existing checkpoint\n",
    "    else:\n",
    "        global_nn = tf.keras.models.load_model(model_checkpoint)\n",
    "        \n",
    "    # Training setting\n",
    "    comm_round = 1\n",
    "    start_time = time()\n",
    "    \n",
    "    # Loop until estimated communication round reached\n",
    "    for i in tqdm(range(est_comm_round)):\n",
    "\n",
    "        # Save the global weight\n",
    "        global_weights = global_nn.get_weights()\n",
    "\n",
    "        # Client set\n",
    "        if c_fraction == 0.0: # Exactly one client\n",
    "            chosen_clients = np.random.choice(list(clients_data.keys()), 1)\n",
    "        elif c_fraction == 1.0: # All clients\n",
    "            chosen_clients = clients_data.keys()\n",
    "        else: # Percentage subset\n",
    "            chosen_clients = np.random.choice(list(clients_data.keys()), \\\n",
    "                                          int(c_fraction*len(clients_data)))\n",
    "\n",
    "        clients_weight = [] \n",
    "        for client in chosen_clients:\n",
    "            # Iniatiate local model\n",
    "            local_nn = initiate_model(model_family, n_classes)\n",
    "            optimizer = tf.keras.optimizers.SGD(\n",
    "                learning_rate=learning_rate)\n",
    "            local_nn.compile(\n",
    "                optimizer=optimizer,\n",
    "                loss='sparse_categorical_crossentropy',\n",
    "                metrics=['accuracy']\n",
    "                )\n",
    "\n",
    "            # Set global weight to the local model\n",
    "            local_nn.set_weights(global_weights)\n",
    "\n",
    "            # Do training on local\n",
    "            local_nn.fit(clients_data[client], clients_label[client], batch_size=b_size,\\\n",
    "                         epochs=epoch, verbose=0)\n",
    "\n",
    "            # Save weight\n",
    "            scaled_weights = scale_weights(len(clients_data[client]), local_nn.get_weights(),\\\n",
    "                                           chosen_clients)\n",
    "            clients_weight.append(scaled_weights)\n",
    "\n",
    "        # Sum all scaled weights & update the global model\n",
    "        global_nn.set_weights(sum_scaled_weights(clients_weight))\n",
    "\n",
    "        # Evaluate the loss & accuracy\n",
    "        train_loss, train_accuracy = evaluate_model(global_nn, x_train, y_train)\n",
    "        test_loss, test_accuracy = evaluate_model(global_nn, x_test, y_test)\n",
    "\n",
    "        # Save metrics for current round\n",
    "        data = {\"C\": c_fraction, \"B\": b_size, \"learning_rate\": learning_rate, \n",
    "                \"comm_round\": comm_round, \"train_acc\": train_accuracy, \n",
    "                \"test_acc\": test_accuracy, \"train_loss\": train_loss, \"test_loss\": test_loss}\n",
    "        \n",
    "        # If validation set exists\n",
    "        if x_val is not None:\n",
    "            val_loss, val_accuracy = evaluate_model(global_nn, x_val, y_val)\n",
    "            data['val_acc'] = val_accuracy\n",
    "            data['val_loss'] = val_loss\n",
    "        \n",
    "        # Save model state and history\n",
    "        history.append(data)\n",
    "        global_nn.save(output_path + EXP_NAME)\n",
    "        file = open(output_path + EXP_NAME + \".txt\", 'a')\n",
    "        file.write(json.dumps(str(data)) + \"\\n\")\n",
    "        file.close()\n",
    "        print(data)\n",
    "\n",
    "        # Stop when the desired test-accuracy reached, comm_round ignored\n",
    "        if desired_acc != False and test_accuracy >= desired_acc:\n",
    "            break\n",
    "\n",
    "        # Update variables\n",
    "        comm_round += 1\n",
    "    end_time = time()\n",
    "    print(\"Took %.2f seconds.\" % (end_time - start_time))\n",
    "    return history"
   ]
  },
  {
   "cell_type": "code",
   "execution_count": 33,
   "metadata": {
    "scrolled": true,
    "tags": []
   },
   "outputs": [
    {
     "name": "stderr",
     "output_type": "stream",
     "text": [
      "  0%|          | 1/500 [00:23<3:15:50, 23.55s/it]"
     ]
    },
    {
     "name": "stdout",
     "output_type": "stream",
     "text": [
      "{'C': 0.0, 'B': 10, 'learning_rate': 0.01, 'comm_round': 1, 'train_acc': 0.971, 'test_acc': 0.969, 'train_loss': 0.0894, 'test_loss': 0.105}\n"
     ]
    },
    {
     "name": "stderr",
     "output_type": "stream",
     "text": [
      "  0%|          | 2/500 [00:43<2:58:00, 21.45s/it]"
     ]
    },
    {
     "name": "stdout",
     "output_type": "stream",
     "text": [
      "{'C': 0.0, 'B': 10, 'learning_rate': 0.01, 'comm_round': 2, 'train_acc': 0.9689, 'test_acc': 0.9665, 'train_loss': 0.0972, 'test_loss': 0.113}\n"
     ]
    },
    {
     "name": "stderr",
     "output_type": "stream",
     "text": [
      "  1%|          | 3/500 [01:04<2:57:31, 21.43s/it]"
     ]
    },
    {
     "name": "stdout",
     "output_type": "stream",
     "text": [
      "{'C': 0.0, 'B': 10, 'learning_rate': 0.01, 'comm_round': 3, 'train_acc': 0.9682, 'test_acc': 0.9661, 'train_loss': 0.0995, 'test_loss': 0.1151}\n"
     ]
    },
    {
     "name": "stderr",
     "output_type": "stream",
     "text": [
      "  1%|          | 4/500 [01:28<3:04:01, 22.26s/it]"
     ]
    },
    {
     "name": "stdout",
     "output_type": "stream",
     "text": [
      "{'C': 0.0, 'B': 10, 'learning_rate': 0.01, 'comm_round': 4, 'train_acc': 0.9764, 'test_acc': 0.9724, 'train_loss': 0.0733, 'test_loss': 0.0926}\n"
     ]
    },
    {
     "name": "stderr",
     "output_type": "stream",
     "text": [
      "  1%|          | 5/500 [02:08<3:57:07, 28.74s/it]"
     ]
    },
    {
     "name": "stdout",
     "output_type": "stream",
     "text": [
      "{'C': 0.0, 'B': 10, 'learning_rate': 0.01, 'comm_round': 5, 'train_acc': 0.9764, 'test_acc': 0.9723, 'train_loss': 0.0734, 'test_loss': 0.0929}\n"
     ]
    },
    {
     "name": "stderr",
     "output_type": "stream",
     "text": [
      "  1%|          | 6/500 [02:29<3:34:06, 26.01s/it]"
     ]
    },
    {
     "name": "stdout",
     "output_type": "stream",
     "text": [
      "{'C': 0.0, 'B': 10, 'learning_rate': 0.01, 'comm_round': 6, 'train_acc': 0.974, 'test_acc': 0.968, 'train_loss': 0.0768, 'test_loss': 0.0951}\n"
     ]
    },
    {
     "name": "stderr",
     "output_type": "stream",
     "text": [
      "  1%|▏         | 7/500 [02:53<3:27:31, 25.26s/it]"
     ]
    },
    {
     "name": "stdout",
     "output_type": "stream",
     "text": [
      "{'C': 0.0, 'B': 10, 'learning_rate': 0.01, 'comm_round': 7, 'train_acc': 0.9832, 'test_acc': 0.9791, 'train_loss': 0.0477, 'test_loss': 0.067}\n"
     ]
    },
    {
     "name": "stderr",
     "output_type": "stream",
     "text": [
      "  2%|▏         | 8/500 [03:13<3:14:15, 23.69s/it]"
     ]
    },
    {
     "name": "stdout",
     "output_type": "stream",
     "text": [
      "{'C': 0.0, 'B': 10, 'learning_rate': 0.01, 'comm_round': 8, 'train_acc': 0.9746, 'test_acc': 0.9693, 'train_loss': 0.0734, 'test_loss': 0.0928}\n"
     ]
    },
    {
     "name": "stderr",
     "output_type": "stream",
     "text": [
      "  2%|▏         | 9/500 [03:34<3:06:49, 22.83s/it]"
     ]
    },
    {
     "name": "stdout",
     "output_type": "stream",
     "text": [
      "{'C': 0.0, 'B': 10, 'learning_rate': 0.01, 'comm_round': 9, 'train_acc': 0.9814, 'test_acc': 0.9767, 'train_loss': 0.0547, 'test_loss': 0.0732}\n"
     ]
    },
    {
     "name": "stderr",
     "output_type": "stream",
     "text": [
      "  2%|▏         | 10/500 [04:02<3:18:54, 24.36s/it]"
     ]
    },
    {
     "name": "stdout",
     "output_type": "stream",
     "text": [
      "{'C': 0.0, 'B': 10, 'learning_rate': 0.01, 'comm_round': 10, 'train_acc': 0.9846, 'test_acc': 0.9807, 'train_loss': 0.0458, 'test_loss': 0.0665}\n"
     ]
    },
    {
     "name": "stderr",
     "output_type": "stream",
     "text": [
      "  2%|▏         | 11/500 [04:22<3:08:42, 23.15s/it]"
     ]
    },
    {
     "name": "stdout",
     "output_type": "stream",
     "text": [
      "{'C': 0.0, 'B': 10, 'learning_rate': 0.01, 'comm_round': 11, 'train_acc': 0.983, 'test_acc': 0.9783, 'train_loss': 0.0524, 'test_loss': 0.0726}\n"
     ]
    },
    {
     "name": "stderr",
     "output_type": "stream",
     "text": [
      "  2%|▏         | 12/500 [04:44<3:04:33, 22.69s/it]"
     ]
    },
    {
     "name": "stdout",
     "output_type": "stream",
     "text": [
      "{'C': 0.0, 'B': 10, 'learning_rate': 0.01, 'comm_round': 12, 'train_acc': 0.9782, 'test_acc': 0.9744, 'train_loss': 0.0679, 'test_loss': 0.0875}\n"
     ]
    },
    {
     "name": "stderr",
     "output_type": "stream",
     "text": [
      "  3%|▎         | 13/500 [05:05<2:59:57, 22.17s/it]"
     ]
    },
    {
     "name": "stdout",
     "output_type": "stream",
     "text": [
      "{'C': 0.0, 'B': 10, 'learning_rate': 0.01, 'comm_round': 13, 'train_acc': 0.9764, 'test_acc': 0.9702, 'train_loss': 0.0709, 'test_loss': 0.0976}\n"
     ]
    },
    {
     "name": "stderr",
     "output_type": "stream",
     "text": [
      "  3%|▎         | 14/500 [05:25<2:54:33, 21.55s/it]"
     ]
    },
    {
     "name": "stdout",
     "output_type": "stream",
     "text": [
      "{'C': 0.0, 'B': 10, 'learning_rate': 0.01, 'comm_round': 14, 'train_acc': 0.9808, 'test_acc': 0.976, 'train_loss': 0.0572, 'test_loss': 0.0816}\n"
     ]
    },
    {
     "name": "stderr",
     "output_type": "stream",
     "text": [
      "  3%|▎         | 15/500 [05:46<2:53:31, 21.47s/it]"
     ]
    },
    {
     "name": "stdout",
     "output_type": "stream",
     "text": [
      "{'C': 0.0, 'B': 10, 'learning_rate': 0.01, 'comm_round': 15, 'train_acc': 0.9699, 'test_acc': 0.9623, 'train_loss': 0.0864, 'test_loss': 0.1122}\n"
     ]
    },
    {
     "name": "stderr",
     "output_type": "stream",
     "text": [
      "  3%|▎         | 16/500 [06:10<2:59:13, 22.22s/it]"
     ]
    },
    {
     "name": "stdout",
     "output_type": "stream",
     "text": [
      "{'C': 0.0, 'B': 10, 'learning_rate': 0.01, 'comm_round': 16, 'train_acc': 0.9741, 'test_acc': 0.9687, 'train_loss': 0.0735, 'test_loss': 0.0984}\n"
     ]
    },
    {
     "name": "stderr",
     "output_type": "stream",
     "text": [
      "  3%|▎         | 17/500 [06:33<2:59:55, 22.35s/it]"
     ]
    },
    {
     "name": "stdout",
     "output_type": "stream",
     "text": [
      "{'C': 0.0, 'B': 10, 'learning_rate': 0.01, 'comm_round': 17, 'train_acc': 0.9626, 'test_acc': 0.9547, 'train_loss': 0.1074, 'test_loss': 0.1471}\n"
     ]
    },
    {
     "name": "stderr",
     "output_type": "stream",
     "text": [
      "  4%|▎         | 18/500 [06:53<2:54:41, 21.75s/it]"
     ]
    },
    {
     "name": "stdout",
     "output_type": "stream",
     "text": [
      "{'C': 0.0, 'B': 10, 'learning_rate': 0.01, 'comm_round': 18, 'train_acc': 0.9709, 'test_acc': 0.9633, 'train_loss': 0.0819, 'test_loss': 0.1187}\n"
     ]
    },
    {
     "name": "stderr",
     "output_type": "stream",
     "text": [
      "  4%|▍         | 19/500 [07:19<3:03:43, 22.92s/it]"
     ]
    },
    {
     "name": "stdout",
     "output_type": "stream",
     "text": [
      "{'C': 0.0, 'B': 10, 'learning_rate': 0.01, 'comm_round': 19, 'train_acc': 0.9752, 'test_acc': 0.9678, 'train_loss': 0.0698, 'test_loss': 0.1049}\n"
     ]
    },
    {
     "name": "stderr",
     "output_type": "stream",
     "text": [
      "  4%|▍         | 20/500 [07:41<3:01:12, 22.65s/it]"
     ]
    },
    {
     "name": "stdout",
     "output_type": "stream",
     "text": [
      "{'C': 0.0, 'B': 10, 'learning_rate': 0.01, 'comm_round': 20, 'train_acc': 0.9872, 'test_acc': 0.9785, 'train_loss': 0.0375, 'test_loss': 0.0722}\n"
     ]
    },
    {
     "name": "stderr",
     "output_type": "stream",
     "text": [
      "  4%|▍         | 21/500 [08:04<3:03:22, 22.97s/it]"
     ]
    },
    {
     "name": "stdout",
     "output_type": "stream",
     "text": [
      "{'C': 0.0, 'B': 10, 'learning_rate': 0.01, 'comm_round': 21, 'train_acc': 0.9875, 'test_acc': 0.9791, 'train_loss': 0.0357, 'test_loss': 0.0708}\n"
     ]
    },
    {
     "name": "stderr",
     "output_type": "stream",
     "text": [
      "  4%|▍         | 22/500 [08:26<2:58:31, 22.41s/it]"
     ]
    },
    {
     "name": "stdout",
     "output_type": "stream",
     "text": [
      "{'C': 0.0, 'B': 10, 'learning_rate': 0.01, 'comm_round': 22, 'train_acc': 0.9826, 'test_acc': 0.9767, 'train_loss': 0.052, 'test_loss': 0.0847}\n"
     ]
    },
    {
     "name": "stderr",
     "output_type": "stream",
     "text": [
      "  5%|▍         | 23/500 [08:46<2:52:26, 21.69s/it]"
     ]
    },
    {
     "name": "stdout",
     "output_type": "stream",
     "text": [
      "{'C': 0.0, 'B': 10, 'learning_rate': 0.01, 'comm_round': 23, 'train_acc': 0.9818, 'test_acc': 0.9757, 'train_loss': 0.0542, 'test_loss': 0.0876}\n"
     ]
    },
    {
     "name": "stderr",
     "output_type": "stream",
     "text": [
      "  5%|▍         | 24/500 [09:07<2:50:57, 21.55s/it]"
     ]
    },
    {
     "name": "stdout",
     "output_type": "stream",
     "text": [
      "{'C': 0.0, 'B': 10, 'learning_rate': 0.01, 'comm_round': 24, 'train_acc': 0.98, 'test_acc': 0.974, 'train_loss': 0.0595, 'test_loss': 0.0926}\n"
     ]
    },
    {
     "name": "stderr",
     "output_type": "stream",
     "text": [
      "  5%|▌         | 25/500 [09:29<2:51:21, 21.65s/it]"
     ]
    },
    {
     "name": "stdout",
     "output_type": "stream",
     "text": [
      "{'C': 0.0, 'B': 10, 'learning_rate': 0.01, 'comm_round': 25, 'train_acc': 0.9819, 'test_acc': 0.9749, 'train_loss': 0.054, 'test_loss': 0.0862}\n"
     ]
    },
    {
     "name": "stderr",
     "output_type": "stream",
     "text": [
      "  5%|▌         | 26/500 [09:50<2:51:19, 21.69s/it]"
     ]
    },
    {
     "name": "stdout",
     "output_type": "stream",
     "text": [
      "{'C': 0.0, 'B': 10, 'learning_rate': 0.01, 'comm_round': 26, 'train_acc': 0.9864, 'test_acc': 0.9804, 'train_loss': 0.0405, 'test_loss': 0.0696}\n"
     ]
    },
    {
     "name": "stderr",
     "output_type": "stream",
     "text": [
      "  5%|▌         | 27/500 [10:11<2:48:11, 21.34s/it]"
     ]
    },
    {
     "name": "stdout",
     "output_type": "stream",
     "text": [
      "{'C': 0.0, 'B': 10, 'learning_rate': 0.01, 'comm_round': 27, 'train_acc': 0.9858, 'test_acc': 0.9799, 'train_loss': 0.0433, 'test_loss': 0.0703}\n"
     ]
    },
    {
     "name": "stderr",
     "output_type": "stream",
     "text": [
      "  6%|▌         | 28/500 [10:34<2:51:33, 21.81s/it]"
     ]
    },
    {
     "name": "stdout",
     "output_type": "stream",
     "text": [
      "{'C': 0.0, 'B': 10, 'learning_rate': 0.01, 'comm_round': 28, 'train_acc': 0.983, 'test_acc': 0.9764, 'train_loss': 0.0532, 'test_loss': 0.0807}\n"
     ]
    },
    {
     "name": "stderr",
     "output_type": "stream",
     "text": [
      "  6%|▌         | 29/500 [10:54<2:47:21, 21.32s/it]"
     ]
    },
    {
     "name": "stdout",
     "output_type": "stream",
     "text": [
      "{'C': 0.0, 'B': 10, 'learning_rate': 0.01, 'comm_round': 29, 'train_acc': 0.9803, 'test_acc': 0.9729, 'train_loss': 0.0558, 'test_loss': 0.0887}\n"
     ]
    },
    {
     "name": "stderr",
     "output_type": "stream",
     "text": [
      "  6%|▌         | 30/500 [11:14<2:43:51, 20.92s/it]"
     ]
    },
    {
     "name": "stdout",
     "output_type": "stream",
     "text": [
      "{'C': 0.0, 'B': 10, 'learning_rate': 0.01, 'comm_round': 30, 'train_acc': 0.9808, 'test_acc': 0.9732, 'train_loss': 0.0556, 'test_loss': 0.0883}\n"
     ]
    },
    {
     "name": "stderr",
     "output_type": "stream",
     "text": [
      "  6%|▌         | 31/500 [11:34<2:40:23, 20.52s/it]"
     ]
    },
    {
     "name": "stdout",
     "output_type": "stream",
     "text": [
      "{'C': 0.0, 'B': 10, 'learning_rate': 0.01, 'comm_round': 31, 'train_acc': 0.9862, 'test_acc': 0.9779, 'train_loss': 0.0415, 'test_loss': 0.073}\n"
     ]
    },
    {
     "name": "stderr",
     "output_type": "stream",
     "text": [
      "  6%|▋         | 32/500 [11:53<2:36:59, 20.13s/it]"
     ]
    },
    {
     "name": "stdout",
     "output_type": "stream",
     "text": [
      "{'C': 0.0, 'B': 10, 'learning_rate': 0.01, 'comm_round': 32, 'train_acc': 0.9861, 'test_acc': 0.9782, 'train_loss': 0.0414, 'test_loss': 0.0758}\n"
     ]
    },
    {
     "name": "stderr",
     "output_type": "stream",
     "text": [
      "  7%|▋         | 33/500 [12:13<2:36:45, 20.14s/it]"
     ]
    },
    {
     "name": "stdout",
     "output_type": "stream",
     "text": [
      "{'C': 0.0, 'B': 10, 'learning_rate': 0.01, 'comm_round': 33, 'train_acc': 0.9852, 'test_acc': 0.9785, 'train_loss': 0.0445, 'test_loss': 0.0715}\n"
     ]
    },
    {
     "name": "stderr",
     "output_type": "stream",
     "text": [
      "  7%|▋         | 34/500 [12:33<2:35:28, 20.02s/it]"
     ]
    },
    {
     "name": "stdout",
     "output_type": "stream",
     "text": [
      "{'C': 0.0, 'B': 10, 'learning_rate': 0.01, 'comm_round': 34, 'train_acc': 0.9854, 'test_acc': 0.9809, 'train_loss': 0.0445, 'test_loss': 0.0669}\n"
     ]
    },
    {
     "name": "stderr",
     "output_type": "stream",
     "text": [
      "  7%|▋         | 35/500 [12:52<2:34:15, 19.91s/it]"
     ]
    },
    {
     "name": "stdout",
     "output_type": "stream",
     "text": [
      "{'C': 0.0, 'B': 10, 'learning_rate': 0.01, 'comm_round': 35, 'train_acc': 0.9854, 'test_acc': 0.9803, 'train_loss': 0.0464, 'test_loss': 0.0682}\n"
     ]
    },
    {
     "name": "stderr",
     "output_type": "stream",
     "text": [
      "  7%|▋         | 36/500 [13:12<2:34:02, 19.92s/it]"
     ]
    },
    {
     "name": "stdout",
     "output_type": "stream",
     "text": [
      "{'C': 0.0, 'B': 10, 'learning_rate': 0.01, 'comm_round': 36, 'train_acc': 0.9732, 'test_acc': 0.9687, 'train_loss': 0.0883, 'test_loss': 0.1132}\n"
     ]
    },
    {
     "name": "stderr",
     "output_type": "stream",
     "text": [
      "  7%|▋         | 37/500 [13:32<2:32:07, 19.71s/it]"
     ]
    },
    {
     "name": "stdout",
     "output_type": "stream",
     "text": [
      "{'C': 0.0, 'B': 10, 'learning_rate': 0.01, 'comm_round': 37, 'train_acc': 0.982, 'test_acc': 0.978, 'train_loss': 0.0559, 'test_loss': 0.0796}\n"
     ]
    },
    {
     "name": "stderr",
     "output_type": "stream",
     "text": [
      "  8%|▊         | 38/500 [13:51<2:31:44, 19.71s/it]"
     ]
    },
    {
     "name": "stdout",
     "output_type": "stream",
     "text": [
      "{'C': 0.0, 'B': 10, 'learning_rate': 0.01, 'comm_round': 38, 'train_acc': 0.9896, 'test_acc': 0.9847, 'train_loss': 0.0298, 'test_loss': 0.0533}\n"
     ]
    },
    {
     "name": "stderr",
     "output_type": "stream",
     "text": [
      "  8%|▊         | 39/500 [14:11<2:30:29, 19.59s/it]"
     ]
    },
    {
     "name": "stdout",
     "output_type": "stream",
     "text": [
      "{'C': 0.0, 'B': 10, 'learning_rate': 0.01, 'comm_round': 39, 'train_acc': 0.9908, 'test_acc': 0.9853, 'train_loss': 0.0265, 'test_loss': 0.0524}\n"
     ]
    },
    {
     "name": "stderr",
     "output_type": "stream",
     "text": [
      "  8%|▊         | 40/500 [14:30<2:30:01, 19.57s/it]"
     ]
    },
    {
     "name": "stdout",
     "output_type": "stream",
     "text": [
      "{'C': 0.0, 'B': 10, 'learning_rate': 0.01, 'comm_round': 40, 'train_acc': 0.9908, 'test_acc': 0.9858, 'train_loss': 0.0264, 'test_loss': 0.0529}\n"
     ]
    },
    {
     "name": "stderr",
     "output_type": "stream",
     "text": [
      "  8%|▊         | 41/500 [14:49<2:28:59, 19.48s/it]"
     ]
    },
    {
     "name": "stdout",
     "output_type": "stream",
     "text": [
      "{'C': 0.0, 'B': 10, 'learning_rate': 0.01, 'comm_round': 41, 'train_acc': 0.9908, 'test_acc': 0.9857, 'train_loss': 0.0266, 'test_loss': 0.0533}\n"
     ]
    },
    {
     "name": "stderr",
     "output_type": "stream",
     "text": [
      "  8%|▊         | 42/500 [15:09<2:30:14, 19.68s/it]"
     ]
    },
    {
     "name": "stdout",
     "output_type": "stream",
     "text": [
      "{'C': 0.0, 'B': 10, 'learning_rate': 0.01, 'comm_round': 42, 'train_acc': 0.9892, 'test_acc': 0.9849, 'train_loss': 0.0312, 'test_loss': 0.0578}\n"
     ]
    },
    {
     "name": "stderr",
     "output_type": "stream",
     "text": [
      "  9%|▊         | 43/500 [15:29<2:29:38, 19.65s/it]"
     ]
    },
    {
     "name": "stdout",
     "output_type": "stream",
     "text": [
      "{'C': 0.0, 'B': 10, 'learning_rate': 0.01, 'comm_round': 43, 'train_acc': 0.9848, 'test_acc': 0.9775, 'train_loss': 0.0469, 'test_loss': 0.0832}\n"
     ]
    },
    {
     "name": "stderr",
     "output_type": "stream",
     "text": [
      "  9%|▉         | 44/500 [15:48<2:27:27, 19.40s/it]"
     ]
    },
    {
     "name": "stdout",
     "output_type": "stream",
     "text": [
      "{'C': 0.0, 'B': 10, 'learning_rate': 0.01, 'comm_round': 44, 'train_acc': 0.9842, 'test_acc': 0.9769, 'train_loss': 0.0494, 'test_loss': 0.0829}\n"
     ]
    },
    {
     "name": "stderr",
     "output_type": "stream",
     "text": [
      "  9%|▉         | 45/500 [16:08<2:28:05, 19.53s/it]"
     ]
    },
    {
     "name": "stdout",
     "output_type": "stream",
     "text": [
      "{'C': 0.0, 'B': 10, 'learning_rate': 0.01, 'comm_round': 45, 'train_acc': 0.9846, 'test_acc': 0.9769, 'train_loss': 0.0477, 'test_loss': 0.0817}\n"
     ]
    },
    {
     "name": "stderr",
     "output_type": "stream",
     "text": [
      "  9%|▉         | 46/500 [16:28<2:29:50, 19.80s/it]"
     ]
    },
    {
     "name": "stdout",
     "output_type": "stream",
     "text": [
      "{'C': 0.0, 'B': 10, 'learning_rate': 0.01, 'comm_round': 46, 'train_acc': 0.9836, 'test_acc': 0.9767, 'train_loss': 0.0483, 'test_loss': 0.0791}\n"
     ]
    },
    {
     "name": "stderr",
     "output_type": "stream",
     "text": [
      "  9%|▉         | 47/500 [16:48<2:29:00, 19.74s/it]"
     ]
    },
    {
     "name": "stdout",
     "output_type": "stream",
     "text": [
      "{'C': 0.0, 'B': 10, 'learning_rate': 0.01, 'comm_round': 47, 'train_acc': 0.9823, 'test_acc': 0.9751, 'train_loss': 0.0531, 'test_loss': 0.0835}\n"
     ]
    },
    {
     "name": "stderr",
     "output_type": "stream",
     "text": [
      " 10%|▉         | 48/500 [17:08<2:28:48, 19.75s/it]"
     ]
    },
    {
     "name": "stdout",
     "output_type": "stream",
     "text": [
      "{'C': 0.0, 'B': 10, 'learning_rate': 0.01, 'comm_round': 48, 'train_acc': 0.9848, 'test_acc': 0.9797, 'train_loss': 0.0462, 'test_loss': 0.0725}\n"
     ]
    },
    {
     "name": "stderr",
     "output_type": "stream",
     "text": [
      " 10%|▉         | 49/500 [17:28<2:29:42, 19.92s/it]"
     ]
    },
    {
     "name": "stdout",
     "output_type": "stream",
     "text": [
      "{'C': 0.0, 'B': 10, 'learning_rate': 0.01, 'comm_round': 49, 'train_acc': 0.9822, 'test_acc': 0.9779, 'train_loss': 0.0542, 'test_loss': 0.0794}\n"
     ]
    },
    {
     "name": "stderr",
     "output_type": "stream",
     "text": [
      " 10%|█         | 50/500 [17:47<2:28:11, 19.76s/it]"
     ]
    },
    {
     "name": "stdout",
     "output_type": "stream",
     "text": [
      "{'C': 0.0, 'B': 10, 'learning_rate': 0.01, 'comm_round': 50, 'train_acc': 0.98, 'test_acc': 0.9755, 'train_loss': 0.0609, 'test_loss': 0.0858}\n"
     ]
    },
    {
     "name": "stderr",
     "output_type": "stream",
     "text": [
      " 10%|█         | 51/500 [18:07<2:28:17, 19.82s/it]"
     ]
    },
    {
     "name": "stdout",
     "output_type": "stream",
     "text": [
      "{'C': 0.0, 'B': 10, 'learning_rate': 0.01, 'comm_round': 51, 'train_acc': 0.9844, 'test_acc': 0.9795, 'train_loss': 0.0485, 'test_loss': 0.0737}\n"
     ]
    },
    {
     "name": "stderr",
     "output_type": "stream",
     "text": [
      " 10%|█         | 52/500 [18:27<2:27:38, 19.77s/it]"
     ]
    },
    {
     "name": "stdout",
     "output_type": "stream",
     "text": [
      "{'C': 0.0, 'B': 10, 'learning_rate': 0.01, 'comm_round': 52, 'train_acc': 0.983, 'test_acc': 0.9787, 'train_loss': 0.0523, 'test_loss': 0.0777}\n"
     ]
    },
    {
     "name": "stderr",
     "output_type": "stream",
     "text": [
      " 11%|█         | 53/500 [18:46<2:26:44, 19.70s/it]"
     ]
    },
    {
     "name": "stdout",
     "output_type": "stream",
     "text": [
      "{'C': 0.0, 'B': 10, 'learning_rate': 0.01, 'comm_round': 53, 'train_acc': 0.98, 'test_acc': 0.9734, 'train_loss': 0.0663, 'test_loss': 0.1031}\n"
     ]
    },
    {
     "name": "stderr",
     "output_type": "stream",
     "text": [
      " 11%|█         | 54/500 [19:06<2:25:43, 19.60s/it]"
     ]
    },
    {
     "name": "stdout",
     "output_type": "stream",
     "text": [
      "{'C': 0.0, 'B': 10, 'learning_rate': 0.01, 'comm_round': 54, 'train_acc': 0.9811, 'test_acc': 0.9753, 'train_loss': 0.0634, 'test_loss': 0.0992}\n"
     ]
    },
    {
     "name": "stderr",
     "output_type": "stream",
     "text": [
      " 11%|█         | 55/500 [19:26<2:26:16, 19.72s/it]"
     ]
    },
    {
     "name": "stdout",
     "output_type": "stream",
     "text": [
      "{'C': 0.0, 'B': 10, 'learning_rate': 0.01, 'comm_round': 55, 'train_acc': 0.981, 'test_acc': 0.9751, 'train_loss': 0.0629, 'test_loss': 0.0984}\n"
     ]
    },
    {
     "name": "stderr",
     "output_type": "stream",
     "text": [
      " 11%|█         | 56/500 [19:50<2:35:40, 21.04s/it]"
     ]
    },
    {
     "name": "stdout",
     "output_type": "stream",
     "text": [
      "{'C': 0.0, 'B': 10, 'learning_rate': 0.01, 'comm_round': 56, 'train_acc': 0.9812, 'test_acc': 0.9753, 'train_loss': 0.0617, 'test_loss': 0.0958}\n"
     ]
    },
    {
     "name": "stderr",
     "output_type": "stream",
     "text": [
      " 11%|█▏        | 57/500 [20:10<2:33:34, 20.80s/it]"
     ]
    },
    {
     "name": "stdout",
     "output_type": "stream",
     "text": [
      "{'C': 0.0, 'B': 10, 'learning_rate': 0.01, 'comm_round': 57, 'train_acc': 0.9817, 'test_acc': 0.9764, 'train_loss': 0.0598, 'test_loss': 0.0875}\n"
     ]
    },
    {
     "name": "stderr",
     "output_type": "stream",
     "text": [
      " 12%|█▏        | 58/500 [20:29<2:28:56, 20.22s/it]"
     ]
    },
    {
     "name": "stdout",
     "output_type": "stream",
     "text": [
      "{'C': 0.0, 'B': 10, 'learning_rate': 0.01, 'comm_round': 58, 'train_acc': 0.9828, 'test_acc': 0.9775, 'train_loss': 0.0549, 'test_loss': 0.0826}\n"
     ]
    },
    {
     "name": "stderr",
     "output_type": "stream",
     "text": [
      " 12%|█▏        | 59/500 [20:48<2:26:58, 20.00s/it]"
     ]
    },
    {
     "name": "stdout",
     "output_type": "stream",
     "text": [
      "{'C': 0.0, 'B': 10, 'learning_rate': 0.01, 'comm_round': 59, 'train_acc': 0.981, 'test_acc': 0.9758, 'train_loss': 0.0613, 'test_loss': 0.0878}\n"
     ]
    },
    {
     "name": "stderr",
     "output_type": "stream",
     "text": [
      " 12%|█▏        | 60/500 [21:08<2:25:47, 19.88s/it]"
     ]
    },
    {
     "name": "stdout",
     "output_type": "stream",
     "text": [
      "{'C': 0.0, 'B': 10, 'learning_rate': 0.01, 'comm_round': 60, 'train_acc': 0.9806, 'test_acc': 0.9748, 'train_loss': 0.0622, 'test_loss': 0.0878}\n"
     ]
    },
    {
     "name": "stderr",
     "output_type": "stream",
     "text": [
      " 12%|█▏        | 61/500 [21:27<2:23:32, 19.62s/it]"
     ]
    },
    {
     "name": "stdout",
     "output_type": "stream",
     "text": [
      "{'C': 0.0, 'B': 10, 'learning_rate': 0.01, 'comm_round': 61, 'train_acc': 0.982, 'test_acc': 0.9764, 'train_loss': 0.0566, 'test_loss': 0.0855}\n"
     ]
    },
    {
     "name": "stderr",
     "output_type": "stream",
     "text": [
      " 12%|█▏        | 62/500 [21:46<2:21:47, 19.42s/it]"
     ]
    },
    {
     "name": "stdout",
     "output_type": "stream",
     "text": [
      "{'C': 0.0, 'B': 10, 'learning_rate': 0.01, 'comm_round': 62, 'train_acc': 0.9822, 'test_acc': 0.9764, 'train_loss': 0.0563, 'test_loss': 0.0852}\n"
     ]
    },
    {
     "name": "stderr",
     "output_type": "stream",
     "text": [
      " 13%|█▎        | 63/500 [22:06<2:22:14, 19.53s/it]"
     ]
    },
    {
     "name": "stdout",
     "output_type": "stream",
     "text": [
      "{'C': 0.0, 'B': 10, 'learning_rate': 0.01, 'comm_round': 63, 'train_acc': 0.9734, 'test_acc': 0.9677, 'train_loss': 0.0771, 'test_loss': 0.1062}\n"
     ]
    },
    {
     "name": "stderr",
     "output_type": "stream",
     "text": [
      " 13%|█▎        | 64/500 [22:26<2:22:17, 19.58s/it]"
     ]
    },
    {
     "name": "stdout",
     "output_type": "stream",
     "text": [
      "{'C': 0.0, 'B': 10, 'learning_rate': 0.01, 'comm_round': 64, 'train_acc': 0.9675, 'test_acc': 0.9601, 'train_loss': 0.0985, 'test_loss': 0.1349}\n"
     ]
    },
    {
     "name": "stderr",
     "output_type": "stream",
     "text": [
      " 13%|█▎        | 65/500 [22:45<2:22:14, 19.62s/it]"
     ]
    },
    {
     "name": "stdout",
     "output_type": "stream",
     "text": [
      "{'C': 0.0, 'B': 10, 'learning_rate': 0.01, 'comm_round': 65, 'train_acc': 0.9702, 'test_acc': 0.9628, 'train_loss': 0.0909, 'test_loss': 0.1272}\n"
     ]
    },
    {
     "name": "stderr",
     "output_type": "stream",
     "text": [
      " 13%|█▎        | 66/500 [23:05<2:21:42, 19.59s/it]"
     ]
    },
    {
     "name": "stdout",
     "output_type": "stream",
     "text": [
      "{'C': 0.0, 'B': 10, 'learning_rate': 0.01, 'comm_round': 66, 'train_acc': 0.9718, 'test_acc': 0.9651, 'train_loss': 0.0849, 'test_loss': 0.1204}\n"
     ]
    },
    {
     "name": "stderr",
     "output_type": "stream",
     "text": [
      " 13%|█▎        | 67/500 [23:25<2:23:47, 19.92s/it]"
     ]
    },
    {
     "name": "stdout",
     "output_type": "stream",
     "text": [
      "{'C': 0.0, 'B': 10, 'learning_rate': 0.01, 'comm_round': 67, 'train_acc': 0.975, 'test_acc': 0.9689, 'train_loss': 0.0761, 'test_loss': 0.1099}\n"
     ]
    },
    {
     "name": "stderr",
     "output_type": "stream",
     "text": [
      " 14%|█▎        | 68/500 [23:47<2:26:10, 20.30s/it]"
     ]
    },
    {
     "name": "stdout",
     "output_type": "stream",
     "text": [
      "{'C': 0.0, 'B': 10, 'learning_rate': 0.01, 'comm_round': 68, 'train_acc': 0.9763, 'test_acc': 0.9714, 'train_loss': 0.0707, 'test_loss': 0.1004}\n"
     ]
    },
    {
     "name": "stderr",
     "output_type": "stream",
     "text": [
      " 14%|█▍        | 69/500 [24:07<2:26:52, 20.45s/it]"
     ]
    },
    {
     "name": "stdout",
     "output_type": "stream",
     "text": [
      "{'C': 0.0, 'B': 10, 'learning_rate': 0.01, 'comm_round': 69, 'train_acc': 0.9741, 'test_acc': 0.97, 'train_loss': 0.0796, 'test_loss': 0.1048}\n"
     ]
    },
    {
     "name": "stderr",
     "output_type": "stream",
     "text": [
      " 14%|█▍        | 70/500 [24:27<2:25:30, 20.30s/it]"
     ]
    },
    {
     "name": "stdout",
     "output_type": "stream",
     "text": [
      "{'C': 0.0, 'B': 10, 'learning_rate': 0.01, 'comm_round': 70, 'train_acc': 0.9825, 'test_acc': 0.9783, 'train_loss': 0.0538, 'test_loss': 0.0772}\n"
     ]
    },
    {
     "name": "stderr",
     "output_type": "stream",
     "text": [
      " 14%|█▍        | 71/500 [24:48<2:26:35, 20.50s/it]"
     ]
    },
    {
     "name": "stdout",
     "output_type": "stream",
     "text": [
      "{'C': 0.0, 'B': 10, 'learning_rate': 0.01, 'comm_round': 71, 'train_acc': 0.9875, 'test_acc': 0.9841, 'train_loss': 0.0371, 'test_loss': 0.0579}\n"
     ]
    },
    {
     "name": "stderr",
     "output_type": "stream",
     "text": [
      " 14%|█▍        | 72/500 [25:08<2:24:12, 20.22s/it]"
     ]
    },
    {
     "name": "stdout",
     "output_type": "stream",
     "text": [
      "{'C': 0.0, 'B': 10, 'learning_rate': 0.01, 'comm_round': 72, 'train_acc': 0.9848, 'test_acc': 0.9786, 'train_loss': 0.0452, 'test_loss': 0.0733}\n"
     ]
    },
    {
     "name": "stderr",
     "output_type": "stream",
     "text": [
      " 15%|█▍        | 73/500 [25:27<2:21:54, 19.94s/it]"
     ]
    },
    {
     "name": "stdout",
     "output_type": "stream",
     "text": [
      "{'C': 0.0, 'B': 10, 'learning_rate': 0.01, 'comm_round': 73, 'train_acc': 0.9854, 'test_acc': 0.9801, 'train_loss': 0.0419, 'test_loss': 0.0687}\n"
     ]
    },
    {
     "name": "stderr",
     "output_type": "stream",
     "text": [
      " 15%|█▍        | 74/500 [25:47<2:20:47, 19.83s/it]"
     ]
    },
    {
     "name": "stdout",
     "output_type": "stream",
     "text": [
      "{'C': 0.0, 'B': 10, 'learning_rate': 0.01, 'comm_round': 74, 'train_acc': 0.9631, 'test_acc': 0.955, 'train_loss': 0.1119, 'test_loss': 0.1496}\n"
     ]
    },
    {
     "name": "stderr",
     "output_type": "stream",
     "text": [
      " 15%|█▌        | 75/500 [26:07<2:21:07, 19.92s/it]"
     ]
    },
    {
     "name": "stdout",
     "output_type": "stream",
     "text": [
      "{'C': 0.0, 'B': 10, 'learning_rate': 0.01, 'comm_round': 75, 'train_acc': 0.9563, 'test_acc': 0.9488, 'train_loss': 0.1399, 'test_loss': 0.1812}\n"
     ]
    },
    {
     "name": "stderr",
     "output_type": "stream",
     "text": [
      " 15%|█▌        | 76/500 [26:26<2:19:18, 19.71s/it]"
     ]
    },
    {
     "name": "stdout",
     "output_type": "stream",
     "text": [
      "{'C': 0.0, 'B': 10, 'learning_rate': 0.01, 'comm_round': 76, 'train_acc': 0.9582, 'test_acc': 0.9521, 'train_loss': 0.1276, 'test_loss': 0.1569}\n"
     ]
    },
    {
     "name": "stderr",
     "output_type": "stream",
     "text": [
      " 15%|█▌        | 77/500 [26:46<2:18:40, 19.67s/it]"
     ]
    },
    {
     "name": "stdout",
     "output_type": "stream",
     "text": [
      "{'C': 0.0, 'B': 10, 'learning_rate': 0.01, 'comm_round': 77, 'train_acc': 0.9656, 'test_acc': 0.9587, 'train_loss': 0.1051, 'test_loss': 0.1354}\n"
     ]
    },
    {
     "name": "stderr",
     "output_type": "stream",
     "text": [
      " 16%|█▌        | 78/500 [27:05<2:17:37, 19.57s/it]"
     ]
    },
    {
     "name": "stdout",
     "output_type": "stream",
     "text": [
      "{'C': 0.0, 'B': 10, 'learning_rate': 0.01, 'comm_round': 78, 'train_acc': 0.966, 'test_acc': 0.9589, 'train_loss': 0.1033, 'test_loss': 0.134}\n"
     ]
    },
    {
     "name": "stderr",
     "output_type": "stream",
     "text": [
      " 16%|█▌        | 79/500 [27:25<2:17:53, 19.65s/it]"
     ]
    },
    {
     "name": "stdout",
     "output_type": "stream",
     "text": [
      "{'C': 0.0, 'B': 10, 'learning_rate': 0.01, 'comm_round': 79, 'train_acc': 0.9743, 'test_acc': 0.9681, 'train_loss': 0.0757, 'test_loss': 0.1032}\n"
     ]
    },
    {
     "name": "stderr",
     "output_type": "stream",
     "text": [
      " 16%|█▌        | 80/500 [27:44<2:16:05, 19.44s/it]"
     ]
    },
    {
     "name": "stdout",
     "output_type": "stream",
     "text": [
      "{'C': 0.0, 'B': 10, 'learning_rate': 0.01, 'comm_round': 80, 'train_acc': 0.9791, 'test_acc': 0.9741, 'train_loss': 0.0658, 'test_loss': 0.0921}\n"
     ]
    },
    {
     "name": "stderr",
     "output_type": "stream",
     "text": [
      " 16%|█▌        | 81/500 [28:03<2:16:00, 19.48s/it]"
     ]
    },
    {
     "name": "stdout",
     "output_type": "stream",
     "text": [
      "{'C': 0.0, 'B': 10, 'learning_rate': 0.01, 'comm_round': 81, 'train_acc': 0.9824, 'test_acc': 0.9758, 'train_loss': 0.0516, 'test_loss': 0.0749}\n"
     ]
    },
    {
     "name": "stderr",
     "output_type": "stream",
     "text": [
      " 16%|█▋        | 82/500 [28:23<2:16:14, 19.56s/it]"
     ]
    },
    {
     "name": "stdout",
     "output_type": "stream",
     "text": [
      "{'C': 0.0, 'B': 10, 'learning_rate': 0.01, 'comm_round': 82, 'train_acc': 0.9854, 'test_acc': 0.9801, 'train_loss': 0.0438, 'test_loss': 0.0673}\n"
     ]
    },
    {
     "name": "stderr",
     "output_type": "stream",
     "text": [
      " 17%|█▋        | 83/500 [28:42<2:14:58, 19.42s/it]"
     ]
    },
    {
     "name": "stdout",
     "output_type": "stream",
     "text": [
      "{'C': 0.0, 'B': 10, 'learning_rate': 0.01, 'comm_round': 83, 'train_acc': 0.9857, 'test_acc': 0.9814, 'train_loss': 0.0446, 'test_loss': 0.0654}\n"
     ]
    },
    {
     "name": "stderr",
     "output_type": "stream",
     "text": [
      " 17%|█▋        | 84/500 [29:02<2:14:23, 19.38s/it]"
     ]
    },
    {
     "name": "stdout",
     "output_type": "stream",
     "text": [
      "{'C': 0.0, 'B': 10, 'learning_rate': 0.01, 'comm_round': 84, 'train_acc': 0.9842, 'test_acc': 0.9801, 'train_loss': 0.0489, 'test_loss': 0.0692}\n"
     ]
    },
    {
     "name": "stderr",
     "output_type": "stream",
     "text": [
      " 17%|█▋        | 85/500 [29:21<2:13:51, 19.35s/it]"
     ]
    },
    {
     "name": "stdout",
     "output_type": "stream",
     "text": [
      "{'C': 0.0, 'B': 10, 'learning_rate': 0.01, 'comm_round': 85, 'train_acc': 0.9812, 'test_acc': 0.9758, 'train_loss': 0.0601, 'test_loss': 0.0795}\n"
     ]
    },
    {
     "name": "stderr",
     "output_type": "stream",
     "text": [
      " 17%|█▋        | 86/500 [29:41<2:15:32, 19.64s/it]"
     ]
    },
    {
     "name": "stdout",
     "output_type": "stream",
     "text": [
      "{'C': 0.0, 'B': 10, 'learning_rate': 0.01, 'comm_round': 86, 'train_acc': 0.9829, 'test_acc': 0.9787, 'train_loss': 0.0518, 'test_loss': 0.0768}\n"
     ]
    },
    {
     "name": "stderr",
     "output_type": "stream",
     "text": [
      " 17%|█▋        | 87/500 [30:01<2:16:11, 19.78s/it]"
     ]
    },
    {
     "name": "stdout",
     "output_type": "stream",
     "text": [
      "{'C': 0.0, 'B': 10, 'learning_rate': 0.01, 'comm_round': 87, 'train_acc': 0.9883, 'test_acc': 0.9839, 'train_loss': 0.0344, 'test_loss': 0.0569}\n"
     ]
    },
    {
     "name": "stderr",
     "output_type": "stream",
     "text": [
      " 18%|█▊        | 88/500 [30:21<2:16:25, 19.87s/it]"
     ]
    },
    {
     "name": "stdout",
     "output_type": "stream",
     "text": [
      "{'C': 0.0, 'B': 10, 'learning_rate': 0.01, 'comm_round': 88, 'train_acc': 0.9883, 'test_acc': 0.9831, 'train_loss': 0.034, 'test_loss': 0.056}\n"
     ]
    },
    {
     "name": "stderr",
     "output_type": "stream",
     "text": [
      " 18%|█▊        | 89/500 [30:41<2:14:50, 19.69s/it]"
     ]
    },
    {
     "name": "stdout",
     "output_type": "stream",
     "text": [
      "{'C': 0.0, 'B': 10, 'learning_rate': 0.01, 'comm_round': 89, 'train_acc': 0.9872, 'test_acc': 0.9819, 'train_loss': 0.0368, 'test_loss': 0.0606}\n"
     ]
    },
    {
     "name": "stderr",
     "output_type": "stream",
     "text": [
      " 18%|█▊        | 90/500 [31:01<2:16:24, 19.96s/it]"
     ]
    },
    {
     "name": "stdout",
     "output_type": "stream",
     "text": [
      "{'C': 0.0, 'B': 10, 'learning_rate': 0.01, 'comm_round': 90, 'train_acc': 0.9769, 'test_acc': 0.9735, 'train_loss': 0.0694, 'test_loss': 0.0899}\n"
     ]
    },
    {
     "name": "stderr",
     "output_type": "stream",
     "text": [
      " 18%|█▊        | 91/500 [31:20<2:14:05, 19.67s/it]"
     ]
    },
    {
     "name": "stdout",
     "output_type": "stream",
     "text": [
      "{'C': 0.0, 'B': 10, 'learning_rate': 0.01, 'comm_round': 91, 'train_acc': 0.9713, 'test_acc': 0.9671, 'train_loss': 0.0927, 'test_loss': 0.1128}\n"
     ]
    },
    {
     "name": "stderr",
     "output_type": "stream",
     "text": [
      " 18%|█▊        | 92/500 [31:40<2:13:33, 19.64s/it]"
     ]
    },
    {
     "name": "stdout",
     "output_type": "stream",
     "text": [
      "{'C': 0.0, 'B': 10, 'learning_rate': 0.01, 'comm_round': 92, 'train_acc': 0.9839, 'test_acc': 0.978, 'train_loss': 0.0491, 'test_loss': 0.0709}\n"
     ]
    },
    {
     "name": "stderr",
     "output_type": "stream",
     "text": [
      " 19%|█▊        | 93/500 [32:00<2:13:35, 19.69s/it]"
     ]
    },
    {
     "name": "stdout",
     "output_type": "stream",
     "text": [
      "{'C': 0.0, 'B': 10, 'learning_rate': 0.01, 'comm_round': 93, 'train_acc': 0.9853, 'test_acc': 0.9807, 'train_loss': 0.0451, 'test_loss': 0.065}\n"
     ]
    },
    {
     "name": "stderr",
     "output_type": "stream",
     "text": [
      " 19%|█▉        | 94/500 [32:20<2:14:18, 19.85s/it]"
     ]
    },
    {
     "name": "stdout",
     "output_type": "stream",
     "text": [
      "{'C': 0.0, 'B': 10, 'learning_rate': 0.01, 'comm_round': 94, 'train_acc': 0.9821, 'test_acc': 0.977, 'train_loss': 0.0542, 'test_loss': 0.074}\n"
     ]
    },
    {
     "name": "stderr",
     "output_type": "stream",
     "text": [
      " 19%|█▉        | 95/500 [32:39<2:12:00, 19.56s/it]"
     ]
    },
    {
     "name": "stdout",
     "output_type": "stream",
     "text": [
      "{'C': 0.0, 'B': 10, 'learning_rate': 0.01, 'comm_round': 95, 'train_acc': 0.9784, 'test_acc': 0.974, 'train_loss': 0.0671, 'test_loss': 0.0856}\n"
     ]
    },
    {
     "name": "stderr",
     "output_type": "stream",
     "text": [
      " 19%|█▉        | 96/500 [32:58<2:10:53, 19.44s/it]"
     ]
    },
    {
     "name": "stdout",
     "output_type": "stream",
     "text": [
      "{'C': 0.0, 'B': 10, 'learning_rate': 0.01, 'comm_round': 96, 'train_acc': 0.9802, 'test_acc': 0.9756, 'train_loss': 0.0619, 'test_loss': 0.0819}\n"
     ]
    },
    {
     "name": "stderr",
     "output_type": "stream",
     "text": [
      " 19%|█▉        | 97/500 [33:17<2:10:55, 19.49s/it]"
     ]
    },
    {
     "name": "stdout",
     "output_type": "stream",
     "text": [
      "{'C': 0.0, 'B': 10, 'learning_rate': 0.01, 'comm_round': 97, 'train_acc': 0.9818, 'test_acc': 0.9773, 'train_loss': 0.0566, 'test_loss': 0.0749}\n"
     ]
    },
    {
     "name": "stderr",
     "output_type": "stream",
     "text": [
      " 20%|█▉        | 98/500 [33:38<2:13:30, 19.93s/it]"
     ]
    },
    {
     "name": "stdout",
     "output_type": "stream",
     "text": [
      "{'C': 0.0, 'B': 10, 'learning_rate': 0.01, 'comm_round': 98, 'train_acc': 0.9784, 'test_acc': 0.9748, 'train_loss': 0.0656, 'test_loss': 0.0829}\n"
     ]
    },
    {
     "name": "stderr",
     "output_type": "stream",
     "text": [
      " 20%|█▉        | 99/500 [33:58<2:12:24, 19.81s/it]"
     ]
    },
    {
     "name": "stdout",
     "output_type": "stream",
     "text": [
      "{'C': 0.0, 'B': 10, 'learning_rate': 0.01, 'comm_round': 99, 'train_acc': 0.9826, 'test_acc': 0.9782, 'train_loss': 0.0516, 'test_loss': 0.0708}\n"
     ]
    },
    {
     "name": "stderr",
     "output_type": "stream",
     "text": [
      " 20%|██        | 100/500 [34:18<2:12:31, 19.88s/it]"
     ]
    },
    {
     "name": "stdout",
     "output_type": "stream",
     "text": [
      "{'C': 0.0, 'B': 10, 'learning_rate': 0.01, 'comm_round': 100, 'train_acc': 0.9806, 'test_acc': 0.976, 'train_loss': 0.0574, 'test_loss': 0.084}\n"
     ]
    },
    {
     "name": "stderr",
     "output_type": "stream",
     "text": [
      " 20%|██        | 101/500 [34:37<2:11:20, 19.75s/it]"
     ]
    },
    {
     "name": "stdout",
     "output_type": "stream",
     "text": [
      "{'C': 0.0, 'B': 10, 'learning_rate': 0.01, 'comm_round': 101, 'train_acc': 0.9684, 'test_acc': 0.9643, 'train_loss': 0.1144, 'test_loss': 0.1434}\n"
     ]
    },
    {
     "name": "stderr",
     "output_type": "stream",
     "text": [
      " 20%|██        | 102/500 [34:57<2:11:17, 19.79s/it]"
     ]
    },
    {
     "name": "stdout",
     "output_type": "stream",
     "text": [
      "{'C': 0.0, 'B': 10, 'learning_rate': 0.01, 'comm_round': 102, 'train_acc': 0.9622, 'test_acc': 0.9574, 'train_loss': 0.1353, 'test_loss': 0.1637}\n"
     ]
    },
    {
     "name": "stderr",
     "output_type": "stream",
     "text": [
      " 21%|██        | 103/500 [35:17<2:09:57, 19.64s/it]"
     ]
    },
    {
     "name": "stdout",
     "output_type": "stream",
     "text": [
      "{'C': 0.0, 'B': 10, 'learning_rate': 0.01, 'comm_round': 103, 'train_acc': 0.9712, 'test_acc': 0.965, 'train_loss': 0.0989, 'test_loss': 0.1262}\n"
     ]
    },
    {
     "name": "stderr",
     "output_type": "stream",
     "text": [
      " 21%|██        | 104/500 [35:35<2:08:02, 19.40s/it]"
     ]
    },
    {
     "name": "stdout",
     "output_type": "stream",
     "text": [
      "{'C': 0.0, 'B': 10, 'learning_rate': 0.01, 'comm_round': 104, 'train_acc': 0.9766, 'test_acc': 0.9722, 'train_loss': 0.0813, 'test_loss': 0.1098}\n"
     ]
    },
    {
     "name": "stderr",
     "output_type": "stream",
     "text": [
      " 21%|██        | 105/500 [35:55<2:08:58, 19.59s/it]"
     ]
    },
    {
     "name": "stdout",
     "output_type": "stream",
     "text": [
      "{'C': 0.0, 'B': 10, 'learning_rate': 0.01, 'comm_round': 105, 'train_acc': 0.9803, 'test_acc': 0.9754, 'train_loss': 0.0676, 'test_loss': 0.096}\n"
     ]
    },
    {
     "name": "stderr",
     "output_type": "stream",
     "text": [
      " 21%|██        | 106/500 [36:16<2:10:52, 19.93s/it]"
     ]
    },
    {
     "name": "stdout",
     "output_type": "stream",
     "text": [
      "{'C': 0.0, 'B': 10, 'learning_rate': 0.01, 'comm_round': 106, 'train_acc': 0.9792, 'test_acc': 0.9738, 'train_loss': 0.0754, 'test_loss': 0.1059}\n"
     ]
    },
    {
     "name": "stderr",
     "output_type": "stream",
     "text": [
      " 21%|██▏       | 107/500 [36:36<2:11:03, 20.01s/it]"
     ]
    },
    {
     "name": "stdout",
     "output_type": "stream",
     "text": [
      "{'C': 0.0, 'B': 10, 'learning_rate': 0.01, 'comm_round': 107, 'train_acc': 0.9774, 'test_acc': 0.9726, 'train_loss': 0.0787, 'test_loss': 0.1076}\n"
     ]
    },
    {
     "name": "stderr",
     "output_type": "stream",
     "text": [
      " 22%|██▏       | 108/500 [36:56<2:09:08, 19.77s/it]"
     ]
    },
    {
     "name": "stdout",
     "output_type": "stream",
     "text": [
      "{'C': 0.0, 'B': 10, 'learning_rate': 0.01, 'comm_round': 108, 'train_acc': 0.9808, 'test_acc': 0.9756, 'train_loss': 0.0668, 'test_loss': 0.0988}\n"
     ]
    },
    {
     "name": "stderr",
     "output_type": "stream",
     "text": [
      " 22%|██▏       | 109/500 [37:18<2:13:26, 20.48s/it]"
     ]
    },
    {
     "name": "stdout",
     "output_type": "stream",
     "text": [
      "{'C': 0.0, 'B': 10, 'learning_rate': 0.01, 'comm_round': 109, 'train_acc': 0.98, 'test_acc': 0.9749, 'train_loss': 0.0707, 'test_loss': 0.1041}\n"
     ]
    },
    {
     "name": "stderr",
     "output_type": "stream",
     "text": [
      " 22%|██▏       | 110/500 [37:38<2:12:15, 20.35s/it]"
     ]
    },
    {
     "name": "stdout",
     "output_type": "stream",
     "text": [
      "{'C': 0.0, 'B': 10, 'learning_rate': 0.01, 'comm_round': 110, 'train_acc': 0.9787, 'test_acc': 0.9732, 'train_loss': 0.0746, 'test_loss': 0.1099}\n"
     ]
    },
    {
     "name": "stderr",
     "output_type": "stream",
     "text": [
      " 22%|██▏       | 111/500 [37:57<2:09:32, 19.98s/it]"
     ]
    },
    {
     "name": "stdout",
     "output_type": "stream",
     "text": [
      "{'C': 0.0, 'B': 10, 'learning_rate': 0.01, 'comm_round': 111, 'train_acc': 0.9751, 'test_acc': 0.9692, 'train_loss': 0.0917, 'test_loss': 0.1272}\n"
     ]
    },
    {
     "name": "stderr",
     "output_type": "stream",
     "text": [
      " 22%|██▏       | 112/500 [38:17<2:08:43, 19.91s/it]"
     ]
    },
    {
     "name": "stdout",
     "output_type": "stream",
     "text": [
      "{'C': 0.0, 'B': 10, 'learning_rate': 0.01, 'comm_round': 112, 'train_acc': 0.9742, 'test_acc': 0.968, 'train_loss': 0.0949, 'test_loss': 0.1306}\n"
     ]
    },
    {
     "name": "stderr",
     "output_type": "stream",
     "text": [
      " 23%|██▎       | 113/500 [38:37<2:08:36, 19.94s/it]"
     ]
    },
    {
     "name": "stdout",
     "output_type": "stream",
     "text": [
      "{'C': 0.0, 'B': 10, 'learning_rate': 0.01, 'comm_round': 113, 'train_acc': 0.9752, 'test_acc': 0.9701, 'train_loss': 0.089, 'test_loss': 0.1235}\n"
     ]
    },
    {
     "name": "stderr",
     "output_type": "stream",
     "text": [
      " 23%|██▎       | 114/500 [38:57<2:09:55, 20.20s/it]"
     ]
    },
    {
     "name": "stdout",
     "output_type": "stream",
     "text": [
      "{'C': 0.0, 'B': 10, 'learning_rate': 0.01, 'comm_round': 114, 'train_acc': 0.9764, 'test_acc': 0.9715, 'train_loss': 0.0851, 'test_loss': 0.1199}\n"
     ]
    },
    {
     "name": "stderr",
     "output_type": "stream",
     "text": [
      " 23%|██▎       | 115/500 [39:16<2:06:05, 19.65s/it]"
     ]
    },
    {
     "name": "stdout",
     "output_type": "stream",
     "text": [
      "{'C': 0.0, 'B': 10, 'learning_rate': 0.01, 'comm_round': 115, 'train_acc': 0.9729, 'test_acc': 0.9673, 'train_loss': 0.095, 'test_loss': 0.1309}\n"
     ]
    },
    {
     "name": "stderr",
     "output_type": "stream",
     "text": [
      " 23%|██▎       | 116/500 [39:35<2:04:27, 19.45s/it]"
     ]
    },
    {
     "name": "stdout",
     "output_type": "stream",
     "text": [
      "{'C': 0.0, 'B': 10, 'learning_rate': 0.01, 'comm_round': 116, 'train_acc': 0.9761, 'test_acc': 0.9704, 'train_loss': 0.0851, 'test_loss': 0.1192}\n"
     ]
    },
    {
     "name": "stderr",
     "output_type": "stream",
     "text": [
      " 23%|██▎       | 117/500 [39:55<2:05:54, 19.72s/it]"
     ]
    },
    {
     "name": "stdout",
     "output_type": "stream",
     "text": [
      "{'C': 0.0, 'B': 10, 'learning_rate': 0.01, 'comm_round': 117, 'train_acc': 0.9742, 'test_acc': 0.9684, 'train_loss': 0.0902, 'test_loss': 0.1225}\n"
     ]
    },
    {
     "name": "stderr",
     "output_type": "stream",
     "text": [
      " 24%|██▎       | 118/500 [40:14<2:04:02, 19.48s/it]"
     ]
    },
    {
     "name": "stdout",
     "output_type": "stream",
     "text": [
      "{'C': 0.0, 'B': 10, 'learning_rate': 0.01, 'comm_round': 118, 'train_acc': 0.9725, 'test_acc': 0.9677, 'train_loss': 0.0943, 'test_loss': 0.1264}\n"
     ]
    },
    {
     "name": "stderr",
     "output_type": "stream",
     "text": [
      " 24%|██▍       | 119/500 [40:34<2:03:52, 19.51s/it]"
     ]
    },
    {
     "name": "stdout",
     "output_type": "stream",
     "text": [
      "{'C': 0.0, 'B': 10, 'learning_rate': 0.01, 'comm_round': 119, 'train_acc': 0.9655, 'test_acc': 0.9612, 'train_loss': 0.1194, 'test_loss': 0.1498}\n"
     ]
    },
    {
     "name": "stderr",
     "output_type": "stream",
     "text": [
      " 24%|██▍       | 120/500 [40:53<2:04:07, 19.60s/it]"
     ]
    },
    {
     "name": "stdout",
     "output_type": "stream",
     "text": [
      "{'C': 0.0, 'B': 10, 'learning_rate': 0.01, 'comm_round': 120, 'train_acc': 0.972, 'test_acc': 0.9658, 'train_loss': 0.095, 'test_loss': 0.1272}\n"
     ]
    },
    {
     "name": "stderr",
     "output_type": "stream",
     "text": [
      " 24%|██▍       | 121/500 [41:13<2:04:09, 19.66s/it]"
     ]
    },
    {
     "name": "stdout",
     "output_type": "stream",
     "text": [
      "{'C': 0.0, 'B': 10, 'learning_rate': 0.01, 'comm_round': 121, 'train_acc': 0.9801, 'test_acc': 0.9749, 'train_loss': 0.0646, 'test_loss': 0.0922}\n"
     ]
    },
    {
     "name": "stderr",
     "output_type": "stream",
     "text": [
      " 24%|██▍       | 122/500 [41:33<2:03:26, 19.59s/it]"
     ]
    },
    {
     "name": "stdout",
     "output_type": "stream",
     "text": [
      "{'C': 0.0, 'B': 10, 'learning_rate': 0.01, 'comm_round': 122, 'train_acc': 0.9781, 'test_acc': 0.972, 'train_loss': 0.0765, 'test_loss': 0.106}\n"
     ]
    },
    {
     "name": "stderr",
     "output_type": "stream",
     "text": [
      " 25%|██▍       | 123/500 [41:54<2:06:49, 20.18s/it]"
     ]
    },
    {
     "name": "stdout",
     "output_type": "stream",
     "text": [
      "{'C': 0.0, 'B': 10, 'learning_rate': 0.01, 'comm_round': 123, 'train_acc': 0.9744, 'test_acc': 0.9693, 'train_loss': 0.0897, 'test_loss': 0.1201}\n"
     ]
    },
    {
     "name": "stderr",
     "output_type": "stream",
     "text": [
      " 25%|██▍       | 124/500 [42:14<2:05:07, 19.97s/it]"
     ]
    },
    {
     "name": "stdout",
     "output_type": "stream",
     "text": [
      "{'C': 0.0, 'B': 10, 'learning_rate': 0.01, 'comm_round': 124, 'train_acc': 0.9739, 'test_acc': 0.9685, 'train_loss': 0.0904, 'test_loss': 0.1216}\n"
     ]
    },
    {
     "name": "stderr",
     "output_type": "stream",
     "text": [
      " 25%|██▌       | 125/500 [42:33<2:04:25, 19.91s/it]"
     ]
    },
    {
     "name": "stdout",
     "output_type": "stream",
     "text": [
      "{'C': 0.0, 'B': 10, 'learning_rate': 0.01, 'comm_round': 125, 'train_acc': 0.9776, 'test_acc': 0.9718, 'train_loss': 0.0724, 'test_loss': 0.1042}\n"
     ]
    },
    {
     "name": "stderr",
     "output_type": "stream",
     "text": [
      " 25%|██▌       | 126/500 [42:52<2:02:27, 19.64s/it]"
     ]
    },
    {
     "name": "stdout",
     "output_type": "stream",
     "text": [
      "{'C': 0.0, 'B': 10, 'learning_rate': 0.01, 'comm_round': 126, 'train_acc': 0.9742, 'test_acc': 0.9699, 'train_loss': 0.0779, 'test_loss': 0.1092}\n"
     ]
    },
    {
     "name": "stderr",
     "output_type": "stream",
     "text": [
      " 25%|██▌       | 127/500 [43:11<2:00:57, 19.46s/it]"
     ]
    },
    {
     "name": "stdout",
     "output_type": "stream",
     "text": [
      "{'C': 0.0, 'B': 10, 'learning_rate': 0.01, 'comm_round': 127, 'train_acc': 0.9731, 'test_acc': 0.9685, 'train_loss': 0.0822, 'test_loss': 0.1131}\n"
     ]
    },
    {
     "name": "stderr",
     "output_type": "stream",
     "text": [
      " 26%|██▌       | 128/500 [43:31<2:01:29, 19.60s/it]"
     ]
    },
    {
     "name": "stdout",
     "output_type": "stream",
     "text": [
      "{'C': 0.0, 'B': 10, 'learning_rate': 0.01, 'comm_round': 128, 'train_acc': 0.9832, 'test_acc': 0.9793, 'train_loss': 0.0499, 'test_loss': 0.0777}\n"
     ]
    },
    {
     "name": "stderr",
     "output_type": "stream",
     "text": [
      " 26%|██▌       | 129/500 [43:50<1:59:49, 19.38s/it]"
     ]
    },
    {
     "name": "stdout",
     "output_type": "stream",
     "text": [
      "{'C': 0.0, 'B': 10, 'learning_rate': 0.01, 'comm_round': 129, 'train_acc': 0.9813, 'test_acc': 0.9755, 'train_loss': 0.0634, 'test_loss': 0.0957}\n"
     ]
    },
    {
     "name": "stderr",
     "output_type": "stream",
     "text": [
      " 26%|██▌       | 130/500 [44:10<1:59:28, 19.37s/it]"
     ]
    },
    {
     "name": "stdout",
     "output_type": "stream",
     "text": [
      "{'C': 0.0, 'B': 10, 'learning_rate': 0.01, 'comm_round': 130, 'train_acc': 0.9829, 'test_acc': 0.9766, 'train_loss': 0.0567, 'test_loss': 0.09}\n"
     ]
    },
    {
     "name": "stderr",
     "output_type": "stream",
     "text": [
      " 26%|██▌       | 131/500 [44:29<1:59:17, 19.40s/it]"
     ]
    },
    {
     "name": "stdout",
     "output_type": "stream",
     "text": [
      "{'C': 0.0, 'B': 10, 'learning_rate': 0.01, 'comm_round': 131, 'train_acc': 0.9828, 'test_acc': 0.9772, 'train_loss': 0.057, 'test_loss': 0.0902}\n"
     ]
    },
    {
     "name": "stderr",
     "output_type": "stream",
     "text": [
      " 26%|██▋       | 132/500 [44:48<1:58:52, 19.38s/it]"
     ]
    },
    {
     "name": "stdout",
     "output_type": "stream",
     "text": [
      "{'C': 0.0, 'B': 10, 'learning_rate': 0.01, 'comm_round': 132, 'train_acc': 0.9782, 'test_acc': 0.9723, 'train_loss': 0.0668, 'test_loss': 0.0997}\n"
     ]
    },
    {
     "name": "stderr",
     "output_type": "stream",
     "text": [
      " 27%|██▋       | 133/500 [45:07<1:57:00, 19.13s/it]"
     ]
    },
    {
     "name": "stdout",
     "output_type": "stream",
     "text": [
      "{'C': 0.0, 'B': 10, 'learning_rate': 0.01, 'comm_round': 133, 'train_acc': 0.9767, 'test_acc': 0.9712, 'train_loss': 0.0717, 'test_loss': 0.1046}\n"
     ]
    },
    {
     "name": "stderr",
     "output_type": "stream",
     "text": [
      " 27%|██▋       | 134/500 [45:26<1:56:33, 19.11s/it]"
     ]
    },
    {
     "name": "stdout",
     "output_type": "stream",
     "text": [
      "{'C': 0.0, 'B': 10, 'learning_rate': 0.01, 'comm_round': 134, 'train_acc': 0.9816, 'test_acc': 0.9773, 'train_loss': 0.0562, 'test_loss': 0.0864}\n"
     ]
    },
    {
     "name": "stderr",
     "output_type": "stream",
     "text": [
      " 27%|██▋       | 135/500 [45:45<1:56:34, 19.16s/it]"
     ]
    },
    {
     "name": "stdout",
     "output_type": "stream",
     "text": [
      "{'C': 0.0, 'B': 10, 'learning_rate': 0.01, 'comm_round': 135, 'train_acc': 0.9821, 'test_acc': 0.9779, 'train_loss': 0.056, 'test_loss': 0.0837}\n"
     ]
    },
    {
     "name": "stderr",
     "output_type": "stream",
     "text": [
      " 27%|██▋       | 136/500 [46:05<1:56:58, 19.28s/it]"
     ]
    },
    {
     "name": "stdout",
     "output_type": "stream",
     "text": [
      "{'C': 0.0, 'B': 10, 'learning_rate': 0.01, 'comm_round': 136, 'train_acc': 0.9825, 'test_acc': 0.9787, 'train_loss': 0.0556, 'test_loss': 0.0849}\n"
     ]
    },
    {
     "name": "stderr",
     "output_type": "stream",
     "text": [
      " 27%|██▋       | 137/500 [46:24<1:56:48, 19.31s/it]"
     ]
    },
    {
     "name": "stdout",
     "output_type": "stream",
     "text": [
      "{'C': 0.0, 'B': 10, 'learning_rate': 0.01, 'comm_round': 137, 'train_acc': 0.9809, 'test_acc': 0.9763, 'train_loss': 0.0592, 'test_loss': 0.0894}\n"
     ]
    },
    {
     "name": "stderr",
     "output_type": "stream",
     "text": [
      " 28%|██▊       | 138/500 [46:44<1:57:41, 19.51s/it]"
     ]
    },
    {
     "name": "stdout",
     "output_type": "stream",
     "text": [
      "{'C': 0.0, 'B': 10, 'learning_rate': 0.01, 'comm_round': 138, 'train_acc': 0.9799, 'test_acc': 0.9746, 'train_loss': 0.065, 'test_loss': 0.0987}\n"
     ]
    },
    {
     "name": "stderr",
     "output_type": "stream",
     "text": [
      " 28%|██▊       | 139/500 [47:04<1:57:27, 19.52s/it]"
     ]
    },
    {
     "name": "stdout",
     "output_type": "stream",
     "text": [
      "{'C': 0.0, 'B': 10, 'learning_rate': 0.01, 'comm_round': 139, 'train_acc': 0.988, 'test_acc': 0.9818, 'train_loss': 0.0348, 'test_loss': 0.0657}\n"
     ]
    },
    {
     "name": "stderr",
     "output_type": "stream",
     "text": [
      " 28%|██▊       | 140/500 [47:23<1:55:48, 19.30s/it]"
     ]
    },
    {
     "name": "stdout",
     "output_type": "stream",
     "text": [
      "{'C': 0.0, 'B': 10, 'learning_rate': 0.01, 'comm_round': 140, 'train_acc': 0.9843, 'test_acc': 0.9792, 'train_loss': 0.0449, 'test_loss': 0.075}\n"
     ]
    },
    {
     "name": "stderr",
     "output_type": "stream",
     "text": [
      " 28%|██▊       | 141/500 [47:42<1:56:25, 19.46s/it]"
     ]
    },
    {
     "name": "stdout",
     "output_type": "stream",
     "text": [
      "{'C': 0.0, 'B': 10, 'learning_rate': 0.01, 'comm_round': 141, 'train_acc': 0.9734, 'test_acc': 0.9677, 'train_loss': 0.08, 'test_loss': 0.114}\n"
     ]
    },
    {
     "name": "stderr",
     "output_type": "stream",
     "text": [
      " 28%|██▊       | 142/500 [48:01<1:55:07, 19.29s/it]"
     ]
    },
    {
     "name": "stdout",
     "output_type": "stream",
     "text": [
      "{'C': 0.0, 'B': 10, 'learning_rate': 0.01, 'comm_round': 142, 'train_acc': 0.9798, 'test_acc': 0.9737, 'train_loss': 0.0597, 'test_loss': 0.0878}\n"
     ]
    },
    {
     "name": "stderr",
     "output_type": "stream",
     "text": [
      " 29%|██▊       | 143/500 [48:20<1:54:19, 19.21s/it]"
     ]
    },
    {
     "name": "stdout",
     "output_type": "stream",
     "text": [
      "{'C': 0.0, 'B': 10, 'learning_rate': 0.01, 'comm_round': 143, 'train_acc': 0.9794, 'test_acc': 0.9743, 'train_loss': 0.0611, 'test_loss': 0.0899}\n"
     ]
    },
    {
     "name": "stderr",
     "output_type": "stream",
     "text": [
      " 29%|██▉       | 144/500 [48:40<1:53:59, 19.21s/it]"
     ]
    },
    {
     "name": "stdout",
     "output_type": "stream",
     "text": [
      "{'C': 0.0, 'B': 10, 'learning_rate': 0.01, 'comm_round': 144, 'train_acc': 0.9778, 'test_acc': 0.9713, 'train_loss': 0.0638, 'test_loss': 0.1005}\n"
     ]
    },
    {
     "name": "stderr",
     "output_type": "stream",
     "text": [
      " 29%|██▉       | 145/500 [48:59<1:53:23, 19.16s/it]"
     ]
    },
    {
     "name": "stdout",
     "output_type": "stream",
     "text": [
      "{'C': 0.0, 'B': 10, 'learning_rate': 0.01, 'comm_round': 145, 'train_acc': 0.9835, 'test_acc': 0.9762, 'train_loss': 0.0506, 'test_loss': 0.0801}\n"
     ]
    },
    {
     "name": "stderr",
     "output_type": "stream",
     "text": [
      " 29%|██▉       | 146/500 [49:18<1:53:19, 19.21s/it]"
     ]
    },
    {
     "name": "stdout",
     "output_type": "stream",
     "text": [
      "{'C': 0.0, 'B': 10, 'learning_rate': 0.01, 'comm_round': 146, 'train_acc': 0.9846, 'test_acc': 0.9789, 'train_loss': 0.0484, 'test_loss': 0.0771}\n"
     ]
    },
    {
     "name": "stderr",
     "output_type": "stream",
     "text": [
      " 29%|██▉       | 147/500 [49:36<1:51:48, 19.00s/it]"
     ]
    },
    {
     "name": "stdout",
     "output_type": "stream",
     "text": [
      "{'C': 0.0, 'B': 10, 'learning_rate': 0.01, 'comm_round': 147, 'train_acc': 0.9718, 'test_acc': 0.9683, 'train_loss': 0.0912, 'test_loss': 0.1142}\n"
     ]
    },
    {
     "name": "stderr",
     "output_type": "stream",
     "text": [
      " 30%|██▉       | 148/500 [49:56<1:52:59, 19.26s/it]"
     ]
    },
    {
     "name": "stdout",
     "output_type": "stream",
     "text": [
      "{'C': 0.0, 'B': 10, 'learning_rate': 0.01, 'comm_round': 148, 'train_acc': 0.9669, 'test_acc': 0.9618, 'train_loss': 0.1036, 'test_loss': 0.1297}\n"
     ]
    },
    {
     "name": "stderr",
     "output_type": "stream",
     "text": [
      " 30%|██▉       | 149/500 [50:15<1:51:31, 19.07s/it]"
     ]
    },
    {
     "name": "stdout",
     "output_type": "stream",
     "text": [
      "{'C': 0.0, 'B': 10, 'learning_rate': 0.01, 'comm_round': 149, 'train_acc': 0.9626, 'test_acc': 0.9574, 'train_loss': 0.1172, 'test_loss': 0.1461}\n"
     ]
    },
    {
     "name": "stderr",
     "output_type": "stream",
     "text": [
      " 30%|███       | 150/500 [50:33<1:50:21, 18.92s/it]"
     ]
    },
    {
     "name": "stdout",
     "output_type": "stream",
     "text": [
      "{'C': 0.0, 'B': 10, 'learning_rate': 0.01, 'comm_round': 150, 'train_acc': 0.9861, 'test_acc': 0.9808, 'train_loss': 0.0394, 'test_loss': 0.0637}\n"
     ]
    },
    {
     "name": "stderr",
     "output_type": "stream",
     "text": [
      " 30%|███       | 151/500 [50:52<1:49:31, 18.83s/it]"
     ]
    },
    {
     "name": "stdout",
     "output_type": "stream",
     "text": [
      "{'C': 0.0, 'B': 10, 'learning_rate': 0.01, 'comm_round': 151, 'train_acc': 0.9853, 'test_acc': 0.9799, 'train_loss': 0.0424, 'test_loss': 0.066}\n"
     ]
    },
    {
     "name": "stderr",
     "output_type": "stream",
     "text": [
      " 30%|███       | 152/500 [51:11<1:48:39, 18.73s/it]"
     ]
    },
    {
     "name": "stdout",
     "output_type": "stream",
     "text": [
      "{'C': 0.0, 'B': 10, 'learning_rate': 0.01, 'comm_round': 152, 'train_acc': 0.9867, 'test_acc': 0.9819, 'train_loss': 0.0384, 'test_loss': 0.0629}\n"
     ]
    },
    {
     "name": "stderr",
     "output_type": "stream",
     "text": [
      " 31%|███       | 153/500 [51:30<1:49:35, 18.95s/it]"
     ]
    },
    {
     "name": "stdout",
     "output_type": "stream",
     "text": [
      "{'C': 0.0, 'B': 10, 'learning_rate': 0.01, 'comm_round': 153, 'train_acc': 0.9868, 'test_acc': 0.9814, 'train_loss': 0.0371, 'test_loss': 0.0624}\n"
     ]
    },
    {
     "name": "stderr",
     "output_type": "stream",
     "text": [
      " 31%|███       | 154/500 [51:49<1:48:21, 18.79s/it]"
     ]
    },
    {
     "name": "stdout",
     "output_type": "stream",
     "text": [
      "{'C': 0.0, 'B': 10, 'learning_rate': 0.01, 'comm_round': 154, 'train_acc': 0.9866, 'test_acc': 0.982, 'train_loss': 0.0378, 'test_loss': 0.0625}\n"
     ]
    },
    {
     "name": "stderr",
     "output_type": "stream",
     "text": [
      " 31%|███       | 155/500 [52:09<1:51:01, 19.31s/it]"
     ]
    },
    {
     "name": "stdout",
     "output_type": "stream",
     "text": [
      "{'C': 0.0, 'B': 10, 'learning_rate': 0.01, 'comm_round': 155, 'train_acc': 0.9784, 'test_acc': 0.9719, 'train_loss': 0.0611, 'test_loss': 0.0905}\n"
     ]
    },
    {
     "name": "stderr",
     "output_type": "stream",
     "text": [
      " 31%|███       | 156/500 [52:29<1:52:32, 19.63s/it]"
     ]
    },
    {
     "name": "stdout",
     "output_type": "stream",
     "text": [
      "{'C': 0.0, 'B': 10, 'learning_rate': 0.01, 'comm_round': 156, 'train_acc': 0.9672, 'test_acc': 0.9598, 'train_loss': 0.0955, 'test_loss': 0.1261}\n"
     ]
    },
    {
     "name": "stderr",
     "output_type": "stream",
     "text": [
      " 31%|███▏      | 157/500 [52:49<1:52:31, 19.68s/it]"
     ]
    },
    {
     "name": "stdout",
     "output_type": "stream",
     "text": [
      "{'C': 0.0, 'B': 10, 'learning_rate': 0.01, 'comm_round': 157, 'train_acc': 0.9698, 'test_acc': 0.9634, 'train_loss': 0.0863, 'test_loss': 0.116}\n"
     ]
    },
    {
     "name": "stderr",
     "output_type": "stream",
     "text": [
      " 32%|███▏      | 158/500 [53:08<1:51:05, 19.49s/it]"
     ]
    },
    {
     "name": "stdout",
     "output_type": "stream",
     "text": [
      "{'C': 0.0, 'B': 10, 'learning_rate': 0.01, 'comm_round': 158, 'train_acc': 0.9919, 'test_acc': 0.9866, 'train_loss': 0.0232, 'test_loss': 0.0475}\n"
     ]
    },
    {
     "name": "stderr",
     "output_type": "stream",
     "text": [
      " 32%|███▏      | 159/500 [53:27<1:50:11, 19.39s/it]"
     ]
    },
    {
     "name": "stdout",
     "output_type": "stream",
     "text": [
      "{'C': 0.0, 'B': 10, 'learning_rate': 0.01, 'comm_round': 159, 'train_acc': 0.9917, 'test_acc': 0.9863, 'train_loss': 0.0243, 'test_loss': 0.0521}\n"
     ]
    },
    {
     "name": "stderr",
     "output_type": "stream",
     "text": [
      " 32%|███▏      | 160/500 [53:46<1:48:54, 19.22s/it]"
     ]
    },
    {
     "name": "stdout",
     "output_type": "stream",
     "text": [
      "{'C': 0.0, 'B': 10, 'learning_rate': 0.01, 'comm_round': 160, 'train_acc': 0.9883, 'test_acc': 0.9838, 'train_loss': 0.0351, 'test_loss': 0.0624}\n"
     ]
    },
    {
     "name": "stderr",
     "output_type": "stream",
     "text": [
      " 32%|███▏      | 161/500 [54:05<1:48:40, 19.23s/it]"
     ]
    },
    {
     "name": "stdout",
     "output_type": "stream",
     "text": [
      "{'C': 0.0, 'B': 10, 'learning_rate': 0.01, 'comm_round': 161, 'train_acc': 0.989, 'test_acc': 0.9816, 'train_loss': 0.0303, 'test_loss': 0.0636}\n"
     ]
    },
    {
     "name": "stderr",
     "output_type": "stream",
     "text": [
      " 32%|███▏      | 162/500 [54:24<1:47:40, 19.11s/it]"
     ]
    },
    {
     "name": "stdout",
     "output_type": "stream",
     "text": [
      "{'C': 0.0, 'B': 10, 'learning_rate': 0.01, 'comm_round': 162, 'train_acc': 0.9802, 'test_acc': 0.974, 'train_loss': 0.0619, 'test_loss': 0.0949}\n"
     ]
    },
    {
     "name": "stderr",
     "output_type": "stream",
     "text": [
      " 33%|███▎      | 163/500 [54:43<1:46:41, 19.00s/it]"
     ]
    },
    {
     "name": "stdout",
     "output_type": "stream",
     "text": [
      "{'C': 0.0, 'B': 10, 'learning_rate': 0.01, 'comm_round': 163, 'train_acc': 0.9838, 'test_acc': 0.9769, 'train_loss': 0.0478, 'test_loss': 0.08}\n"
     ]
    },
    {
     "name": "stderr",
     "output_type": "stream",
     "text": [
      " 33%|███▎      | 164/500 [55:01<1:45:17, 18.80s/it]"
     ]
    },
    {
     "name": "stdout",
     "output_type": "stream",
     "text": [
      "{'C': 0.0, 'B': 10, 'learning_rate': 0.01, 'comm_round': 164, 'train_acc': 0.9731, 'test_acc': 0.9648, 'train_loss': 0.0784, 'test_loss': 0.1213}\n"
     ]
    },
    {
     "name": "stderr",
     "output_type": "stream",
     "text": [
      " 33%|███▎      | 165/500 [55:21<1:45:36, 18.91s/it]"
     ]
    },
    {
     "name": "stdout",
     "output_type": "stream",
     "text": [
      "{'C': 0.0, 'B': 10, 'learning_rate': 0.01, 'comm_round': 165, 'train_acc': 0.978, 'test_acc': 0.9696, 'train_loss': 0.0636, 'test_loss': 0.1053}\n"
     ]
    },
    {
     "name": "stderr",
     "output_type": "stream",
     "text": [
      " 33%|███▎      | 166/500 [55:39<1:44:55, 18.85s/it]"
     ]
    },
    {
     "name": "stdout",
     "output_type": "stream",
     "text": [
      "{'C': 0.0, 'B': 10, 'learning_rate': 0.01, 'comm_round': 166, 'train_acc': 0.9816, 'test_acc': 0.9752, 'train_loss': 0.0547, 'test_loss': 0.0883}\n"
     ]
    },
    {
     "name": "stderr",
     "output_type": "stream",
     "text": [
      " 33%|███▎      | 167/500 [55:58<1:44:18, 18.80s/it]"
     ]
    },
    {
     "name": "stdout",
     "output_type": "stream",
     "text": [
      "{'C': 0.0, 'B': 10, 'learning_rate': 0.01, 'comm_round': 167, 'train_acc': 0.9801, 'test_acc': 0.9735, 'train_loss': 0.0584, 'test_loss': 0.0913}\n"
     ]
    },
    {
     "name": "stderr",
     "output_type": "stream",
     "text": [
      " 34%|███▎      | 168/500 [56:17<1:45:04, 18.99s/it]"
     ]
    },
    {
     "name": "stdout",
     "output_type": "stream",
     "text": [
      "{'C': 0.0, 'B': 10, 'learning_rate': 0.01, 'comm_round': 168, 'train_acc': 0.9908, 'test_acc': 0.9848, 'train_loss': 0.0273, 'test_loss': 0.0539}\n"
     ]
    },
    {
     "name": "stderr",
     "output_type": "stream",
     "text": [
      " 34%|███▍      | 169/500 [56:38<1:46:59, 19.39s/it]"
     ]
    },
    {
     "name": "stdout",
     "output_type": "stream",
     "text": [
      "{'C': 0.0, 'B': 10, 'learning_rate': 0.01, 'comm_round': 169, 'train_acc': 0.9895, 'test_acc': 0.983, 'train_loss': 0.0299, 'test_loss': 0.056}\n"
     ]
    },
    {
     "name": "stderr",
     "output_type": "stream",
     "text": [
      " 34%|███▍      | 170/500 [56:56<1:45:01, 19.10s/it]"
     ]
    },
    {
     "name": "stdout",
     "output_type": "stream",
     "text": [
      "{'C': 0.0, 'B': 10, 'learning_rate': 0.01, 'comm_round': 170, 'train_acc': 0.9899, 'test_acc': 0.9824, 'train_loss': 0.0285, 'test_loss': 0.0552}\n"
     ]
    },
    {
     "name": "stderr",
     "output_type": "stream",
     "text": [
      " 34%|███▍      | 171/500 [57:15<1:43:42, 18.91s/it]"
     ]
    },
    {
     "name": "stdout",
     "output_type": "stream",
     "text": [
      "{'C': 0.0, 'B': 10, 'learning_rate': 0.01, 'comm_round': 171, 'train_acc': 0.9867, 'test_acc': 0.9806, 'train_loss': 0.0406, 'test_loss': 0.0663}\n"
     ]
    },
    {
     "name": "stderr",
     "output_type": "stream",
     "text": [
      " 34%|███▍      | 172/500 [57:34<1:43:46, 18.98s/it]"
     ]
    },
    {
     "name": "stdout",
     "output_type": "stream",
     "text": [
      "{'C': 0.0, 'B': 10, 'learning_rate': 0.01, 'comm_round': 172, 'train_acc': 0.9879, 'test_acc': 0.981, 'train_loss': 0.0354, 'test_loss': 0.0644}\n"
     ]
    },
    {
     "name": "stderr",
     "output_type": "stream",
     "text": [
      " 35%|███▍      | 173/500 [57:53<1:44:30, 19.18s/it]"
     ]
    },
    {
     "name": "stdout",
     "output_type": "stream",
     "text": [
      "{'C': 0.0, 'B': 10, 'learning_rate': 0.01, 'comm_round': 173, 'train_acc': 0.9904, 'test_acc': 0.9822, 'train_loss': 0.0274, 'test_loss': 0.0581}\n"
     ]
    },
    {
     "name": "stderr",
     "output_type": "stream",
     "text": [
      " 35%|███▍      | 174/500 [58:12<1:43:15, 19.01s/it]"
     ]
    },
    {
     "name": "stdout",
     "output_type": "stream",
     "text": [
      "{'C': 0.0, 'B': 10, 'learning_rate': 0.01, 'comm_round': 174, 'train_acc': 0.9933, 'test_acc': 0.9848, 'train_loss': 0.0199, 'test_loss': 0.0481}\n"
     ]
    },
    {
     "name": "stderr",
     "output_type": "stream",
     "text": [
      " 35%|███▌      | 175/500 [58:31<1:42:30, 18.92s/it]"
     ]
    },
    {
     "name": "stdout",
     "output_type": "stream",
     "text": [
      "{'C': 0.0, 'B': 10, 'learning_rate': 0.01, 'comm_round': 175, 'train_acc': 0.9939, 'test_acc': 0.986, 'train_loss': 0.0178, 'test_loss': 0.0443}\n"
     ]
    },
    {
     "name": "stderr",
     "output_type": "stream",
     "text": [
      " 35%|███▌      | 176/500 [58:52<1:45:11, 19.48s/it]"
     ]
    },
    {
     "name": "stdout",
     "output_type": "stream",
     "text": [
      "{'C': 0.0, 'B': 10, 'learning_rate': 0.01, 'comm_round': 176, 'train_acc': 0.9785, 'test_acc': 0.9709, 'train_loss': 0.0648, 'test_loss': 0.0959}\n"
     ]
    },
    {
     "name": "stderr",
     "output_type": "stream",
     "text": [
      " 35%|███▌      | 177/500 [59:12<1:46:08, 19.72s/it]"
     ]
    },
    {
     "name": "stdout",
     "output_type": "stream",
     "text": [
      "{'C': 0.0, 'B': 10, 'learning_rate': 0.01, 'comm_round': 177, 'train_acc': 0.99, 'test_acc': 0.9827, 'train_loss': 0.0285, 'test_loss': 0.0601}\n"
     ]
    },
    {
     "name": "stderr",
     "output_type": "stream",
     "text": [
      " 36%|███▌      | 178/500 [59:32<1:45:59, 19.75s/it]"
     ]
    },
    {
     "name": "stdout",
     "output_type": "stream",
     "text": [
      "{'C': 0.0, 'B': 10, 'learning_rate': 0.01, 'comm_round': 178, 'train_acc': 0.9709, 'test_acc': 0.9623, 'train_loss': 0.0908, 'test_loss': 0.1427}\n"
     ]
    },
    {
     "name": "stderr",
     "output_type": "stream",
     "text": [
      " 36%|███▌      | 179/500 [59:51<1:45:10, 19.66s/it]"
     ]
    },
    {
     "name": "stdout",
     "output_type": "stream",
     "text": [
      "{'C': 0.0, 'B': 10, 'learning_rate': 0.01, 'comm_round': 179, 'train_acc': 0.9818, 'test_acc': 0.9731, 'train_loss': 0.0526, 'test_loss': 0.0921}\n"
     ]
    },
    {
     "name": "stderr",
     "output_type": "stream",
     "text": [
      " 36%|███▌      | 180/500 [1:00:10<1:43:34, 19.42s/it]"
     ]
    },
    {
     "name": "stdout",
     "output_type": "stream",
     "text": [
      "{'C': 0.0, 'B': 10, 'learning_rate': 0.01, 'comm_round': 180, 'train_acc': 0.9893, 'test_acc': 0.9815, 'train_loss': 0.0309, 'test_loss': 0.0619}\n"
     ]
    },
    {
     "name": "stderr",
     "output_type": "stream",
     "text": [
      " 36%|███▌      | 181/500 [1:00:29<1:42:59, 19.37s/it]"
     ]
    },
    {
     "name": "stdout",
     "output_type": "stream",
     "text": [
      "{'C': 0.0, 'B': 10, 'learning_rate': 0.01, 'comm_round': 181, 'train_acc': 0.9892, 'test_acc': 0.9812, 'train_loss': 0.032, 'test_loss': 0.0633}\n"
     ]
    },
    {
     "name": "stderr",
     "output_type": "stream",
     "text": [
      " 36%|███▋      | 182/500 [1:00:48<1:42:23, 19.32s/it]"
     ]
    },
    {
     "name": "stdout",
     "output_type": "stream",
     "text": [
      "{'C': 0.0, 'B': 10, 'learning_rate': 0.01, 'comm_round': 182, 'train_acc': 0.9807, 'test_acc': 0.9742, 'train_loss': 0.0558, 'test_loss': 0.0856}\n"
     ]
    },
    {
     "name": "stderr",
     "output_type": "stream",
     "text": [
      " 37%|███▋      | 183/500 [1:01:08<1:43:00, 19.50s/it]"
     ]
    },
    {
     "name": "stdout",
     "output_type": "stream",
     "text": [
      "{'C': 0.0, 'B': 10, 'learning_rate': 0.01, 'comm_round': 183, 'train_acc': 0.9795, 'test_acc': 0.972, 'train_loss': 0.06, 'test_loss': 0.0943}\n"
     ]
    },
    {
     "name": "stderr",
     "output_type": "stream",
     "text": [
      " 37%|███▋      | 184/500 [1:01:27<1:42:09, 19.40s/it]"
     ]
    },
    {
     "name": "stdout",
     "output_type": "stream",
     "text": [
      "{'C': 0.0, 'B': 10, 'learning_rate': 0.01, 'comm_round': 184, 'train_acc': 0.9873, 'test_acc': 0.9805, 'train_loss': 0.0375, 'test_loss': 0.0665}\n"
     ]
    },
    {
     "name": "stderr",
     "output_type": "stream",
     "text": [
      " 37%|███▋      | 185/500 [1:01:47<1:42:43, 19.57s/it]"
     ]
    },
    {
     "name": "stdout",
     "output_type": "stream",
     "text": [
      "{'C': 0.0, 'B': 10, 'learning_rate': 0.01, 'comm_round': 185, 'train_acc': 0.9872, 'test_acc': 0.9805, 'train_loss': 0.0378, 'test_loss': 0.0664}\n"
     ]
    },
    {
     "name": "stderr",
     "output_type": "stream",
     "text": [
      " 37%|███▋      | 186/500 [1:02:07<1:41:53, 19.47s/it]"
     ]
    },
    {
     "name": "stdout",
     "output_type": "stream",
     "text": [
      "{'C': 0.0, 'B': 10, 'learning_rate': 0.01, 'comm_round': 186, 'train_acc': 0.9872, 'test_acc': 0.9805, 'train_loss': 0.0381, 'test_loss': 0.0694}\n"
     ]
    },
    {
     "name": "stderr",
     "output_type": "stream",
     "text": [
      " 37%|███▋      | 187/500 [1:02:27<1:42:20, 19.62s/it]"
     ]
    },
    {
     "name": "stdout",
     "output_type": "stream",
     "text": [
      "{'C': 0.0, 'B': 10, 'learning_rate': 0.01, 'comm_round': 187, 'train_acc': 0.9789, 'test_acc': 0.9714, 'train_loss': 0.0645, 'test_loss': 0.098}\n"
     ]
    },
    {
     "name": "stderr",
     "output_type": "stream",
     "text": [
      " 38%|███▊      | 188/500 [1:02:46<1:41:56, 19.60s/it]"
     ]
    },
    {
     "name": "stdout",
     "output_type": "stream",
     "text": [
      "{'C': 0.0, 'B': 10, 'learning_rate': 0.01, 'comm_round': 188, 'train_acc': 0.9752, 'test_acc': 0.9676, 'train_loss': 0.076, 'test_loss': 0.1151}\n"
     ]
    },
    {
     "name": "stderr",
     "output_type": "stream",
     "text": [
      " 38%|███▊      | 189/500 [1:03:06<1:41:48, 19.64s/it]"
     ]
    },
    {
     "name": "stdout",
     "output_type": "stream",
     "text": [
      "{'C': 0.0, 'B': 10, 'learning_rate': 0.01, 'comm_round': 189, 'train_acc': 0.9775, 'test_acc': 0.9695, 'train_loss': 0.0677, 'test_loss': 0.1049}\n"
     ]
    },
    {
     "name": "stderr",
     "output_type": "stream",
     "text": [
      " 38%|███▊      | 190/500 [1:03:25<1:40:49, 19.52s/it]"
     ]
    },
    {
     "name": "stdout",
     "output_type": "stream",
     "text": [
      "{'C': 0.0, 'B': 10, 'learning_rate': 0.01, 'comm_round': 190, 'train_acc': 0.9845, 'test_acc': 0.9777, 'train_loss': 0.0464, 'test_loss': 0.0784}\n"
     ]
    },
    {
     "name": "stderr",
     "output_type": "stream",
     "text": [
      " 38%|███▊      | 191/500 [1:03:45<1:40:42, 19.56s/it]"
     ]
    },
    {
     "name": "stdout",
     "output_type": "stream",
     "text": [
      "{'C': 0.0, 'B': 10, 'learning_rate': 0.01, 'comm_round': 191, 'train_acc': 0.9847, 'test_acc': 0.9763, 'train_loss': 0.0456, 'test_loss': 0.081}\n"
     ]
    },
    {
     "name": "stderr",
     "output_type": "stream",
     "text": [
      " 38%|███▊      | 192/500 [1:04:04<1:40:04, 19.49s/it]"
     ]
    },
    {
     "name": "stdout",
     "output_type": "stream",
     "text": [
      "{'C': 0.0, 'B': 10, 'learning_rate': 0.01, 'comm_round': 192, 'train_acc': 0.9729, 'test_acc': 0.9662, 'train_loss': 0.0826, 'test_loss': 0.1161}\n"
     ]
    },
    {
     "name": "stderr",
     "output_type": "stream",
     "text": [
      " 39%|███▊      | 193/500 [1:04:24<1:40:17, 19.60s/it]"
     ]
    },
    {
     "name": "stdout",
     "output_type": "stream",
     "text": [
      "{'C': 0.0, 'B': 10, 'learning_rate': 0.01, 'comm_round': 193, 'train_acc': 0.9882, 'test_acc': 0.9814, 'train_loss': 0.0346, 'test_loss': 0.0631}\n"
     ]
    },
    {
     "name": "stderr",
     "output_type": "stream",
     "text": [
      " 39%|███▉      | 194/500 [1:04:44<1:40:12, 19.65s/it]"
     ]
    },
    {
     "name": "stdout",
     "output_type": "stream",
     "text": [
      "{'C': 0.0, 'B': 10, 'learning_rate': 0.01, 'comm_round': 194, 'train_acc': 0.9901, 'test_acc': 0.9849, 'train_loss': 0.029, 'test_loss': 0.0543}\n"
     ]
    },
    {
     "name": "stderr",
     "output_type": "stream",
     "text": [
      " 39%|███▉      | 195/500 [1:05:03<1:39:51, 19.64s/it]"
     ]
    },
    {
     "name": "stdout",
     "output_type": "stream",
     "text": [
      "{'C': 0.0, 'B': 10, 'learning_rate': 0.01, 'comm_round': 195, 'train_acc': 0.9894, 'test_acc': 0.9844, 'train_loss': 0.031, 'test_loss': 0.0545}\n"
     ]
    },
    {
     "name": "stderr",
     "output_type": "stream",
     "text": [
      " 39%|███▉      | 196/500 [1:05:23<1:39:33, 19.65s/it]"
     ]
    },
    {
     "name": "stdout",
     "output_type": "stream",
     "text": [
      "{'C': 0.0, 'B': 10, 'learning_rate': 0.01, 'comm_round': 196, 'train_acc': 0.9892, 'test_acc': 0.9843, 'train_loss': 0.0318, 'test_loss': 0.055}\n"
     ]
    },
    {
     "name": "stderr",
     "output_type": "stream",
     "text": [
      " 39%|███▉      | 197/500 [1:05:43<1:39:24, 19.68s/it]"
     ]
    },
    {
     "name": "stdout",
     "output_type": "stream",
     "text": [
      "{'C': 0.0, 'B': 10, 'learning_rate': 0.01, 'comm_round': 197, 'train_acc': 0.9892, 'test_acc': 0.9847, 'train_loss': 0.0321, 'test_loss': 0.056}\n"
     ]
    },
    {
     "name": "stderr",
     "output_type": "stream",
     "text": [
      " 40%|███▉      | 198/500 [1:06:02<1:38:36, 19.59s/it]"
     ]
    },
    {
     "name": "stdout",
     "output_type": "stream",
     "text": [
      "{'C': 0.0, 'B': 10, 'learning_rate': 0.01, 'comm_round': 198, 'train_acc': 0.9893, 'test_acc': 0.9847, 'train_loss': 0.0324, 'test_loss': 0.0566}\n"
     ]
    },
    {
     "name": "stderr",
     "output_type": "stream",
     "text": [
      " 40%|███▉      | 199/500 [1:06:22<1:38:10, 19.57s/it]"
     ]
    },
    {
     "name": "stdout",
     "output_type": "stream",
     "text": [
      "{'C': 0.0, 'B': 10, 'learning_rate': 0.01, 'comm_round': 199, 'train_acc': 0.9883, 'test_acc': 0.9839, 'train_loss': 0.0353, 'test_loss': 0.0586}\n"
     ]
    },
    {
     "name": "stderr",
     "output_type": "stream",
     "text": [
      " 40%|████      | 200/500 [1:06:41<1:37:48, 19.56s/it]"
     ]
    },
    {
     "name": "stdout",
     "output_type": "stream",
     "text": [
      "{'C': 0.0, 'B': 10, 'learning_rate': 0.01, 'comm_round': 200, 'train_acc': 0.9842, 'test_acc': 0.9797, 'train_loss': 0.0475, 'test_loss': 0.0748}\n"
     ]
    },
    {
     "name": "stderr",
     "output_type": "stream",
     "text": [
      " 40%|████      | 201/500 [1:07:01<1:37:21, 19.54s/it]"
     ]
    },
    {
     "name": "stdout",
     "output_type": "stream",
     "text": [
      "{'C': 0.0, 'B': 10, 'learning_rate': 0.01, 'comm_round': 201, 'train_acc': 0.9818, 'test_acc': 0.9774, 'train_loss': 0.0564, 'test_loss': 0.0843}\n"
     ]
    },
    {
     "name": "stderr",
     "output_type": "stream",
     "text": [
      " 40%|████      | 202/500 [1:07:21<1:38:00, 19.73s/it]"
     ]
    },
    {
     "name": "stdout",
     "output_type": "stream",
     "text": [
      "{'C': 0.0, 'B': 10, 'learning_rate': 0.01, 'comm_round': 202, 'train_acc': 0.9822, 'test_acc': 0.9779, 'train_loss': 0.0549, 'test_loss': 0.0833}\n"
     ]
    },
    {
     "name": "stderr",
     "output_type": "stream",
     "text": [
      " 41%|████      | 203/500 [1:07:40<1:36:47, 19.56s/it]"
     ]
    },
    {
     "name": "stdout",
     "output_type": "stream",
     "text": [
      "{'C': 0.0, 'B': 10, 'learning_rate': 0.01, 'comm_round': 203, 'train_acc': 0.9775, 'test_acc': 0.9729, 'train_loss': 0.0699, 'test_loss': 0.1014}\n"
     ]
    },
    {
     "name": "stderr",
     "output_type": "stream",
     "text": [
      " 41%|████      | 204/500 [1:07:59<1:35:51, 19.43s/it]"
     ]
    },
    {
     "name": "stdout",
     "output_type": "stream",
     "text": [
      "{'C': 0.0, 'B': 10, 'learning_rate': 0.01, 'comm_round': 204, 'train_acc': 0.982, 'test_acc': 0.9777, 'train_loss': 0.0551, 'test_loss': 0.0834}\n"
     ]
    },
    {
     "name": "stderr",
     "output_type": "stream",
     "text": [
      " 41%|████      | 205/500 [1:08:20<1:37:01, 19.73s/it]"
     ]
    },
    {
     "name": "stdout",
     "output_type": "stream",
     "text": [
      "{'C': 0.0, 'B': 10, 'learning_rate': 0.01, 'comm_round': 205, 'train_acc': 0.979, 'test_acc': 0.9735, 'train_loss': 0.0664, 'test_loss': 0.0974}\n"
     ]
    },
    {
     "name": "stderr",
     "output_type": "stream",
     "text": [
      " 41%|████      | 206/500 [1:08:39<1:36:06, 19.61s/it]"
     ]
    },
    {
     "name": "stdout",
     "output_type": "stream",
     "text": [
      "{'C': 0.0, 'B': 10, 'learning_rate': 0.01, 'comm_round': 206, 'train_acc': 0.9789, 'test_acc': 0.9731, 'train_loss': 0.0652, 'test_loss': 0.0967}\n"
     ]
    },
    {
     "name": "stderr",
     "output_type": "stream",
     "text": [
      " 41%|████▏     | 207/500 [1:08:58<1:35:14, 19.50s/it]"
     ]
    },
    {
     "name": "stdout",
     "output_type": "stream",
     "text": [
      "{'C': 0.0, 'B': 10, 'learning_rate': 0.01, 'comm_round': 207, 'train_acc': 0.9822, 'test_acc': 0.9768, 'train_loss': 0.0535, 'test_loss': 0.0834}\n"
     ]
    },
    {
     "name": "stderr",
     "output_type": "stream",
     "text": [
      " 42%|████▏     | 208/500 [1:09:18<1:34:40, 19.45s/it]"
     ]
    },
    {
     "name": "stdout",
     "output_type": "stream",
     "text": [
      "{'C': 0.0, 'B': 10, 'learning_rate': 0.01, 'comm_round': 208, 'train_acc': 0.9844, 'test_acc': 0.98, 'train_loss': 0.0442, 'test_loss': 0.0704}\n"
     ]
    },
    {
     "name": "stderr",
     "output_type": "stream",
     "text": [
      " 42%|████▏     | 209/500 [1:09:37<1:34:58, 19.58s/it]"
     ]
    },
    {
     "name": "stdout",
     "output_type": "stream",
     "text": [
      "{'C': 0.0, 'B': 10, 'learning_rate': 0.01, 'comm_round': 209, 'train_acc': 0.983, 'test_acc': 0.9789, 'train_loss': 0.0504, 'test_loss': 0.0762}\n"
     ]
    },
    {
     "name": "stderr",
     "output_type": "stream",
     "text": [
      " 42%|████▏     | 210/500 [1:09:57<1:34:56, 19.64s/it]"
     ]
    },
    {
     "name": "stdout",
     "output_type": "stream",
     "text": [
      "{'C': 0.0, 'B': 10, 'learning_rate': 0.01, 'comm_round': 210, 'train_acc': 0.9824, 'test_acc': 0.9784, 'train_loss': 0.0522, 'test_loss': 0.0796}\n"
     ]
    },
    {
     "name": "stderr",
     "output_type": "stream",
     "text": [
      " 42%|████▏     | 211/500 [1:10:17<1:34:29, 19.62s/it]"
     ]
    },
    {
     "name": "stdout",
     "output_type": "stream",
     "text": [
      "{'C': 0.0, 'B': 10, 'learning_rate': 0.01, 'comm_round': 211, 'train_acc': 0.9837, 'test_acc': 0.9795, 'train_loss': 0.0487, 'test_loss': 0.0764}\n"
     ]
    },
    {
     "name": "stderr",
     "output_type": "stream",
     "text": [
      " 42%|████▏     | 212/500 [1:10:36<1:34:06, 19.61s/it]"
     ]
    },
    {
     "name": "stdout",
     "output_type": "stream",
     "text": [
      "{'C': 0.0, 'B': 10, 'learning_rate': 0.01, 'comm_round': 212, 'train_acc': 0.98, 'test_acc': 0.9748, 'train_loss': 0.062, 'test_loss': 0.0928}\n"
     ]
    },
    {
     "name": "stderr",
     "output_type": "stream",
     "text": [
      " 43%|████▎     | 213/500 [1:10:56<1:33:24, 19.53s/it]"
     ]
    },
    {
     "name": "stdout",
     "output_type": "stream",
     "text": [
      "{'C': 0.0, 'B': 10, 'learning_rate': 0.01, 'comm_round': 213, 'train_acc': 0.9894, 'test_acc': 0.9842, 'train_loss': 0.0322, 'test_loss': 0.0555}\n"
     ]
    },
    {
     "name": "stderr",
     "output_type": "stream",
     "text": [
      " 43%|████▎     | 214/500 [1:11:15<1:32:46, 19.46s/it]"
     ]
    },
    {
     "name": "stdout",
     "output_type": "stream",
     "text": [
      "{'C': 0.0, 'B': 10, 'learning_rate': 0.01, 'comm_round': 214, 'train_acc': 0.9893, 'test_acc': 0.9839, 'train_loss': 0.0324, 'test_loss': 0.056}\n"
     ]
    },
    {
     "name": "stderr",
     "output_type": "stream",
     "text": [
      " 43%|████▎     | 215/500 [1:11:34<1:32:22, 19.45s/it]"
     ]
    },
    {
     "name": "stdout",
     "output_type": "stream",
     "text": [
      "{'C': 0.0, 'B': 10, 'learning_rate': 0.01, 'comm_round': 215, 'train_acc': 0.9854, 'test_acc': 0.9808, 'train_loss': 0.0468, 'test_loss': 0.0727}\n"
     ]
    },
    {
     "name": "stderr",
     "output_type": "stream",
     "text": [
      " 43%|████▎     | 216/500 [1:11:55<1:33:09, 19.68s/it]"
     ]
    },
    {
     "name": "stdout",
     "output_type": "stream",
     "text": [
      "{'C': 0.0, 'B': 10, 'learning_rate': 0.01, 'comm_round': 216, 'train_acc': 0.9852, 'test_acc': 0.9811, 'train_loss': 0.0471, 'test_loss': 0.0719}\n"
     ]
    },
    {
     "name": "stderr",
     "output_type": "stream",
     "text": [
      " 43%|████▎     | 217/500 [1:12:14<1:32:08, 19.54s/it]"
     ]
    },
    {
     "name": "stdout",
     "output_type": "stream",
     "text": [
      "{'C': 0.0, 'B': 10, 'learning_rate': 0.01, 'comm_round': 217, 'train_acc': 0.9826, 'test_acc': 0.9796, 'train_loss': 0.0539, 'test_loss': 0.079}\n"
     ]
    },
    {
     "name": "stderr",
     "output_type": "stream",
     "text": [
      " 44%|████▎     | 218/500 [1:12:34<1:32:26, 19.67s/it]"
     ]
    },
    {
     "name": "stdout",
     "output_type": "stream",
     "text": [
      "{'C': 0.0, 'B': 10, 'learning_rate': 0.01, 'comm_round': 218, 'train_acc': 0.9843, 'test_acc': 0.9782, 'train_loss': 0.052, 'test_loss': 0.0806}\n"
     ]
    },
    {
     "name": "stderr",
     "output_type": "stream",
     "text": [
      " 44%|████▍     | 219/500 [1:12:56<1:35:26, 20.38s/it]"
     ]
    },
    {
     "name": "stdout",
     "output_type": "stream",
     "text": [
      "{'C': 0.0, 'B': 10, 'learning_rate': 0.01, 'comm_round': 219, 'train_acc': 0.9841, 'test_acc': 0.9804, 'train_loss': 0.0505, 'test_loss': 0.0763}\n"
     ]
    },
    {
     "name": "stderr",
     "output_type": "stream",
     "text": [
      " 44%|████▍     | 220/500 [1:13:19<1:38:59, 21.21s/it]"
     ]
    },
    {
     "name": "stdout",
     "output_type": "stream",
     "text": [
      "{'C': 0.0, 'B': 10, 'learning_rate': 0.01, 'comm_round': 220, 'train_acc': 0.9835, 'test_acc': 0.9803, 'train_loss': 0.0525, 'test_loss': 0.0776}\n"
     ]
    },
    {
     "name": "stderr",
     "output_type": "stream",
     "text": [
      " 44%|████▍     | 221/500 [1:13:44<1:44:00, 22.37s/it]"
     ]
    },
    {
     "name": "stdout",
     "output_type": "stream",
     "text": [
      "{'C': 0.0, 'B': 10, 'learning_rate': 0.01, 'comm_round': 221, 'train_acc': 0.9831, 'test_acc': 0.9808, 'train_loss': 0.0507, 'test_loss': 0.0753}\n"
     ]
    },
    {
     "name": "stderr",
     "output_type": "stream",
     "text": [
      " 44%|████▍     | 222/500 [1:14:07<1:44:23, 22.53s/it]"
     ]
    },
    {
     "name": "stdout",
     "output_type": "stream",
     "text": [
      "{'C': 0.0, 'B': 10, 'learning_rate': 0.01, 'comm_round': 222, 'train_acc': 0.9853, 'test_acc': 0.9814, 'train_loss': 0.0451, 'test_loss': 0.0721}\n"
     ]
    },
    {
     "name": "stderr",
     "output_type": "stream",
     "text": [
      " 45%|████▍     | 223/500 [1:14:28<1:41:30, 21.99s/it]"
     ]
    },
    {
     "name": "stdout",
     "output_type": "stream",
     "text": [
      "{'C': 0.0, 'B': 10, 'learning_rate': 0.01, 'comm_round': 223, 'train_acc': 0.9731, 'test_acc': 0.9712, 'train_loss': 0.084, 'test_loss': 0.1033}\n"
     ]
    },
    {
     "name": "stderr",
     "output_type": "stream",
     "text": [
      " 45%|████▍     | 224/500 [1:14:47<1:38:02, 21.31s/it]"
     ]
    },
    {
     "name": "stdout",
     "output_type": "stream",
     "text": [
      "{'C': 0.0, 'B': 10, 'learning_rate': 0.01, 'comm_round': 224, 'train_acc': 0.9732, 'test_acc': 0.9713, 'train_loss': 0.0836, 'test_loss': 0.1034}\n"
     ]
    },
    {
     "name": "stderr",
     "output_type": "stream",
     "text": [
      " 45%|████▌     | 225/500 [1:15:11<1:40:45, 21.98s/it]"
     ]
    },
    {
     "name": "stdout",
     "output_type": "stream",
     "text": [
      "{'C': 0.0, 'B': 10, 'learning_rate': 0.01, 'comm_round': 225, 'train_acc': 0.9776, 'test_acc': 0.9759, 'train_loss': 0.0684, 'test_loss': 0.0897}\n"
     ]
    },
    {
     "name": "stderr",
     "output_type": "stream",
     "text": [
      " 45%|████▌     | 226/500 [1:15:32<1:38:53, 21.66s/it]"
     ]
    },
    {
     "name": "stdout",
     "output_type": "stream",
     "text": [
      "{'C': 0.0, 'B': 10, 'learning_rate': 0.01, 'comm_round': 226, 'train_acc': 0.9806, 'test_acc': 0.9749, 'train_loss': 0.0602, 'test_loss': 0.0881}\n"
     ]
    },
    {
     "name": "stderr",
     "output_type": "stream",
     "text": [
      " 45%|████▌     | 227/500 [1:15:56<1:41:44, 22.36s/it]"
     ]
    },
    {
     "name": "stdout",
     "output_type": "stream",
     "text": [
      "{'C': 0.0, 'B': 10, 'learning_rate': 0.01, 'comm_round': 227, 'train_acc': 0.9793, 'test_acc': 0.9731, 'train_loss': 0.0638, 'test_loss': 0.0926}\n"
     ]
    },
    {
     "name": "stderr",
     "output_type": "stream",
     "text": [
      " 46%|████▌     | 228/500 [1:16:25<1:50:46, 24.44s/it]"
     ]
    },
    {
     "name": "stdout",
     "output_type": "stream",
     "text": [
      "{'C': 0.0, 'B': 10, 'learning_rate': 0.01, 'comm_round': 228, 'train_acc': 0.98, 'test_acc': 0.9746, 'train_loss': 0.062, 'test_loss': 0.0901}\n"
     ]
    },
    {
     "name": "stderr",
     "output_type": "stream",
     "text": [
      " 46%|████▌     | 229/500 [1:16:48<1:48:20, 23.99s/it]"
     ]
    },
    {
     "name": "stdout",
     "output_type": "stream",
     "text": [
      "{'C': 0.0, 'B': 10, 'learning_rate': 0.01, 'comm_round': 229, 'train_acc': 0.9804, 'test_acc': 0.9759, 'train_loss': 0.0605, 'test_loss': 0.0887}\n"
     ]
    },
    {
     "name": "stderr",
     "output_type": "stream",
     "text": [
      " 46%|████▌     | 230/500 [1:17:09<1:43:10, 22.93s/it]"
     ]
    },
    {
     "name": "stdout",
     "output_type": "stream",
     "text": [
      "{'C': 0.0, 'B': 10, 'learning_rate': 0.01, 'comm_round': 230, 'train_acc': 0.9832, 'test_acc': 0.9775, 'train_loss': 0.0532, 'test_loss': 0.0844}\n"
     ]
    },
    {
     "name": "stderr",
     "output_type": "stream",
     "text": [
      " 46%|████▌     | 231/500 [1:17:31<1:42:21, 22.83s/it]"
     ]
    },
    {
     "name": "stdout",
     "output_type": "stream",
     "text": [
      "{'C': 0.0, 'B': 10, 'learning_rate': 0.01, 'comm_round': 231, 'train_acc': 0.9843, 'test_acc': 0.979, 'train_loss': 0.0497, 'test_loss': 0.0805}\n"
     ]
    },
    {
     "name": "stderr",
     "output_type": "stream",
     "text": [
      " 46%|████▋     | 232/500 [1:17:52<1:38:37, 22.08s/it]"
     ]
    },
    {
     "name": "stdout",
     "output_type": "stream",
     "text": [
      "{'C': 0.0, 'B': 10, 'learning_rate': 0.01, 'comm_round': 232, 'train_acc': 0.9845, 'test_acc': 0.9795, 'train_loss': 0.0485, 'test_loss': 0.0761}\n"
     ]
    },
    {
     "name": "stderr",
     "output_type": "stream",
     "text": [
      " 47%|████▋     | 233/500 [1:18:18<1:43:44, 23.31s/it]"
     ]
    },
    {
     "name": "stdout",
     "output_type": "stream",
     "text": [
      "{'C': 0.0, 'B': 10, 'learning_rate': 0.01, 'comm_round': 233, 'train_acc': 0.9854, 'test_acc': 0.9775, 'train_loss': 0.043, 'test_loss': 0.0793}\n"
     ]
    },
    {
     "name": "stderr",
     "output_type": "stream",
     "text": [
      " 47%|████▋     | 234/500 [1:18:42<1:44:22, 23.54s/it]"
     ]
    },
    {
     "name": "stdout",
     "output_type": "stream",
     "text": [
      "{'C': 0.0, 'B': 10, 'learning_rate': 0.01, 'comm_round': 234, 'train_acc': 0.9848, 'test_acc': 0.9769, 'train_loss': 0.0451, 'test_loss': 0.0821}\n"
     ]
    },
    {
     "name": "stderr",
     "output_type": "stream",
     "text": [
      " 47%|████▋     | 235/500 [1:19:04<1:42:23, 23.18s/it]"
     ]
    },
    {
     "name": "stdout",
     "output_type": "stream",
     "text": [
      "{'C': 0.0, 'B': 10, 'learning_rate': 0.01, 'comm_round': 235, 'train_acc': 0.9846, 'test_acc': 0.9786, 'train_loss': 0.0461, 'test_loss': 0.0819}\n"
     ]
    },
    {
     "name": "stderr",
     "output_type": "stream",
     "text": [
      " 47%|████▋     | 236/500 [1:19:26<1:40:25, 22.82s/it]"
     ]
    },
    {
     "name": "stdout",
     "output_type": "stream",
     "text": [
      "{'C': 0.0, 'B': 10, 'learning_rate': 0.01, 'comm_round': 236, 'train_acc': 0.9844, 'test_acc': 0.9778, 'train_loss': 0.0469, 'test_loss': 0.0838}\n"
     ]
    },
    {
     "name": "stderr",
     "output_type": "stream",
     "text": [
      " 47%|████▋     | 237/500 [1:19:47<1:37:02, 22.14s/it]"
     ]
    },
    {
     "name": "stdout",
     "output_type": "stream",
     "text": [
      "{'C': 0.0, 'B': 10, 'learning_rate': 0.01, 'comm_round': 237, 'train_acc': 0.9841, 'test_acc': 0.9778, 'train_loss': 0.0484, 'test_loss': 0.0851}\n"
     ]
    },
    {
     "name": "stderr",
     "output_type": "stream",
     "text": [
      " 48%|████▊     | 238/500 [1:20:08<1:35:30, 21.87s/it]"
     ]
    },
    {
     "name": "stdout",
     "output_type": "stream",
     "text": [
      "{'C': 0.0, 'B': 10, 'learning_rate': 0.01, 'comm_round': 238, 'train_acc': 0.9837, 'test_acc': 0.9767, 'train_loss': 0.0502, 'test_loss': 0.087}\n"
     ]
    },
    {
     "name": "stderr",
     "output_type": "stream",
     "text": [
      " 48%|████▊     | 239/500 [1:20:30<1:35:54, 22.05s/it]"
     ]
    },
    {
     "name": "stdout",
     "output_type": "stream",
     "text": [
      "{'C': 0.0, 'B': 10, 'learning_rate': 0.01, 'comm_round': 239, 'train_acc': 0.9808, 'test_acc': 0.975, 'train_loss': 0.0576, 'test_loss': 0.0959}\n"
     ]
    },
    {
     "name": "stderr",
     "output_type": "stream",
     "text": [
      " 48%|████▊     | 240/500 [1:20:52<1:35:36, 22.06s/it]"
     ]
    },
    {
     "name": "stdout",
     "output_type": "stream",
     "text": [
      "{'C': 0.0, 'B': 10, 'learning_rate': 0.01, 'comm_round': 240, 'train_acc': 0.9824, 'test_acc': 0.9762, 'train_loss': 0.0524, 'test_loss': 0.0913}\n"
     ]
    },
    {
     "name": "stderr",
     "output_type": "stream",
     "text": [
      " 48%|████▊     | 241/500 [1:21:18<1:39:33, 23.06s/it]"
     ]
    },
    {
     "name": "stdout",
     "output_type": "stream",
     "text": [
      "{'C': 0.0, 'B': 10, 'learning_rate': 0.01, 'comm_round': 241, 'train_acc': 0.9828, 'test_acc': 0.9756, 'train_loss': 0.0532, 'test_loss': 0.0903}\n"
     ]
    },
    {
     "name": "stderr",
     "output_type": "stream",
     "text": [
      " 48%|████▊     | 242/500 [1:21:37<1:34:26, 21.96s/it]"
     ]
    },
    {
     "name": "stdout",
     "output_type": "stream",
     "text": [
      "{'C': 0.0, 'B': 10, 'learning_rate': 0.01, 'comm_round': 242, 'train_acc': 0.9863, 'test_acc': 0.9781, 'train_loss': 0.0387, 'test_loss': 0.0799}\n"
     ]
    },
    {
     "name": "stderr",
     "output_type": "stream",
     "text": [
      " 49%|████▊     | 243/500 [1:21:58<1:32:12, 21.53s/it]"
     ]
    },
    {
     "name": "stdout",
     "output_type": "stream",
     "text": [
      "{'C': 0.0, 'B': 10, 'learning_rate': 0.01, 'comm_round': 243, 'train_acc': 0.9841, 'test_acc': 0.9787, 'train_loss': 0.0454, 'test_loss': 0.082}\n"
     ]
    },
    {
     "name": "stderr",
     "output_type": "stream",
     "text": [
      " 49%|████▉     | 244/500 [1:22:21<1:33:35, 21.94s/it]"
     ]
    },
    {
     "name": "stdout",
     "output_type": "stream",
     "text": [
      "{'C': 0.0, 'B': 10, 'learning_rate': 0.01, 'comm_round': 244, 'train_acc': 0.9833, 'test_acc': 0.9752, 'train_loss': 0.0483, 'test_loss': 0.0827}\n"
     ]
    },
    {
     "name": "stderr",
     "output_type": "stream",
     "text": [
      " 49%|████▉     | 245/500 [1:22:47<1:38:29, 23.17s/it]"
     ]
    },
    {
     "name": "stdout",
     "output_type": "stream",
     "text": [
      "{'C': 0.0, 'B': 10, 'learning_rate': 0.01, 'comm_round': 245, 'train_acc': 0.9788, 'test_acc': 0.9712, 'train_loss': 0.0628, 'test_loss': 0.0973}\n"
     ]
    },
    {
     "name": "stderr",
     "output_type": "stream",
     "text": [
      " 49%|████▉     | 246/500 [1:23:09<1:36:37, 22.83s/it]"
     ]
    },
    {
     "name": "stdout",
     "output_type": "stream",
     "text": [
      "{'C': 0.0, 'B': 10, 'learning_rate': 0.01, 'comm_round': 246, 'train_acc': 0.9831, 'test_acc': 0.9764, 'train_loss': 0.0499, 'test_loss': 0.0775}\n"
     ]
    },
    {
     "name": "stderr",
     "output_type": "stream",
     "text": [
      " 49%|████▉     | 247/500 [1:23:30<1:33:43, 22.23s/it]"
     ]
    },
    {
     "name": "stdout",
     "output_type": "stream",
     "text": [
      "{'C': 0.0, 'B': 10, 'learning_rate': 0.01, 'comm_round': 247, 'train_acc': 0.978, 'test_acc': 0.9724, 'train_loss': 0.0696, 'test_loss': 0.0995}\n"
     ]
    },
    {
     "name": "stderr",
     "output_type": "stream",
     "text": [
      " 50%|████▉     | 248/500 [1:23:49<1:29:29, 21.31s/it]"
     ]
    },
    {
     "name": "stdout",
     "output_type": "stream",
     "text": [
      "{'C': 0.0, 'B': 10, 'learning_rate': 0.01, 'comm_round': 248, 'train_acc': 0.9581, 'test_acc': 0.9507, 'train_loss': 0.1264, 'test_loss': 0.1697}\n"
     ]
    },
    {
     "name": "stderr",
     "output_type": "stream",
     "text": [
      " 50%|████▉     | 249/500 [1:24:08<1:26:21, 20.64s/it]"
     ]
    },
    {
     "name": "stdout",
     "output_type": "stream",
     "text": [
      "{'C': 0.0, 'B': 10, 'learning_rate': 0.01, 'comm_round': 249, 'train_acc': 0.989, 'test_acc': 0.9814, 'train_loss': 0.0317, 'test_loss': 0.0647}\n"
     ]
    },
    {
     "name": "stderr",
     "output_type": "stream",
     "text": [
      " 50%|█████     | 250/500 [1:24:30<1:27:25, 20.98s/it]"
     ]
    },
    {
     "name": "stdout",
     "output_type": "stream",
     "text": [
      "{'C': 0.0, 'B': 10, 'learning_rate': 0.01, 'comm_round': 250, 'train_acc': 0.9847, 'test_acc': 0.9779, 'train_loss': 0.0462, 'test_loss': 0.0804}\n"
     ]
    },
    {
     "name": "stderr",
     "output_type": "stream",
     "text": [
      " 50%|█████     | 251/500 [1:24:52<1:28:47, 21.40s/it]"
     ]
    },
    {
     "name": "stdout",
     "output_type": "stream",
     "text": [
      "{'C': 0.0, 'B': 10, 'learning_rate': 0.01, 'comm_round': 251, 'train_acc': 0.9833, 'test_acc': 0.9772, 'train_loss': 0.0506, 'test_loss': 0.0852}\n"
     ]
    },
    {
     "name": "stderr",
     "output_type": "stream",
     "text": [
      " 50%|█████     | 252/500 [1:25:12<1:26:37, 20.96s/it]"
     ]
    },
    {
     "name": "stdout",
     "output_type": "stream",
     "text": [
      "{'C': 0.0, 'B': 10, 'learning_rate': 0.01, 'comm_round': 252, 'train_acc': 0.9832, 'test_acc': 0.9777, 'train_loss': 0.0507, 'test_loss': 0.0795}\n"
     ]
    },
    {
     "name": "stderr",
     "output_type": "stream",
     "text": [
      " 51%|█████     | 253/500 [1:25:33<1:26:18, 20.97s/it]"
     ]
    },
    {
     "name": "stdout",
     "output_type": "stream",
     "text": [
      "{'C': 0.0, 'B': 10, 'learning_rate': 0.01, 'comm_round': 253, 'train_acc': 0.9835, 'test_acc': 0.9783, 'train_loss': 0.049, 'test_loss': 0.0828}\n"
     ]
    },
    {
     "name": "stderr",
     "output_type": "stream",
     "text": [
      " 51%|█████     | 254/500 [1:25:55<1:27:23, 21.32s/it]"
     ]
    },
    {
     "name": "stdout",
     "output_type": "stream",
     "text": [
      "{'C': 0.0, 'B': 10, 'learning_rate': 0.01, 'comm_round': 254, 'train_acc': 0.9836, 'test_acc': 0.9784, 'train_loss': 0.0483, 'test_loss': 0.083}\n"
     ]
    },
    {
     "name": "stderr",
     "output_type": "stream",
     "text": [
      " 51%|█████     | 255/500 [1:26:19<1:30:53, 22.26s/it]"
     ]
    },
    {
     "name": "stdout",
     "output_type": "stream",
     "text": [
      "{'C': 0.0, 'B': 10, 'learning_rate': 0.01, 'comm_round': 255, 'train_acc': 0.9836, 'test_acc': 0.9786, 'train_loss': 0.0485, 'test_loss': 0.0833}\n"
     ]
    },
    {
     "name": "stderr",
     "output_type": "stream",
     "text": [
      " 51%|█████     | 256/500 [1:26:48<1:37:52, 24.07s/it]"
     ]
    },
    {
     "name": "stdout",
     "output_type": "stream",
     "text": [
      "{'C': 0.0, 'B': 10, 'learning_rate': 0.01, 'comm_round': 256, 'train_acc': 0.983, 'test_acc': 0.9774, 'train_loss': 0.0518, 'test_loss': 0.0884}\n"
     ]
    },
    {
     "name": "stderr",
     "output_type": "stream",
     "text": [
      " 51%|█████▏    | 257/500 [1:27:10<1:35:13, 23.51s/it]"
     ]
    },
    {
     "name": "stdout",
     "output_type": "stream",
     "text": [
      "{'C': 0.0, 'B': 10, 'learning_rate': 0.01, 'comm_round': 257, 'train_acc': 0.9827, 'test_acc': 0.9768, 'train_loss': 0.0534, 'test_loss': 0.0901}\n"
     ]
    },
    {
     "name": "stderr",
     "output_type": "stream",
     "text": [
      " 52%|█████▏    | 258/500 [1:27:32<1:32:37, 22.96s/it]"
     ]
    },
    {
     "name": "stdout",
     "output_type": "stream",
     "text": [
      "{'C': 0.0, 'B': 10, 'learning_rate': 0.01, 'comm_round': 258, 'train_acc': 0.9879, 'test_acc': 0.981, 'train_loss': 0.0354, 'test_loss': 0.0695}\n"
     ]
    },
    {
     "name": "stderr",
     "output_type": "stream",
     "text": [
      " 52%|█████▏    | 259/500 [1:27:55<1:32:44, 23.09s/it]"
     ]
    },
    {
     "name": "stdout",
     "output_type": "stream",
     "text": [
      "{'C': 0.0, 'B': 10, 'learning_rate': 0.01, 'comm_round': 259, 'train_acc': 0.9757, 'test_acc': 0.9682, 'train_loss': 0.0779, 'test_loss': 0.1278}\n"
     ]
    },
    {
     "name": "stderr",
     "output_type": "stream",
     "text": [
      " 52%|█████▏    | 260/500 [1:28:17<1:30:50, 22.71s/it]"
     ]
    },
    {
     "name": "stdout",
     "output_type": "stream",
     "text": [
      "{'C': 0.0, 'B': 10, 'learning_rate': 0.01, 'comm_round': 260, 'train_acc': 0.9871, 'test_acc': 0.9803, 'train_loss': 0.0385, 'test_loss': 0.0783}\n"
     ]
    },
    {
     "name": "stderr",
     "output_type": "stream",
     "text": [
      " 52%|█████▏    | 261/500 [1:28:39<1:29:20, 22.43s/it]"
     ]
    },
    {
     "name": "stdout",
     "output_type": "stream",
     "text": [
      "{'C': 0.0, 'B': 10, 'learning_rate': 0.01, 'comm_round': 261, 'train_acc': 0.9892, 'test_acc': 0.9812, 'train_loss': 0.0325, 'test_loss': 0.0717}\n"
     ]
    },
    {
     "name": "stderr",
     "output_type": "stream",
     "text": [
      " 52%|█████▏    | 262/500 [1:29:00<1:27:24, 22.04s/it]"
     ]
    },
    {
     "name": "stdout",
     "output_type": "stream",
     "text": [
      "{'C': 0.0, 'B': 10, 'learning_rate': 0.01, 'comm_round': 262, 'train_acc': 0.9868, 'test_acc': 0.9787, 'train_loss': 0.041, 'test_loss': 0.0826}\n"
     ]
    },
    {
     "name": "stderr",
     "output_type": "stream",
     "text": [
      " 53%|█████▎    | 263/500 [1:29:22<1:27:23, 22.13s/it]"
     ]
    },
    {
     "name": "stdout",
     "output_type": "stream",
     "text": [
      "{'C': 0.0, 'B': 10, 'learning_rate': 0.01, 'comm_round': 263, 'train_acc': 0.9839, 'test_acc': 0.9759, 'train_loss': 0.0515, 'test_loss': 0.0945}\n"
     ]
    },
    {
     "name": "stderr",
     "output_type": "stream",
     "text": [
      " 53%|█████▎    | 264/500 [1:29:44<1:26:47, 22.06s/it]"
     ]
    },
    {
     "name": "stdout",
     "output_type": "stream",
     "text": [
      "{'C': 0.0, 'B': 10, 'learning_rate': 0.01, 'comm_round': 264, 'train_acc': 0.9799, 'test_acc': 0.9704, 'train_loss': 0.0604, 'test_loss': 0.1062}\n"
     ]
    },
    {
     "name": "stderr",
     "output_type": "stream",
     "text": [
      " 53%|█████▎    | 265/500 [1:30:07<1:27:02, 22.23s/it]"
     ]
    },
    {
     "name": "stdout",
     "output_type": "stream",
     "text": [
      "{'C': 0.0, 'B': 10, 'learning_rate': 0.01, 'comm_round': 265, 'train_acc': 0.9791, 'test_acc': 0.9702, 'train_loss': 0.0655, 'test_loss': 0.1136}\n"
     ]
    },
    {
     "name": "stderr",
     "output_type": "stream",
     "text": [
      " 53%|█████▎    | 266/500 [1:30:28<1:25:38, 21.96s/it]"
     ]
    },
    {
     "name": "stdout",
     "output_type": "stream",
     "text": [
      "{'C': 0.0, 'B': 10, 'learning_rate': 0.01, 'comm_round': 266, 'train_acc': 0.981, 'test_acc': 0.9718, 'train_loss': 0.0587, 'test_loss': 0.1015}\n"
     ]
    },
    {
     "name": "stderr",
     "output_type": "stream",
     "text": [
      " 53%|█████▎    | 267/500 [1:30:49<1:23:42, 21.55s/it]"
     ]
    },
    {
     "name": "stdout",
     "output_type": "stream",
     "text": [
      "{'C': 0.0, 'B': 10, 'learning_rate': 0.01, 'comm_round': 267, 'train_acc': 0.9816, 'test_acc': 0.9724, 'train_loss': 0.0573, 'test_loss': 0.0987}\n"
     ]
    },
    {
     "name": "stderr",
     "output_type": "stream",
     "text": [
      " 54%|█████▎    | 268/500 [1:31:15<1:29:19, 23.10s/it]"
     ]
    },
    {
     "name": "stdout",
     "output_type": "stream",
     "text": [
      "{'C': 0.0, 'B': 10, 'learning_rate': 0.01, 'comm_round': 268, 'train_acc': 0.9821, 'test_acc': 0.9755, 'train_loss': 0.0536, 'test_loss': 0.0837}\n"
     ]
    },
    {
     "name": "stderr",
     "output_type": "stream",
     "text": [
      " 54%|█████▍    | 269/500 [1:31:37<1:27:26, 22.71s/it]"
     ]
    },
    {
     "name": "stdout",
     "output_type": "stream",
     "text": [
      "{'C': 0.0, 'B': 10, 'learning_rate': 0.01, 'comm_round': 269, 'train_acc': 0.9895, 'test_acc': 0.984, 'train_loss': 0.0303, 'test_loss': 0.0567}\n"
     ]
    },
    {
     "name": "stderr",
     "output_type": "stream",
     "text": [
      " 54%|█████▍    | 270/500 [1:31:57<1:23:22, 21.75s/it]"
     ]
    },
    {
     "name": "stdout",
     "output_type": "stream",
     "text": [
      "{'C': 0.0, 'B': 10, 'learning_rate': 0.01, 'comm_round': 270, 'train_acc': 0.9886, 'test_acc': 0.983, 'train_loss': 0.033, 'test_loss': 0.0591}\n"
     ]
    },
    {
     "name": "stderr",
     "output_type": "stream",
     "text": [
      " 54%|█████▍    | 271/500 [1:32:17<1:21:14, 21.29s/it]"
     ]
    },
    {
     "name": "stdout",
     "output_type": "stream",
     "text": [
      "{'C': 0.0, 'B': 10, 'learning_rate': 0.01, 'comm_round': 271, 'train_acc': 0.988, 'test_acc': 0.9833, 'train_loss': 0.0341, 'test_loss': 0.0598}\n"
     ]
    },
    {
     "name": "stderr",
     "output_type": "stream",
     "text": [
      " 54%|█████▍    | 272/500 [1:32:36<1:18:55, 20.77s/it]"
     ]
    },
    {
     "name": "stdout",
     "output_type": "stream",
     "text": [
      "{'C': 0.0, 'B': 10, 'learning_rate': 0.01, 'comm_round': 272, 'train_acc': 0.9895, 'test_acc': 0.9835, 'train_loss': 0.0305, 'test_loss': 0.0548}\n"
     ]
    },
    {
     "name": "stderr",
     "output_type": "stream",
     "text": [
      " 55%|█████▍    | 273/500 [1:32:58<1:19:16, 20.95s/it]"
     ]
    },
    {
     "name": "stdout",
     "output_type": "stream",
     "text": [
      "{'C': 0.0, 'B': 10, 'learning_rate': 0.01, 'comm_round': 273, 'train_acc': 0.9889, 'test_acc': 0.9814, 'train_loss': 0.0331, 'test_loss': 0.0594}\n"
     ]
    },
    {
     "name": "stderr",
     "output_type": "stream",
     "text": [
      " 55%|█████▍    | 274/500 [1:33:18<1:17:54, 20.68s/it]"
     ]
    },
    {
     "name": "stdout",
     "output_type": "stream",
     "text": [
      "{'C': 0.0, 'B': 10, 'learning_rate': 0.01, 'comm_round': 274, 'train_acc': 0.9842, 'test_acc': 0.9759, 'train_loss': 0.0457, 'test_loss': 0.0794}\n"
     ]
    },
    {
     "name": "stderr",
     "output_type": "stream",
     "text": [
      " 55%|█████▌    | 275/500 [1:33:42<1:21:46, 21.81s/it]"
     ]
    },
    {
     "name": "stdout",
     "output_type": "stream",
     "text": [
      "{'C': 0.0, 'B': 10, 'learning_rate': 0.01, 'comm_round': 275, 'train_acc': 0.9844, 'test_acc': 0.9763, 'train_loss': 0.044, 'test_loss': 0.0773}\n"
     ]
    },
    {
     "name": "stderr",
     "output_type": "stream",
     "text": [
      " 55%|█████▌    | 276/500 [1:34:02<1:18:55, 21.14s/it]"
     ]
    },
    {
     "name": "stdout",
     "output_type": "stream",
     "text": [
      "{'C': 0.0, 'B': 10, 'learning_rate': 0.01, 'comm_round': 276, 'train_acc': 0.9816, 'test_acc': 0.9749, 'train_loss': 0.0554, 'test_loss': 0.0856}\n"
     ]
    },
    {
     "name": "stderr",
     "output_type": "stream",
     "text": [
      " 55%|█████▌    | 277/500 [1:34:23<1:18:53, 21.23s/it]"
     ]
    },
    {
     "name": "stdout",
     "output_type": "stream",
     "text": [
      "{'C': 0.0, 'B': 10, 'learning_rate': 0.01, 'comm_round': 277, 'train_acc': 0.9847, 'test_acc': 0.9778, 'train_loss': 0.0452, 'test_loss': 0.072}\n"
     ]
    },
    {
     "name": "stderr",
     "output_type": "stream",
     "text": [
      " 56%|█████▌    | 278/500 [1:34:44<1:17:33, 20.96s/it]"
     ]
    },
    {
     "name": "stdout",
     "output_type": "stream",
     "text": [
      "{'C': 0.0, 'B': 10, 'learning_rate': 0.01, 'comm_round': 278, 'train_acc': 0.9846, 'test_acc': 0.9794, 'train_loss': 0.047, 'test_loss': 0.0699}\n"
     ]
    },
    {
     "name": "stderr",
     "output_type": "stream",
     "text": [
      " 56%|█████▌    | 279/500 [1:35:10<1:22:46, 22.47s/it]"
     ]
    },
    {
     "name": "stdout",
     "output_type": "stream",
     "text": [
      "{'C': 0.0, 'B': 10, 'learning_rate': 0.01, 'comm_round': 279, 'train_acc': 0.9857, 'test_acc': 0.9807, 'train_loss': 0.0429, 'test_loss': 0.0656}\n"
     ]
    },
    {
     "name": "stderr",
     "output_type": "stream",
     "text": [
      " 56%|█████▌    | 280/500 [1:35:29<1:18:33, 21.42s/it]"
     ]
    },
    {
     "name": "stdout",
     "output_type": "stream",
     "text": [
      "{'C': 0.0, 'B': 10, 'learning_rate': 0.01, 'comm_round': 280, 'train_acc': 0.9846, 'test_acc': 0.9799, 'train_loss': 0.0461, 'test_loss': 0.0686}\n"
     ]
    },
    {
     "name": "stderr",
     "output_type": "stream",
     "text": [
      " 56%|█████▌    | 281/500 [1:35:48<1:16:06, 20.85s/it]"
     ]
    },
    {
     "name": "stdout",
     "output_type": "stream",
     "text": [
      "{'C': 0.0, 'B': 10, 'learning_rate': 0.01, 'comm_round': 281, 'train_acc': 0.9846, 'test_acc': 0.9807, 'train_loss': 0.0463, 'test_loss': 0.0703}\n"
     ]
    },
    {
     "name": "stderr",
     "output_type": "stream",
     "text": [
      " 56%|█████▋    | 282/500 [1:36:07<1:13:41, 20.28s/it]"
     ]
    },
    {
     "name": "stdout",
     "output_type": "stream",
     "text": [
      "{'C': 0.0, 'B': 10, 'learning_rate': 0.01, 'comm_round': 282, 'train_acc': 0.9835, 'test_acc': 0.9783, 'train_loss': 0.0501, 'test_loss': 0.0792}\n"
     ]
    },
    {
     "name": "stderr",
     "output_type": "stream",
     "text": [
      " 57%|█████▋    | 283/500 [1:36:30<1:16:39, 21.19s/it]"
     ]
    },
    {
     "name": "stdout",
     "output_type": "stream",
     "text": [
      "{'C': 0.0, 'B': 10, 'learning_rate': 0.01, 'comm_round': 283, 'train_acc': 0.9829, 'test_acc': 0.9794, 'train_loss': 0.0521, 'test_loss': 0.0793}\n"
     ]
    },
    {
     "name": "stderr",
     "output_type": "stream",
     "text": [
      " 57%|█████▋    | 284/500 [1:36:51<1:15:37, 21.01s/it]"
     ]
    },
    {
     "name": "stdout",
     "output_type": "stream",
     "text": [
      "{'C': 0.0, 'B': 10, 'learning_rate': 0.01, 'comm_round': 284, 'train_acc': 0.9768, 'test_acc': 0.9685, 'train_loss': 0.0731, 'test_loss': 0.113}\n"
     ]
    },
    {
     "name": "stderr",
     "output_type": "stream",
     "text": [
      " 57%|█████▋    | 285/500 [1:37:13<1:16:20, 21.31s/it]"
     ]
    },
    {
     "name": "stdout",
     "output_type": "stream",
     "text": [
      "{'C': 0.0, 'B': 10, 'learning_rate': 0.01, 'comm_round': 285, 'train_acc': 0.9732, 'test_acc': 0.9688, 'train_loss': 0.0844, 'test_loss': 0.1079}\n"
     ]
    },
    {
     "name": "stderr",
     "output_type": "stream",
     "text": [
      " 57%|█████▋    | 286/500 [1:37:32<1:13:36, 20.64s/it]"
     ]
    },
    {
     "name": "stdout",
     "output_type": "stream",
     "text": [
      "{'C': 0.0, 'B': 10, 'learning_rate': 0.01, 'comm_round': 286, 'train_acc': 0.971, 'test_acc': 0.9682, 'train_loss': 0.0919, 'test_loss': 0.11}\n"
     ]
    },
    {
     "name": "stderr",
     "output_type": "stream",
     "text": [
      " 57%|█████▋    | 287/500 [1:37:52<1:12:27, 20.41s/it]"
     ]
    },
    {
     "name": "stdout",
     "output_type": "stream",
     "text": [
      "{'C': 0.0, 'B': 10, 'learning_rate': 0.01, 'comm_round': 287, 'train_acc': 0.97, 'test_acc': 0.9681, 'train_loss': 0.0942, 'test_loss': 0.1121}\n"
     ]
    },
    {
     "name": "stderr",
     "output_type": "stream",
     "text": [
      " 58%|█████▊    | 288/500 [1:38:12<1:11:51, 20.34s/it]"
     ]
    },
    {
     "name": "stdout",
     "output_type": "stream",
     "text": [
      "{'C': 0.0, 'B': 10, 'learning_rate': 0.01, 'comm_round': 288, 'train_acc': 0.9768, 'test_acc': 0.973, 'train_loss': 0.071, 'test_loss': 0.0929}\n"
     ]
    },
    {
     "name": "stderr",
     "output_type": "stream",
     "text": [
      " 58%|█████▊    | 289/500 [1:38:32<1:10:43, 20.11s/it]"
     ]
    },
    {
     "name": "stdout",
     "output_type": "stream",
     "text": [
      "{'C': 0.0, 'B': 10, 'learning_rate': 0.01, 'comm_round': 289, 'train_acc': 0.9807, 'test_acc': 0.9764, 'train_loss': 0.0584, 'test_loss': 0.0793}\n"
     ]
    },
    {
     "name": "stderr",
     "output_type": "stream",
     "text": [
      " 58%|█████▊    | 290/500 [1:38:52<1:10:36, 20.18s/it]"
     ]
    },
    {
     "name": "stdout",
     "output_type": "stream",
     "text": [
      "{'C': 0.0, 'B': 10, 'learning_rate': 0.01, 'comm_round': 290, 'train_acc': 0.9806, 'test_acc': 0.9766, 'train_loss': 0.0579, 'test_loss': 0.0773}\n"
     ]
    },
    {
     "name": "stderr",
     "output_type": "stream",
     "text": [
      " 58%|█████▊    | 291/500 [1:39:12<1:10:02, 20.11s/it]"
     ]
    },
    {
     "name": "stdout",
     "output_type": "stream",
     "text": [
      "{'C': 0.0, 'B': 10, 'learning_rate': 0.01, 'comm_round': 291, 'train_acc': 0.9772, 'test_acc': 0.9745, 'train_loss': 0.0697, 'test_loss': 0.0912}\n"
     ]
    },
    {
     "name": "stderr",
     "output_type": "stream",
     "text": [
      " 58%|█████▊    | 292/500 [1:39:31<1:08:09, 19.66s/it]"
     ]
    },
    {
     "name": "stdout",
     "output_type": "stream",
     "text": [
      "{'C': 0.0, 'B': 10, 'learning_rate': 0.01, 'comm_round': 292, 'train_acc': 0.9842, 'test_acc': 0.9779, 'train_loss': 0.0456, 'test_loss': 0.0747}\n"
     ]
    },
    {
     "name": "stderr",
     "output_type": "stream",
     "text": [
      " 59%|█████▊    | 293/500 [1:39:50<1:07:27, 19.55s/it]"
     ]
    },
    {
     "name": "stdout",
     "output_type": "stream",
     "text": [
      "{'C': 0.0, 'B': 10, 'learning_rate': 0.01, 'comm_round': 293, 'train_acc': 0.9823, 'test_acc': 0.9758, 'train_loss': 0.0527, 'test_loss': 0.0801}\n"
     ]
    },
    {
     "name": "stderr",
     "output_type": "stream",
     "text": [
      " 59%|█████▉    | 294/500 [1:40:09<1:07:06, 19.55s/it]"
     ]
    },
    {
     "name": "stdout",
     "output_type": "stream",
     "text": [
      "{'C': 0.0, 'B': 10, 'learning_rate': 0.01, 'comm_round': 294, 'train_acc': 0.9817, 'test_acc': 0.9757, 'train_loss': 0.0548, 'test_loss': 0.0805}\n"
     ]
    },
    {
     "name": "stderr",
     "output_type": "stream",
     "text": [
      " 59%|█████▉    | 295/500 [1:40:28<1:05:48, 19.26s/it]"
     ]
    },
    {
     "name": "stdout",
     "output_type": "stream",
     "text": [
      "{'C': 0.0, 'B': 10, 'learning_rate': 0.01, 'comm_round': 295, 'train_acc': 0.9838, 'test_acc': 0.9791, 'train_loss': 0.0482, 'test_loss': 0.0748}\n"
     ]
    },
    {
     "name": "stderr",
     "output_type": "stream",
     "text": [
      " 59%|█████▉    | 296/500 [1:40:48<1:05:49, 19.36s/it]"
     ]
    },
    {
     "name": "stdout",
     "output_type": "stream",
     "text": [
      "{'C': 0.0, 'B': 10, 'learning_rate': 0.01, 'comm_round': 296, 'train_acc': 0.9842, 'test_acc': 0.9791, 'train_loss': 0.0471, 'test_loss': 0.0709}\n"
     ]
    },
    {
     "name": "stderr",
     "output_type": "stream",
     "text": [
      " 59%|█████▉    | 297/500 [1:41:06<1:04:22, 19.03s/it]"
     ]
    },
    {
     "name": "stdout",
     "output_type": "stream",
     "text": [
      "{'C': 0.0, 'B': 10, 'learning_rate': 0.01, 'comm_round': 297, 'train_acc': 0.9828, 'test_acc': 0.9766, 'train_loss': 0.0509, 'test_loss': 0.0794}\n"
     ]
    },
    {
     "name": "stderr",
     "output_type": "stream",
     "text": [
      " 60%|█████▉    | 298/500 [1:41:25<1:04:05, 19.04s/it]"
     ]
    },
    {
     "name": "stdout",
     "output_type": "stream",
     "text": [
      "{'C': 0.0, 'B': 10, 'learning_rate': 0.01, 'comm_round': 298, 'train_acc': 0.9842, 'test_acc': 0.9776, 'train_loss': 0.0463, 'test_loss': 0.0758}\n"
     ]
    },
    {
     "name": "stderr",
     "output_type": "stream",
     "text": [
      " 60%|█████▉    | 299/500 [1:41:43<1:03:16, 18.89s/it]"
     ]
    },
    {
     "name": "stdout",
     "output_type": "stream",
     "text": [
      "{'C': 0.0, 'B': 10, 'learning_rate': 0.01, 'comm_round': 299, 'train_acc': 0.9851, 'test_acc': 0.98, 'train_loss': 0.0419, 'test_loss': 0.0731}\n"
     ]
    },
    {
     "name": "stderr",
     "output_type": "stream",
     "text": [
      " 60%|██████    | 300/500 [1:42:02<1:02:14, 18.67s/it]"
     ]
    },
    {
     "name": "stdout",
     "output_type": "stream",
     "text": [
      "{'C': 0.0, 'B': 10, 'learning_rate': 0.01, 'comm_round': 300, 'train_acc': 0.9838, 'test_acc': 0.9781, 'train_loss': 0.0463, 'test_loss': 0.0804}\n"
     ]
    },
    {
     "name": "stderr",
     "output_type": "stream",
     "text": [
      " 60%|██████    | 301/500 [1:42:21<1:02:12, 18.76s/it]"
     ]
    },
    {
     "name": "stdout",
     "output_type": "stream",
     "text": [
      "{'C': 0.0, 'B': 10, 'learning_rate': 0.01, 'comm_round': 301, 'train_acc': 0.9863, 'test_acc': 0.9797, 'train_loss': 0.0404, 'test_loss': 0.0735}\n"
     ]
    },
    {
     "name": "stderr",
     "output_type": "stream",
     "text": [
      " 60%|██████    | 302/500 [1:42:40<1:02:26, 18.92s/it]"
     ]
    },
    {
     "name": "stdout",
     "output_type": "stream",
     "text": [
      "{'C': 0.0, 'B': 10, 'learning_rate': 0.01, 'comm_round': 302, 'train_acc': 0.9909, 'test_acc': 0.9851, 'train_loss': 0.0274, 'test_loss': 0.0503}\n"
     ]
    },
    {
     "name": "stderr",
     "output_type": "stream",
     "text": [
      " 61%|██████    | 303/500 [1:42:59<1:01:59, 18.88s/it]"
     ]
    },
    {
     "name": "stdout",
     "output_type": "stream",
     "text": [
      "{'C': 0.0, 'B': 10, 'learning_rate': 0.01, 'comm_round': 303, 'train_acc': 0.9885, 'test_acc': 0.9835, 'train_loss': 0.0351, 'test_loss': 0.0565}\n"
     ]
    },
    {
     "name": "stderr",
     "output_type": "stream",
     "text": [
      " 61%|██████    | 304/500 [1:43:17<1:01:22, 18.79s/it]"
     ]
    },
    {
     "name": "stdout",
     "output_type": "stream",
     "text": [
      "{'C': 0.0, 'B': 10, 'learning_rate': 0.01, 'comm_round': 304, 'train_acc': 0.9872, 'test_acc': 0.9822, 'train_loss': 0.0392, 'test_loss': 0.0604}\n"
     ]
    },
    {
     "name": "stderr",
     "output_type": "stream",
     "text": [
      " 61%|██████    | 305/500 [1:43:37<1:01:56, 19.06s/it]"
     ]
    },
    {
     "name": "stdout",
     "output_type": "stream",
     "text": [
      "{'C': 0.0, 'B': 10, 'learning_rate': 0.01, 'comm_round': 305, 'train_acc': 0.9849, 'test_acc': 0.9803, 'train_loss': 0.0472, 'test_loss': 0.0706}\n"
     ]
    },
    {
     "name": "stderr",
     "output_type": "stream",
     "text": [
      " 61%|██████    | 306/500 [1:43:56<1:01:34, 19.04s/it]"
     ]
    },
    {
     "name": "stdout",
     "output_type": "stream",
     "text": [
      "{'C': 0.0, 'B': 10, 'learning_rate': 0.01, 'comm_round': 306, 'train_acc': 0.9848, 'test_acc': 0.9801, 'train_loss': 0.0479, 'test_loss': 0.0712}\n"
     ]
    },
    {
     "name": "stderr",
     "output_type": "stream",
     "text": [
      " 61%|██████▏   | 307/500 [1:44:15<1:01:00, 18.96s/it]"
     ]
    },
    {
     "name": "stdout",
     "output_type": "stream",
     "text": [
      "{'C': 0.0, 'B': 10, 'learning_rate': 0.01, 'comm_round': 307, 'train_acc': 0.989, 'test_acc': 0.9817, 'train_loss': 0.0314, 'test_loss': 0.063}\n"
     ]
    },
    {
     "name": "stderr",
     "output_type": "stream",
     "text": [
      " 62%|██████▏   | 308/500 [1:44:33<1:00:16, 18.83s/it]"
     ]
    },
    {
     "name": "stdout",
     "output_type": "stream",
     "text": [
      "{'C': 0.0, 'B': 10, 'learning_rate': 0.01, 'comm_round': 308, 'train_acc': 0.9884, 'test_acc': 0.9816, 'train_loss': 0.0342, 'test_loss': 0.0656}\n"
     ]
    },
    {
     "name": "stderr",
     "output_type": "stream",
     "text": [
      " 62%|██████▏   | 309/500 [1:44:52<1:00:25, 18.98s/it]"
     ]
    },
    {
     "name": "stdout",
     "output_type": "stream",
     "text": [
      "{'C': 0.0, 'B': 10, 'learning_rate': 0.01, 'comm_round': 309, 'train_acc': 0.9888, 'test_acc': 0.9821, 'train_loss': 0.0335, 'test_loss': 0.065}\n"
     ]
    },
    {
     "name": "stderr",
     "output_type": "stream",
     "text": [
      " 62%|██████▏   | 310/500 [1:45:11<59:32, 18.80s/it]  "
     ]
    },
    {
     "name": "stdout",
     "output_type": "stream",
     "text": [
      "{'C': 0.0, 'B': 10, 'learning_rate': 0.01, 'comm_round': 310, 'train_acc': 0.9842, 'test_acc': 0.979, 'train_loss': 0.0497, 'test_loss': 0.0757}\n"
     ]
    },
    {
     "name": "stderr",
     "output_type": "stream",
     "text": [
      " 62%|██████▏   | 311/500 [1:45:29<58:53, 18.69s/it]"
     ]
    },
    {
     "name": "stdout",
     "output_type": "stream",
     "text": [
      "{'C': 0.0, 'B': 10, 'learning_rate': 0.01, 'comm_round': 311, 'train_acc': 0.9824, 'test_acc': 0.9777, 'train_loss': 0.0557, 'test_loss': 0.0828}\n"
     ]
    },
    {
     "name": "stderr",
     "output_type": "stream",
     "text": [
      " 62%|██████▏   | 312/500 [1:45:48<58:18, 18.61s/it]"
     ]
    },
    {
     "name": "stdout",
     "output_type": "stream",
     "text": [
      "{'C': 0.0, 'B': 10, 'learning_rate': 0.01, 'comm_round': 312, 'train_acc': 0.9828, 'test_acc': 0.9781, 'train_loss': 0.0548, 'test_loss': 0.081}\n"
     ]
    },
    {
     "name": "stderr",
     "output_type": "stream",
     "text": [
      " 63%|██████▎   | 313/500 [1:46:07<58:26, 18.75s/it]"
     ]
    },
    {
     "name": "stdout",
     "output_type": "stream",
     "text": [
      "{'C': 0.0, 'B': 10, 'learning_rate': 0.01, 'comm_round': 313, 'train_acc': 0.9878, 'test_acc': 0.9807, 'train_loss': 0.0372, 'test_loss': 0.0662}\n"
     ]
    },
    {
     "name": "stderr",
     "output_type": "stream",
     "text": [
      " 63%|██████▎   | 314/500 [1:46:25<57:44, 18.63s/it]"
     ]
    },
    {
     "name": "stdout",
     "output_type": "stream",
     "text": [
      "{'C': 0.0, 'B': 10, 'learning_rate': 0.01, 'comm_round': 314, 'train_acc': 0.9827, 'test_acc': 0.9779, 'train_loss': 0.0504, 'test_loss': 0.0767}\n"
     ]
    },
    {
     "name": "stderr",
     "output_type": "stream",
     "text": [
      " 63%|██████▎   | 315/500 [1:46:45<58:32, 18.99s/it]"
     ]
    },
    {
     "name": "stdout",
     "output_type": "stream",
     "text": [
      "{'C': 0.0, 'B': 10, 'learning_rate': 0.01, 'comm_round': 315, 'train_acc': 0.9876, 'test_acc': 0.9817, 'train_loss': 0.0367, 'test_loss': 0.0623}\n"
     ]
    },
    {
     "name": "stderr",
     "output_type": "stream",
     "text": [
      " 63%|██████▎   | 316/500 [1:47:04<58:13, 18.99s/it]"
     ]
    },
    {
     "name": "stdout",
     "output_type": "stream",
     "text": [
      "{'C': 0.0, 'B': 10, 'learning_rate': 0.01, 'comm_round': 316, 'train_acc': 0.9868, 'test_acc': 0.9808, 'train_loss': 0.0442, 'test_loss': 0.0647}\n"
     ]
    },
    {
     "name": "stderr",
     "output_type": "stream",
     "text": [
      " 63%|██████▎   | 317/500 [1:47:24<58:28, 19.17s/it]"
     ]
    },
    {
     "name": "stdout",
     "output_type": "stream",
     "text": [
      "{'C': 0.0, 'B': 10, 'learning_rate': 0.01, 'comm_round': 317, 'train_acc': 0.9913, 'test_acc': 0.9846, 'train_loss': 0.0254, 'test_loss': 0.0505}\n"
     ]
    },
    {
     "name": "stderr",
     "output_type": "stream",
     "text": [
      " 64%|██████▎   | 318/500 [1:47:42<57:42, 19.03s/it]"
     ]
    },
    {
     "name": "stdout",
     "output_type": "stream",
     "text": [
      "{'C': 0.0, 'B': 10, 'learning_rate': 0.01, 'comm_round': 318, 'train_acc': 0.9899, 'test_acc': 0.9834, 'train_loss': 0.0292, 'test_loss': 0.0553}\n"
     ]
    },
    {
     "name": "stderr",
     "output_type": "stream",
     "text": [
      " 64%|██████▍   | 319/500 [1:48:01<57:18, 19.00s/it]"
     ]
    },
    {
     "name": "stdout",
     "output_type": "stream",
     "text": [
      "{'C': 0.0, 'B': 10, 'learning_rate': 0.01, 'comm_round': 319, 'train_acc': 0.989, 'test_acc': 0.9834, 'train_loss': 0.032, 'test_loss': 0.0555}\n"
     ]
    },
    {
     "name": "stderr",
     "output_type": "stream",
     "text": [
      " 64%|██████▍   | 320/500 [1:48:21<57:56, 19.32s/it]"
     ]
    },
    {
     "name": "stdout",
     "output_type": "stream",
     "text": [
      "{'C': 0.0, 'B': 10, 'learning_rate': 0.01, 'comm_round': 320, 'train_acc': 0.985, 'test_acc': 0.9794, 'train_loss': 0.0435, 'test_loss': 0.0713}\n"
     ]
    },
    {
     "name": "stderr",
     "output_type": "stream",
     "text": [
      " 64%|██████▍   | 321/500 [1:48:40<57:17, 19.20s/it]"
     ]
    },
    {
     "name": "stdout",
     "output_type": "stream",
     "text": [
      "{'C': 0.0, 'B': 10, 'learning_rate': 0.01, 'comm_round': 321, 'train_acc': 0.9841, 'test_acc': 0.9781, 'train_loss': 0.0458, 'test_loss': 0.0743}\n"
     ]
    },
    {
     "name": "stderr",
     "output_type": "stream",
     "text": [
      " 64%|██████▍   | 322/500 [1:48:59<56:37, 19.08s/it]"
     ]
    },
    {
     "name": "stdout",
     "output_type": "stream",
     "text": [
      "{'C': 0.0, 'B': 10, 'learning_rate': 0.01, 'comm_round': 322, 'train_acc': 0.9872, 'test_acc': 0.9805, 'train_loss': 0.0367, 'test_loss': 0.0649}\n"
     ]
    },
    {
     "name": "stderr",
     "output_type": "stream",
     "text": [
      " 65%|██████▍   | 323/500 [1:49:18<55:47, 18.91s/it]"
     ]
    },
    {
     "name": "stdout",
     "output_type": "stream",
     "text": [
      "{'C': 0.0, 'B': 10, 'learning_rate': 0.01, 'comm_round': 323, 'train_acc': 0.9864, 'test_acc': 0.9804, 'train_loss': 0.0384, 'test_loss': 0.0646}\n"
     ]
    },
    {
     "name": "stderr",
     "output_type": "stream",
     "text": [
      " 65%|██████▍   | 324/500 [1:49:42<1:00:06, 20.49s/it]"
     ]
    },
    {
     "name": "stdout",
     "output_type": "stream",
     "text": [
      "{'C': 0.0, 'B': 10, 'learning_rate': 0.01, 'comm_round': 324, 'train_acc': 0.9857, 'test_acc': 0.9808, 'train_loss': 0.0419, 'test_loss': 0.0674}\n"
     ]
    },
    {
     "name": "stderr",
     "output_type": "stream",
     "text": [
      " 65%|██████▌   | 325/500 [1:50:08<1:04:57, 22.27s/it]"
     ]
    },
    {
     "name": "stdout",
     "output_type": "stream",
     "text": [
      "{'C': 0.0, 'B': 10, 'learning_rate': 0.01, 'comm_round': 325, 'train_acc': 0.9869, 'test_acc': 0.9811, 'train_loss': 0.0378, 'test_loss': 0.0649}\n"
     ]
    },
    {
     "name": "stderr",
     "output_type": "stream",
     "text": [
      " 65%|██████▌   | 326/500 [1:50:27<1:01:38, 21.26s/it]"
     ]
    },
    {
     "name": "stdout",
     "output_type": "stream",
     "text": [
      "{'C': 0.0, 'B': 10, 'learning_rate': 0.01, 'comm_round': 326, 'train_acc': 0.987, 'test_acc': 0.9818, 'train_loss': 0.039, 'test_loss': 0.0641}\n"
     ]
    },
    {
     "name": "stderr",
     "output_type": "stream",
     "text": [
      " 65%|██████▌   | 327/500 [1:50:47<59:56, 20.79s/it]  "
     ]
    },
    {
     "name": "stdout",
     "output_type": "stream",
     "text": [
      "{'C': 0.0, 'B': 10, 'learning_rate': 0.01, 'comm_round': 327, 'train_acc': 0.9868, 'test_acc': 0.9817, 'train_loss': 0.0401, 'test_loss': 0.0647}\n"
     ]
    },
    {
     "name": "stderr",
     "output_type": "stream",
     "text": [
      " 66%|██████▌   | 328/500 [1:51:05<57:51, 20.18s/it]"
     ]
    },
    {
     "name": "stdout",
     "output_type": "stream",
     "text": [
      "{'C': 0.0, 'B': 10, 'learning_rate': 0.01, 'comm_round': 328, 'train_acc': 0.9858, 'test_acc': 0.9807, 'train_loss': 0.0434, 'test_loss': 0.0678}\n"
     ]
    },
    {
     "name": "stderr",
     "output_type": "stream",
     "text": [
      " 66%|██████▌   | 329/500 [1:51:26<57:25, 20.15s/it]"
     ]
    },
    {
     "name": "stdout",
     "output_type": "stream",
     "text": [
      "{'C': 0.0, 'B': 10, 'learning_rate': 0.01, 'comm_round': 329, 'train_acc': 0.9872, 'test_acc': 0.9816, 'train_loss': 0.0394, 'test_loss': 0.0648}\n"
     ]
    },
    {
     "name": "stderr",
     "output_type": "stream",
     "text": [
      " 66%|██████▌   | 330/500 [1:51:45<56:32, 19.96s/it]"
     ]
    },
    {
     "name": "stdout",
     "output_type": "stream",
     "text": [
      "{'C': 0.0, 'B': 10, 'learning_rate': 0.01, 'comm_round': 330, 'train_acc': 0.9626, 'test_acc': 0.9545, 'train_loss': 0.1078, 'test_loss': 0.1462}\n"
     ]
    },
    {
     "name": "stderr",
     "output_type": "stream",
     "text": [
      " 66%|██████▌   | 331/500 [1:52:04<55:26, 19.68s/it]"
     ]
    },
    {
     "name": "stdout",
     "output_type": "stream",
     "text": [
      "{'C': 0.0, 'B': 10, 'learning_rate': 0.01, 'comm_round': 331, 'train_acc': 0.9618, 'test_acc': 0.9528, 'train_loss': 0.1102, 'test_loss': 0.1525}\n"
     ]
    },
    {
     "name": "stderr",
     "output_type": "stream",
     "text": [
      " 66%|██████▋   | 332/500 [1:52:24<54:58, 19.64s/it]"
     ]
    },
    {
     "name": "stdout",
     "output_type": "stream",
     "text": [
      "{'C': 0.0, 'B': 10, 'learning_rate': 0.01, 'comm_round': 332, 'train_acc': 0.9891, 'test_acc': 0.9803, 'train_loss': 0.0308, 'test_loss': 0.0603}\n"
     ]
    },
    {
     "name": "stderr",
     "output_type": "stream",
     "text": [
      " 67%|██████▋   | 333/500 [1:52:43<54:12, 19.48s/it]"
     ]
    },
    {
     "name": "stdout",
     "output_type": "stream",
     "text": [
      "{'C': 0.0, 'B': 10, 'learning_rate': 0.01, 'comm_round': 333, 'train_acc': 0.9897, 'test_acc': 0.9812, 'train_loss': 0.0288, 'test_loss': 0.0587}\n"
     ]
    },
    {
     "name": "stderr",
     "output_type": "stream",
     "text": [
      " 67%|██████▋   | 334/500 [1:53:01<53:17, 19.26s/it]"
     ]
    },
    {
     "name": "stdout",
     "output_type": "stream",
     "text": [
      "{'C': 0.0, 'B': 10, 'learning_rate': 0.01, 'comm_round': 334, 'train_acc': 0.9882, 'test_acc': 0.9805, 'train_loss': 0.0327, 'test_loss': 0.0638}\n"
     ]
    },
    {
     "name": "stderr",
     "output_type": "stream",
     "text": [
      " 67%|██████▋   | 335/500 [1:53:20<52:13, 18.99s/it]"
     ]
    },
    {
     "name": "stdout",
     "output_type": "stream",
     "text": [
      "{'C': 0.0, 'B': 10, 'learning_rate': 0.01, 'comm_round': 335, 'train_acc': 0.9859, 'test_acc': 0.9802, 'train_loss': 0.0407, 'test_loss': 0.0677}\n"
     ]
    },
    {
     "name": "stderr",
     "output_type": "stream",
     "text": [
      " 67%|██████▋   | 336/500 [1:53:40<52:37, 19.25s/it]"
     ]
    },
    {
     "name": "stdout",
     "output_type": "stream",
     "text": [
      "{'C': 0.0, 'B': 10, 'learning_rate': 0.01, 'comm_round': 336, 'train_acc': 0.9858, 'test_acc': 0.978, 'train_loss': 0.0425, 'test_loss': 0.0745}\n"
     ]
    },
    {
     "name": "stderr",
     "output_type": "stream",
     "text": [
      " 67%|██████▋   | 337/500 [1:53:58<51:45, 19.05s/it]"
     ]
    },
    {
     "name": "stdout",
     "output_type": "stream",
     "text": [
      "{'C': 0.0, 'B': 10, 'learning_rate': 0.01, 'comm_round': 337, 'train_acc': 0.9899, 'test_acc': 0.9836, 'train_loss': 0.0295, 'test_loss': 0.056}\n"
     ]
    },
    {
     "name": "stderr",
     "output_type": "stream",
     "text": [
      " 68%|██████▊   | 338/500 [1:54:17<51:07, 18.93s/it]"
     ]
    },
    {
     "name": "stdout",
     "output_type": "stream",
     "text": [
      "{'C': 0.0, 'B': 10, 'learning_rate': 0.01, 'comm_round': 338, 'train_acc': 0.9851, 'test_acc': 0.9803, 'train_loss': 0.0453, 'test_loss': 0.0703}\n"
     ]
    },
    {
     "name": "stderr",
     "output_type": "stream",
     "text": [
      " 68%|██████▊   | 339/500 [1:54:35<50:17, 18.74s/it]"
     ]
    },
    {
     "name": "stdout",
     "output_type": "stream",
     "text": [
      "{'C': 0.0, 'B': 10, 'learning_rate': 0.01, 'comm_round': 339, 'train_acc': 0.9852, 'test_acc': 0.979, 'train_loss': 0.0441, 'test_loss': 0.0734}\n"
     ]
    },
    {
     "name": "stderr",
     "output_type": "stream",
     "text": [
      " 68%|██████▊   | 340/500 [1:54:55<51:01, 19.13s/it]"
     ]
    },
    {
     "name": "stdout",
     "output_type": "stream",
     "text": [
      "{'C': 0.0, 'B': 10, 'learning_rate': 0.01, 'comm_round': 340, 'train_acc': 0.9854, 'test_acc': 0.9801, 'train_loss': 0.045, 'test_loss': 0.0699}\n"
     ]
    },
    {
     "name": "stderr",
     "output_type": "stream",
     "text": [
      " 68%|██████▊   | 341/500 [1:55:17<52:35, 19.85s/it]"
     ]
    },
    {
     "name": "stdout",
     "output_type": "stream",
     "text": [
      "{'C': 0.0, 'B': 10, 'learning_rate': 0.01, 'comm_round': 341, 'train_acc': 0.9849, 'test_acc': 0.9803, 'train_loss': 0.0462, 'test_loss': 0.0709}\n"
     ]
    },
    {
     "name": "stderr",
     "output_type": "stream",
     "text": [
      " 68%|██████▊   | 342/500 [1:55:38<53:18, 20.24s/it]"
     ]
    },
    {
     "name": "stdout",
     "output_type": "stream",
     "text": [
      "{'C': 0.0, 'B': 10, 'learning_rate': 0.01, 'comm_round': 342, 'train_acc': 0.9888, 'test_acc': 0.9833, 'train_loss': 0.0328, 'test_loss': 0.06}\n"
     ]
    },
    {
     "name": "stderr",
     "output_type": "stream",
     "text": [
      " 69%|██████▊   | 343/500 [1:55:57<52:14, 19.97s/it]"
     ]
    },
    {
     "name": "stdout",
     "output_type": "stream",
     "text": [
      "{'C': 0.0, 'B': 10, 'learning_rate': 0.01, 'comm_round': 343, 'train_acc': 0.9883, 'test_acc': 0.9832, 'train_loss': 0.0344, 'test_loss': 0.0602}\n"
     ]
    },
    {
     "name": "stderr",
     "output_type": "stream",
     "text": [
      " 69%|██████▉   | 344/500 [1:56:16<51:11, 19.69s/it]"
     ]
    },
    {
     "name": "stdout",
     "output_type": "stream",
     "text": [
      "{'C': 0.0, 'B': 10, 'learning_rate': 0.01, 'comm_round': 344, 'train_acc': 0.9818, 'test_acc': 0.9745, 'train_loss': 0.0543, 'test_loss': 0.0866}\n"
     ]
    },
    {
     "name": "stderr",
     "output_type": "stream",
     "text": [
      " 69%|██████▉   | 345/500 [1:56:37<51:32, 19.95s/it]"
     ]
    },
    {
     "name": "stdout",
     "output_type": "stream",
     "text": [
      "{'C': 0.0, 'B': 10, 'learning_rate': 0.01, 'comm_round': 345, 'train_acc': 0.9849, 'test_acc': 0.9796, 'train_loss': 0.0461, 'test_loss': 0.0685}\n"
     ]
    },
    {
     "name": "stderr",
     "output_type": "stream",
     "text": [
      " 69%|██████▉   | 346/500 [1:56:56<50:53, 19.83s/it]"
     ]
    },
    {
     "name": "stdout",
     "output_type": "stream",
     "text": [
      "{'C': 0.0, 'B': 10, 'learning_rate': 0.01, 'comm_round': 346, 'train_acc': 0.9868, 'test_acc': 0.9789, 'train_loss': 0.038, 'test_loss': 0.0681}\n"
     ]
    },
    {
     "name": "stderr",
     "output_type": "stream",
     "text": [
      " 69%|██████▉   | 347/500 [1:57:15<49:27, 19.40s/it]"
     ]
    },
    {
     "name": "stdout",
     "output_type": "stream",
     "text": [
      "{'C': 0.0, 'B': 10, 'learning_rate': 0.01, 'comm_round': 347, 'train_acc': 0.9835, 'test_acc': 0.9749, 'train_loss': 0.0472, 'test_loss': 0.0831}\n"
     ]
    },
    {
     "name": "stderr",
     "output_type": "stream",
     "text": [
      " 70%|██████▉   | 348/500 [1:57:34<49:18, 19.46s/it]"
     ]
    },
    {
     "name": "stdout",
     "output_type": "stream",
     "text": [
      "{'C': 0.0, 'B': 10, 'learning_rate': 0.01, 'comm_round': 348, 'train_acc': 0.9949, 'test_acc': 0.9878, 'train_loss': 0.015, 'test_loss': 0.0426}\n"
     ]
    },
    {
     "name": "stderr",
     "output_type": "stream",
     "text": [
      " 70%|██████▉   | 349/500 [1:57:53<48:09, 19.13s/it]"
     ]
    },
    {
     "name": "stdout",
     "output_type": "stream",
     "text": [
      "{'C': 0.0, 'B': 10, 'learning_rate': 0.01, 'comm_round': 349, 'train_acc': 0.9948, 'test_acc': 0.9875, 'train_loss': 0.0152, 'test_loss': 0.0426}\n"
     ]
    },
    {
     "name": "stderr",
     "output_type": "stream",
     "text": [
      " 70%|███████   | 350/500 [1:58:12<47:33, 19.02s/it]"
     ]
    },
    {
     "name": "stdout",
     "output_type": "stream",
     "text": [
      "{'C': 0.0, 'B': 10, 'learning_rate': 0.01, 'comm_round': 350, 'train_acc': 0.9917, 'test_acc': 0.9866, 'train_loss': 0.0232, 'test_loss': 0.05}\n"
     ]
    },
    {
     "name": "stderr",
     "output_type": "stream",
     "text": [
      " 70%|███████   | 351/500 [1:58:30<46:42, 18.81s/it]"
     ]
    },
    {
     "name": "stdout",
     "output_type": "stream",
     "text": [
      "{'C': 0.0, 'B': 10, 'learning_rate': 0.01, 'comm_round': 351, 'train_acc': 0.9914, 'test_acc': 0.9854, 'train_loss': 0.0247, 'test_loss': 0.0544}\n"
     ]
    },
    {
     "name": "stderr",
     "output_type": "stream",
     "text": [
      " 70%|███████   | 352/500 [1:58:49<46:16, 18.76s/it]"
     ]
    },
    {
     "name": "stdout",
     "output_type": "stream",
     "text": [
      "{'C': 0.0, 'B': 10, 'learning_rate': 0.01, 'comm_round': 352, 'train_acc': 0.9915, 'test_acc': 0.9857, 'train_loss': 0.0242, 'test_loss': 0.0545}\n"
     ]
    },
    {
     "name": "stderr",
     "output_type": "stream",
     "text": [
      " 71%|███████   | 353/500 [1:59:08<46:29, 18.98s/it]"
     ]
    },
    {
     "name": "stdout",
     "output_type": "stream",
     "text": [
      "{'C': 0.0, 'B': 10, 'learning_rate': 0.01, 'comm_round': 353, 'train_acc': 0.9907, 'test_acc': 0.9843, 'train_loss': 0.0279, 'test_loss': 0.0586}\n"
     ]
    },
    {
     "name": "stderr",
     "output_type": "stream",
     "text": [
      " 71%|███████   | 354/500 [1:59:27<46:11, 18.98s/it]"
     ]
    },
    {
     "name": "stdout",
     "output_type": "stream",
     "text": [
      "{'C': 0.0, 'B': 10, 'learning_rate': 0.01, 'comm_round': 354, 'train_acc': 0.9908, 'test_acc': 0.9848, 'train_loss': 0.0282, 'test_loss': 0.0573}\n"
     ]
    },
    {
     "name": "stderr",
     "output_type": "stream",
     "text": [
      " 71%|███████   | 355/500 [1:59:46<45:34, 18.86s/it]"
     ]
    },
    {
     "name": "stdout",
     "output_type": "stream",
     "text": [
      "{'C': 0.0, 'B': 10, 'learning_rate': 0.01, 'comm_round': 355, 'train_acc': 0.9888, 'test_acc': 0.9822, 'train_loss': 0.0344, 'test_loss': 0.0644}\n"
     ]
    },
    {
     "name": "stderr",
     "output_type": "stream",
     "text": [
      " 71%|███████   | 356/500 [2:00:04<44:58, 18.74s/it]"
     ]
    },
    {
     "name": "stdout",
     "output_type": "stream",
     "text": [
      "{'C': 0.0, 'B': 10, 'learning_rate': 0.01, 'comm_round': 356, 'train_acc': 0.987, 'test_acc': 0.9803, 'train_loss': 0.0402, 'test_loss': 0.0756}\n"
     ]
    },
    {
     "name": "stderr",
     "output_type": "stream",
     "text": [
      " 71%|███████▏  | 357/500 [2:00:23<44:32, 18.69s/it]"
     ]
    },
    {
     "name": "stdout",
     "output_type": "stream",
     "text": [
      "{'C': 0.0, 'B': 10, 'learning_rate': 0.01, 'comm_round': 357, 'train_acc': 0.9888, 'test_acc': 0.9825, 'train_loss': 0.0356, 'test_loss': 0.0658}\n"
     ]
    },
    {
     "name": "stderr",
     "output_type": "stream",
     "text": [
      " 72%|███████▏  | 358/500 [2:00:41<44:03, 18.62s/it]"
     ]
    },
    {
     "name": "stdout",
     "output_type": "stream",
     "text": [
      "{'C': 0.0, 'B': 10, 'learning_rate': 0.01, 'comm_round': 358, 'train_acc': 0.9868, 'test_acc': 0.9821, 'train_loss': 0.0415, 'test_loss': 0.0685}\n"
     ]
    },
    {
     "name": "stderr",
     "output_type": "stream",
     "text": [
      " 72%|███████▏  | 359/500 [2:01:00<44:03, 18.75s/it]"
     ]
    },
    {
     "name": "stdout",
     "output_type": "stream",
     "text": [
      "{'C': 0.0, 'B': 10, 'learning_rate': 0.01, 'comm_round': 359, 'train_acc': 0.9857, 'test_acc': 0.981, 'train_loss': 0.0459, 'test_loss': 0.0725}\n"
     ]
    },
    {
     "name": "stderr",
     "output_type": "stream",
     "text": [
      " 72%|███████▏  | 360/500 [2:01:19<43:56, 18.84s/it]"
     ]
    },
    {
     "name": "stdout",
     "output_type": "stream",
     "text": [
      "{'C': 0.0, 'B': 10, 'learning_rate': 0.01, 'comm_round': 360, 'train_acc': 0.9863, 'test_acc': 0.9818, 'train_loss': 0.0438, 'test_loss': 0.0717}\n"
     ]
    },
    {
     "name": "stderr",
     "output_type": "stream",
     "text": [
      " 72%|███████▏  | 361/500 [2:01:38<43:41, 18.86s/it]"
     ]
    },
    {
     "name": "stdout",
     "output_type": "stream",
     "text": [
      "{'C': 0.0, 'B': 10, 'learning_rate': 0.01, 'comm_round': 361, 'train_acc': 0.9866, 'test_acc': 0.9814, 'train_loss': 0.0431, 'test_loss': 0.0714}\n"
     ]
    },
    {
     "name": "stderr",
     "output_type": "stream",
     "text": [
      " 72%|███████▏  | 362/500 [2:01:57<43:06, 18.74s/it]"
     ]
    },
    {
     "name": "stdout",
     "output_type": "stream",
     "text": [
      "{'C': 0.0, 'B': 10, 'learning_rate': 0.01, 'comm_round': 362, 'train_acc': 0.9867, 'test_acc': 0.9818, 'train_loss': 0.0428, 'test_loss': 0.0714}\n"
     ]
    },
    {
     "name": "stderr",
     "output_type": "stream",
     "text": [
      " 73%|███████▎  | 363/500 [2:02:15<42:30, 18.62s/it]"
     ]
    },
    {
     "name": "stdout",
     "output_type": "stream",
     "text": [
      "{'C': 0.0, 'B': 10, 'learning_rate': 0.01, 'comm_round': 363, 'train_acc': 0.9856, 'test_acc': 0.9804, 'train_loss': 0.0469, 'test_loss': 0.0737}\n"
     ]
    },
    {
     "name": "stderr",
     "output_type": "stream",
     "text": [
      " 73%|███████▎  | 364/500 [2:02:33<41:53, 18.48s/it]"
     ]
    },
    {
     "name": "stdout",
     "output_type": "stream",
     "text": [
      "{'C': 0.0, 'B': 10, 'learning_rate': 0.01, 'comm_round': 364, 'train_acc': 0.988, 'test_acc': 0.9811, 'train_loss': 0.0377, 'test_loss': 0.0727}\n"
     ]
    },
    {
     "name": "stderr",
     "output_type": "stream",
     "text": [
      " 73%|███████▎  | 365/500 [2:02:52<42:00, 18.67s/it]"
     ]
    },
    {
     "name": "stdout",
     "output_type": "stream",
     "text": [
      "{'C': 0.0, 'B': 10, 'learning_rate': 0.01, 'comm_round': 365, 'train_acc': 0.9884, 'test_acc': 0.9819, 'train_loss': 0.0355, 'test_loss': 0.0741}\n"
     ]
    },
    {
     "name": "stderr",
     "output_type": "stream",
     "text": [
      " 73%|███████▎  | 366/500 [2:03:11<41:56, 18.78s/it]"
     ]
    },
    {
     "name": "stdout",
     "output_type": "stream",
     "text": [
      "{'C': 0.0, 'B': 10, 'learning_rate': 0.01, 'comm_round': 366, 'train_acc': 0.9853, 'test_acc': 0.9778, 'train_loss': 0.0444, 'test_loss': 0.0863}\n"
     ]
    },
    {
     "name": "stderr",
     "output_type": "stream",
     "text": [
      " 73%|███████▎  | 367/500 [2:03:30<41:21, 18.66s/it]"
     ]
    },
    {
     "name": "stdout",
     "output_type": "stream",
     "text": [
      "{'C': 0.0, 'B': 10, 'learning_rate': 0.01, 'comm_round': 367, 'train_acc': 0.9889, 'test_acc': 0.983, 'train_loss': 0.0345, 'test_loss': 0.067}\n"
     ]
    },
    {
     "name": "stderr",
     "output_type": "stream",
     "text": [
      " 74%|███████▎  | 368/500 [2:03:47<40:35, 18.45s/it]"
     ]
    },
    {
     "name": "stdout",
     "output_type": "stream",
     "text": [
      "{'C': 0.0, 'B': 10, 'learning_rate': 0.01, 'comm_round': 368, 'train_acc': 0.9878, 'test_acc': 0.9821, 'train_loss': 0.0343, 'test_loss': 0.0678}\n"
     ]
    },
    {
     "name": "stderr",
     "output_type": "stream",
     "text": [
      " 74%|███████▍  | 369/500 [2:04:06<40:06, 18.37s/it]"
     ]
    },
    {
     "name": "stdout",
     "output_type": "stream",
     "text": [
      "{'C': 0.0, 'B': 10, 'learning_rate': 0.01, 'comm_round': 369, 'train_acc': 0.982, 'test_acc': 0.9745, 'train_loss': 0.0503, 'test_loss': 0.0915}\n"
     ]
    },
    {
     "name": "stderr",
     "output_type": "stream",
     "text": [
      " 74%|███████▍  | 370/500 [2:04:25<40:09, 18.53s/it]"
     ]
    },
    {
     "name": "stdout",
     "output_type": "stream",
     "text": [
      "{'C': 0.0, 'B': 10, 'learning_rate': 0.01, 'comm_round': 370, 'train_acc': 0.972, 'test_acc': 0.9628, 'train_loss': 0.0824, 'test_loss': 0.1273}\n"
     ]
    },
    {
     "name": "stderr",
     "output_type": "stream",
     "text": [
      " 74%|███████▍  | 371/500 [2:04:43<39:57, 18.58s/it]"
     ]
    },
    {
     "name": "stdout",
     "output_type": "stream",
     "text": [
      "{'C': 0.0, 'B': 10, 'learning_rate': 0.01, 'comm_round': 371, 'train_acc': 0.9765, 'test_acc': 0.9675, 'train_loss': 0.0682, 'test_loss': 0.1121}\n"
     ]
    },
    {
     "name": "stderr",
     "output_type": "stream",
     "text": [
      " 74%|███████▍  | 372/500 [2:05:02<39:28, 18.50s/it]"
     ]
    },
    {
     "name": "stdout",
     "output_type": "stream",
     "text": [
      "{'C': 0.0, 'B': 10, 'learning_rate': 0.01, 'comm_round': 372, 'train_acc': 0.9674, 'test_acc': 0.9607, 'train_loss': 0.1058, 'test_loss': 0.1403}\n"
     ]
    },
    {
     "name": "stderr",
     "output_type": "stream",
     "text": [
      " 75%|███████▍  | 373/500 [2:05:20<39:07, 18.48s/it]"
     ]
    },
    {
     "name": "stdout",
     "output_type": "stream",
     "text": [
      "{'C': 0.0, 'B': 10, 'learning_rate': 0.01, 'comm_round': 373, 'train_acc': 0.9715, 'test_acc': 0.9654, 'train_loss': 0.0898, 'test_loss': 0.1223}\n"
     ]
    },
    {
     "name": "stderr",
     "output_type": "stream",
     "text": [
      " 75%|███████▍  | 374/500 [2:05:38<38:46, 18.46s/it]"
     ]
    },
    {
     "name": "stdout",
     "output_type": "stream",
     "text": [
      "{'C': 0.0, 'B': 10, 'learning_rate': 0.01, 'comm_round': 374, 'train_acc': 0.976, 'test_acc': 0.9693, 'train_loss': 0.0754, 'test_loss': 0.1067}\n"
     ]
    },
    {
     "name": "stderr",
     "output_type": "stream",
     "text": [
      " 75%|███████▌  | 375/500 [2:05:57<38:41, 18.57s/it]"
     ]
    },
    {
     "name": "stdout",
     "output_type": "stream",
     "text": [
      "{'C': 0.0, 'B': 10, 'learning_rate': 0.01, 'comm_round': 375, 'train_acc': 0.9626, 'test_acc': 0.9535, 'train_loss': 0.1177, 'test_loss': 0.1652}\n"
     ]
    },
    {
     "name": "stderr",
     "output_type": "stream",
     "text": [
      " 75%|███████▌  | 376/500 [2:06:16<38:41, 18.72s/it]"
     ]
    },
    {
     "name": "stdout",
     "output_type": "stream",
     "text": [
      "{'C': 0.0, 'B': 10, 'learning_rate': 0.01, 'comm_round': 376, 'train_acc': 0.9737, 'test_acc': 0.9639, 'train_loss': 0.0838, 'test_loss': 0.1272}\n"
     ]
    },
    {
     "name": "stderr",
     "output_type": "stream",
     "text": [
      " 75%|███████▌  | 377/500 [2:06:34<38:00, 18.54s/it]"
     ]
    },
    {
     "name": "stdout",
     "output_type": "stream",
     "text": [
      "{'C': 0.0, 'B': 10, 'learning_rate': 0.01, 'comm_round': 377, 'train_acc': 0.9667, 'test_acc': 0.9562, 'train_loss': 0.1048, 'test_loss': 0.1525}\n"
     ]
    },
    {
     "name": "stderr",
     "output_type": "stream",
     "text": [
      " 76%|███████▌  | 378/500 [2:06:53<37:51, 18.62s/it]"
     ]
    },
    {
     "name": "stdout",
     "output_type": "stream",
     "text": [
      "{'C': 0.0, 'B': 10, 'learning_rate': 0.01, 'comm_round': 378, 'train_acc': 0.9787, 'test_acc': 0.9692, 'train_loss': 0.0671, 'test_loss': 0.1061}\n"
     ]
    },
    {
     "name": "stderr",
     "output_type": "stream",
     "text": [
      " 76%|███████▌  | 379/500 [2:07:12<37:53, 18.79s/it]"
     ]
    },
    {
     "name": "stdout",
     "output_type": "stream",
     "text": [
      "{'C': 0.0, 'B': 10, 'learning_rate': 0.01, 'comm_round': 379, 'train_acc': 0.9827, 'test_acc': 0.9727, 'train_loss': 0.0523, 'test_loss': 0.09}\n"
     ]
    },
    {
     "name": "stderr",
     "output_type": "stream",
     "text": [
      " 76%|███████▌  | 380/500 [2:07:31<37:26, 18.72s/it]"
     ]
    },
    {
     "name": "stdout",
     "output_type": "stream",
     "text": [
      "{'C': 0.0, 'B': 10, 'learning_rate': 0.01, 'comm_round': 380, 'train_acc': 0.9691, 'test_acc': 0.9596, 'train_loss': 0.0981, 'test_loss': 0.1451}\n"
     ]
    },
    {
     "name": "stderr",
     "output_type": "stream",
     "text": [
      " 76%|███████▌  | 381/500 [2:07:50<37:09, 18.73s/it]"
     ]
    },
    {
     "name": "stdout",
     "output_type": "stream",
     "text": [
      "{'C': 0.0, 'B': 10, 'learning_rate': 0.01, 'comm_round': 381, 'train_acc': 0.9872, 'test_acc': 0.9786, 'train_loss': 0.0369, 'test_loss': 0.0753}\n"
     ]
    },
    {
     "name": "stderr",
     "output_type": "stream",
     "text": [
      " 76%|███████▋  | 382/500 [2:08:09<36:57, 18.79s/it]"
     ]
    },
    {
     "name": "stdout",
     "output_type": "stream",
     "text": [
      "{'C': 0.0, 'B': 10, 'learning_rate': 0.01, 'comm_round': 382, 'train_acc': 0.9872, 'test_acc': 0.9787, 'train_loss': 0.0369, 'test_loss': 0.0754}\n"
     ]
    },
    {
     "name": "stderr",
     "output_type": "stream",
     "text": [
      " 77%|███████▋  | 383/500 [2:08:27<36:31, 18.73s/it]"
     ]
    },
    {
     "name": "stdout",
     "output_type": "stream",
     "text": [
      "{'C': 0.0, 'B': 10, 'learning_rate': 0.01, 'comm_round': 383, 'train_acc': 0.9872, 'test_acc': 0.9787, 'train_loss': 0.037, 'test_loss': 0.0756}\n"
     ]
    },
    {
     "name": "stderr",
     "output_type": "stream",
     "text": [
      " 77%|███████▋  | 384/500 [2:08:46<36:06, 18.68s/it]"
     ]
    },
    {
     "name": "stdout",
     "output_type": "stream",
     "text": [
      "{'C': 0.0, 'B': 10, 'learning_rate': 0.01, 'comm_round': 384, 'train_acc': 0.9842, 'test_acc': 0.9754, 'train_loss': 0.0456, 'test_loss': 0.0877}\n"
     ]
    },
    {
     "name": "stderr",
     "output_type": "stream",
     "text": [
      " 77%|███████▋  | 385/500 [2:09:05<36:08, 18.86s/it]"
     ]
    },
    {
     "name": "stdout",
     "output_type": "stream",
     "text": [
      "{'C': 0.0, 'B': 10, 'learning_rate': 0.01, 'comm_round': 385, 'train_acc': 0.9854, 'test_acc': 0.9755, 'train_loss': 0.0433, 'test_loss': 0.0849}\n"
     ]
    },
    {
     "name": "stderr",
     "output_type": "stream",
     "text": [
      " 77%|███████▋  | 386/500 [2:09:24<35:37, 18.75s/it]"
     ]
    },
    {
     "name": "stdout",
     "output_type": "stream",
     "text": [
      "{'C': 0.0, 'B': 10, 'learning_rate': 0.01, 'comm_round': 386, 'train_acc': 0.9836, 'test_acc': 0.9734, 'train_loss': 0.0487, 'test_loss': 0.0917}\n"
     ]
    },
    {
     "name": "stderr",
     "output_type": "stream",
     "text": [
      " 77%|███████▋  | 387/500 [2:09:42<35:10, 18.68s/it]"
     ]
    },
    {
     "name": "stdout",
     "output_type": "stream",
     "text": [
      "{'C': 0.0, 'B': 10, 'learning_rate': 0.01, 'comm_round': 387, 'train_acc': 0.9849, 'test_acc': 0.9749, 'train_loss': 0.0446, 'test_loss': 0.0861}\n"
     ]
    },
    {
     "name": "stderr",
     "output_type": "stream",
     "text": [
      " 78%|███████▊  | 388/500 [2:10:02<35:18, 18.92s/it]"
     ]
    },
    {
     "name": "stdout",
     "output_type": "stream",
     "text": [
      "{'C': 0.0, 'B': 10, 'learning_rate': 0.01, 'comm_round': 388, 'train_acc': 0.9916, 'test_acc': 0.9844, 'train_loss': 0.0242, 'test_loss': 0.0535}\n"
     ]
    },
    {
     "name": "stderr",
     "output_type": "stream",
     "text": [
      " 78%|███████▊  | 389/500 [2:10:20<34:37, 18.72s/it]"
     ]
    },
    {
     "name": "stdout",
     "output_type": "stream",
     "text": [
      "{'C': 0.0, 'B': 10, 'learning_rate': 0.01, 'comm_round': 389, 'train_acc': 0.9894, 'test_acc': 0.9833, 'train_loss': 0.0318, 'test_loss': 0.0629}\n"
     ]
    },
    {
     "name": "stderr",
     "output_type": "stream",
     "text": [
      " 78%|███████▊  | 390/500 [2:10:38<34:03, 18.58s/it]"
     ]
    },
    {
     "name": "stdout",
     "output_type": "stream",
     "text": [
      "{'C': 0.0, 'B': 10, 'learning_rate': 0.01, 'comm_round': 390, 'train_acc': 0.9907, 'test_acc': 0.9838, 'train_loss': 0.0252, 'test_loss': 0.0536}\n"
     ]
    },
    {
     "name": "stderr",
     "output_type": "stream",
     "text": [
      " 78%|███████▊  | 391/500 [2:10:57<33:43, 18.57s/it]"
     ]
    },
    {
     "name": "stdout",
     "output_type": "stream",
     "text": [
      "{'C': 0.0, 'B': 10, 'learning_rate': 0.01, 'comm_round': 391, 'train_acc': 0.9861, 'test_acc': 0.9772, 'train_loss': 0.0371, 'test_loss': 0.0754}\n"
     ]
    },
    {
     "name": "stderr",
     "output_type": "stream",
     "text": [
      " 78%|███████▊  | 392/500 [2:11:15<33:13, 18.45s/it]"
     ]
    },
    {
     "name": "stdout",
     "output_type": "stream",
     "text": [
      "{'C': 0.0, 'B': 10, 'learning_rate': 0.01, 'comm_round': 392, 'train_acc': 0.9904, 'test_acc': 0.9823, 'train_loss': 0.027, 'test_loss': 0.058}\n"
     ]
    },
    {
     "name": "stderr",
     "output_type": "stream",
     "text": [
      " 79%|███████▊  | 393/500 [2:11:34<33:03, 18.54s/it]"
     ]
    },
    {
     "name": "stdout",
     "output_type": "stream",
     "text": [
      "{'C': 0.0, 'B': 10, 'learning_rate': 0.01, 'comm_round': 393, 'train_acc': 0.9917, 'test_acc': 0.9854, 'train_loss': 0.0235, 'test_loss': 0.0531}\n"
     ]
    },
    {
     "name": "stderr",
     "output_type": "stream",
     "text": [
      " 79%|███████▉  | 394/500 [2:11:52<32:45, 18.54s/it]"
     ]
    },
    {
     "name": "stdout",
     "output_type": "stream",
     "text": [
      "{'C': 0.0, 'B': 10, 'learning_rate': 0.01, 'comm_round': 394, 'train_acc': 0.9938, 'test_acc': 0.9866, 'train_loss': 0.0173, 'test_loss': 0.0474}\n"
     ]
    },
    {
     "name": "stderr",
     "output_type": "stream",
     "text": [
      " 79%|███████▉  | 395/500 [2:12:14<34:04, 19.47s/it]"
     ]
    },
    {
     "name": "stdout",
     "output_type": "stream",
     "text": [
      "{'C': 0.0, 'B': 10, 'learning_rate': 0.01, 'comm_round': 395, 'train_acc': 0.9938, 'test_acc': 0.9868, 'train_loss': 0.017, 'test_loss': 0.0473}\n"
     ]
    },
    {
     "name": "stderr",
     "output_type": "stream",
     "text": [
      " 79%|███████▉  | 396/500 [2:12:33<33:33, 19.36s/it]"
     ]
    },
    {
     "name": "stdout",
     "output_type": "stream",
     "text": [
      "{'C': 0.0, 'B': 10, 'learning_rate': 0.01, 'comm_round': 396, 'train_acc': 0.9938, 'test_acc': 0.9871, 'train_loss': 0.0168, 'test_loss': 0.0472}\n"
     ]
    },
    {
     "name": "stderr",
     "output_type": "stream",
     "text": [
      " 79%|███████▉  | 397/500 [2:12:51<32:35, 18.98s/it]"
     ]
    },
    {
     "name": "stdout",
     "output_type": "stream",
     "text": [
      "{'C': 0.0, 'B': 10, 'learning_rate': 0.01, 'comm_round': 397, 'train_acc': 0.9929, 'test_acc': 0.9848, 'train_loss': 0.0199, 'test_loss': 0.0506}\n"
     ]
    },
    {
     "name": "stderr",
     "output_type": "stream",
     "text": [
      " 80%|███████▉  | 398/500 [2:13:10<32:07, 18.89s/it]"
     ]
    },
    {
     "name": "stdout",
     "output_type": "stream",
     "text": [
      "{'C': 0.0, 'B': 10, 'learning_rate': 0.01, 'comm_round': 398, 'train_acc': 0.9925, 'test_acc': 0.9856, 'train_loss': 0.0209, 'test_loss': 0.0524}\n"
     ]
    },
    {
     "name": "stderr",
     "output_type": "stream",
     "text": [
      " 80%|███████▉  | 399/500 [2:13:29<31:46, 18.88s/it]"
     ]
    },
    {
     "name": "stdout",
     "output_type": "stream",
     "text": [
      "{'C': 0.0, 'B': 10, 'learning_rate': 0.01, 'comm_round': 399, 'train_acc': 0.9928, 'test_acc': 0.9862, 'train_loss': 0.0203, 'test_loss': 0.0497}\n"
     ]
    },
    {
     "name": "stderr",
     "output_type": "stream",
     "text": [
      " 80%|████████  | 400/500 [2:13:47<31:12, 18.73s/it]"
     ]
    },
    {
     "name": "stdout",
     "output_type": "stream",
     "text": [
      "{'C': 0.0, 'B': 10, 'learning_rate': 0.01, 'comm_round': 400, 'train_acc': 0.9913, 'test_acc': 0.9841, 'train_loss': 0.0247, 'test_loss': 0.0561}\n"
     ]
    },
    {
     "name": "stderr",
     "output_type": "stream",
     "text": [
      " 80%|████████  | 401/500 [2:14:06<30:59, 18.78s/it]"
     ]
    },
    {
     "name": "stdout",
     "output_type": "stream",
     "text": [
      "{'C': 0.0, 'B': 10, 'learning_rate': 0.01, 'comm_round': 401, 'train_acc': 0.9892, 'test_acc': 0.983, 'train_loss': 0.0316, 'test_loss': 0.0615}\n"
     ]
    },
    {
     "name": "stderr",
     "output_type": "stream",
     "text": [
      " 80%|████████  | 402/500 [2:14:24<30:33, 18.71s/it]"
     ]
    },
    {
     "name": "stdout",
     "output_type": "stream",
     "text": [
      "{'C': 0.0, 'B': 10, 'learning_rate': 0.01, 'comm_round': 402, 'train_acc': 0.9927, 'test_acc': 0.9849, 'train_loss': 0.0212, 'test_loss': 0.0526}\n"
     ]
    },
    {
     "name": "stderr",
     "output_type": "stream",
     "text": [
      " 81%|████████  | 403/500 [2:14:43<30:12, 18.68s/it]"
     ]
    },
    {
     "name": "stdout",
     "output_type": "stream",
     "text": [
      "{'C': 0.0, 'B': 10, 'learning_rate': 0.01, 'comm_round': 403, 'train_acc': 0.9922, 'test_acc': 0.9852, 'train_loss': 0.023, 'test_loss': 0.0509}\n"
     ]
    },
    {
     "name": "stderr",
     "output_type": "stream",
     "text": [
      " 81%|████████  | 404/500 [2:15:02<29:55, 18.70s/it]"
     ]
    },
    {
     "name": "stdout",
     "output_type": "stream",
     "text": [
      "{'C': 0.0, 'B': 10, 'learning_rate': 0.01, 'comm_round': 404, 'train_acc': 0.992, 'test_acc': 0.9846, 'train_loss': 0.0228, 'test_loss': 0.0497}\n"
     ]
    },
    {
     "name": "stderr",
     "output_type": "stream",
     "text": [
      " 81%|████████  | 405/500 [2:15:21<30:01, 18.97s/it]"
     ]
    },
    {
     "name": "stdout",
     "output_type": "stream",
     "text": [
      "{'C': 0.0, 'B': 10, 'learning_rate': 0.01, 'comm_round': 405, 'train_acc': 0.994, 'test_acc': 0.986, 'train_loss': 0.0171, 'test_loss': 0.0446}\n"
     ]
    },
    {
     "name": "stderr",
     "output_type": "stream",
     "text": [
      " 81%|████████  | 406/500 [2:15:40<29:33, 18.87s/it]"
     ]
    },
    {
     "name": "stdout",
     "output_type": "stream",
     "text": [
      "{'C': 0.0, 'B': 10, 'learning_rate': 0.01, 'comm_round': 406, 'train_acc': 0.993, 'test_acc': 0.986, 'train_loss': 0.0193, 'test_loss': 0.0467}\n"
     ]
    },
    {
     "name": "stderr",
     "output_type": "stream",
     "text": [
      " 81%|████████▏ | 407/500 [2:16:00<29:51, 19.26s/it]"
     ]
    },
    {
     "name": "stdout",
     "output_type": "stream",
     "text": [
      "{'C': 0.0, 'B': 10, 'learning_rate': 0.01, 'comm_round': 407, 'train_acc': 0.9934, 'test_acc': 0.987, 'train_loss': 0.0187, 'test_loss': 0.0425}\n"
     ]
    },
    {
     "name": "stderr",
     "output_type": "stream",
     "text": [
      " 82%|████████▏ | 408/500 [2:16:20<29:39, 19.34s/it]"
     ]
    },
    {
     "name": "stdout",
     "output_type": "stream",
     "text": [
      "{'C': 0.0, 'B': 10, 'learning_rate': 0.01, 'comm_round': 408, 'train_acc': 0.9887, 'test_acc': 0.9821, 'train_loss': 0.0332, 'test_loss': 0.0607}\n"
     ]
    },
    {
     "name": "stderr",
     "output_type": "stream",
     "text": [
      " 82%|████████▏ | 409/500 [2:16:40<29:39, 19.56s/it]"
     ]
    },
    {
     "name": "stdout",
     "output_type": "stream",
     "text": [
      "{'C': 0.0, 'B': 10, 'learning_rate': 0.01, 'comm_round': 409, 'train_acc': 0.9875, 'test_acc': 0.9808, 'train_loss': 0.0371, 'test_loss': 0.0659}\n"
     ]
    },
    {
     "name": "stderr",
     "output_type": "stream",
     "text": [
      " 82%|████████▏ | 410/500 [2:16:59<29:03, 19.38s/it]"
     ]
    },
    {
     "name": "stdout",
     "output_type": "stream",
     "text": [
      "{'C': 0.0, 'B': 10, 'learning_rate': 0.01, 'comm_round': 410, 'train_acc': 0.9881, 'test_acc': 0.9814, 'train_loss': 0.0354, 'test_loss': 0.0606}\n"
     ]
    },
    {
     "name": "stderr",
     "output_type": "stream",
     "text": [
      " 82%|████████▏ | 411/500 [2:17:17<28:11, 19.01s/it]"
     ]
    },
    {
     "name": "stdout",
     "output_type": "stream",
     "text": [
      "{'C': 0.0, 'B': 10, 'learning_rate': 0.01, 'comm_round': 411, 'train_acc': 0.9892, 'test_acc': 0.9839, 'train_loss': 0.0316, 'test_loss': 0.0554}\n"
     ]
    },
    {
     "name": "stderr",
     "output_type": "stream",
     "text": [
      " 82%|████████▏ | 412/500 [2:17:35<27:39, 18.86s/it]"
     ]
    },
    {
     "name": "stdout",
     "output_type": "stream",
     "text": [
      "{'C': 0.0, 'B': 10, 'learning_rate': 0.01, 'comm_round': 412, 'train_acc': 0.9888, 'test_acc': 0.9831, 'train_loss': 0.0332, 'test_loss': 0.0595}\n"
     ]
    },
    {
     "name": "stderr",
     "output_type": "stream",
     "text": [
      " 83%|████████▎ | 413/500 [2:17:54<27:25, 18.91s/it]"
     ]
    },
    {
     "name": "stdout",
     "output_type": "stream",
     "text": [
      "{'C': 0.0, 'B': 10, 'learning_rate': 0.01, 'comm_round': 413, 'train_acc': 0.9888, 'test_acc': 0.9829, 'train_loss': 0.0334, 'test_loss': 0.0589}\n"
     ]
    },
    {
     "name": "stderr",
     "output_type": "stream",
     "text": [
      " 83%|████████▎ | 414/500 [2:18:13<26:49, 18.71s/it]"
     ]
    },
    {
     "name": "stdout",
     "output_type": "stream",
     "text": [
      "{'C': 0.0, 'B': 10, 'learning_rate': 0.01, 'comm_round': 414, 'train_acc': 0.9888, 'test_acc': 0.9829, 'train_loss': 0.0333, 'test_loss': 0.0587}\n"
     ]
    },
    {
     "name": "stderr",
     "output_type": "stream",
     "text": [
      " 83%|████████▎ | 415/500 [2:18:31<26:27, 18.68s/it]"
     ]
    },
    {
     "name": "stdout",
     "output_type": "stream",
     "text": [
      "{'C': 0.0, 'B': 10, 'learning_rate': 0.01, 'comm_round': 415, 'train_acc': 0.9891, 'test_acc': 0.9832, 'train_loss': 0.0327, 'test_loss': 0.06}\n"
     ]
    },
    {
     "name": "stderr",
     "output_type": "stream",
     "text": [
      " 83%|████████▎ | 416/500 [2:18:52<26:56, 19.25s/it]"
     ]
    },
    {
     "name": "stdout",
     "output_type": "stream",
     "text": [
      "{'C': 0.0, 'B': 10, 'learning_rate': 0.01, 'comm_round': 416, 'train_acc': 0.9936, 'test_acc': 0.9878, 'train_loss': 0.0186, 'test_loss': 0.0408}\n"
     ]
    },
    {
     "name": "stderr",
     "output_type": "stream",
     "text": [
      " 83%|████████▎ | 417/500 [2:19:11<26:34, 19.21s/it]"
     ]
    },
    {
     "name": "stdout",
     "output_type": "stream",
     "text": [
      "{'C': 0.0, 'B': 10, 'learning_rate': 0.01, 'comm_round': 417, 'train_acc': 0.9887, 'test_acc': 0.983, 'train_loss': 0.0351, 'test_loss': 0.0539}\n"
     ]
    },
    {
     "name": "stderr",
     "output_type": "stream",
     "text": [
      " 84%|████████▎ | 418/500 [2:19:30<26:11, 19.16s/it]"
     ]
    },
    {
     "name": "stdout",
     "output_type": "stream",
     "text": [
      "{'C': 0.0, 'B': 10, 'learning_rate': 0.01, 'comm_round': 418, 'train_acc': 0.9885, 'test_acc': 0.9828, 'train_loss': 0.0357, 'test_loss': 0.0542}\n"
     ]
    },
    {
     "name": "stderr",
     "output_type": "stream",
     "text": [
      " 84%|████████▍ | 419/500 [2:19:49<25:38, 19.00s/it]"
     ]
    },
    {
     "name": "stdout",
     "output_type": "stream",
     "text": [
      "{'C': 0.0, 'B': 10, 'learning_rate': 0.01, 'comm_round': 419, 'train_acc': 0.9899, 'test_acc': 0.9843, 'train_loss': 0.0299, 'test_loss': 0.0499}\n"
     ]
    },
    {
     "name": "stderr",
     "output_type": "stream",
     "text": [
      " 84%|████████▍ | 420/500 [2:20:08<25:25, 19.07s/it]"
     ]
    },
    {
     "name": "stdout",
     "output_type": "stream",
     "text": [
      "{'C': 0.0, 'B': 10, 'learning_rate': 0.01, 'comm_round': 420, 'train_acc': 0.99, 'test_acc': 0.984, 'train_loss': 0.0293, 'test_loss': 0.0542}\n"
     ]
    },
    {
     "name": "stderr",
     "output_type": "stream",
     "text": [
      " 84%|████████▍ | 421/500 [2:20:28<25:24, 19.30s/it]"
     ]
    },
    {
     "name": "stdout",
     "output_type": "stream",
     "text": [
      "{'C': 0.0, 'B': 10, 'learning_rate': 0.01, 'comm_round': 421, 'train_acc': 0.9892, 'test_acc': 0.9838, 'train_loss': 0.0329, 'test_loss': 0.0535}\n"
     ]
    },
    {
     "name": "stderr",
     "output_type": "stream",
     "text": [
      " 84%|████████▍ | 422/500 [2:20:47<25:01, 19.26s/it]"
     ]
    },
    {
     "name": "stdout",
     "output_type": "stream",
     "text": [
      "{'C': 0.0, 'B': 10, 'learning_rate': 0.01, 'comm_round': 422, 'train_acc': 0.989, 'test_acc': 0.9835, 'train_loss': 0.0339, 'test_loss': 0.0538}\n"
     ]
    },
    {
     "name": "stderr",
     "output_type": "stream",
     "text": [
      " 85%|████████▍ | 423/500 [2:21:05<24:23, 19.01s/it]"
     ]
    },
    {
     "name": "stdout",
     "output_type": "stream",
     "text": [
      "{'C': 0.0, 'B': 10, 'learning_rate': 0.01, 'comm_round': 423, 'train_acc': 0.9885, 'test_acc': 0.9839, 'train_loss': 0.0355, 'test_loss': 0.0581}\n"
     ]
    },
    {
     "name": "stderr",
     "output_type": "stream",
     "text": [
      " 85%|████████▍ | 424/500 [2:21:26<24:47, 19.57s/it]"
     ]
    },
    {
     "name": "stdout",
     "output_type": "stream",
     "text": [
      "{'C': 0.0, 'B': 10, 'learning_rate': 0.01, 'comm_round': 424, 'train_acc': 0.989, 'test_acc': 0.9842, 'train_loss': 0.0343, 'test_loss': 0.0569}\n"
     ]
    },
    {
     "name": "stderr",
     "output_type": "stream",
     "text": [
      " 85%|████████▌ | 425/500 [2:21:47<24:49, 19.86s/it]"
     ]
    },
    {
     "name": "stdout",
     "output_type": "stream",
     "text": [
      "{'C': 0.0, 'B': 10, 'learning_rate': 0.01, 'comm_round': 425, 'train_acc': 0.9908, 'test_acc': 0.9849, 'train_loss': 0.0286, 'test_loss': 0.0529}\n"
     ]
    },
    {
     "name": "stderr",
     "output_type": "stream",
     "text": [
      " 85%|████████▌ | 426/500 [2:22:06<24:19, 19.72s/it]"
     ]
    },
    {
     "name": "stdout",
     "output_type": "stream",
     "text": [
      "{'C': 0.0, 'B': 10, 'learning_rate': 0.01, 'comm_round': 426, 'train_acc': 0.9913, 'test_acc': 0.984, 'train_loss': 0.0258, 'test_loss': 0.0541}\n"
     ]
    },
    {
     "name": "stderr",
     "output_type": "stream",
     "text": [
      " 85%|████████▌ | 427/500 [2:22:25<23:44, 19.51s/it]"
     ]
    },
    {
     "name": "stdout",
     "output_type": "stream",
     "text": [
      "{'C': 0.0, 'B': 10, 'learning_rate': 0.01, 'comm_round': 427, 'train_acc': 0.992, 'test_acc': 0.9856, 'train_loss': 0.0232, 'test_loss': 0.0494}\n"
     ]
    },
    {
     "name": "stderr",
     "output_type": "stream",
     "text": [
      " 86%|████████▌ | 428/500 [2:22:46<23:50, 19.87s/it]"
     ]
    },
    {
     "name": "stdout",
     "output_type": "stream",
     "text": [
      "{'C': 0.0, 'B': 10, 'learning_rate': 0.01, 'comm_round': 428, 'train_acc': 0.992, 'test_acc': 0.9857, 'train_loss': 0.0232, 'test_loss': 0.0491}\n"
     ]
    },
    {
     "name": "stderr",
     "output_type": "stream",
     "text": [
      " 86%|████████▌ | 429/500 [2:23:06<23:42, 20.04s/it]"
     ]
    },
    {
     "name": "stdout",
     "output_type": "stream",
     "text": [
      "{'C': 0.0, 'B': 10, 'learning_rate': 0.01, 'comm_round': 429, 'train_acc': 0.9888, 'test_acc': 0.9837, 'train_loss': 0.0344, 'test_loss': 0.0579}\n"
     ]
    },
    {
     "name": "stderr",
     "output_type": "stream",
     "text": [
      " 86%|████████▌ | 430/500 [2:23:25<23:06, 19.81s/it]"
     ]
    },
    {
     "name": "stdout",
     "output_type": "stream",
     "text": [
      "{'C': 0.0, 'B': 10, 'learning_rate': 0.01, 'comm_round': 430, 'train_acc': 0.989, 'test_acc': 0.9836, 'train_loss': 0.0329, 'test_loss': 0.0572}\n"
     ]
    },
    {
     "name": "stderr",
     "output_type": "stream",
     "text": [
      " 86%|████████▌ | 431/500 [2:23:45<22:34, 19.63s/it]"
     ]
    },
    {
     "name": "stdout",
     "output_type": "stream",
     "text": [
      "{'C': 0.0, 'B': 10, 'learning_rate': 0.01, 'comm_round': 431, 'train_acc': 0.9884, 'test_acc': 0.9832, 'train_loss': 0.0348, 'test_loss': 0.0572}\n"
     ]
    },
    {
     "name": "stderr",
     "output_type": "stream",
     "text": [
      " 86%|████████▋ | 432/500 [2:24:03<21:45, 19.20s/it]"
     ]
    },
    {
     "name": "stdout",
     "output_type": "stream",
     "text": [
      "{'C': 0.0, 'B': 10, 'learning_rate': 0.01, 'comm_round': 432, 'train_acc': 0.9876, 'test_acc': 0.9829, 'train_loss': 0.0387, 'test_loss': 0.0595}\n"
     ]
    },
    {
     "name": "stderr",
     "output_type": "stream",
     "text": [
      " 87%|████████▋ | 433/500 [2:24:23<21:39, 19.39s/it]"
     ]
    },
    {
     "name": "stdout",
     "output_type": "stream",
     "text": [
      "{'C': 0.0, 'B': 10, 'learning_rate': 0.01, 'comm_round': 433, 'train_acc': 0.9864, 'test_acc': 0.9795, 'train_loss': 0.0407, 'test_loss': 0.0728}\n"
     ]
    },
    {
     "name": "stderr",
     "output_type": "stream",
     "text": [
      " 87%|████████▋ | 434/500 [2:24:42<21:14, 19.31s/it]"
     ]
    },
    {
     "name": "stdout",
     "output_type": "stream",
     "text": [
      "{'C': 0.0, 'B': 10, 'learning_rate': 0.01, 'comm_round': 434, 'train_acc': 0.9887, 'test_acc': 0.9834, 'train_loss': 0.0342, 'test_loss': 0.0602}\n"
     ]
    },
    {
     "name": "stderr",
     "output_type": "stream",
     "text": [
      " 87%|████████▋ | 435/500 [2:25:04<21:44, 20.08s/it]"
     ]
    },
    {
     "name": "stdout",
     "output_type": "stream",
     "text": [
      "{'C': 0.0, 'B': 10, 'learning_rate': 0.01, 'comm_round': 435, 'train_acc': 0.9886, 'test_acc': 0.9843, 'train_loss': 0.0342, 'test_loss': 0.0596}\n"
     ]
    },
    {
     "name": "stderr",
     "output_type": "stream",
     "text": [
      " 87%|████████▋ | 436/500 [2:25:22<20:58, 19.66s/it]"
     ]
    },
    {
     "name": "stdout",
     "output_type": "stream",
     "text": [
      "{'C': 0.0, 'B': 10, 'learning_rate': 0.01, 'comm_round': 436, 'train_acc': 0.9892, 'test_acc': 0.9841, 'train_loss': 0.0326, 'test_loss': 0.0571}\n"
     ]
    },
    {
     "name": "stderr",
     "output_type": "stream",
     "text": [
      " 87%|████████▋ | 437/500 [2:25:41<20:27, 19.49s/it]"
     ]
    },
    {
     "name": "stdout",
     "output_type": "stream",
     "text": [
      "{'C': 0.0, 'B': 10, 'learning_rate': 0.01, 'comm_round': 437, 'train_acc': 0.992, 'test_acc': 0.9831, 'train_loss': 0.023, 'test_loss': 0.0569}\n"
     ]
    },
    {
     "name": "stderr",
     "output_type": "stream",
     "text": [
      " 88%|████████▊ | 438/500 [2:26:00<19:47, 19.16s/it]"
     ]
    },
    {
     "name": "stdout",
     "output_type": "stream",
     "text": [
      "{'C': 0.0, 'B': 10, 'learning_rate': 0.01, 'comm_round': 438, 'train_acc': 0.9923, 'test_acc': 0.9856, 'train_loss': 0.0219, 'test_loss': 0.0528}\n"
     ]
    },
    {
     "name": "stderr",
     "output_type": "stream",
     "text": [
      " 88%|████████▊ | 439/500 [2:26:19<19:28, 19.16s/it]"
     ]
    },
    {
     "name": "stdout",
     "output_type": "stream",
     "text": [
      "{'C': 0.0, 'B': 10, 'learning_rate': 0.01, 'comm_round': 439, 'train_acc': 0.9921, 'test_acc': 0.9855, 'train_loss': 0.0226, 'test_loss': 0.0533}\n"
     ]
    },
    {
     "name": "stderr",
     "output_type": "stream",
     "text": [
      " 88%|████████▊ | 440/500 [2:26:39<19:16, 19.27s/it]"
     ]
    },
    {
     "name": "stdout",
     "output_type": "stream",
     "text": [
      "{'C': 0.0, 'B': 10, 'learning_rate': 0.01, 'comm_round': 440, 'train_acc': 0.9883, 'test_acc': 0.9816, 'train_loss': 0.0338, 'test_loss': 0.0692}\n"
     ]
    },
    {
     "name": "stderr",
     "output_type": "stream",
     "text": [
      " 88%|████████▊ | 441/500 [2:26:57<18:47, 19.11s/it]"
     ]
    },
    {
     "name": "stdout",
     "output_type": "stream",
     "text": [
      "{'C': 0.0, 'B': 10, 'learning_rate': 0.01, 'comm_round': 441, 'train_acc': 0.992, 'test_acc': 0.9857, 'train_loss': 0.0228, 'test_loss': 0.05}\n"
     ]
    },
    {
     "name": "stderr",
     "output_type": "stream",
     "text": [
      " 88%|████████▊ | 442/500 [2:27:17<18:37, 19.26s/it]"
     ]
    },
    {
     "name": "stdout",
     "output_type": "stream",
     "text": [
      "{'C': 0.0, 'B': 10, 'learning_rate': 0.01, 'comm_round': 442, 'train_acc': 0.9916, 'test_acc': 0.9859, 'train_loss': 0.024, 'test_loss': 0.0507}\n"
     ]
    },
    {
     "name": "stderr",
     "output_type": "stream",
     "text": [
      " 89%|████████▊ | 443/500 [2:27:37<18:28, 19.45s/it]"
     ]
    },
    {
     "name": "stdout",
     "output_type": "stream",
     "text": [
      "{'C': 0.0, 'B': 10, 'learning_rate': 0.01, 'comm_round': 443, 'train_acc': 0.9927, 'test_acc': 0.9869, 'train_loss': 0.021, 'test_loss': 0.0468}\n"
     ]
    },
    {
     "name": "stderr",
     "output_type": "stream",
     "text": [
      " 89%|████████▉ | 444/500 [2:27:56<17:58, 19.26s/it]"
     ]
    },
    {
     "name": "stdout",
     "output_type": "stream",
     "text": [
      "{'C': 0.0, 'B': 10, 'learning_rate': 0.01, 'comm_round': 444, 'train_acc': 0.9912, 'test_acc': 0.9849, 'train_loss': 0.026, 'test_loss': 0.0514}\n"
     ]
    },
    {
     "name": "stderr",
     "output_type": "stream",
     "text": [
      " 89%|████████▉ | 445/500 [2:28:16<18:04, 19.73s/it]"
     ]
    },
    {
     "name": "stdout",
     "output_type": "stream",
     "text": [
      "{'C': 0.0, 'B': 10, 'learning_rate': 0.01, 'comm_round': 445, 'train_acc': 0.9873, 'test_acc': 0.9808, 'train_loss': 0.0379, 'test_loss': 0.0637}\n"
     ]
    },
    {
     "name": "stderr",
     "output_type": "stream",
     "text": [
      " 89%|████████▉ | 446/500 [2:28:38<18:17, 20.33s/it]"
     ]
    },
    {
     "name": "stdout",
     "output_type": "stream",
     "text": [
      "{'C': 0.0, 'B': 10, 'learning_rate': 0.01, 'comm_round': 446, 'train_acc': 0.991, 'test_acc': 0.9853, 'train_loss': 0.0251, 'test_loss': 0.0506}\n"
     ]
    },
    {
     "name": "stderr",
     "output_type": "stream",
     "text": [
      " 89%|████████▉ | 447/500 [2:29:00<18:28, 20.91s/it]"
     ]
    },
    {
     "name": "stdout",
     "output_type": "stream",
     "text": [
      "{'C': 0.0, 'B': 10, 'learning_rate': 0.01, 'comm_round': 447, 'train_acc': 0.9889, 'test_acc': 0.9823, 'train_loss': 0.0328, 'test_loss': 0.0596}\n"
     ]
    },
    {
     "name": "stderr",
     "output_type": "stream",
     "text": [
      " 90%|████████▉ | 448/500 [2:29:21<17:55, 20.69s/it]"
     ]
    },
    {
     "name": "stdout",
     "output_type": "stream",
     "text": [
      "{'C': 0.0, 'B': 10, 'learning_rate': 0.01, 'comm_round': 448, 'train_acc': 0.9899, 'test_acc': 0.9845, 'train_loss': 0.0286, 'test_loss': 0.0543}\n"
     ]
    },
    {
     "name": "stderr",
     "output_type": "stream",
     "text": [
      " 90%|████████▉ | 449/500 [2:29:42<17:44, 20.86s/it]"
     ]
    },
    {
     "name": "stdout",
     "output_type": "stream",
     "text": [
      "{'C': 0.0, 'B': 10, 'learning_rate': 0.01, 'comm_round': 449, 'train_acc': 0.9883, 'test_acc': 0.983, 'train_loss': 0.0325, 'test_loss': 0.06}\n"
     ]
    },
    {
     "name": "stderr",
     "output_type": "stream",
     "text": [
      " 90%|█████████ | 450/500 [2:30:05<17:53, 21.46s/it]"
     ]
    },
    {
     "name": "stdout",
     "output_type": "stream",
     "text": [
      "{'C': 0.0, 'B': 10, 'learning_rate': 0.01, 'comm_round': 450, 'train_acc': 0.9884, 'test_acc': 0.9825, 'train_loss': 0.0315, 'test_loss': 0.0637}\n"
     ]
    },
    {
     "name": "stderr",
     "output_type": "stream",
     "text": [
      " 90%|█████████ | 451/500 [2:30:25<17:18, 21.20s/it]"
     ]
    },
    {
     "name": "stdout",
     "output_type": "stream",
     "text": [
      "{'C': 0.0, 'B': 10, 'learning_rate': 0.01, 'comm_round': 451, 'train_acc': 0.989, 'test_acc': 0.98, 'train_loss': 0.031, 'test_loss': 0.0687}\n"
     ]
    },
    {
     "name": "stderr",
     "output_type": "stream",
     "text": [
      " 90%|█████████ | 452/500 [2:30:45<16:42, 20.89s/it]"
     ]
    },
    {
     "name": "stdout",
     "output_type": "stream",
     "text": [
      "{'C': 0.0, 'B': 10, 'learning_rate': 0.01, 'comm_round': 452, 'train_acc': 0.989, 'test_acc': 0.98, 'train_loss': 0.0309, 'test_loss': 0.069}\n"
     ]
    },
    {
     "name": "stderr",
     "output_type": "stream",
     "text": [
      " 91%|█████████ | 453/500 [2:31:05<15:59, 20.42s/it]"
     ]
    },
    {
     "name": "stdout",
     "output_type": "stream",
     "text": [
      "{'C': 0.0, 'B': 10, 'learning_rate': 0.01, 'comm_round': 453, 'train_acc': 0.9898, 'test_acc': 0.9811, 'train_loss': 0.0289, 'test_loss': 0.066}\n"
     ]
    },
    {
     "name": "stderr",
     "output_type": "stream",
     "text": [
      " 91%|█████████ | 454/500 [2:31:25<15:37, 20.37s/it]"
     ]
    },
    {
     "name": "stdout",
     "output_type": "stream",
     "text": [
      "{'C': 0.0, 'B': 10, 'learning_rate': 0.01, 'comm_round': 454, 'train_acc': 0.9766, 'test_acc': 0.968, 'train_loss': 0.0757, 'test_loss': 0.1186}\n"
     ]
    },
    {
     "name": "stderr",
     "output_type": "stream",
     "text": [
      " 91%|█████████ | 455/500 [2:31:45<15:12, 20.28s/it]"
     ]
    },
    {
     "name": "stdout",
     "output_type": "stream",
     "text": [
      "{'C': 0.0, 'B': 10, 'learning_rate': 0.01, 'comm_round': 455, 'train_acc': 0.9765, 'test_acc': 0.9673, 'train_loss': 0.0742, 'test_loss': 0.1168}\n"
     ]
    },
    {
     "name": "stderr",
     "output_type": "stream",
     "text": [
      " 91%|█████████ | 456/500 [2:32:10<15:55, 21.72s/it]"
     ]
    },
    {
     "name": "stdout",
     "output_type": "stream",
     "text": [
      "{'C': 0.0, 'B': 10, 'learning_rate': 0.01, 'comm_round': 456, 'train_acc': 0.9793, 'test_acc': 0.9704, 'train_loss': 0.0649, 'test_loss': 0.106}\n"
     ]
    },
    {
     "name": "stderr",
     "output_type": "stream",
     "text": [
      " 91%|█████████▏| 457/500 [2:32:32<15:40, 21.86s/it]"
     ]
    },
    {
     "name": "stdout",
     "output_type": "stream",
     "text": [
      "{'C': 0.0, 'B': 10, 'learning_rate': 0.01, 'comm_round': 457, 'train_acc': 0.985, 'test_acc': 0.9764, 'train_loss': 0.0466, 'test_loss': 0.0846}\n"
     ]
    },
    {
     "name": "stderr",
     "output_type": "stream",
     "text": [
      " 92%|█████████▏| 458/500 [2:32:54<15:10, 21.67s/it]"
     ]
    },
    {
     "name": "stdout",
     "output_type": "stream",
     "text": [
      "{'C': 0.0, 'B': 10, 'learning_rate': 0.01, 'comm_round': 458, 'train_acc': 0.978, 'test_acc': 0.9683, 'train_loss': 0.0679, 'test_loss': 0.1177}\n"
     ]
    },
    {
     "name": "stderr",
     "output_type": "stream",
     "text": [
      " 92%|█████████▏| 459/500 [2:33:13<14:21, 21.02s/it]"
     ]
    },
    {
     "name": "stdout",
     "output_type": "stream",
     "text": [
      "{'C': 0.0, 'B': 10, 'learning_rate': 0.01, 'comm_round': 459, 'train_acc': 0.985, 'test_acc': 0.9766, 'train_loss': 0.0448, 'test_loss': 0.0879}\n"
     ]
    },
    {
     "name": "stderr",
     "output_type": "stream",
     "text": [
      " 92%|█████████▏| 460/500 [2:33:32<13:40, 20.52s/it]"
     ]
    },
    {
     "name": "stdout",
     "output_type": "stream",
     "text": [
      "{'C': 0.0, 'B': 10, 'learning_rate': 0.01, 'comm_round': 460, 'train_acc': 0.9804, 'test_acc': 0.9716, 'train_loss': 0.061, 'test_loss': 0.1052}\n"
     ]
    },
    {
     "name": "stderr",
     "output_type": "stream",
     "text": [
      " 92%|█████████▏| 461/500 [2:33:52<13:05, 20.14s/it]"
     ]
    },
    {
     "name": "stdout",
     "output_type": "stream",
     "text": [
      "{'C': 0.0, 'B': 10, 'learning_rate': 0.01, 'comm_round': 461, 'train_acc': 0.9823, 'test_acc': 0.9725, 'train_loss': 0.0551, 'test_loss': 0.0989}\n"
     ]
    },
    {
     "name": "stderr",
     "output_type": "stream",
     "text": [
      " 92%|█████████▏| 462/500 [2:34:11<12:36, 19.91s/it]"
     ]
    },
    {
     "name": "stdout",
     "output_type": "stream",
     "text": [
      "{'C': 0.0, 'B': 10, 'learning_rate': 0.01, 'comm_round': 462, 'train_acc': 0.9881, 'test_acc': 0.9791, 'train_loss': 0.0348, 'test_loss': 0.078}\n"
     ]
    },
    {
     "name": "stderr",
     "output_type": "stream",
     "text": [
      " 93%|█████████▎| 463/500 [2:34:29<11:57, 19.40s/it]"
     ]
    },
    {
     "name": "stdout",
     "output_type": "stream",
     "text": [
      "{'C': 0.0, 'B': 10, 'learning_rate': 0.01, 'comm_round': 463, 'train_acc': 0.9894, 'test_acc': 0.9806, 'train_loss': 0.0308, 'test_loss': 0.0745}\n"
     ]
    },
    {
     "name": "stderr",
     "output_type": "stream",
     "text": [
      " 93%|█████████▎| 464/500 [2:34:48<11:29, 19.16s/it]"
     ]
    },
    {
     "name": "stdout",
     "output_type": "stream",
     "text": [
      "{'C': 0.0, 'B': 10, 'learning_rate': 0.01, 'comm_round': 464, 'train_acc': 0.9886, 'test_acc': 0.9796, 'train_loss': 0.0332, 'test_loss': 0.077}\n"
     ]
    },
    {
     "name": "stderr",
     "output_type": "stream",
     "text": [
      " 93%|█████████▎| 465/500 [2:35:07<11:14, 19.26s/it]"
     ]
    },
    {
     "name": "stdout",
     "output_type": "stream",
     "text": [
      "{'C': 0.0, 'B': 10, 'learning_rate': 0.01, 'comm_round': 465, 'train_acc': 0.9873, 'test_acc': 0.9787, 'train_loss': 0.038, 'test_loss': 0.0833}\n"
     ]
    },
    {
     "name": "stderr",
     "output_type": "stream",
     "text": [
      " 93%|█████████▎| 466/500 [2:35:26<10:49, 19.12s/it]"
     ]
    },
    {
     "name": "stdout",
     "output_type": "stream",
     "text": [
      "{'C': 0.0, 'B': 10, 'learning_rate': 0.01, 'comm_round': 466, 'train_acc': 0.9874, 'test_acc': 0.9789, 'train_loss': 0.0364, 'test_loss': 0.0823}\n"
     ]
    },
    {
     "name": "stderr",
     "output_type": "stream",
     "text": [
      " 93%|█████████▎| 467/500 [2:35:45<10:30, 19.11s/it]"
     ]
    },
    {
     "name": "stdout",
     "output_type": "stream",
     "text": [
      "{'C': 0.0, 'B': 10, 'learning_rate': 0.01, 'comm_round': 467, 'train_acc': 0.9857, 'test_acc': 0.9773, 'train_loss': 0.0424, 'test_loss': 0.0861}\n"
     ]
    },
    {
     "name": "stderr",
     "output_type": "stream",
     "text": [
      " 94%|█████████▎| 468/500 [2:36:06<10:28, 19.66s/it]"
     ]
    },
    {
     "name": "stdout",
     "output_type": "stream",
     "text": [
      "{'C': 0.0, 'B': 10, 'learning_rate': 0.01, 'comm_round': 468, 'train_acc': 0.9917, 'test_acc': 0.9839, 'train_loss': 0.0246, 'test_loss': 0.0579}\n"
     ]
    },
    {
     "name": "stderr",
     "output_type": "stream",
     "text": [
      " 94%|█████████▍| 469/500 [2:36:25<10:01, 19.40s/it]"
     ]
    },
    {
     "name": "stdout",
     "output_type": "stream",
     "text": [
      "{'C': 0.0, 'B': 10, 'learning_rate': 0.01, 'comm_round': 469, 'train_acc': 0.9916, 'test_acc': 0.9847, 'train_loss': 0.0233, 'test_loss': 0.054}\n"
     ]
    },
    {
     "name": "stderr",
     "output_type": "stream",
     "text": [
      " 94%|█████████▍| 470/500 [2:36:45<09:47, 19.57s/it]"
     ]
    },
    {
     "name": "stdout",
     "output_type": "stream",
     "text": [
      "{'C': 0.0, 'B': 10, 'learning_rate': 0.01, 'comm_round': 470, 'train_acc': 0.9901, 'test_acc': 0.982, 'train_loss': 0.0275, 'test_loss': 0.0579}\n"
     ]
    },
    {
     "name": "stderr",
     "output_type": "stream",
     "text": [
      " 94%|█████████▍| 471/500 [2:37:05<09:27, 19.58s/it]"
     ]
    },
    {
     "name": "stdout",
     "output_type": "stream",
     "text": [
      "{'C': 0.0, 'B': 10, 'learning_rate': 0.01, 'comm_round': 471, 'train_acc': 0.9911, 'test_acc': 0.9831, 'train_loss': 0.0255, 'test_loss': 0.0541}\n"
     ]
    },
    {
     "name": "stderr",
     "output_type": "stream",
     "text": [
      " 94%|█████████▍| 472/500 [2:37:24<09:04, 19.46s/it]"
     ]
    },
    {
     "name": "stdout",
     "output_type": "stream",
     "text": [
      "{'C': 0.0, 'B': 10, 'learning_rate': 0.01, 'comm_round': 472, 'train_acc': 0.9913, 'test_acc': 0.9831, 'train_loss': 0.0249, 'test_loss': 0.0538}\n"
     ]
    },
    {
     "name": "stderr",
     "output_type": "stream",
     "text": [
      " 95%|█████████▍| 473/500 [2:37:44<08:55, 19.84s/it]"
     ]
    },
    {
     "name": "stdout",
     "output_type": "stream",
     "text": [
      "{'C': 0.0, 'B': 10, 'learning_rate': 0.01, 'comm_round': 473, 'train_acc': 0.9915, 'test_acc': 0.9843, 'train_loss': 0.0242, 'test_loss': 0.0537}\n"
     ]
    },
    {
     "name": "stderr",
     "output_type": "stream",
     "text": [
      " 95%|█████████▍| 474/500 [2:38:03<08:28, 19.56s/it]"
     ]
    },
    {
     "name": "stdout",
     "output_type": "stream",
     "text": [
      "{'C': 0.0, 'B': 10, 'learning_rate': 0.01, 'comm_round': 474, 'train_acc': 0.9903, 'test_acc': 0.9835, 'train_loss': 0.0286, 'test_loss': 0.0588}\n"
     ]
    },
    {
     "name": "stderr",
     "output_type": "stream",
     "text": [
      " 95%|█████████▌| 475/500 [2:38:23<08:08, 19.54s/it]"
     ]
    },
    {
     "name": "stdout",
     "output_type": "stream",
     "text": [
      "{'C': 0.0, 'B': 10, 'learning_rate': 0.01, 'comm_round': 475, 'train_acc': 0.9905, 'test_acc': 0.9832, 'train_loss': 0.0273, 'test_loss': 0.0578}\n"
     ]
    },
    {
     "name": "stderr",
     "output_type": "stream",
     "text": [
      " 95%|█████████▌| 476/500 [2:38:43<07:49, 19.57s/it]"
     ]
    },
    {
     "name": "stdout",
     "output_type": "stream",
     "text": [
      "{'C': 0.0, 'B': 10, 'learning_rate': 0.01, 'comm_round': 476, 'train_acc': 0.994, 'test_acc': 0.9867, 'train_loss': 0.0158, 'test_loss': 0.0453}\n"
     ]
    },
    {
     "name": "stderr",
     "output_type": "stream",
     "text": [
      " 95%|█████████▌| 477/500 [2:39:01<07:25, 19.37s/it]"
     ]
    },
    {
     "name": "stdout",
     "output_type": "stream",
     "text": [
      "{'C': 0.0, 'B': 10, 'learning_rate': 0.01, 'comm_round': 477, 'train_acc': 0.9945, 'test_acc': 0.987, 'train_loss': 0.0155, 'test_loss': 0.0443}\n"
     ]
    },
    {
     "name": "stderr",
     "output_type": "stream",
     "text": [
      " 96%|█████████▌| 478/500 [2:39:21<07:05, 19.34s/it]"
     ]
    },
    {
     "name": "stdout",
     "output_type": "stream",
     "text": [
      "{'C': 0.0, 'B': 10, 'learning_rate': 0.01, 'comm_round': 478, 'train_acc': 0.991, 'test_acc': 0.9843, 'train_loss': 0.0262, 'test_loss': 0.0552}\n"
     ]
    },
    {
     "name": "stderr",
     "output_type": "stream",
     "text": [
      " 96%|█████████▌| 479/500 [2:39:41<06:53, 19.67s/it]"
     ]
    },
    {
     "name": "stdout",
     "output_type": "stream",
     "text": [
      "{'C': 0.0, 'B': 10, 'learning_rate': 0.01, 'comm_round': 479, 'train_acc': 0.9911, 'test_acc': 0.9846, 'train_loss': 0.027, 'test_loss': 0.055}\n"
     ]
    },
    {
     "name": "stderr",
     "output_type": "stream",
     "text": [
      " 96%|█████████▌| 480/500 [2:40:05<06:57, 20.90s/it]"
     ]
    },
    {
     "name": "stdout",
     "output_type": "stream",
     "text": [
      "{'C': 0.0, 'B': 10, 'learning_rate': 0.01, 'comm_round': 480, 'train_acc': 0.9914, 'test_acc': 0.9847, 'train_loss': 0.0255, 'test_loss': 0.0545}\n"
     ]
    },
    {
     "name": "stderr",
     "output_type": "stream",
     "text": [
      " 96%|█████████▌| 481/500 [2:40:29<06:53, 21.75s/it]"
     ]
    },
    {
     "name": "stdout",
     "output_type": "stream",
     "text": [
      "{'C': 0.0, 'B': 10, 'learning_rate': 0.01, 'comm_round': 481, 'train_acc': 0.9901, 'test_acc': 0.9829, 'train_loss': 0.0296, 'test_loss': 0.0587}\n"
     ]
    },
    {
     "name": "stderr",
     "output_type": "stream",
     "text": [
      " 96%|█████████▋| 482/500 [2:40:49<06:22, 21.24s/it]"
     ]
    },
    {
     "name": "stdout",
     "output_type": "stream",
     "text": [
      "{'C': 0.0, 'B': 10, 'learning_rate': 0.01, 'comm_round': 482, 'train_acc': 0.9894, 'test_acc': 0.9837, 'train_loss': 0.0303, 'test_loss': 0.0599}\n"
     ]
    },
    {
     "name": "stderr",
     "output_type": "stream",
     "text": [
      " 97%|█████████▋| 483/500 [2:41:10<05:59, 21.15s/it]"
     ]
    },
    {
     "name": "stdout",
     "output_type": "stream",
     "text": [
      "{'C': 0.0, 'B': 10, 'learning_rate': 0.01, 'comm_round': 483, 'train_acc': 0.9889, 'test_acc': 0.9804, 'train_loss': 0.0301, 'test_loss': 0.0683}\n"
     ]
    },
    {
     "name": "stderr",
     "output_type": "stream",
     "text": [
      " 97%|█████████▋| 484/500 [2:41:34<05:53, 22.08s/it]"
     ]
    },
    {
     "name": "stdout",
     "output_type": "stream",
     "text": [
      "{'C': 0.0, 'B': 10, 'learning_rate': 0.01, 'comm_round': 484, 'train_acc': 0.9856, 'test_acc': 0.9763, 'train_loss': 0.0411, 'test_loss': 0.0813}\n"
     ]
    },
    {
     "name": "stderr",
     "output_type": "stream",
     "text": [
      " 97%|█████████▋| 485/500 [2:41:59<05:44, 22.95s/it]"
     ]
    },
    {
     "name": "stdout",
     "output_type": "stream",
     "text": [
      "{'C': 0.0, 'B': 10, 'learning_rate': 0.01, 'comm_round': 485, 'train_acc': 0.9888, 'test_acc': 0.9804, 'train_loss': 0.0305, 'test_loss': 0.068}\n"
     ]
    },
    {
     "name": "stderr",
     "output_type": "stream",
     "text": [
      " 97%|█████████▋| 486/500 [2:42:19<05:08, 22.04s/it]"
     ]
    },
    {
     "name": "stdout",
     "output_type": "stream",
     "text": [
      "{'C': 0.0, 'B': 10, 'learning_rate': 0.01, 'comm_round': 486, 'train_acc': 0.9897, 'test_acc': 0.9804, 'train_loss': 0.0286, 'test_loss': 0.066}\n"
     ]
    },
    {
     "name": "stderr",
     "output_type": "stream",
     "text": [
      " 97%|█████████▋| 487/500 [2:42:39<04:39, 21.47s/it]"
     ]
    },
    {
     "name": "stdout",
     "output_type": "stream",
     "text": [
      "{'C': 0.0, 'B': 10, 'learning_rate': 0.01, 'comm_round': 487, 'train_acc': 0.9896, 'test_acc': 0.9799, 'train_loss': 0.0286, 'test_loss': 0.0688}\n"
     ]
    },
    {
     "name": "stderr",
     "output_type": "stream",
     "text": [
      " 98%|█████████▊| 488/500 [2:42:58<04:08, 20.67s/it]"
     ]
    },
    {
     "name": "stdout",
     "output_type": "stream",
     "text": [
      "{'C': 0.0, 'B': 10, 'learning_rate': 0.01, 'comm_round': 488, 'train_acc': 0.9854, 'test_acc': 0.9757, 'train_loss': 0.041, 'test_loss': 0.0851}\n"
     ]
    },
    {
     "name": "stderr",
     "output_type": "stream",
     "text": [
      " 98%|█████████▊| 489/500 [2:43:18<03:45, 20.50s/it]"
     ]
    },
    {
     "name": "stdout",
     "output_type": "stream",
     "text": [
      "{'C': 0.0, 'B': 10, 'learning_rate': 0.01, 'comm_round': 489, 'train_acc': 0.9899, 'test_acc': 0.9811, 'train_loss': 0.027, 'test_loss': 0.0633}\n"
     ]
    },
    {
     "name": "stderr",
     "output_type": "stream",
     "text": [
      " 98%|█████████▊| 490/500 [2:43:45<03:46, 22.60s/it]"
     ]
    },
    {
     "name": "stdout",
     "output_type": "stream",
     "text": [
      "{'C': 0.0, 'B': 10, 'learning_rate': 0.01, 'comm_round': 490, 'train_acc': 0.99, 'test_acc': 0.981, 'train_loss': 0.0269, 'test_loss': 0.0632}\n"
     ]
    },
    {
     "name": "stderr",
     "output_type": "stream",
     "text": [
      " 98%|█████████▊| 491/500 [2:44:05<03:15, 21.75s/it]"
     ]
    },
    {
     "name": "stdout",
     "output_type": "stream",
     "text": [
      "{'C': 0.0, 'B': 10, 'learning_rate': 0.01, 'comm_round': 491, 'train_acc': 0.9891, 'test_acc': 0.9809, 'train_loss': 0.0301, 'test_loss': 0.0663}\n"
     ]
    },
    {
     "name": "stderr",
     "output_type": "stream",
     "text": [
      " 98%|█████████▊| 492/500 [2:44:24<02:48, 21.04s/it]"
     ]
    },
    {
     "name": "stdout",
     "output_type": "stream",
     "text": [
      "{'C': 0.0, 'B': 10, 'learning_rate': 0.01, 'comm_round': 492, 'train_acc': 0.991, 'test_acc': 0.9825, 'train_loss': 0.0258, 'test_loss': 0.0621}\n"
     ]
    },
    {
     "name": "stderr",
     "output_type": "stream",
     "text": [
      " 99%|█████████▊| 493/500 [2:44:44<02:23, 20.54s/it]"
     ]
    },
    {
     "name": "stdout",
     "output_type": "stream",
     "text": [
      "{'C': 0.0, 'B': 10, 'learning_rate': 0.01, 'comm_round': 493, 'train_acc': 0.9912, 'test_acc': 0.9833, 'train_loss': 0.0248, 'test_loss': 0.0592}\n"
     ]
    },
    {
     "name": "stderr",
     "output_type": "stream",
     "text": [
      " 99%|█████████▉| 494/500 [2:45:03<02:00, 20.08s/it]"
     ]
    },
    {
     "name": "stdout",
     "output_type": "stream",
     "text": [
      "{'C': 0.0, 'B': 10, 'learning_rate': 0.01, 'comm_round': 494, 'train_acc': 0.9914, 'test_acc': 0.9839, 'train_loss': 0.0244, 'test_loss': 0.0591}\n"
     ]
    },
    {
     "name": "stderr",
     "output_type": "stream",
     "text": [
      " 99%|█████████▉| 495/500 [2:45:24<01:41, 20.29s/it]"
     ]
    },
    {
     "name": "stdout",
     "output_type": "stream",
     "text": [
      "{'C': 0.0, 'B': 10, 'learning_rate': 0.01, 'comm_round': 495, 'train_acc': 0.9919, 'test_acc': 0.9846, 'train_loss': 0.0215, 'test_loss': 0.0552}\n"
     ]
    },
    {
     "name": "stderr",
     "output_type": "stream",
     "text": [
      " 99%|█████████▉| 496/500 [2:45:46<01:23, 20.99s/it]"
     ]
    },
    {
     "name": "stdout",
     "output_type": "stream",
     "text": [
      "{'C': 0.0, 'B': 10, 'learning_rate': 0.01, 'comm_round': 496, 'train_acc': 0.9788, 'test_acc': 0.9705, 'train_loss': 0.0672, 'test_loss': 0.1209}\n"
     ]
    },
    {
     "name": "stderr",
     "output_type": "stream",
     "text": [
      " 99%|█████████▉| 497/500 [2:46:07<01:02, 20.83s/it]"
     ]
    },
    {
     "name": "stdout",
     "output_type": "stream",
     "text": [
      "{'C': 0.0, 'B': 10, 'learning_rate': 0.01, 'comm_round': 497, 'train_acc': 0.9826, 'test_acc': 0.9726, 'train_loss': 0.0531, 'test_loss': 0.0973}\n"
     ]
    },
    {
     "name": "stderr",
     "output_type": "stream",
     "text": [
      "100%|█████████▉| 498/500 [2:46:27<00:41, 20.72s/it]"
     ]
    },
    {
     "name": "stdout",
     "output_type": "stream",
     "text": [
      "{'C': 0.0, 'B': 10, 'learning_rate': 0.01, 'comm_round': 498, 'train_acc': 0.9821, 'test_acc': 0.9738, 'train_loss': 0.0524, 'test_loss': 0.0912}\n"
     ]
    },
    {
     "name": "stderr",
     "output_type": "stream",
     "text": [
      "100%|█████████▉| 499/500 [2:46:48<00:20, 20.78s/it]"
     ]
    },
    {
     "name": "stdout",
     "output_type": "stream",
     "text": [
      "{'C': 0.0, 'B': 10, 'learning_rate': 0.01, 'comm_round': 499, 'train_acc': 0.986, 'test_acc': 0.9784, 'train_loss': 0.0405, 'test_loss': 0.0723}\n"
     ]
    },
    {
     "name": "stderr",
     "output_type": "stream",
     "text": [
      "100%|██████████| 500/500 [2:47:08<00:00, 20.06s/it]"
     ]
    },
    {
     "name": "stdout",
     "output_type": "stream",
     "text": [
      "{'C': 0.0, 'B': 10, 'learning_rate': 0.01, 'comm_round': 500, 'train_acc': 0.987, 'test_acc': 0.9805, 'train_loss': 0.0395, 'test_loss': 0.0671}\n",
      "Took 10028.78 seconds.\n"
     ]
    },
    {
     "name": "stderr",
     "output_type": "stream",
     "text": [
      "\n"
     ]
    }
   ],
   "source": [
    "# Run experiment with your own setting\n",
    "history = run_experiment(data=\"MNIST\", use_val=False, model_family=\"CNN\", setting=\"NONIID\", b_size=10, epoch=5,\\\n",
    "                         est_comm_round=500, c_fraction=0.0, desired_acc=0.99,\\\n",
    "                         model_checkpoint=\"logs/NONIID-B10-E5-C0.0-MNIST-CNN-LR0.01\", n_clients=100, n_classes=10,\\\n",
    "                         learning_rate=0.01, output_path='./logs/')"
   ]
  },
  {
   "cell_type": "code",
   "execution_count": null,
   "metadata": {},
   "outputs": [],
   "source": []
  }
 ],
 "metadata": {
  "kernelspec": {
   "display_name": "Python 3",
   "language": "python",
   "name": "python3"
  },
  "language_info": {
   "codemirror_mode": {
    "name": "ipython",
    "version": 3
   },
   "file_extension": ".py",
   "mimetype": "text/x-python",
   "name": "python",
   "nbconvert_exporter": "python",
   "pygments_lexer": "ipython3",
   "version": "3.8.10"
  }
 },
 "nbformat": 4,
 "nbformat_minor": 4
}
